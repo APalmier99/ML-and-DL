{
  "nbformat": 4,
  "nbformat_minor": 0,
  "metadata": {
    "colab": {
      "name": "Intro_to_DL (1).ipynb",
      "provenance": [],
      "collapsed_sections": [],
      "toc_visible": true
    },
    "kernelspec": {
      "name": "python3",
      "display_name": "Python 3"
    }
  },
  "cells": [
    {
      "cell_type": "markdown",
      "source": [
        "#**Deep Learning Homework 1: *from the Perceptron to DNN***\n",
        "---\n"
      ],
      "metadata": {
        "id": "SY5WztYNneGg"
      }
    },
    {
      "cell_type": "markdown",
      "metadata": {
        "id": "d8MTQQX3WaFa"
      },
      "source": [
        "In this first homework, we are going to write our own simple feedforward neural network using `Python` and `NumPy` (the standard numeric library for Python). We will start by implementing just a simple neuron, or perceptron, then we define the training algorithm for this simple model.\n",
        "The second part consists in defining a simple neural network to perform digits classification."
      ]
    },
    {
      "cell_type": "markdown",
      "metadata": {
        "id": "-bEFm73cYFQy"
      },
      "source": [
        "## Exercise 1.1: Perceptron\n",
        "\n",
        "In this first exercise, we will implement a simple neuron, or perceptron, as described below. We will have just three inputs and one output neuron (we omit the bias term for now).\n",
        "Notice how the perceptron simply performs a sum of the individual inputs multiplied by the corresponding weights mapped through an activation function $f(\\cdot)$.  This can also be expressed as a dot product of the weight vector $\\textbf{W}$ and the input vector $\\textbf{x}$, thus: $$\\hat{y}=f(\\textbf{W}^T \\textbf{x})$$"
      ]
    },
    {
      "cell_type": "markdown",
      "metadata": {
        "id": "hDlidWmiYuKB"
      },
      "source": [
        "We will begin by implementing the perpetron by using the [numpy](https://docs.scipy.org/doc/numpy/reference/) library:"
      ]
    },
    {
      "cell_type": "code",
      "metadata": {
        "id": "i0UCur_TYckH"
      },
      "source": [
        "import numpy as np"
      ],
      "execution_count": null,
      "outputs": []
    },
    {
      "cell_type": "markdown",
      "metadata": {
        "id": "JQONq1k6Y1Zx"
      },
      "source": [
        "### Training data\n",
        "\n",
        "Let's consider a very simple dataset. The dataset is made of four input vectors $\\textbf{x} \\in \\mathbb{R}^3$ and the corresponding desired target values $y$. In the table below, each row is a single sample; the first three columns are the input vector components, whereas the last column is the target output.\n",
        "\n",
        "||Input|     |    Output|\n",
        "|:----:|:---:|:---:|---:|\n",
        "| 1    | 1   | 0   | 0  |\n",
        "| 1    | 0   | 0   | 0  |\n",
        "| 0    | 1   | 0   | 1  |\n",
        "| 0    | 0   | 0   | 1  |\n",
        "\n",
        "Notice that our target outputs are equal to the opposite of the first component of the input, therefore the task that the model should learn is very simple. We will see how the perceptron is able to learn that starting from this toy dataset.\n",
        "\n",
        "Now let's define the `X` and `y` matrices:"
      ]
    },
    {
      "cell_type": "code",
      "metadata": {
        "id": "u1FzAUxhY9PA",
        "colab": {
          "base_uri": "https://localhost:8080/"
        },
        "outputId": "3dbef329-7ba9-4144-9d7e-a7872b84a299"
      },
      "source": [
        "# Our input data is a matrix, each row is one input sample\n",
        "X = np.array([[1,1,0],\n",
        "              [1,0,0],\n",
        "              [0,1,0],\n",
        "              [0,0,0]])\n",
        "    \n",
        "# The target output is a column vector in 2-D array format (.T means transpose)\n",
        "y = np.array([[0,0,1,1]]).T\n",
        "\n",
        "print('X =',X)\n",
        "print('y =',y)"
      ],
      "execution_count": null,
      "outputs": [
        {
          "output_type": "stream",
          "name": "stdout",
          "text": [
            "X = [[1 1 0]\n",
            " [1 0 0]\n",
            " [0 1 0]\n",
            " [0 0 0]]\n",
            "y = [[0]\n",
            " [0]\n",
            " [1]\n",
            " [1]]\n"
          ]
        }
      ]
    },
    {
      "cell_type": "markdown",
      "metadata": {
        "id": "z-W8wMnoZH71"
      },
      "source": [
        "### Activation function\n",
        "\n",
        "As we said before, in order to define a perceptron we need to define the activation function $f(\\cdot)$. There are many possibile activation function that can be used, let's plot some of the most common ones:\n",
        "\n",
        "\n"
      ]
    },
    {
      "cell_type": "code",
      "metadata": {
        "id": "Fi5ZK9zKZssu",
        "colab": {
          "base_uri": "https://localhost:8080/",
          "height": 281
        },
        "outputId": "b5b88626-a902-4ab7-c4ce-0b41d2329d42"
      },
      "source": [
        "import matplotlib.pyplot as plt \n",
        "\n",
        "x = np.arange(-4,4,.01)\n",
        "plt.figure()\n",
        "plt.plot(x, np.maximum(x,0), label='ReLu')\n",
        "plt.plot(x, 1/(1+np.exp(-x)), label='Sigmoid')\n",
        "plt.plot(x, np.tanh(x), label='tanh')\n",
        "plt.axis([-4, 4, -1.1, 1.1])\n",
        "plt.title('Some Activation Functions')\n",
        "plt.grid(True)\n",
        "l = plt.legend()\n",
        "plt.show()\n",
        "\n",
        "# Delete temporary variables, so not to cause any confusion later :-)\n",
        "del x, l"
      ],
      "execution_count": null,
      "outputs": [
        {
          "output_type": "display_data",
          "data": {
            "text/plain": [
              "<Figure size 432x288 with 1 Axes>"
            ],
            "image/png": "[encoded data removed]"
          },
          "metadata": {
            "needs_background": "light"
          }
        }
      ]
    },
    {
      "cell_type": "markdown",
      "metadata": {
        "id": "jdmJ6-qaZjuZ"
      },
      "source": [
        "In this particular exercise we will use the sigmoid function. So let's define $f(\\cdot)$ as the sigmoid function\n",
        "\n",
        "$$f(x)=\\sigma(x)=\\frac{1}{1+\\exp^{-x}}$$"
      ]
    },
    {
      "cell_type": "code",
      "metadata": {
        "id": "wwnk5RgKZRox"
      },
      "source": [
        "def f(x):\n",
        "    # Sigmoid function\n",
        "    return 1 / ( 1 + np.exp(-x) )"
      ],
      "execution_count": null,
      "outputs": []
    },
    {
      "cell_type": "markdown",
      "metadata": {
        "id": "vX-62n3Io0XU"
      },
      "source": [
        "### Weight initialization\n",
        "\n",
        "Now we have to initialise the weights. Let's initialize them randomly, so that their mean is zero. The weights matrix maps the input space into the output space, therefore in our case $\\mathbf{W} \\in \\mathbb{R}^{3 \\times 1}$"
      ]
    },
    {
      "cell_type": "code",
      "metadata": {
        "id": "9f83YkaNtd5h",
        "colab": {
          "base_uri": "https://localhost:8080/"
        },
        "outputId": "6c8f4640-c1bb-4735-b3f7-8e1280df022b"
      },
      "source": [
        "# fix random seed for reproducibility\n",
        "np.random.seed([42])\n",
        "\n",
        "# initialize weights randomly with zero mean and uniformly distributed values in [-1,1]\n",
        "W = 2 * np.random.random((3,1)) - 1\n",
        "\n",
        "print('W =', W)"
      ],
      "execution_count": null,
      "outputs": [
        {
          "output_type": "stream",
          "name": "stdout",
          "text": [
            "W = [[ 0.2788536 ]\n",
            " [-0.94997849]\n",
            " [-0.44994136]]\n"
          ]
        }
      ]
    },
    {
      "cell_type": "markdown",
      "metadata": {
        "id": "pZd-aQxAuX49"
      },
      "source": [
        "### Forward propagation\n",
        "\n",
        "Next, let's try to implement one round of forward propagation.  This means taking an input sample and moving it forward through the network, calculating the output of the network eventually.\n",
        "\n",
        "For our single neuron this is simply $\\hat{\\mathbf{y}} = f(\\mathbf{W}^T \\mathbf{x})$, where $\\mathbf{x}$ is one input vector.\n",
        "\n",
        "each input sample is arranged as a row of the matrix `X`, therefore we can access the first row by `X[0]`. Let's store it in the variable `X0` for easier access. We'll use `reshape` to make sure it's expressed as a column vector."
      ]
    },
    {
      "cell_type": "code",
      "metadata": {
        "id": "9gTx4QxUumvQ",
        "colab": {
          "base_uri": "https://localhost:8080/"
        },
        "outputId": "2cbeadaf-dcef-4ec4-d2db-802312f018d0"
      },
      "source": [
        "X0 = np.reshape(X[0], (3,1))\n",
        "print(X0)"
      ],
      "execution_count": null,
      "outputs": [
        {
          "output_type": "stream",
          "name": "stdout",
          "text": [
            "[[1]\n",
            " [1]\n",
            " [0]]\n"
          ]
        }
      ]
    },
    {
      "cell_type": "markdown",
      "metadata": {
        "id": "IpDCnmxWurjC"
      },
      "source": [
        "The output $\\hat{y}$ for the first input can be calculated according to the formula given above"
      ]
    },
    {
      "cell_type": "code",
      "metadata": {
        "id": "idDZfTVKuyPf",
        "colab": {
          "base_uri": "https://localhost:8080/"
        },
        "outputId": "272a0bfc-2e70-48d5-9f46-1d4c285ac06d"
      },
      "source": [
        "y_out = f(np.dot(W.T, X0))\n",
        "\n",
        "print('y_out =', y_out)"
      ],
      "execution_count": null,
      "outputs": [
        {
          "output_type": "stream",
          "name": "stdout",
          "text": [
            "y_out = [[0.338245]]\n"
          ]
        }
      ]
    },
    {
      "cell_type": "markdown",
      "metadata": {
        "id": "Oda3Y3btu8Uz"
      },
      "source": [
        "the target result is stored in `y[0]`.  If you check back, you can see we defined it to be $y_0=0$. As we can see our network is pretty far away from the right answer... this is why we need to backpropagate the error, to adjust the weights in the right direction!"
      ]
    },
    {
      "cell_type": "markdown",
      "metadata": {
        "id": "oGvgZCDFu-EM"
      },
      "source": [
        "### Backpropagation\n",
        "\n",
        "The following step is updating the weights by propagating the error backwards in the network.  How this is done depends on the activation function, and namely on its derivative. The activation function of the considered model is the sigmoid, and its derivative is:\n",
        "\n",
        "$$\\sigma(x)'=\\sigma(x) \\cdot (1-\\sigma(x))$$\n",
        "\n",
        "Recall that the weight update is given as $\\Delta w_{ji} = -\\epsilon \\delta_j x_i$.\n",
        "Our network has only one layer, so $x_i$ is just the input $\\mathbf{x}$, and a single output neuron so there is no actual need for index $j$. \n",
        "\n",
        "In matrix form we can calculate this for all the weights:\n",
        "\n",
        "$$\\Delta \\textbf{W} = -\\epsilon \\delta \\textbf{x}_0$$\n",
        "where $\\delta$ is the gradient (called `grad` in the following code), $ϵ$ is the learning rate, and $\\textbf{x}_0$ is our first input sample in variable `X0`.\n",
        "\n",
        "Since we decided to use $J(W) = \\frac{1}{2}(y-\\hat{y})^2$ as cost function, with $\\hat{y} = \\sigma(W^Tx)$, it follows that:\n",
        "\n",
        "$$\\delta = \\nabla J(W) = (\\hat{y}-y)⋅\\sigma'(W^Tx)⋅x = (\\sigma(W^Tx)-y)⋅\\sigma(W^Tx)\\cdot(1-\\sigma(W^Tx))⋅x $$\n",
        "\n",
        "Recall that $y$ is the desired output, i.e. `y[0]` in this Python code, and $\\hat{y}$ is called `y_out` here."
      ]
    },
    {
      "cell_type": "code",
      "metadata": {
        "id": "bs0EG3n9ve6J",
        "colab": {
          "base_uri": "https://localhost:8080/"
        },
        "outputId": "b2fa7638-41e9-46ff-9073-c1d4bfb1ea98"
      },
      "source": [
        "# the learning rate determines the step size in the gradient descent, you can experiment with different values if you want\n",
        "learning_rate = 0.5\n",
        "\n",
        "# compute the gradient term (we're using MSE as loss function)\n",
        "grad = (y_out - y[0]) * y_out * (1 - y_out)\n",
        "\n",
        "# Calculate the weight update\n",
        "W_delta = - learning_rate * grad * X0\n",
        "\n",
        "print(W_delta)\n",
        "\n",
        "# Update the weights\n",
        "W += W_delta"
      ],
      "execution_count": null,
      "outputs": [
        {
          "output_type": "stream",
          "name": "stdout",
          "text": [
            "[[-0.03785559]\n",
            " [-0.03785559]\n",
            " [-0.        ]]\n"
          ]
        }
      ]
    },
    {
      "cell_type": "markdown",
      "metadata": {
        "id": "Ha1gJ0n9v2oV"
      },
      "source": [
        "Let's try a forward propagation again with the same input."
      ]
    },
    {
      "cell_type": "code",
      "metadata": {
        "id": "fh40oHl2v6rs",
        "colab": {
          "base_uri": "https://localhost:8080/"
        },
        "outputId": "d5ff0b8b-710b-4494-a2e3-7fb6933cc038"
      },
      "source": [
        "y_out=f(np.dot(W.T, X0))\n",
        "\n",
        "print('y_out=', y_out)"
      ],
      "execution_count": null,
      "outputs": [
        {
          "output_type": "stream",
          "name": "stdout",
          "text": [
            "y_out= [[0.3215111]]\n"
          ]
        }
      ]
    },
    {
      "cell_type": "markdown",
      "metadata": {
        "id": "lHc3os_AL54y"
      },
      "source": [
        "You should notice that the result has moved (slightly!) towards the correct answer, that is zero. In order to converge to the right value we have to perform more iterations!"
      ]
    },
    {
      "cell_type": "markdown",
      "metadata": {
        "id": "8INLy50fyORN"
      },
      "source": [
        "### Training iterations\n",
        "\n",
        "Let's define a complete training procedure for our model. In each iteration we have to perform the forward propagation, then we'll check how much the output differs from the target and propagate the error back (backward propagation).  We'll do this for each sample data point and then iterate this over and over again using a for loop."
      ]
    },
    {
      "cell_type": "code",
      "metadata": {
        "id": "PPXJwQm4ycgH",
        "colab": {
          "base_uri": "https://localhost:8080/"
        },
        "outputId": "3102d0ce-8125-47b7-94e8-5014475fda4f"
      },
      "source": [
        "# For the training we need to iterate over the dataset several times\n",
        "num_iters = 1000\n",
        "\n",
        "# We'll also store the mean square error (MSE) in every round so we can see how it evolves\n",
        "# mse is just an array to store these values at each round:\n",
        "mse = np.zeros(num_iters)\n",
        "\n",
        "# Looping for the iterations\n",
        "for it in range(num_iters):\n",
        "    \n",
        "    # For-loop going over each sample in X\n",
        "    for n in range(len(X)):\n",
        "        # Extract the n_th sample and the corresponding desired output\n",
        "        x_n = np.reshape(X[n], (3,1))\n",
        "        # Get the correponding target value\n",
        "        y_target = y[n]\n",
        "        \n",
        "        # Forward propagation of the n_th sample\n",
        "        y_out = f(np.dot(W.T, x_n))\n",
        "\n",
        "        # Let's keep track of the sum of squared errors\n",
        "        # [TO COMPLETE] compute squared error between y_target and y_out\n",
        "        mse[it] += 0.5*(y_target-y_out)**2 \n",
        "    \n",
        "        # compute the gradient\n",
        "        grad = (y_out - y_target) * y_out * (1 - y_out) \n",
        "    \n",
        "        # Calculate the weights update\n",
        "        W_delta = - learning_rate * grad * x_n\n",
        "\n",
        "        # Update the weights\n",
        "        W += W_delta\n",
        "\n",
        "    # Divide by the number of elements to get the mean of the squared errors\n",
        "    mse[it] /= len(X)\n",
        "\n",
        "# Now let's see the output for each input sample with the trained weights\n",
        "# Using batch mode (see next section) we can do this in a single line\n",
        "print(\"Output after training, y_out\")\n",
        "y_out = f(np.dot(X, W))\n",
        "print(y_out)\n",
        "print(\"Target output, y\")\n",
        "print(y)"
      ],
      "execution_count": null,
      "outputs": [
        {
          "output_type": "stream",
          "name": "stdout",
          "text": [
            "Output after training, y_out\n",
            "[[0.04884685]\n",
            " [0.0032833 ]\n",
            " [0.93972279]\n",
            " [0.5       ]]\n",
            "Target output, y\n",
            "[[0]\n",
            " [0]\n",
            " [1]\n",
            " [1]]\n"
          ]
        }
      ]
    },
    {
      "cell_type": "markdown",
      "metadata": {
        "id": "yT1qLBvBzpDc"
      },
      "source": [
        "After the training phase, the output of the network is fairly close to the target output.\n",
        "Notice how for the fourth input sample, the zero vector, this training procedure without the bias term does not update the corresponding weights and always gives $$\\hat{y}_4 = f(\\textbf{W}^T \\textbf{x}_4)= f(0) = \\frac{1}{2} $$\n",
        "\n",
        "How many iterations were required in order to obtain this result? We have set the number of the iteration to $1000$, but it is interesting to investigate the trend of the error through the training. In the next homework, we will discuss how to select the right number of iterations (also known as *epochs*), for now let's just plot its behaviour:"
      ]
    },
    {
      "cell_type": "code",
      "metadata": {
        "id": "a6RsKlA7zrw3",
        "colab": {
          "base_uri": "https://localhost:8080/",
          "height": 265
        },
        "outputId": "c3bcc2ea-3247-401a-bc47-51c677ec5469"
      },
      "source": [
        "plt.figure()\n",
        "plt.plot(range(num_iters), mse, label=\"MSE\")\n",
        "l = plt.legend()\n",
        "plt.show()"
      ],
      "execution_count": null,
      "outputs": [
        {
          "output_type": "display_data",
          "data": {
            "text/plain": [
              "<Figure size 432x288 with 1 Axes>"
            ],
            "image/png": "[encoded data removed]"
          },
          "metadata": {
            "needs_background": "light"
          }
        }
      ]
    },
    {
      "cell_type": "markdown",
      "metadata": {
        "id": "hiS6hr-eMWR1"
      },
      "source": [
        "As we can see, the error is going down pretty quickly at the beginning and then slowing down."
      ]
    },
    {
      "cell_type": "markdown",
      "metadata": {
        "id": "Zoz4y02rxorc"
      },
      "source": [
        "### Batch training\n",
        "\n",
        "With real-world data it is unefficient to handle each example one-by-one like we did above.  Instead, one typically uses a set, so called *mini-batch*, of several input examples at once.\n",
        "\n",
        "Let's consider a subset $\\tilde{\\textbf{X}} ⊆ \\textbf{X}$ of samples from the training set. Each of these samples is one row in $\\tilde{\\textbf{X}}$, instead of a single column vector as before. The forward propagation step looks a bit different mathematically: $\\hat{\\textbf{y}} = f(\\tilde{\\textbf{X}}\\textbf{W})$.\n",
        "\n",
        "Our whole dataset can be forward propagated without a for loop:"
      ]
    },
    {
      "cell_type": "code",
      "metadata": {
        "id": "pwc6hfIlxspG",
        "colab": {
          "base_uri": "https://localhost:8080/"
        },
        "outputId": "b7e7910b-335d-47e1-e1f5-f8bba71e7f4d"
      },
      "source": [
        "y_out = f(np.dot(X, W))\n",
        "print(y_out)"
      ],
      "execution_count": null,
      "outputs": [
        {
          "output_type": "stream",
          "name": "stdout",
          "text": [
            "[[0.04884685]\n",
            " [0.0032833 ]\n",
            " [0.93972279]\n",
            " [0.5       ]]\n"
          ]
        }
      ]
    },
    {
      "cell_type": "markdown",
      "metadata": {
        "id": "H8pBN8voyLGv"
      },
      "source": [
        "so we will get the corresponding output (each value in `y_out`) for each input (each row in `X`) in single matrix multiplication.  The error and weight updates can all be calculated in a single go, using matrix multiplications similarly to the steps we did above with single vectors.\n",
        "\n",
        "However, in these exercises we'll stick to looping over one sample at a time, as the batch training mode makes it a bit more complicated to understand and does not lead to any significant speed advantage."
      ]
    },
    {
      "cell_type": "markdown",
      "metadata": {
        "id": "7wv8Vplo1F7E"
      },
      "source": [
        "## Exercise 1.2: The XOR problem"
      ]
    },
    {
      "cell_type": "markdown",
      "metadata": {
        "id": "oiI7bIaY1OVI"
      },
      "source": [
        "Now let's try a slightly more difficult example. We'll use the same input data, but a different desired output. \n",
        "\n",
        "||Input|     |    Output|\n",
        "|:----:|:---:|:---:|---:|\n",
        "| 1    | 1   | 0   | 0  |\n",
        "| 1    | 0   | 0   | 1  |\n",
        "| 0    | 1   | 0   | 1  |\n",
        "| 0    | 0   | 0   | 0  |\n",
        "\n",
        "In particular, the new input-output configuration represents the XOR problem (between the first two components). This problem is interesting because it can not be solved by using a single layer perceptron. Indeed, you will need (at least) a two-layer network to solve it.\n",
        "In this exercise we will first show that the network that we defined in the previous exercise can not solve the XOR problem,  then we will define a two-layer perceptron able to compute the correct solution."
      ]
    },
    {
      "cell_type": "code",
      "metadata": {
        "id": "MuSfKOpD1TqJ"
      },
      "source": [
        "import numpy as np\n",
        "import matplotlib.pyplot as plt \n",
        "\n",
        "np.random.seed([42])\n",
        "\n",
        "X = np.array([[1,1,0],\n",
        "              [1,0,0],\n",
        "              [0,1,0],\n",
        "              [0,0,0]])\n",
        "    \n",
        "y = np.array([[0,1,1,0]]).T"
      ],
      "execution_count": null,
      "outputs": []
    },
    {
      "cell_type": "markdown",
      "metadata": {
        "id": "5FphvrH-1e5O"
      },
      "source": [
        "As we did in the previous exercise, let's initialize the weights and define the activation function (also in this exercise we will use the sigmoid function)."
      ]
    },
    {
      "cell_type": "code",
      "metadata": {
        "id": "aMeTD8cb1kNm"
      },
      "source": [
        "# Weights initialization\n",
        "W = 2 * np.random.random((3,1)) - 1\n",
        "\n",
        "# Activation function\n",
        "def f(x):\n",
        "    return 1 / (1+np.exp(-x))"
      ],
      "execution_count": null,
      "outputs": []
    },
    {
      "cell_type": "markdown",
      "metadata": {
        "id": "unbPv9pn3kVE"
      },
      "source": [
        "Now let's run the network defined in Exercise 1.1 to check whether it is able to solve the XOR problem."
      ]
    },
    {
      "cell_type": "code",
      "metadata": {
        "id": "PGlUPnvi31fL",
        "colab": {
          "base_uri": "https://localhost:8080/"
        },
        "outputId": "7a9d886d-9256-4679-f8d9-84942d44bd50"
      },
      "source": [
        "num_iters = 1000\n",
        "learning_rate = 0.5\n",
        "\n",
        "for it in range(num_iters):\n",
        "    for n in range(len(X)):\n",
        "        x_n = np.reshape(X[n], (3,1))\n",
        "        y_target = y[n]\n",
        "        \n",
        "        # Forward propagation\n",
        "        y_out = f(np.dot(W.T, x_n))\n",
        "\n",
        "        # Compute the Gradient\n",
        "        grad = (y_out - y_target)*y_out*(1 - y_out)\n",
        "    \n",
        "        # Calculate the weights update\n",
        "        W_delta = -learning_rate * grad * x_n\n",
        "\n",
        "        # Update the weights\n",
        "        W += W_delta\n",
        "\n",
        "\n",
        "# Now let's see the output for each input sample with the trained weights\n",
        "# Using batch mode we can do this in a single line\n",
        "y_out = f(np.dot(X, W))\n",
        "print(\"Output after training, y_out\")\n",
        "print(y_out)\n",
        "print(\"Desired output, y\")\n",
        "print(y)"
      ],
      "execution_count": null,
      "outputs": [
        {
          "output_type": "stream",
          "name": "stdout",
          "text": [
            "Output after training, y_out\n",
            "[[0.51063175]\n",
            " [0.50531648]\n",
            " [0.50531648]\n",
            " [0.5       ]]\n",
            "Desired output, y\n",
            "[[0]\n",
            " [1]\n",
            " [1]\n",
            " [0]]\n"
          ]
        }
      ]
    },
    {
      "cell_type": "markdown",
      "metadata": {
        "id": "myYbripS39R-"
      },
      "source": [
        "### Two layers network\n",
        "As you can see the network is not able to solve the problem, it's not even close! Indeed, it's just predicting $0.5$ for all the inputs. You could try to increase the number of iterations but it won't help either.\n",
        "Let's add a single hidden layer, for example with 4 hidden nodes (you can try out and change this number as well).\n",
        "The input to the network is a vector $\\mathbf{x}$ as before.  The first hidden layer calculates $\\textbf{h} = f(\\textbf{W}_1^T\\mathbf{x})$ (note that now $\\textbf{W}_1 \\in \\mathbb{R}^{3 \\times 4}$).  The output layer computes $\\hat{y} = f(\\textbf{W}_2^T\\textbf{h})$. Remember that $\\hat{y}$ is called `y_out` in th code, while ${W}_2 \\in \\mathbb{R}^{4 \\times 1}$.\n",
        "\n",
        "As usual, we'll start by initializing the weights randomly:"
      ]
    },
    {
      "cell_type": "code",
      "metadata": {
        "id": "Llke92kx4MRR"
      },
      "source": [
        "num_hidden = 4\n",
        "\n",
        "# initialize weights randomly with zero mean and uniformly distributed values in [-1,1]\n",
        "W_1 = 2 * np.random.random((3,num_hidden)) - 1\n",
        "W_2 = 2 * np.random.random((num_hidden,1)) - 1"
      ],
      "execution_count": null,
      "outputs": []
    },
    {
      "cell_type": "markdown",
      "metadata": {
        "id": "QnQfHhXV7dO0"
      },
      "source": [
        "We have to define the training procedure in order to train the two-layers neural network:"
      ]
    },
    {
      "cell_type": "code",
      "metadata": {
        "id": "slOBh8IJ4tSK",
        "colab": {
          "base_uri": "https://localhost:8080/"
        },
        "outputId": "6dcce706-b161-4dd7-b551-e6f60197ea67"
      },
      "source": [
        "num_iters = 2000\n",
        "learning_rate = 0.5\n",
        "\n",
        "mse = np.zeros(num_iters)\n",
        "\n",
        "for it in range(num_iters):\n",
        "    for n in range(len(X)):\n",
        "        x_n = np.reshape(X[n], (3,1))\n",
        "        y_target = y[n]        \n",
        "        \n",
        "        # we'll store the derivatives in the following matrixes and use them to update the weights\n",
        "        delta_W_1 = np.zeros((3,4))\n",
        "        delta_W_2 = np.zeros((4,1))\n",
        "\n",
        "        # Forward propagation\n",
        "        z1 = np.dot(W_1.T,x_n)\n",
        "        # Calculate h\n",
        "        h = f(z1)\n",
        "        z2 = np.dot(W_2.T,h)\n",
        "        # Calculate y_out\n",
        "        y_out = f(z2)\n",
        "        \n",
        "        # Let's keep track of the sum of squared errors\n",
        "        # compute squared error between y_target and y_out\n",
        "        mse[it] += 0.5*(y_target-y_out)**2\n",
        "\n",
        "        # Compute the gradient\n",
        "        grad = (y_out - y_target)*y_out*(1 - y_out)\n",
        "        # We'll procede now by performing a for loop over i (hidden nodes) and k (input nodes) in order to calculate \n",
        "        # each W_1_ik update separately\n",
        "\n",
        "        #Updates for W2\n",
        "        for k in range(len(h)):\n",
        "          delta_W_2[k] = grad*h[k]\n",
        "\n",
        "        #Updates for W1:\n",
        "        for k in range(len(x_n)):\n",
        "          for i in range(len(h)):\n",
        "            delta_W_1[k,i] = grad*W_2[i]*h[i]*(1-h[i])*x_n[k]             \n",
        "       \n",
        "        # Update the weights\n",
        "        # Note: it's important the W weights are updated at the end,\n",
        "        # the above calculation should be done with the old weights\n",
        "        W_2 += -learning_rate*delta_W_2\n",
        "        W_1 += -learning_rate*delta_W_1\n",
        "\n",
        "    # Divide by the number of elements to get the mean of the squared errors\n",
        "    mse[it] /= len(X)\n",
        "\n",
        "y_out = f(np.dot(f(np.dot(X, W_1)), W_2))\n",
        "print(\"Output after training, y_out\")\n",
        "print(y_out)\n",
        "print(\"Target output, y\")\n",
        "print(y)"
      ],
      "execution_count": null,
      "outputs": [
        {
          "output_type": "stream",
          "name": "stdout",
          "text": [
            "Output after training, y_out\n",
            "[[0.07497314]\n",
            " [0.91402187]\n",
            " [0.91761947]\n",
            " [0.08896379]]\n",
            "Target output, y\n",
            "[[0]\n",
            " [1]\n",
            " [1]\n",
            " [0]]\n"
          ]
        }
      ]
    },
    {
      "cell_type": "markdown",
      "metadata": {
        "id": "1nYoyoR2fANg"
      },
      "source": [
        "Now we see outputs very similar to the desired ones!\n",
        "Finally, let's plot again the MSE behaviour:"
      ]
    },
    {
      "cell_type": "code",
      "metadata": {
        "id": "YKuG4wee9kIc",
        "colab": {
          "base_uri": "https://localhost:8080/",
          "height": 265
        },
        "outputId": "43e3a507-aa9c-45b3-b90d-e2c9ca26a1d3"
      },
      "source": [
        "plt.figure()\n",
        "plt.plot(range(num_iters), mse, label=\"Two-layer NN MSE\")\n",
        "l = plt.legend()\n",
        "plt.show()"
      ],
      "execution_count": null,
      "outputs": [
        {
          "output_type": "display_data",
          "data": {
            "text/plain": [
              "<Figure size 432x288 with 1 Axes>"
            ],
            "image/png": "[encoded data removed]"
          },
          "metadata": {
            "needs_background": "light"
          }
        }
      ]
    },
    {
      "cell_type": "markdown",
      "metadata": {
        "id": "cAmf-t0PurMP"
      },
      "source": [
        "## Exercise 1.3: Handwritten digits classification\n",
        "In this exercise, we try to apply what we learned in the previous exercise in a real-world scenario. In particular, we consider a simple digits classification problem. The model turns out to be similar to the perceptron implemented in Exercise 1.1, but here we will use softmax activation function and cross-entropy loss function. The idea is to create a model that has in input an image of a handwritten digit and returns a vector of 10 probabilities (one for each possible digit 0 - 9). "
      ]
    },
    {
      "cell_type": "markdown",
      "metadata": {
        "id": "IAYb_cd8vkG-"
      },
      "source": [
        "### Dataset\n",
        "The dataset that we will use in this exercise is included in [scikit-learn](https://scikit-learn.org/stable/), one of the major Machine Learning libraries. The dataset is called `load_digits` and contains several hundreds of samples. Each datapoint is made of the handwritten digit image (or rather its 8x8 pixel representation), that will be the input of our model, and the target digit value. \n",
        "\n",
        "Let's start by plotting one of this handwritten digit:"
      ]
    },
    {
      "cell_type": "code",
      "metadata": {
        "id": "MGrkAeWtufMk",
        "colab": {
          "base_uri": "https://localhost:8080/",
          "height": 281
        },
        "outputId": "eff48a85-e434-43f9-9cdd-3ecb2fd6f4a6"
      },
      "source": [
        "import matplotlib.pyplot as plt\n",
        "import numpy as np\n",
        "from sklearn.datasets import load_digits\n",
        "\n",
        "np.random.seed([42])\n",
        "\n",
        "digits = load_digits()\n",
        "\n",
        "sample_index = 42\n",
        "plt.figure(figsize=(4, 4))\n",
        "plt.imshow(digits.images[sample_index], cmap=plt.cm.gray_r,\n",
        "           interpolation='nearest')\n",
        "plt.title(\"Image true label: %d\" % digits.target[sample_index])\n",
        "plt.show()"
      ],
      "execution_count": null,
      "outputs": [
        {
          "output_type": "display_data",
          "data": {
            "text/plain": [
              "<Figure size 288x288 with 1 Axes>"
            ],
            "image/png": "[encoded data removed]"
          },
          "metadata": {
            "needs_background": "light"
          }
        }
      ]
    },
    {
      "cell_type": "markdown",
      "metadata": {
        "id": "K0OsnNJbv69J"
      },
      "source": [
        "It is better to check how an input in the dataset $\\mathbf{X}$ and its related target $\\mathbf{y}$ are represented in the dataset:"
      ]
    },
    {
      "cell_type": "code",
      "metadata": {
        "id": "ei9Uda4av5q2",
        "colab": {
          "base_uri": "https://localhost:8080/"
        },
        "outputId": "e0088935-624d-4f0f-e466-dd58d81ad598"
      },
      "source": [
        "data = np.asarray(digits.data, dtype='float32')\n",
        "target = np.asarray(digits.target, dtype='int32')\n",
        "\n",
        "print(\"X:\",data)\n",
        "print(\"y:\",target)"
      ],
      "execution_count": null,
      "outputs": [
        {
          "output_type": "stream",
          "name": "stdout",
          "text": [
            "X: [[ 0.  0.  5. ...  0.  0.  0.]\n",
            " [ 0.  0.  0. ... 10.  0.  0.]\n",
            " [ 0.  0.  0. ... 16.  9.  0.]\n",
            " ...\n",
            " [ 0.  0.  1. ...  6.  0.  0.]\n",
            " [ 0.  0.  2. ... 12.  0.  0.]\n",
            " [ 0.  0. 10. ... 12.  1.  0.]]\n",
            "y: [0 1 2 ... 8 9 8]\n"
          ]
        }
      ]
    },
    {
      "cell_type": "markdown",
      "source": [
        "So essentialy the dataset is a matrix with the (color) values for each pixel and for each image, whereas the target is the digit itself."
      ],
      "metadata": {
        "id": "T9yg07qT3-Kr"
      }
    },
    {
      "cell_type": "markdown",
      "metadata": {
        "id": "8Hc97pziwLKa"
      },
      "source": [
        "#### One-hot encoding\n",
        "In order to have a representation of the target that will be similar to the output of the model (i.e. $\\hat{y}=0$ or $1$), we will use one-hot encoding. Basically, the one-hot encoding allow us to encode a categorical integer feature using a one-of-K scheme, where each class is translated to a specific index of an array."
      ]
    },
    {
      "cell_type": "code",
      "metadata": {
        "id": "eF6jEnOmwRUk"
      },
      "source": [
        "def one_hot(n_classes, y):\n",
        "    return np.eye(n_classes)[y]"
      ],
      "execution_count": null,
      "outputs": []
    },
    {
      "cell_type": "markdown",
      "source": [
        "For example, if there are 10 classes in total and a sample belongs to class number 3, we can translate the output to the following lenght-ten array of 0 and 1 (class 3 is in the fourth index because we start counting from zero!):"
      ],
      "metadata": {
        "id": "onD0qqMx6shM"
      }
    },
    {
      "cell_type": "code",
      "metadata": {
        "id": "r4CISmJ39lts",
        "colab": {
          "base_uri": "https://localhost:8080/"
        },
        "outputId": "7e6d56ac-fc5d-46f9-d9b7-370febc38fb5"
      },
      "source": [
        "one_hot(n_classes=10, y=3)"
      ],
      "execution_count": null,
      "outputs": [
        {
          "output_type": "execute_result",
          "data": {
            "text/plain": [
              "array([0., 0., 0., 1., 0., 0., 0., 0., 0., 0.])"
            ]
          },
          "metadata": {},
          "execution_count": 22
        }
      ]
    },
    {
      "cell_type": "markdown",
      "metadata": {
        "id": "gkSruP-bwkki"
      },
      "source": [
        "### Activation Function: Softmax\n",
        "As activation function we will use the Softmax function: this particular function is very useful when we have to deal with multiclassification tasks and one-hot target because it turns numbers, a.k.a. logits (pre-activations), into $m$ probabilities that sum to one, where $m$ is the number of classes. Basically, Softmax function outputs a vector that represents the probability distributions of a list of potential outcomes.\n",
        "$$\n",
        "softmax(\\mathbf{x})_j = \\frac{e^{x_j}}{\\sum_{i=1}^{m}{e^{x_i}}}\n",
        "$$\n",
        "In our case we have in input a matrix $\\mathbf{X}$ where each row is a vector $\\mathbf{x}$, therefore the softmax function that we have to implements will be mathematically defined as:\n",
        "$$\n",
        "softmax(\\mathbf{x}) = \\frac{1}{\\sum_{i=1}^{m}{e^{x_i}}}\n",
        "\\cdot\n",
        "\\begin{bmatrix}\n",
        "  e^{x_1}\\\\\\\\\n",
        "  e^{x_2}\\\\\\\\\n",
        "  \\vdots\\\\\\\\\n",
        "  e^{x_m}\n",
        "\\end{bmatrix}\n",
        "$$\n"
      ]
    },
    {
      "cell_type": "code",
      "metadata": {
        "id": "9BuHFgAKws_v"
      },
      "source": [
        "def softmax(X):\n",
        "    return np.exp(X)/np.sum(np.exp(X))"
      ],
      "execution_count": null,
      "outputs": []
    },
    {
      "cell_type": "markdown",
      "metadata": {
        "id": "KP7xOmNqsE-R"
      },
      "source": [
        "### Loss Function: Cross Entropy ###\n",
        "Usually, a neural network classifier that use the softmax function in the final layer is trained using Cross-Entropy as loss function:\n",
        "\n",
        "$$H(P,Q)=-E_{x \\sim P}[log \\;Q(x)]$$\n",
        "\n",
        "where in our case, $P$ is the empirical distribution over the training set and $Q$ is the softmax distribution."
      ]
    },
    {
      "cell_type": "code",
      "metadata": {
        "id": "UYnPJ1lWsFkP"
      },
      "source": [
        "EPSILON = 1e-8 # this is needed for numerical stability\n",
        "\n",
        "def cross_entropy(Y_true, Y_pred):\n",
        "    Y_true, Y_pred = np.atleast_2d(Y_true), np.atleast_2d(Y_pred) # make sure the dimensions are right\n",
        "    loglikelihoods = np.sum(np.log(EPSILON + Y_pred) * Y_true, axis=1)\n",
        "    return -np.mean(loglikelihoods)"
      ],
      "execution_count": null,
      "outputs": []
    },
    {
      "cell_type": "markdown",
      "metadata": {
        "id": "R2jR9ijztQWP"
      },
      "source": [
        "### Weights Initailiazation\n",
        "\n",
        "Similarly to what we did in previous exercises, we have to initialize the weights but in this case we will consider the bias term as well. Therefore we define the weights $\\mathbf{W}\\in\\mathbb{R}^{m \\times n}$ and the bias $\\mathbf{b}\\in\\mathbb{R}^m$, where $n$ is the input size and $m$ is the number of classes.\n",
        "Now we can define the output of our model as\n",
        "\n",
        "$$\\hat{\\mathbf{y}}=softmax(\\textbf{W} \\textbf{x}+\\mathbf{b})$$\n",
        "\n"
      ]
    },
    {
      "cell_type": "code",
      "metadata": {
        "id": "FtgOtaVL-4xd"
      },
      "source": [
        "np.random.seed([42])\n",
        "\n",
        "input_size = data.shape[1]\n",
        "n_classes = len(np.unique(target))\n",
        "\n",
        "W = np.random.uniform(size=(input_size,n_classes), high=0.1, low=-0.1)\n",
        "b = np.random.uniform(size=n_classes, high=0.1, low=-0.1)"
      ],
      "execution_count": null,
      "outputs": []
    },
    {
      "cell_type": "markdown",
      "metadata": {
        "id": "6Ab3_mFz-9kG"
      },
      "source": [
        "Let's consider a sample from the training set, and plot the current (and incorrect) output prediction probability of our model before training it."
      ]
    },
    {
      "cell_type": "code",
      "metadata": {
        "id": "6VpIr1KY_CTd",
        "colab": {
          "base_uri": "https://localhost:8080/",
          "height": 281
        },
        "outputId": "f5ca97e6-54df-4c82-f36d-df05254462c6"
      },
      "source": [
        "y_out = softmax(np.dot(data[sample_index], W) + b)\n",
        "\n",
        "plt.bar(range(n_classes), y_out, label=\"Prediction\", color=\"red\")\n",
        "plt.ylim(0,1,0.1)\n",
        "plt.xticks(range(n_classes))\n",
        "plt.legend()\n",
        "plt.ylabel(\"Probability\")\n",
        "plt.title(\"Target: \" + str(target[sample_index]))\n",
        "plt.show()"
      ],
      "execution_count": null,
      "outputs": [
        {
          "output_type": "display_data",
          "data": {
            "text/plain": [
              "<Figure size 432x288 with 1 Axes>"
            ],
            "image/png": "[encoded data removed]"
          },
          "metadata": {
            "needs_background": "light"
          }
        }
      ]
    },
    {
      "cell_type": "markdown",
      "metadata": {
        "id": "r4DYTEEh_QDf"
      },
      "source": [
        "### Training procedure [TO COMPLETE]:\n",
        "As in the previous exercise let's define a training procedure. Note that in this case, we have to compute the gradient according to the softmax function and the loss function that the training has to optimize. \n",
        "\n",
        "Hence, the gradient for the weights $\\textbf{W}$ is:\n",
        "\n",
        "$\\nabla_W=(\\mathbf{\\hat{y}}-\\mathbf{y}) \\cdot \\mathbf{x}$\n",
        "\n",
        "while for the bias is:\n",
        "\n",
        "$\\nabla_b=(\\mathbf{\\hat{y}}-\\mathbf{y})$\n",
        "\n",
        "During the training procedure let's also compute the accuracy of the predictions and the loss value at each iteration:\n",
        "\n"
      ]
    },
    {
      "cell_type": "code",
      "metadata": {
        "id": "OcQfByoE_a6v",
        "colab": {
          "base_uri": "https://localhost:8080/"
        },
        "outputId": "92fd8fc9-462f-41f0-f436-36ba291c02b0"
      },
      "source": [
        "num_iters = 50\n",
        "learning_rate = 0.0005\n",
        "\n",
        "for it in range(num_iters):\n",
        "    iteration_accuracy = []\n",
        "    iteration_loss = []\n",
        "    for i, (X, y) in enumerate(zip(data, target)):\n",
        "\n",
        "        # Forward propagation\n",
        "        y_target = one_hot(n_classes, y)\n",
        "        z = np.dot(W.T, X) + b\n",
        "        y_out = softmax(z)\n",
        "\n",
        "        # we'll store the derivatives in the following matrixes and use them to update the weights\n",
        "        delta_W = np.zeros((input_size, n_classes))\n",
        "        delta_b = np.zeros(n_classes)\n",
        "\n",
        "        #Evaluate the output error\n",
        "        pred_err = y_out - one_hot(n_classes, y)\n",
        "\n",
        "\n",
        "        # Compute the gradient (for the weights and the bias)\n",
        "        for i in range(input_size):          \n",
        "          for k in range(n_classes):\n",
        "            delta_W[i,k] = (y_out[k] - y_target[k])*X[i]\n",
        "\n",
        "        for k in range(n_classes):\n",
        "          delta_b[k] = (y_out[k] - y_target[k])\n",
        "\n",
        "        # Update the weights and the bias\n",
        "        # Note: it's important the weights W and the bias b are updated at the end\n",
        "        # the above calculation should be done with the old weights\n",
        "        W += -learning_rate*delta_W\n",
        "        b += -learning_rate*delta_b\n",
        "\n",
        "        iteration_accuracy.append(np.argmax(y_out) == y)\n",
        "        iteration_loss.append(cross_entropy(one_hot(n_classes,y), y_out))\n",
        "\n",
        "    print(\"iteration: \", it, \" -- accuracy: \", np.mean(np.asarray(iteration_accuracy)), \" -- loss: \", np.mean(iteration_loss))"
      ],
      "execution_count": null,
      "outputs": [
        {
          "output_type": "stream",
          "name": "stdout",
          "text": [
            "iteration:  0  -- accuracy:  0.8291597106288259  -- loss:  0.5599306985767775\n",
            "iteration:  1  -- accuracy:  0.9504730105731776  -- loss:  0.1789185548330604\n",
            "iteration:  2  -- accuracy:  0.9660545353366722  -- loss:  0.13731040143026943\n",
            "iteration:  3  -- accuracy:  0.9699499165275459  -- loss:  0.11657311809302359\n",
            "iteration:  4  -- accuracy:  0.9727323316638843  -- loss:  0.10309576643150416\n",
            "iteration:  5  -- accuracy:  0.9755147468002225  -- loss:  0.09324272062785703\n",
            "iteration:  6  -- accuracy:  0.9766277128547579  -- loss:  0.08555923701633708\n",
            "iteration:  7  -- accuracy:  0.9782971619365609  -- loss:  0.07932080694028332\n",
            "iteration:  8  -- accuracy:  0.9788536449638287  -- loss:  0.07411845534658529\n",
            "iteration:  9  -- accuracy:  0.9816360601001669  -- loss:  0.06969679545124284\n",
            "iteration:  10  -- accuracy:  0.9833055091819699  -- loss:  0.06588294465378018\n",
            "iteration:  11  -- accuracy:  0.9844184752365053  -- loss:  0.06255354264270524\n",
            "iteration:  12  -- accuracy:  0.9860879243183083  -- loss:  0.05961770331235104\n",
            "iteration:  13  -- accuracy:  0.9877573734001113  -- loss:  0.057006574415663286\n",
            "iteration:  14  -- accuracy:  0.9888703394546466  -- loss:  0.054666344870918336\n",
            "iteration:  15  -- accuracy:  0.9894268224819143  -- loss:  0.052553931154873966\n",
            "iteration:  16  -- accuracy:  0.9894268224819143  -- loss:  0.0506345961225211\n",
            "iteration:  17  -- accuracy:  0.989983305509182  -- loss:  0.048880391874974345\n",
            "iteration:  18  -- accuracy:  0.989983305509182  -- loss:  0.047268772792326955\n",
            "iteration:  19  -- accuracy:  0.991652754590985  -- loss:  0.04578135181430315\n",
            "iteration:  20  -- accuracy:  0.9938786867000556  -- loss:  0.044402917473156785\n",
            "iteration:  21  -- accuracy:  0.9938786867000556  -- loss:  0.04312071894470853\n",
            "iteration:  22  -- accuracy:  0.9944351697273233  -- loss:  0.04192395504616806\n",
            "iteration:  23  -- accuracy:  0.9944351697273233  -- loss:  0.04080340115101897\n",
            "iteration:  24  -- accuracy:  0.994991652754591  -- loss:  0.03975112776965384\n",
            "iteration:  25  -- accuracy:  0.994991652754591  -- loss:  0.03876028184532833\n",
            "iteration:  26  -- accuracy:  0.994991652754591  -- loss:  0.03782491278165784\n",
            "iteration:  27  -- accuracy:  0.994991652754591  -- loss:  0.03693983164185311\n",
            "iteration:  28  -- accuracy:  0.994991652754591  -- loss:  0.03610049574815528\n",
            "iteration:  29  -- accuracy:  0.994991652754591  -- loss:  0.03530291322556993\n",
            "iteration:  30  -- accuracy:  0.994991652754591  -- loss:  0.034543563508562046\n",
            "iteration:  31  -- accuracy:  0.9955481357818586  -- loss:  0.03381933080630711\n",
            "iteration:  32  -- accuracy:  0.9955481357818586  -- loss:  0.0331274481951308\n",
            "iteration:  33  -- accuracy:  0.9961046188091264  -- loss:  0.03246545048881057\n",
            "iteration:  34  -- accuracy:  0.996661101836394  -- loss:  0.0318311343955371\n",
            "iteration:  35  -- accuracy:  0.996661101836394  -- loss:  0.031222524744921678\n",
            "iteration:  36  -- accuracy:  0.9977740678909294  -- loss:  0.030637845784237193\n",
            "iteration:  37  -- accuracy:  0.9977740678909294  -- loss:  0.030075496715732716\n",
            "iteration:  38  -- accuracy:  0.9977740678909294  -- loss:  0.029534030786720424\n",
            "iteration:  39  -- accuracy:  0.9977740678909294  -- loss:  0.02901213735841654\n",
            "iteration:  40  -- accuracy:  0.9977740678909294  -- loss:  0.028508626473552273\n",
            "iteration:  41  -- accuracy:  0.9977740678909294  -- loss:  0.028022415520620618\n",
            "iteration:  42  -- accuracy:  0.9977740678909294  -- loss:  0.02755251765749424\n",
            "iteration:  43  -- accuracy:  0.9977740678909294  -- loss:  0.027098031711586573\n",
            "iteration:  44  -- accuracy:  0.9977740678909294  -- loss:  0.026658133319746903\n",
            "iteration:  45  -- accuracy:  0.9977740678909294  -- loss:  0.0262320671102821\n",
            "iteration:  46  -- accuracy:  0.9977740678909294  -- loss:  0.0258191397631111\n",
            "iteration:  47  -- accuracy:  0.9977740678909294  -- loss:  0.02541871381301719\n",
            "iteration:  48  -- accuracy:  0.9977740678909294  -- loss:  0.025030202085952767\n",
            "iteration:  49  -- accuracy:  0.9977740678909294  -- loss:  0.02465306267984309\n"
          ]
        }
      ]
    },
    {
      "cell_type": "markdown",
      "metadata": {
        "id": "QnJH8lWaxtc4"
      },
      "source": [
        "As you can see during the training the accuracy increases after each iteration, while the loss function value progressively declines.\n",
        "\n",
        "Finally, let's check how the prediction capability of our model changes after the training:"
      ]
    },
    {
      "cell_type": "code",
      "metadata": {
        "id": "jGrzV9w6_lwz",
        "colab": {
          "base_uri": "https://localhost:8080/",
          "height": 281
        },
        "outputId": "e1bcbb8a-c9a6-40a5-8011-fc9f20eeb39b"
      },
      "source": [
        "y_pred = softmax(np.dot(data[sample_index], W) + b)\n",
        "plt.bar(range(n_classes), y_pred, label=\"Prediction\", color=\"red\")\n",
        "plt.ylim(0, 1, 0.1)\n",
        "plt.xticks(range(n_classes))\n",
        "plt.legend()\n",
        "plt.ylabel(\"Probability\")\n",
        "plt.title(\"Target: \" + str(target[sample_index]))\n",
        "plt.show()"
      ],
      "execution_count": null,
      "outputs": [
        {
          "output_type": "display_data",
          "data": {
            "text/plain": [
              "<Figure size 432x288 with 1 Axes>"
            ],
            "image/png": "[encoded data removed]"
          },
          "metadata": {
            "needs_background": "light"
          }
        }
      ]
    }
  ]
}