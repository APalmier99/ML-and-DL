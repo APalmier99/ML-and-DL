{
  "nbformat": 4,
  "nbformat_minor": 0,
  "metadata": {
    "colab": {
      "name": "Regularization_in_DL.ipynb",
      "provenance": [],
      "collapsed_sections": []
    },
    "kernelspec": {
      "display_name": "Python 3",
      "name": "python3"
    },
    "widgets": {
      "application/vnd.jupyter.widget-state+json": {
        "60025fd332d447e1b44adba86ab128b5": {
          "model_module": "@jupyter-widgets/controls",
          "model_name": "HBoxModel",
          "model_module_version": "1.5.0",
          "state": {
            "_dom_classes": [],
            "_model_module": "@jupyter-widgets/controls",
            "_model_module_version": "1.5.0",
            "_model_name": "HBoxModel",
            "_view_count": null,
            "_view_module": "@jupyter-widgets/controls",
            "_view_module_version": "1.5.0",
            "_view_name": "HBoxView",
            "box_style": "",
            "children": [
              "IPY_MODEL_c8cd4d47ab12482892483b4b445dde3a",
              "IPY_MODEL_ea95576a72b1480398f0ac31c4194e50",
              "IPY_MODEL_c98e8a3caf3c43bea56bc6b2ad7d572f"
            ],
            "layout": "IPY_MODEL_a4e2d36430984269a44baa1a828069b2"
          }
        },
        "c8cd4d47ab12482892483b4b445dde3a": {
          "model_module": "@jupyter-widgets/controls",
          "model_name": "HTMLModel",
          "model_module_version": "1.5.0",
          "state": {
            "_dom_classes": [],
            "_model_module": "@jupyter-widgets/controls",
            "_model_module_version": "1.5.0",
            "_model_name": "HTMLModel",
            "_view_count": null,
            "_view_module": "@jupyter-widgets/controls",
            "_view_module_version": "1.5.0",
            "_view_name": "HTMLView",
            "description": "",
            "description_tooltip": null,
            "layout": "IPY_MODEL_fc8b077886e24f2e9b1befbeeebe736b",
            "placeholder": "​",
            "style": "IPY_MODEL_0a2bc6e236834ffc88d1f0b4e9b84158",
            "value": "Dl Completed...: 100%"
          }
        },
        "ea95576a72b1480398f0ac31c4194e50": {
          "model_module": "@jupyter-widgets/controls",
          "model_name": "FloatProgressModel",
          "model_module_version": "1.5.0",
          "state": {
            "_dom_classes": [],
            "_model_module": "@jupyter-widgets/controls",
            "_model_module_version": "1.5.0",
            "_model_name": "FloatProgressModel",
            "_view_count": null,
            "_view_module": "@jupyter-widgets/controls",
            "_view_module_version": "1.5.0",
            "_view_name": "ProgressView",
            "bar_style": "success",
            "description": "",
            "description_tooltip": null,
            "layout": "IPY_MODEL_80e91d2b4820404b907d52cd078d14fe",
            "max": 1,
            "min": 0,
            "orientation": "horizontal",
            "style": "IPY_MODEL_1cec6ac8383a405fa9739e03341d2ab1",
            "value": 1
          }
        },
        "c98e8a3caf3c43bea56bc6b2ad7d572f": {
          "model_module": "@jupyter-widgets/controls",
          "model_name": "HTMLModel",
          "model_module_version": "1.5.0",
          "state": {
            "_dom_classes": [],
            "_model_module": "@jupyter-widgets/controls",
            "_model_module_version": "1.5.0",
            "_model_name": "HTMLModel",
            "_view_count": null,
            "_view_module": "@jupyter-widgets/controls",
            "_view_module_version": "1.5.0",
            "_view_name": "HTMLView",
            "description": "",
            "description_tooltip": null,
            "layout": "IPY_MODEL_5ce82b30d9684e8bb617faca4126b7de",
            "placeholder": "​",
            "style": "IPY_MODEL_5aa43d295bc74627ac82db80251c561c",
            "value": " 1/1 [00:04&lt;00:00,  3.49s/ url]"
          }
        },
        "a4e2d36430984269a44baa1a828069b2": {
          "model_module": "@jupyter-widgets/base",
          "model_name": "LayoutModel",
          "model_module_version": "1.2.0",
          "state": {
            "_model_module": "@jupyter-widgets/base",
            "_model_module_version": "1.2.0",
            "_model_name": "LayoutModel",
            "_view_count": null,
            "_view_module": "@jupyter-widgets/base",
            "_view_module_version": "1.2.0",
            "_view_name": "LayoutView",
            "align_content": null,
            "align_items": null,
            "align_self": null,
            "border": null,
            "bottom": null,
            "display": null,
            "flex": null,
            "flex_flow": null,
            "grid_area": null,
            "grid_auto_columns": null,
            "grid_auto_flow": null,
            "grid_auto_rows": null,
            "grid_column": null,
            "grid_gap": null,
            "grid_row": null,
            "grid_template_areas": null,
            "grid_template_columns": null,
            "grid_template_rows": null,
            "height": null,
            "justify_content": null,
            "justify_items": null,
            "left": null,
            "margin": null,
            "max_height": null,
            "max_width": null,
            "min_height": null,
            "min_width": null,
            "object_fit": null,
            "object_position": null,
            "order": null,
            "overflow": null,
            "overflow_x": null,
            "overflow_y": null,
            "padding": null,
            "right": null,
            "top": null,
            "visibility": null,
            "width": null
          }
        },
        "fc8b077886e24f2e9b1befbeeebe736b": {
          "model_module": "@jupyter-widgets/base",
          "model_name": "LayoutModel",
          "model_module_version": "1.2.0",
          "state": {
            "_model_module": "@jupyter-widgets/base",
            "_model_module_version": "1.2.0",
            "_model_name": "LayoutModel",
            "_view_count": null,
            "_view_module": "@jupyter-widgets/base",
            "_view_module_version": "1.2.0",
            "_view_name": "LayoutView",
            "align_content": null,
            "align_items": null,
            "align_self": null,
            "border": null,
            "bottom": null,
            "display": null,
            "flex": null,
            "flex_flow": null,
            "grid_area": null,
            "grid_auto_columns": null,
            "grid_auto_flow": null,
            "grid_auto_rows": null,
            "grid_column": null,
            "grid_gap": null,
            "grid_row": null,
            "grid_template_areas": null,
            "grid_template_columns": null,
            "grid_template_rows": null,
            "height": null,
            "justify_content": null,
            "justify_items": null,
            "left": null,
            "margin": null,
            "max_height": null,
            "max_width": null,
            "min_height": null,
            "min_width": null,
            "object_fit": null,
            "object_position": null,
            "order": null,
            "overflow": null,
            "overflow_x": null,
            "overflow_y": null,
            "padding": null,
            "right": null,
            "top": null,
            "visibility": null,
            "width": null
          }
        },
        "0a2bc6e236834ffc88d1f0b4e9b84158": {
          "model_module": "@jupyter-widgets/controls",
          "model_name": "DescriptionStyleModel",
          "model_module_version": "1.5.0",
          "state": {
            "_model_module": "@jupyter-widgets/controls",
            "_model_module_version": "1.5.0",
            "_model_name": "DescriptionStyleModel",
            "_view_count": null,
            "_view_module": "@jupyter-widgets/base",
            "_view_module_version": "1.2.0",
            "_view_name": "StyleView",
            "description_width": ""
          }
        },
        "80e91d2b4820404b907d52cd078d14fe": {
          "model_module": "@jupyter-widgets/base",
          "model_name": "LayoutModel",
          "model_module_version": "1.2.0",
          "state": {
            "_model_module": "@jupyter-widgets/base",
            "_model_module_version": "1.2.0",
            "_model_name": "LayoutModel",
            "_view_count": null,
            "_view_module": "@jupyter-widgets/base",
            "_view_module_version": "1.2.0",
            "_view_name": "LayoutView",
            "align_content": null,
            "align_items": null,
            "align_self": null,
            "border": null,
            "bottom": null,
            "display": null,
            "flex": null,
            "flex_flow": null,
            "grid_area": null,
            "grid_auto_columns": null,
            "grid_auto_flow": null,
            "grid_auto_rows": null,
            "grid_column": null,
            "grid_gap": null,
            "grid_row": null,
            "grid_template_areas": null,
            "grid_template_columns": null,
            "grid_template_rows": null,
            "height": null,
            "justify_content": null,
            "justify_items": null,
            "left": null,
            "margin": null,
            "max_height": null,
            "max_width": null,
            "min_height": null,
            "min_width": null,
            "object_fit": null,
            "object_position": null,
            "order": null,
            "overflow": null,
            "overflow_x": null,
            "overflow_y": null,
            "padding": null,
            "right": null,
            "top": null,
            "visibility": null,
            "width": "20px"
          }
        },
        "1cec6ac8383a405fa9739e03341d2ab1": {
          "model_module": "@jupyter-widgets/controls",
          "model_name": "ProgressStyleModel",
          "model_module_version": "1.5.0",
          "state": {
            "_model_module": "@jupyter-widgets/controls",
            "_model_module_version": "1.5.0",
            "_model_name": "ProgressStyleModel",
            "_view_count": null,
            "_view_module": "@jupyter-widgets/base",
            "_view_module_version": "1.2.0",
            "_view_name": "StyleView",
            "bar_color": null,
            "description_width": ""
          }
        },
        "5ce82b30d9684e8bb617faca4126b7de": {
          "model_module": "@jupyter-widgets/base",
          "model_name": "LayoutModel",
          "model_module_version": "1.2.0",
          "state": {
            "_model_module": "@jupyter-widgets/base",
            "_model_module_version": "1.2.0",
            "_model_name": "LayoutModel",
            "_view_count": null,
            "_view_module": "@jupyter-widgets/base",
            "_view_module_version": "1.2.0",
            "_view_name": "LayoutView",
            "align_content": null,
            "align_items": null,
            "align_self": null,
            "border": null,
            "bottom": null,
            "display": null,
            "flex": null,
            "flex_flow": null,
            "grid_area": null,
            "grid_auto_columns": null,
            "grid_auto_flow": null,
            "grid_auto_rows": null,
            "grid_column": null,
            "grid_gap": null,
            "grid_row": null,
            "grid_template_areas": null,
            "grid_template_columns": null,
            "grid_template_rows": null,
            "height": null,
            "justify_content": null,
            "justify_items": null,
            "left": null,
            "margin": null,
            "max_height": null,
            "max_width": null,
            "min_height": null,
            "min_width": null,
            "object_fit": null,
            "object_position": null,
            "order": null,
            "overflow": null,
            "overflow_x": null,
            "overflow_y": null,
            "padding": null,
            "right": null,
            "top": null,
            "visibility": null,
            "width": null
          }
        },
        "5aa43d295bc74627ac82db80251c561c": {
          "model_module": "@jupyter-widgets/controls",
          "model_name": "DescriptionStyleModel",
          "model_module_version": "1.5.0",
          "state": {
            "_model_module": "@jupyter-widgets/controls",
            "_model_module_version": "1.5.0",
            "_model_name": "DescriptionStyleModel",
            "_view_count": null,
            "_view_module": "@jupyter-widgets/base",
            "_view_module_version": "1.2.0",
            "_view_name": "StyleView",
            "description_width": ""
          }
        },
        "30e2aa06c5674c888f22055c259cdc10": {
          "model_module": "@jupyter-widgets/controls",
          "model_name": "HBoxModel",
          "model_module_version": "1.5.0",
          "state": {
            "_dom_classes": [],
            "_model_module": "@jupyter-widgets/controls",
            "_model_module_version": "1.5.0",
            "_model_name": "HBoxModel",
            "_view_count": null,
            "_view_module": "@jupyter-widgets/controls",
            "_view_module_version": "1.5.0",
            "_view_name": "HBoxView",
            "box_style": "",
            "children": [
              "IPY_MODEL_423bc0a64c85416e9056d1f5b4d1ee10",
              "IPY_MODEL_6e64ac6517724011a6c15c91d01c88d6",
              "IPY_MODEL_edc748e03aba4a098e47e28a4ad2fa9a"
            ],
            "layout": "IPY_MODEL_ade49545bf1a4c6d910c197815f15fad"
          }
        },
        "423bc0a64c85416e9056d1f5b4d1ee10": {
          "model_module": "@jupyter-widgets/controls",
          "model_name": "HTMLModel",
          "model_module_version": "1.5.0",
          "state": {
            "_dom_classes": [],
            "_model_module": "@jupyter-widgets/controls",
            "_model_module_version": "1.5.0",
            "_model_name": "HTMLModel",
            "_view_count": null,
            "_view_module": "@jupyter-widgets/controls",
            "_view_module_version": "1.5.0",
            "_view_name": "HTMLView",
            "description": "",
            "description_tooltip": null,
            "layout": "IPY_MODEL_f73aac3336ef4739ad5ab1ee50fc009d",
            "placeholder": "​",
            "style": "IPY_MODEL_89cae1d380bb425fa7c787bcb38338e4",
            "value": "Dl Size...: 100%"
          }
        },
        "6e64ac6517724011a6c15c91d01c88d6": {
          "model_module": "@jupyter-widgets/controls",
          "model_name": "FloatProgressModel",
          "model_module_version": "1.5.0",
          "state": {
            "_dom_classes": [],
            "_model_module": "@jupyter-widgets/controls",
            "_model_module_version": "1.5.0",
            "_model_name": "FloatProgressModel",
            "_view_count": null,
            "_view_module": "@jupyter-widgets/controls",
            "_view_module_version": "1.5.0",
            "_view_name": "ProgressView",
            "bar_style": "success",
            "description": "",
            "description_tooltip": null,
            "layout": "IPY_MODEL_bdb03455f1bc4c7a8d361bd6e1bd2d6b",
            "max": 1,
            "min": 0,
            "orientation": "horizontal",
            "style": "IPY_MODEL_1ddfaceeef3f444a9936bf38d79cb231",
            "value": 1
          }
        },
        "edc748e03aba4a098e47e28a4ad2fa9a": {
          "model_module": "@jupyter-widgets/controls",
          "model_name": "HTMLModel",
          "model_module_version": "1.5.0",
          "state": {
            "_dom_classes": [],
            "_model_module": "@jupyter-widgets/controls",
            "_model_module_version": "1.5.0",
            "_model_name": "HTMLModel",
            "_view_count": null,
            "_view_module": "@jupyter-widgets/controls",
            "_view_module_version": "1.5.0",
            "_view_name": "HTMLView",
            "description": "",
            "description_tooltip": null,
            "layout": "IPY_MODEL_48e116f15a9742d48e9b8ec876fc52b0",
            "placeholder": "​",
            "style": "IPY_MODEL_a5425d63bf874721bd8629d568d695ee",
            "value": " 11/11 [00:04&lt;00:00,  5.75 MiB/s]"
          }
        },
        "ade49545bf1a4c6d910c197815f15fad": {
          "model_module": "@jupyter-widgets/base",
          "model_name": "LayoutModel",
          "model_module_version": "1.2.0",
          "state": {
            "_model_module": "@jupyter-widgets/base",
            "_model_module_version": "1.2.0",
            "_model_name": "LayoutModel",
            "_view_count": null,
            "_view_module": "@jupyter-widgets/base",
            "_view_module_version": "1.2.0",
            "_view_name": "LayoutView",
            "align_content": null,
            "align_items": null,
            "align_self": null,
            "border": null,
            "bottom": null,
            "display": null,
            "flex": null,
            "flex_flow": null,
            "grid_area": null,
            "grid_auto_columns": null,
            "grid_auto_flow": null,
            "grid_auto_rows": null,
            "grid_column": null,
            "grid_gap": null,
            "grid_row": null,
            "grid_template_areas": null,
            "grid_template_columns": null,
            "grid_template_rows": null,
            "height": null,
            "justify_content": null,
            "justify_items": null,
            "left": null,
            "margin": null,
            "max_height": null,
            "max_width": null,
            "min_height": null,
            "min_width": null,
            "object_fit": null,
            "object_position": null,
            "order": null,
            "overflow": null,
            "overflow_x": null,
            "overflow_y": null,
            "padding": null,
            "right": null,
            "top": null,
            "visibility": null,
            "width": null
          }
        },
        "f73aac3336ef4739ad5ab1ee50fc009d": {
          "model_module": "@jupyter-widgets/base",
          "model_name": "LayoutModel",
          "model_module_version": "1.2.0",
          "state": {
            "_model_module": "@jupyter-widgets/base",
            "_model_module_version": "1.2.0",
            "_model_name": "LayoutModel",
            "_view_count": null,
            "_view_module": "@jupyter-widgets/base",
            "_view_module_version": "1.2.0",
            "_view_name": "LayoutView",
            "align_content": null,
            "align_items": null,
            "align_self": null,
            "border": null,
            "bottom": null,
            "display": null,
            "flex": null,
            "flex_flow": null,
            "grid_area": null,
            "grid_auto_columns": null,
            "grid_auto_flow": null,
            "grid_auto_rows": null,
            "grid_column": null,
            "grid_gap": null,
            "grid_row": null,
            "grid_template_areas": null,
            "grid_template_columns": null,
            "grid_template_rows": null,
            "height": null,
            "justify_content": null,
            "justify_items": null,
            "left": null,
            "margin": null,
            "max_height": null,
            "max_width": null,
            "min_height": null,
            "min_width": null,
            "object_fit": null,
            "object_position": null,
            "order": null,
            "overflow": null,
            "overflow_x": null,
            "overflow_y": null,
            "padding": null,
            "right": null,
            "top": null,
            "visibility": null,
            "width": null
          }
        },
        "89cae1d380bb425fa7c787bcb38338e4": {
          "model_module": "@jupyter-widgets/controls",
          "model_name": "DescriptionStyleModel",
          "model_module_version": "1.5.0",
          "state": {
            "_model_module": "@jupyter-widgets/controls",
            "_model_module_version": "1.5.0",
            "_model_name": "DescriptionStyleModel",
            "_view_count": null,
            "_view_module": "@jupyter-widgets/base",
            "_view_module_version": "1.2.0",
            "_view_name": "StyleView",
            "description_width": ""
          }
        },
        "bdb03455f1bc4c7a8d361bd6e1bd2d6b": {
          "model_module": "@jupyter-widgets/base",
          "model_name": "LayoutModel",
          "model_module_version": "1.2.0",
          "state": {
            "_model_module": "@jupyter-widgets/base",
            "_model_module_version": "1.2.0",
            "_model_name": "LayoutModel",
            "_view_count": null,
            "_view_module": "@jupyter-widgets/base",
            "_view_module_version": "1.2.0",
            "_view_name": "LayoutView",
            "align_content": null,
            "align_items": null,
            "align_self": null,
            "border": null,
            "bottom": null,
            "display": null,
            "flex": null,
            "flex_flow": null,
            "grid_area": null,
            "grid_auto_columns": null,
            "grid_auto_flow": null,
            "grid_auto_rows": null,
            "grid_column": null,
            "grid_gap": null,
            "grid_row": null,
            "grid_template_areas": null,
            "grid_template_columns": null,
            "grid_template_rows": null,
            "height": null,
            "justify_content": null,
            "justify_items": null,
            "left": null,
            "margin": null,
            "max_height": null,
            "max_width": null,
            "min_height": null,
            "min_width": null,
            "object_fit": null,
            "object_position": null,
            "order": null,
            "overflow": null,
            "overflow_x": null,
            "overflow_y": null,
            "padding": null,
            "right": null,
            "top": null,
            "visibility": null,
            "width": "20px"
          }
        },
        "1ddfaceeef3f444a9936bf38d79cb231": {
          "model_module": "@jupyter-widgets/controls",
          "model_name": "ProgressStyleModel",
          "model_module_version": "1.5.0",
          "state": {
            "_model_module": "@jupyter-widgets/controls",
            "_model_module_version": "1.5.0",
            "_model_name": "ProgressStyleModel",
            "_view_count": null,
            "_view_module": "@jupyter-widgets/base",
            "_view_module_version": "1.2.0",
            "_view_name": "StyleView",
            "bar_color": null,
            "description_width": ""
          }
        },
        "48e116f15a9742d48e9b8ec876fc52b0": {
          "model_module": "@jupyter-widgets/base",
          "model_name": "LayoutModel",
          "model_module_version": "1.2.0",
          "state": {
            "_model_module": "@jupyter-widgets/base",
            "_model_module_version": "1.2.0",
            "_model_name": "LayoutModel",
            "_view_count": null,
            "_view_module": "@jupyter-widgets/base",
            "_view_module_version": "1.2.0",
            "_view_name": "LayoutView",
            "align_content": null,
            "align_items": null,
            "align_self": null,
            "border": null,
            "bottom": null,
            "display": null,
            "flex": null,
            "flex_flow": null,
            "grid_area": null,
            "grid_auto_columns": null,
            "grid_auto_flow": null,
            "grid_auto_rows": null,
            "grid_column": null,
            "grid_gap": null,
            "grid_row": null,
            "grid_template_areas": null,
            "grid_template_columns": null,
            "grid_template_rows": null,
            "height": null,
            "justify_content": null,
            "justify_items": null,
            "left": null,
            "margin": null,
            "max_height": null,
            "max_width": null,
            "min_height": null,
            "min_width": null,
            "object_fit": null,
            "object_position": null,
            "order": null,
            "overflow": null,
            "overflow_x": null,
            "overflow_y": null,
            "padding": null,
            "right": null,
            "top": null,
            "visibility": null,
            "width": null
          }
        },
        "a5425d63bf874721bd8629d568d695ee": {
          "model_module": "@jupyter-widgets/controls",
          "model_name": "DescriptionStyleModel",
          "model_module_version": "1.5.0",
          "state": {
            "_model_module": "@jupyter-widgets/controls",
            "_model_module_version": "1.5.0",
            "_model_name": "DescriptionStyleModel",
            "_view_count": null,
            "_view_module": "@jupyter-widgets/base",
            "_view_module_version": "1.2.0",
            "_view_name": "StyleView",
            "description_width": ""
          }
        },
        "86c6d6195dd348f594c54c5823fb7d83": {
          "model_module": "@jupyter-widgets/controls",
          "model_name": "HBoxModel",
          "model_module_version": "1.5.0",
          "state": {
            "_dom_classes": [],
            "_model_module": "@jupyter-widgets/controls",
            "_model_module_version": "1.5.0",
            "_model_name": "HBoxModel",
            "_view_count": null,
            "_view_module": "@jupyter-widgets/controls",
            "_view_module_version": "1.5.0",
            "_view_name": "HBoxView",
            "box_style": "",
            "children": [
              "IPY_MODEL_d7d135b3842146f5ac651a56740c3505",
              "IPY_MODEL_1b04dc1101bc4a639d5824b32656f3cf",
              "IPY_MODEL_a3870a16ee9b4a2885a8ab36d1767fb6"
            ],
            "layout": "IPY_MODEL_f2416ac42a5c4641baedb34bcd2e614f"
          }
        },
        "d7d135b3842146f5ac651a56740c3505": {
          "model_module": "@jupyter-widgets/controls",
          "model_name": "HTMLModel",
          "model_module_version": "1.5.0",
          "state": {
            "_dom_classes": [],
            "_model_module": "@jupyter-widgets/controls",
            "_model_module_version": "1.5.0",
            "_model_name": "HTMLModel",
            "_view_count": null,
            "_view_module": "@jupyter-widgets/controls",
            "_view_module_version": "1.5.0",
            "_view_name": "HTMLView",
            "description": "",
            "description_tooltip": null,
            "layout": "IPY_MODEL_390266823e3c4580b083c555a26b3ff1",
            "placeholder": "​",
            "style": "IPY_MODEL_2e9ea55276dc4688bff0f88920224a79",
            "value": "Extraction completed...: 100%"
          }
        },
        "1b04dc1101bc4a639d5824b32656f3cf": {
          "model_module": "@jupyter-widgets/controls",
          "model_name": "FloatProgressModel",
          "model_module_version": "1.5.0",
          "state": {
            "_dom_classes": [],
            "_model_module": "@jupyter-widgets/controls",
            "_model_module_version": "1.5.0",
            "_model_name": "FloatProgressModel",
            "_view_count": null,
            "_view_module": "@jupyter-widgets/controls",
            "_view_module_version": "1.5.0",
            "_view_name": "ProgressView",
            "bar_style": "success",
            "description": "",
            "description_tooltip": null,
            "layout": "IPY_MODEL_2a33549a32bf4fe99ac08aa36d60689f",
            "max": 1,
            "min": 0,
            "orientation": "horizontal",
            "style": "IPY_MODEL_3588fc626df545c39ff2775bbdf6578e",
            "value": 1
          }
        },
        "a3870a16ee9b4a2885a8ab36d1767fb6": {
          "model_module": "@jupyter-widgets/controls",
          "model_name": "HTMLModel",
          "model_module_version": "1.5.0",
          "state": {
            "_dom_classes": [],
            "_model_module": "@jupyter-widgets/controls",
            "_model_module_version": "1.5.0",
            "_model_name": "HTMLModel",
            "_view_count": null,
            "_view_module": "@jupyter-widgets/controls",
            "_view_module_version": "1.5.0",
            "_view_name": "HTMLView",
            "description": "",
            "description_tooltip": null,
            "layout": "IPY_MODEL_18a9e45c8dea4404ace0953e09656919",
            "placeholder": "​",
            "style": "IPY_MODEL_6a4042e4974c449589ed42cc3b8c7e05",
            "value": " 1/1 [00:04&lt;00:00,  4.25s/ file]"
          }
        },
        "f2416ac42a5c4641baedb34bcd2e614f": {
          "model_module": "@jupyter-widgets/base",
          "model_name": "LayoutModel",
          "model_module_version": "1.2.0",
          "state": {
            "_model_module": "@jupyter-widgets/base",
            "_model_module_version": "1.2.0",
            "_model_name": "LayoutModel",
            "_view_count": null,
            "_view_module": "@jupyter-widgets/base",
            "_view_module_version": "1.2.0",
            "_view_name": "LayoutView",
            "align_content": null,
            "align_items": null,
            "align_self": null,
            "border": null,
            "bottom": null,
            "display": null,
            "flex": null,
            "flex_flow": null,
            "grid_area": null,
            "grid_auto_columns": null,
            "grid_auto_flow": null,
            "grid_auto_rows": null,
            "grid_column": null,
            "grid_gap": null,
            "grid_row": null,
            "grid_template_areas": null,
            "grid_template_columns": null,
            "grid_template_rows": null,
            "height": null,
            "justify_content": null,
            "justify_items": null,
            "left": null,
            "margin": null,
            "max_height": null,
            "max_width": null,
            "min_height": null,
            "min_width": null,
            "object_fit": null,
            "object_position": null,
            "order": null,
            "overflow": null,
            "overflow_x": null,
            "overflow_y": null,
            "padding": null,
            "right": null,
            "top": null,
            "visibility": null,
            "width": null
          }
        },
        "390266823e3c4580b083c555a26b3ff1": {
          "model_module": "@jupyter-widgets/base",
          "model_name": "LayoutModel",
          "model_module_version": "1.2.0",
          "state": {
            "_model_module": "@jupyter-widgets/base",
            "_model_module_version": "1.2.0",
            "_model_name": "LayoutModel",
            "_view_count": null,
            "_view_module": "@jupyter-widgets/base",
            "_view_module_version": "1.2.0",
            "_view_name": "LayoutView",
            "align_content": null,
            "align_items": null,
            "align_self": null,
            "border": null,
            "bottom": null,
            "display": null,
            "flex": null,
            "flex_flow": null,
            "grid_area": null,
            "grid_auto_columns": null,
            "grid_auto_flow": null,
            "grid_auto_rows": null,
            "grid_column": null,
            "grid_gap": null,
            "grid_row": null,
            "grid_template_areas": null,
            "grid_template_columns": null,
            "grid_template_rows": null,
            "height": null,
            "justify_content": null,
            "justify_items": null,
            "left": null,
            "margin": null,
            "max_height": null,
            "max_width": null,
            "min_height": null,
            "min_width": null,
            "object_fit": null,
            "object_position": null,
            "order": null,
            "overflow": null,
            "overflow_x": null,
            "overflow_y": null,
            "padding": null,
            "right": null,
            "top": null,
            "visibility": null,
            "width": null
          }
        },
        "2e9ea55276dc4688bff0f88920224a79": {
          "model_module": "@jupyter-widgets/controls",
          "model_name": "DescriptionStyleModel",
          "model_module_version": "1.5.0",
          "state": {
            "_model_module": "@jupyter-widgets/controls",
            "_model_module_version": "1.5.0",
            "_model_name": "DescriptionStyleModel",
            "_view_count": null,
            "_view_module": "@jupyter-widgets/base",
            "_view_module_version": "1.2.0",
            "_view_name": "StyleView",
            "description_width": ""
          }
        },
        "2a33549a32bf4fe99ac08aa36d60689f": {
          "model_module": "@jupyter-widgets/base",
          "model_name": "LayoutModel",
          "model_module_version": "1.2.0",
          "state": {
            "_model_module": "@jupyter-widgets/base",
            "_model_module_version": "1.2.0",
            "_model_name": "LayoutModel",
            "_view_count": null,
            "_view_module": "@jupyter-widgets/base",
            "_view_module_version": "1.2.0",
            "_view_name": "LayoutView",
            "align_content": null,
            "align_items": null,
            "align_self": null,
            "border": null,
            "bottom": null,
            "display": null,
            "flex": null,
            "flex_flow": null,
            "grid_area": null,
            "grid_auto_columns": null,
            "grid_auto_flow": null,
            "grid_auto_rows": null,
            "grid_column": null,
            "grid_gap": null,
            "grid_row": null,
            "grid_template_areas": null,
            "grid_template_columns": null,
            "grid_template_rows": null,
            "height": null,
            "justify_content": null,
            "justify_items": null,
            "left": null,
            "margin": null,
            "max_height": null,
            "max_width": null,
            "min_height": null,
            "min_width": null,
            "object_fit": null,
            "object_position": null,
            "order": null,
            "overflow": null,
            "overflow_x": null,
            "overflow_y": null,
            "padding": null,
            "right": null,
            "top": null,
            "visibility": null,
            "width": "20px"
          }
        },
        "3588fc626df545c39ff2775bbdf6578e": {
          "model_module": "@jupyter-widgets/controls",
          "model_name": "ProgressStyleModel",
          "model_module_version": "1.5.0",
          "state": {
            "_model_module": "@jupyter-widgets/controls",
            "_model_module_version": "1.5.0",
            "_model_name": "ProgressStyleModel",
            "_view_count": null,
            "_view_module": "@jupyter-widgets/base",
            "_view_module_version": "1.2.0",
            "_view_name": "StyleView",
            "bar_color": null,
            "description_width": ""
          }
        },
        "18a9e45c8dea4404ace0953e09656919": {
          "model_module": "@jupyter-widgets/base",
          "model_name": "LayoutModel",
          "model_module_version": "1.2.0",
          "state": {
            "_model_module": "@jupyter-widgets/base",
            "_model_module_version": "1.2.0",
            "_model_name": "LayoutModel",
            "_view_count": null,
            "_view_module": "@jupyter-widgets/base",
            "_view_module_version": "1.2.0",
            "_view_name": "LayoutView",
            "align_content": null,
            "align_items": null,
            "align_self": null,
            "border": null,
            "bottom": null,
            "display": null,
            "flex": null,
            "flex_flow": null,
            "grid_area": null,
            "grid_auto_columns": null,
            "grid_auto_flow": null,
            "grid_auto_rows": null,
            "grid_column": null,
            "grid_gap": null,
            "grid_row": null,
            "grid_template_areas": null,
            "grid_template_columns": null,
            "grid_template_rows": null,
            "height": null,
            "justify_content": null,
            "justify_items": null,
            "left": null,
            "margin": null,
            "max_height": null,
            "max_width": null,
            "min_height": null,
            "min_width": null,
            "object_fit": null,
            "object_position": null,
            "order": null,
            "overflow": null,
            "overflow_x": null,
            "overflow_y": null,
            "padding": null,
            "right": null,
            "top": null,
            "visibility": null,
            "width": null
          }
        },
        "6a4042e4974c449589ed42cc3b8c7e05": {
          "model_module": "@jupyter-widgets/controls",
          "model_name": "DescriptionStyleModel",
          "model_module_version": "1.5.0",
          "state": {
            "_model_module": "@jupyter-widgets/controls",
            "_model_module_version": "1.5.0",
            "_model_name": "DescriptionStyleModel",
            "_view_count": null,
            "_view_module": "@jupyter-widgets/base",
            "_view_module_version": "1.2.0",
            "_view_name": "StyleView",
            "description_width": ""
          }
        },
        "2d057610d4834b2e8243c96afdcd3914": {
          "model_module": "@jupyter-widgets/controls",
          "model_name": "HBoxModel",
          "model_module_version": "1.5.0",
          "state": {
            "_dom_classes": [],
            "_model_module": "@jupyter-widgets/controls",
            "_model_module_version": "1.5.0",
            "_model_name": "HBoxModel",
            "_view_count": null,
            "_view_module": "@jupyter-widgets/controls",
            "_view_module_version": "1.5.0",
            "_view_name": "HBoxView",
            "box_style": "",
            "children": [
              "IPY_MODEL_4123bc46d1b2485f85f63579386fde63",
              "IPY_MODEL_b59a611c507743c9ba3d9404f6298e5a",
              "IPY_MODEL_deb3e3c94ad44a039fad5937117eca01"
            ],
            "layout": "IPY_MODEL_e21c16711ca84d83847dd302f63c3532"
          }
        },
        "4123bc46d1b2485f85f63579386fde63": {
          "model_module": "@jupyter-widgets/controls",
          "model_name": "HTMLModel",
          "model_module_version": "1.5.0",
          "state": {
            "_dom_classes": [],
            "_model_module": "@jupyter-widgets/controls",
            "_model_module_version": "1.5.0",
            "_model_name": "HTMLModel",
            "_view_count": null,
            "_view_module": "@jupyter-widgets/controls",
            "_view_module_version": "1.5.0",
            "_view_name": "HTMLView",
            "description": "",
            "description_tooltip": null,
            "layout": "IPY_MODEL_d2e2c0c6573b46869fcf48fc3973bcc6",
            "placeholder": "​",
            "style": "IPY_MODEL_a0b7e9c3d0a342df8f983361d18a6721",
            "value": "Generating splits...: 100%"
          }
        },
        "b59a611c507743c9ba3d9404f6298e5a": {
          "model_module": "@jupyter-widgets/controls",
          "model_name": "FloatProgressModel",
          "model_module_version": "1.5.0",
          "state": {
            "_dom_classes": [],
            "_model_module": "@jupyter-widgets/controls",
            "_model_module_version": "1.5.0",
            "_model_name": "FloatProgressModel",
            "_view_count": null,
            "_view_module": "@jupyter-widgets/controls",
            "_view_module_version": "1.5.0",
            "_view_name": "ProgressView",
            "bar_style": "",
            "description": "",
            "description_tooltip": null,
            "layout": "IPY_MODEL_acedaafed90f46878097058594499767",
            "max": 2,
            "min": 0,
            "orientation": "horizontal",
            "style": "IPY_MODEL_24f15b3ec78546df8469df8043410127",
            "value": 2
          }
        },
        "deb3e3c94ad44a039fad5937117eca01": {
          "model_module": "@jupyter-widgets/controls",
          "model_name": "HTMLModel",
          "model_module_version": "1.5.0",
          "state": {
            "_dom_classes": [],
            "_model_module": "@jupyter-widgets/controls",
            "_model_module_version": "1.5.0",
            "_model_name": "HTMLModel",
            "_view_count": null,
            "_view_module": "@jupyter-widgets/controls",
            "_view_module_version": "1.5.0",
            "_view_name": "HTMLView",
            "description": "",
            "description_tooltip": null,
            "layout": "IPY_MODEL_62e974a881a14cb3a0f7724a36636079",
            "placeholder": "​",
            "style": "IPY_MODEL_a8230101549148febb733f4fd5d37904",
            "value": " 2/2 [00:25&lt;00:00, 10.58s/ splits]"
          }
        },
        "e21c16711ca84d83847dd302f63c3532": {
          "model_module": "@jupyter-widgets/base",
          "model_name": "LayoutModel",
          "model_module_version": "1.2.0",
          "state": {
            "_model_module": "@jupyter-widgets/base",
            "_model_module_version": "1.2.0",
            "_model_name": "LayoutModel",
            "_view_count": null,
            "_view_module": "@jupyter-widgets/base",
            "_view_module_version": "1.2.0",
            "_view_name": "LayoutView",
            "align_content": null,
            "align_items": null,
            "align_self": null,
            "border": null,
            "bottom": null,
            "display": null,
            "flex": null,
            "flex_flow": null,
            "grid_area": null,
            "grid_auto_columns": null,
            "grid_auto_flow": null,
            "grid_auto_rows": null,
            "grid_column": null,
            "grid_gap": null,
            "grid_row": null,
            "grid_template_areas": null,
            "grid_template_columns": null,
            "grid_template_rows": null,
            "height": null,
            "justify_content": null,
            "justify_items": null,
            "left": null,
            "margin": null,
            "max_height": null,
            "max_width": null,
            "min_height": null,
            "min_width": null,
            "object_fit": null,
            "object_position": null,
            "order": null,
            "overflow": null,
            "overflow_x": null,
            "overflow_y": null,
            "padding": null,
            "right": null,
            "top": null,
            "visibility": null,
            "width": null
          }
        },
        "d2e2c0c6573b46869fcf48fc3973bcc6": {
          "model_module": "@jupyter-widgets/base",
          "model_name": "LayoutModel",
          "model_module_version": "1.2.0",
          "state": {
            "_model_module": "@jupyter-widgets/base",
            "_model_module_version": "1.2.0",
            "_model_name": "LayoutModel",
            "_view_count": null,
            "_view_module": "@jupyter-widgets/base",
            "_view_module_version": "1.2.0",
            "_view_name": "LayoutView",
            "align_content": null,
            "align_items": null,
            "align_self": null,
            "border": null,
            "bottom": null,
            "display": null,
            "flex": null,
            "flex_flow": null,
            "grid_area": null,
            "grid_auto_columns": null,
            "grid_auto_flow": null,
            "grid_auto_rows": null,
            "grid_column": null,
            "grid_gap": null,
            "grid_row": null,
            "grid_template_areas": null,
            "grid_template_columns": null,
            "grid_template_rows": null,
            "height": null,
            "justify_content": null,
            "justify_items": null,
            "left": null,
            "margin": null,
            "max_height": null,
            "max_width": null,
            "min_height": null,
            "min_width": null,
            "object_fit": null,
            "object_position": null,
            "order": null,
            "overflow": null,
            "overflow_x": null,
            "overflow_y": null,
            "padding": null,
            "right": null,
            "top": null,
            "visibility": null,
            "width": null
          }
        },
        "a0b7e9c3d0a342df8f983361d18a6721": {
          "model_module": "@jupyter-widgets/controls",
          "model_name": "DescriptionStyleModel",
          "model_module_version": "1.5.0",
          "state": {
            "_model_module": "@jupyter-widgets/controls",
            "_model_module_version": "1.5.0",
            "_model_name": "DescriptionStyleModel",
            "_view_count": null,
            "_view_module": "@jupyter-widgets/base",
            "_view_module_version": "1.2.0",
            "_view_name": "StyleView",
            "description_width": ""
          }
        },
        "acedaafed90f46878097058594499767": {
          "model_module": "@jupyter-widgets/base",
          "model_name": "LayoutModel",
          "model_module_version": "1.2.0",
          "state": {
            "_model_module": "@jupyter-widgets/base",
            "_model_module_version": "1.2.0",
            "_model_name": "LayoutModel",
            "_view_count": null,
            "_view_module": "@jupyter-widgets/base",
            "_view_module_version": "1.2.0",
            "_view_name": "LayoutView",
            "align_content": null,
            "align_items": null,
            "align_self": null,
            "border": null,
            "bottom": null,
            "display": null,
            "flex": null,
            "flex_flow": null,
            "grid_area": null,
            "grid_auto_columns": null,
            "grid_auto_flow": null,
            "grid_auto_rows": null,
            "grid_column": null,
            "grid_gap": null,
            "grid_row": null,
            "grid_template_areas": null,
            "grid_template_columns": null,
            "grid_template_rows": null,
            "height": null,
            "justify_content": null,
            "justify_items": null,
            "left": null,
            "margin": null,
            "max_height": null,
            "max_width": null,
            "min_height": null,
            "min_width": null,
            "object_fit": null,
            "object_position": null,
            "order": null,
            "overflow": null,
            "overflow_x": null,
            "overflow_y": null,
            "padding": null,
            "right": null,
            "top": null,
            "visibility": null,
            "width": null
          }
        },
        "24f15b3ec78546df8469df8043410127": {
          "model_module": "@jupyter-widgets/controls",
          "model_name": "ProgressStyleModel",
          "model_module_version": "1.5.0",
          "state": {
            "_model_module": "@jupyter-widgets/controls",
            "_model_module_version": "1.5.0",
            "_model_name": "ProgressStyleModel",
            "_view_count": null,
            "_view_module": "@jupyter-widgets/base",
            "_view_module_version": "1.2.0",
            "_view_name": "StyleView",
            "bar_color": null,
            "description_width": ""
          }
        },
        "62e974a881a14cb3a0f7724a36636079": {
          "model_module": "@jupyter-widgets/base",
          "model_name": "LayoutModel",
          "model_module_version": "1.2.0",
          "state": {
            "_model_module": "@jupyter-widgets/base",
            "_model_module_version": "1.2.0",
            "_model_name": "LayoutModel",
            "_view_count": null,
            "_view_module": "@jupyter-widgets/base",
            "_view_module_version": "1.2.0",
            "_view_name": "LayoutView",
            "align_content": null,
            "align_items": null,
            "align_self": null,
            "border": null,
            "bottom": null,
            "display": null,
            "flex": null,
            "flex_flow": null,
            "grid_area": null,
            "grid_auto_columns": null,
            "grid_auto_flow": null,
            "grid_auto_rows": null,
            "grid_column": null,
            "grid_gap": null,
            "grid_row": null,
            "grid_template_areas": null,
            "grid_template_columns": null,
            "grid_template_rows": null,
            "height": null,
            "justify_content": null,
            "justify_items": null,
            "left": null,
            "margin": null,
            "max_height": null,
            "max_width": null,
            "min_height": null,
            "min_width": null,
            "object_fit": null,
            "object_position": null,
            "order": null,
            "overflow": null,
            "overflow_x": null,
            "overflow_y": null,
            "padding": null,
            "right": null,
            "top": null,
            "visibility": null,
            "width": null
          }
        },
        "a8230101549148febb733f4fd5d37904": {
          "model_module": "@jupyter-widgets/controls",
          "model_name": "DescriptionStyleModel",
          "model_module_version": "1.5.0",
          "state": {
            "_model_module": "@jupyter-widgets/controls",
            "_model_module_version": "1.5.0",
            "_model_name": "DescriptionStyleModel",
            "_view_count": null,
            "_view_module": "@jupyter-widgets/base",
            "_view_module_version": "1.2.0",
            "_view_name": "StyleView",
            "description_width": ""
          }
        },
        "0148ad2844eb4448987701dbcb4fd099": {
          "model_module": "@jupyter-widgets/controls",
          "model_name": "HBoxModel",
          "model_module_version": "1.5.0",
          "state": {
            "_dom_classes": [],
            "_model_module": "@jupyter-widgets/controls",
            "_model_module_version": "1.5.0",
            "_model_name": "HBoxModel",
            "_view_count": null,
            "_view_module": "@jupyter-widgets/controls",
            "_view_module_version": "1.5.0",
            "_view_name": "HBoxView",
            "box_style": "",
            "children": [
              "IPY_MODEL_cf0ab3972fb343fca69fa5ea4ec02236",
              "IPY_MODEL_648cc3177daa4c63b93e60896e2169d5",
              "IPY_MODEL_552a55d09cbd43f9839b8bc415f3ffed"
            ],
            "layout": "IPY_MODEL_f490a1ae12ac41d8b2f36021b30ef471"
          }
        },
        "cf0ab3972fb343fca69fa5ea4ec02236": {
          "model_module": "@jupyter-widgets/controls",
          "model_name": "HTMLModel",
          "model_module_version": "1.5.0",
          "state": {
            "_dom_classes": [],
            "_model_module": "@jupyter-widgets/controls",
            "_model_module_version": "1.5.0",
            "_model_name": "HTMLModel",
            "_view_count": null,
            "_view_module": "@jupyter-widgets/controls",
            "_view_module_version": "1.5.0",
            "_view_name": "HTMLView",
            "description": "",
            "description_tooltip": null,
            "layout": "IPY_MODEL_fb27a4a124aa46519b1526eb5e2bf59a",
            "placeholder": "​",
            "style": "IPY_MODEL_8ebf3c7237b44eca8095061e2fb8a878",
            "value": "Generating train examples...:  99%"
          }
        },
        "648cc3177daa4c63b93e60896e2169d5": {
          "model_module": "@jupyter-widgets/controls",
          "model_name": "FloatProgressModel",
          "model_module_version": "1.5.0",
          "state": {
            "_dom_classes": [],
            "_model_module": "@jupyter-widgets/controls",
            "_model_module_version": "1.5.0",
            "_model_name": "FloatProgressModel",
            "_view_count": null,
            "_view_module": "@jupyter-widgets/controls",
            "_view_module_version": "1.5.0",
            "_view_name": "ProgressView",
            "bar_style": "",
            "description": "",
            "description_tooltip": null,
            "layout": "IPY_MODEL_1d5889325a1e49e382363f11e654a3b3",
            "max": 120000,
            "min": 0,
            "orientation": "horizontal",
            "style": "IPY_MODEL_210f22ce432c48b9a58a7bab83779ce1",
            "value": 120000
          }
        },
        "552a55d09cbd43f9839b8bc415f3ffed": {
          "model_module": "@jupyter-widgets/controls",
          "model_name": "HTMLModel",
          "model_module_version": "1.5.0",
          "state": {
            "_dom_classes": [],
            "_model_module": "@jupyter-widgets/controls",
            "_model_module_version": "1.5.0",
            "_model_name": "HTMLModel",
            "_view_count": null,
            "_view_module": "@jupyter-widgets/controls",
            "_view_module_version": "1.5.0",
            "_view_name": "HTMLView",
            "description": "",
            "description_tooltip": null,
            "layout": "IPY_MODEL_f9c6645514e041ee91e4e52d0dd9dd16",
            "placeholder": "​",
            "style": "IPY_MODEL_90c19576d77d4ce0a32aaa15b5076e3f",
            "value": " 119376/120000 [00:22&lt;00:00, 7347.19 examples/s]"
          }
        },
        "f490a1ae12ac41d8b2f36021b30ef471": {
          "model_module": "@jupyter-widgets/base",
          "model_name": "LayoutModel",
          "model_module_version": "1.2.0",
          "state": {
            "_model_module": "@jupyter-widgets/base",
            "_model_module_version": "1.2.0",
            "_model_name": "LayoutModel",
            "_view_count": null,
            "_view_module": "@jupyter-widgets/base",
            "_view_module_version": "1.2.0",
            "_view_name": "LayoutView",
            "align_content": null,
            "align_items": null,
            "align_self": null,
            "border": null,
            "bottom": null,
            "display": null,
            "flex": null,
            "flex_flow": null,
            "grid_area": null,
            "grid_auto_columns": null,
            "grid_auto_flow": null,
            "grid_auto_rows": null,
            "grid_column": null,
            "grid_gap": null,
            "grid_row": null,
            "grid_template_areas": null,
            "grid_template_columns": null,
            "grid_template_rows": null,
            "height": null,
            "justify_content": null,
            "justify_items": null,
            "left": null,
            "margin": null,
            "max_height": null,
            "max_width": null,
            "min_height": null,
            "min_width": null,
            "object_fit": null,
            "object_position": null,
            "order": null,
            "overflow": null,
            "overflow_x": null,
            "overflow_y": null,
            "padding": null,
            "right": null,
            "top": null,
            "visibility": null,
            "width": null
          }
        },
        "fb27a4a124aa46519b1526eb5e2bf59a": {
          "model_module": "@jupyter-widgets/base",
          "model_name": "LayoutModel",
          "model_module_version": "1.2.0",
          "state": {
            "_model_module": "@jupyter-widgets/base",
            "_model_module_version": "1.2.0",
            "_model_name": "LayoutModel",
            "_view_count": null,
            "_view_module": "@jupyter-widgets/base",
            "_view_module_version": "1.2.0",
            "_view_name": "LayoutView",
            "align_content": null,
            "align_items": null,
            "align_self": null,
            "border": null,
            "bottom": null,
            "display": null,
            "flex": null,
            "flex_flow": null,
            "grid_area": null,
            "grid_auto_columns": null,
            "grid_auto_flow": null,
            "grid_auto_rows": null,
            "grid_column": null,
            "grid_gap": null,
            "grid_row": null,
            "grid_template_areas": null,
            "grid_template_columns": null,
            "grid_template_rows": null,
            "height": null,
            "justify_content": null,
            "justify_items": null,
            "left": null,
            "margin": null,
            "max_height": null,
            "max_width": null,
            "min_height": null,
            "min_width": null,
            "object_fit": null,
            "object_position": null,
            "order": null,
            "overflow": null,
            "overflow_x": null,
            "overflow_y": null,
            "padding": null,
            "right": null,
            "top": null,
            "visibility": null,
            "width": null
          }
        },
        "8ebf3c7237b44eca8095061e2fb8a878": {
          "model_module": "@jupyter-widgets/controls",
          "model_name": "DescriptionStyleModel",
          "model_module_version": "1.5.0",
          "state": {
            "_model_module": "@jupyter-widgets/controls",
            "_model_module_version": "1.5.0",
            "_model_name": "DescriptionStyleModel",
            "_view_count": null,
            "_view_module": "@jupyter-widgets/base",
            "_view_module_version": "1.2.0",
            "_view_name": "StyleView",
            "description_width": ""
          }
        },
        "1d5889325a1e49e382363f11e654a3b3": {
          "model_module": "@jupyter-widgets/base",
          "model_name": "LayoutModel",
          "model_module_version": "1.2.0",
          "state": {
            "_model_module": "@jupyter-widgets/base",
            "_model_module_version": "1.2.0",
            "_model_name": "LayoutModel",
            "_view_count": null,
            "_view_module": "@jupyter-widgets/base",
            "_view_module_version": "1.2.0",
            "_view_name": "LayoutView",
            "align_content": null,
            "align_items": null,
            "align_self": null,
            "border": null,
            "bottom": null,
            "display": null,
            "flex": null,
            "flex_flow": null,
            "grid_area": null,
            "grid_auto_columns": null,
            "grid_auto_flow": null,
            "grid_auto_rows": null,
            "grid_column": null,
            "grid_gap": null,
            "grid_row": null,
            "grid_template_areas": null,
            "grid_template_columns": null,
            "grid_template_rows": null,
            "height": null,
            "justify_content": null,
            "justify_items": null,
            "left": null,
            "margin": null,
            "max_height": null,
            "max_width": null,
            "min_height": null,
            "min_width": null,
            "object_fit": null,
            "object_position": null,
            "order": null,
            "overflow": null,
            "overflow_x": null,
            "overflow_y": null,
            "padding": null,
            "right": null,
            "top": null,
            "visibility": null,
            "width": null
          }
        },
        "210f22ce432c48b9a58a7bab83779ce1": {
          "model_module": "@jupyter-widgets/controls",
          "model_name": "ProgressStyleModel",
          "model_module_version": "1.5.0",
          "state": {
            "_model_module": "@jupyter-widgets/controls",
            "_model_module_version": "1.5.0",
            "_model_name": "ProgressStyleModel",
            "_view_count": null,
            "_view_module": "@jupyter-widgets/base",
            "_view_module_version": "1.2.0",
            "_view_name": "StyleView",
            "bar_color": null,
            "description_width": ""
          }
        },
        "f9c6645514e041ee91e4e52d0dd9dd16": {
          "model_module": "@jupyter-widgets/base",
          "model_name": "LayoutModel",
          "model_module_version": "1.2.0",
          "state": {
            "_model_module": "@jupyter-widgets/base",
            "_model_module_version": "1.2.0",
            "_model_name": "LayoutModel",
            "_view_count": null,
            "_view_module": "@jupyter-widgets/base",
            "_view_module_version": "1.2.0",
            "_view_name": "LayoutView",
            "align_content": null,
            "align_items": null,
            "align_self": null,
            "border": null,
            "bottom": null,
            "display": null,
            "flex": null,
            "flex_flow": null,
            "grid_area": null,
            "grid_auto_columns": null,
            "grid_auto_flow": null,
            "grid_auto_rows": null,
            "grid_column": null,
            "grid_gap": null,
            "grid_row": null,
            "grid_template_areas": null,
            "grid_template_columns": null,
            "grid_template_rows": null,
            "height": null,
            "justify_content": null,
            "justify_items": null,
            "left": null,
            "margin": null,
            "max_height": null,
            "max_width": null,
            "min_height": null,
            "min_width": null,
            "object_fit": null,
            "object_position": null,
            "order": null,
            "overflow": null,
            "overflow_x": null,
            "overflow_y": null,
            "padding": null,
            "right": null,
            "top": null,
            "visibility": null,
            "width": null
          }
        },
        "90c19576d77d4ce0a32aaa15b5076e3f": {
          "model_module": "@jupyter-widgets/controls",
          "model_name": "DescriptionStyleModel",
          "model_module_version": "1.5.0",
          "state": {
            "_model_module": "@jupyter-widgets/controls",
            "_model_module_version": "1.5.0",
            "_model_name": "DescriptionStyleModel",
            "_view_count": null,
            "_view_module": "@jupyter-widgets/base",
            "_view_module_version": "1.2.0",
            "_view_name": "StyleView",
            "description_width": ""
          }
        },
        "f2cee78029ab4da3af443cf26bea8f2d": {
          "model_module": "@jupyter-widgets/controls",
          "model_name": "HBoxModel",
          "model_module_version": "1.5.0",
          "state": {
            "_dom_classes": [],
            "_model_module": "@jupyter-widgets/controls",
            "_model_module_version": "1.5.0",
            "_model_name": "HBoxModel",
            "_view_count": null,
            "_view_module": "@jupyter-widgets/controls",
            "_view_module_version": "1.5.0",
            "_view_name": "HBoxView",
            "box_style": "",
            "children": [
              "IPY_MODEL_6fe155610e434d63a1c24d1fbff55bb1",
              "IPY_MODEL_1885913b6db449a69649302c92225ef2",
              "IPY_MODEL_df26cc47e9f348f294ca7b2adc163c74"
            ],
            "layout": "IPY_MODEL_cafcb4b5258541d0bd2717e35e557158"
          }
        },
        "6fe155610e434d63a1c24d1fbff55bb1": {
          "model_module": "@jupyter-widgets/controls",
          "model_name": "HTMLModel",
          "model_module_version": "1.5.0",
          "state": {
            "_dom_classes": [],
            "_model_module": "@jupyter-widgets/controls",
            "_model_module_version": "1.5.0",
            "_model_name": "HTMLModel",
            "_view_count": null,
            "_view_module": "@jupyter-widgets/controls",
            "_view_module_version": "1.5.0",
            "_view_name": "HTMLView",
            "description": "",
            "description_tooltip": null,
            "layout": "IPY_MODEL_2b409ff556264704825525d3ae268b6d",
            "placeholder": "​",
            "style": "IPY_MODEL_815d454a52c44eab8922440008d2289f",
            "value": "Shuffling ~/tensorflow_datasets/ag_news_subset/1.0.0.incompleteWM80DE/ag_news_subset-train.tfrecord*...:  84%"
          }
        },
        "1885913b6db449a69649302c92225ef2": {
          "model_module": "@jupyter-widgets/controls",
          "model_name": "FloatProgressModel",
          "model_module_version": "1.5.0",
          "state": {
            "_dom_classes": [],
            "_model_module": "@jupyter-widgets/controls",
            "_model_module_version": "1.5.0",
            "_model_name": "FloatProgressModel",
            "_view_count": null,
            "_view_module": "@jupyter-widgets/controls",
            "_view_module_version": "1.5.0",
            "_view_name": "ProgressView",
            "bar_style": "",
            "description": "",
            "description_tooltip": null,
            "layout": "IPY_MODEL_1c28611728674a7ca888cae419362561",
            "max": 120000,
            "min": 0,
            "orientation": "horizontal",
            "style": "IPY_MODEL_c6e8dab7fb3e4385bf65d020dd293d55",
            "value": 120000
          }
        },
        "df26cc47e9f348f294ca7b2adc163c74": {
          "model_module": "@jupyter-widgets/controls",
          "model_name": "HTMLModel",
          "model_module_version": "1.5.0",
          "state": {
            "_dom_classes": [],
            "_model_module": "@jupyter-widgets/controls",
            "_model_module_version": "1.5.0",
            "_model_name": "HTMLModel",
            "_view_count": null,
            "_view_module": "@jupyter-widgets/controls",
            "_view_module_version": "1.5.0",
            "_view_name": "HTMLView",
            "description": "",
            "description_tooltip": null,
            "layout": "IPY_MODEL_5e702aafe00e42408b798396146cf72f",
            "placeholder": "​",
            "style": "IPY_MODEL_58dd03aa391e4b4fae2706c73681bdb8",
            "value": " 100780/120000 [00:00&lt;00:00, 257274.12 examples/s]"
          }
        },
        "cafcb4b5258541d0bd2717e35e557158": {
          "model_module": "@jupyter-widgets/base",
          "model_name": "LayoutModel",
          "model_module_version": "1.2.0",
          "state": {
            "_model_module": "@jupyter-widgets/base",
            "_model_module_version": "1.2.0",
            "_model_name": "LayoutModel",
            "_view_count": null,
            "_view_module": "@jupyter-widgets/base",
            "_view_module_version": "1.2.0",
            "_view_name": "LayoutView",
            "align_content": null,
            "align_items": null,
            "align_self": null,
            "border": null,
            "bottom": null,
            "display": null,
            "flex": null,
            "flex_flow": null,
            "grid_area": null,
            "grid_auto_columns": null,
            "grid_auto_flow": null,
            "grid_auto_rows": null,
            "grid_column": null,
            "grid_gap": null,
            "grid_row": null,
            "grid_template_areas": null,
            "grid_template_columns": null,
            "grid_template_rows": null,
            "height": null,
            "justify_content": null,
            "justify_items": null,
            "left": null,
            "margin": null,
            "max_height": null,
            "max_width": null,
            "min_height": null,
            "min_width": null,
            "object_fit": null,
            "object_position": null,
            "order": null,
            "overflow": null,
            "overflow_x": null,
            "overflow_y": null,
            "padding": null,
            "right": null,
            "top": null,
            "visibility": null,
            "width": null
          }
        },
        "2b409ff556264704825525d3ae268b6d": {
          "model_module": "@jupyter-widgets/base",
          "model_name": "LayoutModel",
          "model_module_version": "1.2.0",
          "state": {
            "_model_module": "@jupyter-widgets/base",
            "_model_module_version": "1.2.0",
            "_model_name": "LayoutModel",
            "_view_count": null,
            "_view_module": "@jupyter-widgets/base",
            "_view_module_version": "1.2.0",
            "_view_name": "LayoutView",
            "align_content": null,
            "align_items": null,
            "align_self": null,
            "border": null,
            "bottom": null,
            "display": null,
            "flex": null,
            "flex_flow": null,
            "grid_area": null,
            "grid_auto_columns": null,
            "grid_auto_flow": null,
            "grid_auto_rows": null,
            "grid_column": null,
            "grid_gap": null,
            "grid_row": null,
            "grid_template_areas": null,
            "grid_template_columns": null,
            "grid_template_rows": null,
            "height": null,
            "justify_content": null,
            "justify_items": null,
            "left": null,
            "margin": null,
            "max_height": null,
            "max_width": null,
            "min_height": null,
            "min_width": null,
            "object_fit": null,
            "object_position": null,
            "order": null,
            "overflow": null,
            "overflow_x": null,
            "overflow_y": null,
            "padding": null,
            "right": null,
            "top": null,
            "visibility": null,
            "width": null
          }
        },
        "815d454a52c44eab8922440008d2289f": {
          "model_module": "@jupyter-widgets/controls",
          "model_name": "DescriptionStyleModel",
          "model_module_version": "1.5.0",
          "state": {
            "_model_module": "@jupyter-widgets/controls",
            "_model_module_version": "1.5.0",
            "_model_name": "DescriptionStyleModel",
            "_view_count": null,
            "_view_module": "@jupyter-widgets/base",
            "_view_module_version": "1.2.0",
            "_view_name": "StyleView",
            "description_width": ""
          }
        },
        "1c28611728674a7ca888cae419362561": {
          "model_module": "@jupyter-widgets/base",
          "model_name": "LayoutModel",
          "model_module_version": "1.2.0",
          "state": {
            "_model_module": "@jupyter-widgets/base",
            "_model_module_version": "1.2.0",
            "_model_name": "LayoutModel",
            "_view_count": null,
            "_view_module": "@jupyter-widgets/base",
            "_view_module_version": "1.2.0",
            "_view_name": "LayoutView",
            "align_content": null,
            "align_items": null,
            "align_self": null,
            "border": null,
            "bottom": null,
            "display": null,
            "flex": null,
            "flex_flow": null,
            "grid_area": null,
            "grid_auto_columns": null,
            "grid_auto_flow": null,
            "grid_auto_rows": null,
            "grid_column": null,
            "grid_gap": null,
            "grid_row": null,
            "grid_template_areas": null,
            "grid_template_columns": null,
            "grid_template_rows": null,
            "height": null,
            "justify_content": null,
            "justify_items": null,
            "left": null,
            "margin": null,
            "max_height": null,
            "max_width": null,
            "min_height": null,
            "min_width": null,
            "object_fit": null,
            "object_position": null,
            "order": null,
            "overflow": null,
            "overflow_x": null,
            "overflow_y": null,
            "padding": null,
            "right": null,
            "top": null,
            "visibility": null,
            "width": null
          }
        },
        "c6e8dab7fb3e4385bf65d020dd293d55": {
          "model_module": "@jupyter-widgets/controls",
          "model_name": "ProgressStyleModel",
          "model_module_version": "1.5.0",
          "state": {
            "_model_module": "@jupyter-widgets/controls",
            "_model_module_version": "1.5.0",
            "_model_name": "ProgressStyleModel",
            "_view_count": null,
            "_view_module": "@jupyter-widgets/base",
            "_view_module_version": "1.2.0",
            "_view_name": "StyleView",
            "bar_color": null,
            "description_width": ""
          }
        },
        "5e702aafe00e42408b798396146cf72f": {
          "model_module": "@jupyter-widgets/base",
          "model_name": "LayoutModel",
          "model_module_version": "1.2.0",
          "state": {
            "_model_module": "@jupyter-widgets/base",
            "_model_module_version": "1.2.0",
            "_model_name": "LayoutModel",
            "_view_count": null,
            "_view_module": "@jupyter-widgets/base",
            "_view_module_version": "1.2.0",
            "_view_name": "LayoutView",
            "align_content": null,
            "align_items": null,
            "align_self": null,
            "border": null,
            "bottom": null,
            "display": null,
            "flex": null,
            "flex_flow": null,
            "grid_area": null,
            "grid_auto_columns": null,
            "grid_auto_flow": null,
            "grid_auto_rows": null,
            "grid_column": null,
            "grid_gap": null,
            "grid_row": null,
            "grid_template_areas": null,
            "grid_template_columns": null,
            "grid_template_rows": null,
            "height": null,
            "justify_content": null,
            "justify_items": null,
            "left": null,
            "margin": null,
            "max_height": null,
            "max_width": null,
            "min_height": null,
            "min_width": null,
            "object_fit": null,
            "object_position": null,
            "order": null,
            "overflow": null,
            "overflow_x": null,
            "overflow_y": null,
            "padding": null,
            "right": null,
            "top": null,
            "visibility": null,
            "width": null
          }
        },
        "58dd03aa391e4b4fae2706c73681bdb8": {
          "model_module": "@jupyter-widgets/controls",
          "model_name": "DescriptionStyleModel",
          "model_module_version": "1.5.0",
          "state": {
            "_model_module": "@jupyter-widgets/controls",
            "_model_module_version": "1.5.0",
            "_model_name": "DescriptionStyleModel",
            "_view_count": null,
            "_view_module": "@jupyter-widgets/base",
            "_view_module_version": "1.2.0",
            "_view_name": "StyleView",
            "description_width": ""
          }
        },
        "c2113b04d1e241d298f3234bf370f4c0": {
          "model_module": "@jupyter-widgets/controls",
          "model_name": "HBoxModel",
          "model_module_version": "1.5.0",
          "state": {
            "_dom_classes": [],
            "_model_module": "@jupyter-widgets/controls",
            "_model_module_version": "1.5.0",
            "_model_name": "HBoxModel",
            "_view_count": null,
            "_view_module": "@jupyter-widgets/controls",
            "_view_module_version": "1.5.0",
            "_view_name": "HBoxView",
            "box_style": "",
            "children": [
              "IPY_MODEL_4d7e01147f3d4dbda8a38cc626631756",
              "IPY_MODEL_b0a3b91c26854d42821c03de7411be85",
              "IPY_MODEL_4c2489d7f99843a08efa0870214136b2"
            ],
            "layout": "IPY_MODEL_5b861b3b67314b049b34b0a16eb436bb"
          }
        },
        "4d7e01147f3d4dbda8a38cc626631756": {
          "model_module": "@jupyter-widgets/controls",
          "model_name": "HTMLModel",
          "model_module_version": "1.5.0",
          "state": {
            "_dom_classes": [],
            "_model_module": "@jupyter-widgets/controls",
            "_model_module_version": "1.5.0",
            "_model_name": "HTMLModel",
            "_view_count": null,
            "_view_module": "@jupyter-widgets/controls",
            "_view_module_version": "1.5.0",
            "_view_name": "HTMLView",
            "description": "",
            "description_tooltip": null,
            "layout": "IPY_MODEL_63478e81f3044139940718d307e1d842",
            "placeholder": "​",
            "style": "IPY_MODEL_a5f10745006c40aca273642b941e2ddb",
            "value": "Generating test examples...:  94%"
          }
        },
        "b0a3b91c26854d42821c03de7411be85": {
          "model_module": "@jupyter-widgets/controls",
          "model_name": "FloatProgressModel",
          "model_module_version": "1.5.0",
          "state": {
            "_dom_classes": [],
            "_model_module": "@jupyter-widgets/controls",
            "_model_module_version": "1.5.0",
            "_model_name": "FloatProgressModel",
            "_view_count": null,
            "_view_module": "@jupyter-widgets/controls",
            "_view_module_version": "1.5.0",
            "_view_name": "ProgressView",
            "bar_style": "",
            "description": "",
            "description_tooltip": null,
            "layout": "IPY_MODEL_f9dc96c1293a4913a80568b00ba3f1af",
            "max": 7600,
            "min": 0,
            "orientation": "horizontal",
            "style": "IPY_MODEL_5e9450f9b56b4c1d8c7c6508af33bca7",
            "value": 7600
          }
        },
        "4c2489d7f99843a08efa0870214136b2": {
          "model_module": "@jupyter-widgets/controls",
          "model_name": "HTMLModel",
          "model_module_version": "1.5.0",
          "state": {
            "_dom_classes": [],
            "_model_module": "@jupyter-widgets/controls",
            "_model_module_version": "1.5.0",
            "_model_name": "HTMLModel",
            "_view_count": null,
            "_view_module": "@jupyter-widgets/controls",
            "_view_module_version": "1.5.0",
            "_view_name": "HTMLView",
            "description": "",
            "description_tooltip": null,
            "layout": "IPY_MODEL_14b3ed5a302541c2a274500b22b4cd5f",
            "placeholder": "​",
            "style": "IPY_MODEL_f80a1f4e0208482ebbea1e20a5712764",
            "value": " 7140/7600 [00:01&lt;00:00, 5819.98 examples/s]"
          }
        },
        "5b861b3b67314b049b34b0a16eb436bb": {
          "model_module": "@jupyter-widgets/base",
          "model_name": "LayoutModel",
          "model_module_version": "1.2.0",
          "state": {
            "_model_module": "@jupyter-widgets/base",
            "_model_module_version": "1.2.0",
            "_model_name": "LayoutModel",
            "_view_count": null,
            "_view_module": "@jupyter-widgets/base",
            "_view_module_version": "1.2.0",
            "_view_name": "LayoutView",
            "align_content": null,
            "align_items": null,
            "align_self": null,
            "border": null,
            "bottom": null,
            "display": null,
            "flex": null,
            "flex_flow": null,
            "grid_area": null,
            "grid_auto_columns": null,
            "grid_auto_flow": null,
            "grid_auto_rows": null,
            "grid_column": null,
            "grid_gap": null,
            "grid_row": null,
            "grid_template_areas": null,
            "grid_template_columns": null,
            "grid_template_rows": null,
            "height": null,
            "justify_content": null,
            "justify_items": null,
            "left": null,
            "margin": null,
            "max_height": null,
            "max_width": null,
            "min_height": null,
            "min_width": null,
            "object_fit": null,
            "object_position": null,
            "order": null,
            "overflow": null,
            "overflow_x": null,
            "overflow_y": null,
            "padding": null,
            "right": null,
            "top": null,
            "visibility": null,
            "width": null
          }
        },
        "63478e81f3044139940718d307e1d842": {
          "model_module": "@jupyter-widgets/base",
          "model_name": "LayoutModel",
          "model_module_version": "1.2.0",
          "state": {
            "_model_module": "@jupyter-widgets/base",
            "_model_module_version": "1.2.0",
            "_model_name": "LayoutModel",
            "_view_count": null,
            "_view_module": "@jupyter-widgets/base",
            "_view_module_version": "1.2.0",
            "_view_name": "LayoutView",
            "align_content": null,
            "align_items": null,
            "align_self": null,
            "border": null,
            "bottom": null,
            "display": null,
            "flex": null,
            "flex_flow": null,
            "grid_area": null,
            "grid_auto_columns": null,
            "grid_auto_flow": null,
            "grid_auto_rows": null,
            "grid_column": null,
            "grid_gap": null,
            "grid_row": null,
            "grid_template_areas": null,
            "grid_template_columns": null,
            "grid_template_rows": null,
            "height": null,
            "justify_content": null,
            "justify_items": null,
            "left": null,
            "margin": null,
            "max_height": null,
            "max_width": null,
            "min_height": null,
            "min_width": null,
            "object_fit": null,
            "object_position": null,
            "order": null,
            "overflow": null,
            "overflow_x": null,
            "overflow_y": null,
            "padding": null,
            "right": null,
            "top": null,
            "visibility": null,
            "width": null
          }
        },
        "a5f10745006c40aca273642b941e2ddb": {
          "model_module": "@jupyter-widgets/controls",
          "model_name": "DescriptionStyleModel",
          "model_module_version": "1.5.0",
          "state": {
            "_model_module": "@jupyter-widgets/controls",
            "_model_module_version": "1.5.0",
            "_model_name": "DescriptionStyleModel",
            "_view_count": null,
            "_view_module": "@jupyter-widgets/base",
            "_view_module_version": "1.2.0",
            "_view_name": "StyleView",
            "description_width": ""
          }
        },
        "f9dc96c1293a4913a80568b00ba3f1af": {
          "model_module": "@jupyter-widgets/base",
          "model_name": "LayoutModel",
          "model_module_version": "1.2.0",
          "state": {
            "_model_module": "@jupyter-widgets/base",
            "_model_module_version": "1.2.0",
            "_model_name": "LayoutModel",
            "_view_count": null,
            "_view_module": "@jupyter-widgets/base",
            "_view_module_version": "1.2.0",
            "_view_name": "LayoutView",
            "align_content": null,
            "align_items": null,
            "align_self": null,
            "border": null,
            "bottom": null,
            "display": null,
            "flex": null,
            "flex_flow": null,
            "grid_area": null,
            "grid_auto_columns": null,
            "grid_auto_flow": null,
            "grid_auto_rows": null,
            "grid_column": null,
            "grid_gap": null,
            "grid_row": null,
            "grid_template_areas": null,
            "grid_template_columns": null,
            "grid_template_rows": null,
            "height": null,
            "justify_content": null,
            "justify_items": null,
            "left": null,
            "margin": null,
            "max_height": null,
            "max_width": null,
            "min_height": null,
            "min_width": null,
            "object_fit": null,
            "object_position": null,
            "order": null,
            "overflow": null,
            "overflow_x": null,
            "overflow_y": null,
            "padding": null,
            "right": null,
            "top": null,
            "visibility": null,
            "width": null
          }
        },
        "5e9450f9b56b4c1d8c7c6508af33bca7": {
          "model_module": "@jupyter-widgets/controls",
          "model_name": "ProgressStyleModel",
          "model_module_version": "1.5.0",
          "state": {
            "_model_module": "@jupyter-widgets/controls",
            "_model_module_version": "1.5.0",
            "_model_name": "ProgressStyleModel",
            "_view_count": null,
            "_view_module": "@jupyter-widgets/base",
            "_view_module_version": "1.2.0",
            "_view_name": "StyleView",
            "bar_color": null,
            "description_width": ""
          }
        },
        "14b3ed5a302541c2a274500b22b4cd5f": {
          "model_module": "@jupyter-widgets/base",
          "model_name": "LayoutModel",
          "model_module_version": "1.2.0",
          "state": {
            "_model_module": "@jupyter-widgets/base",
            "_model_module_version": "1.2.0",
            "_model_name": "LayoutModel",
            "_view_count": null,
            "_view_module": "@jupyter-widgets/base",
            "_view_module_version": "1.2.0",
            "_view_name": "LayoutView",
            "align_content": null,
            "align_items": null,
            "align_self": null,
            "border": null,
            "bottom": null,
            "display": null,
            "flex": null,
            "flex_flow": null,
            "grid_area": null,
            "grid_auto_columns": null,
            "grid_auto_flow": null,
            "grid_auto_rows": null,
            "grid_column": null,
            "grid_gap": null,
            "grid_row": null,
            "grid_template_areas": null,
            "grid_template_columns": null,
            "grid_template_rows": null,
            "height": null,
            "justify_content": null,
            "justify_items": null,
            "left": null,
            "margin": null,
            "max_height": null,
            "max_width": null,
            "min_height": null,
            "min_width": null,
            "object_fit": null,
            "object_position": null,
            "order": null,
            "overflow": null,
            "overflow_x": null,
            "overflow_y": null,
            "padding": null,
            "right": null,
            "top": null,
            "visibility": null,
            "width": null
          }
        },
        "f80a1f4e0208482ebbea1e20a5712764": {
          "model_module": "@jupyter-widgets/controls",
          "model_name": "DescriptionStyleModel",
          "model_module_version": "1.5.0",
          "state": {
            "_model_module": "@jupyter-widgets/controls",
            "_model_module_version": "1.5.0",
            "_model_name": "DescriptionStyleModel",
            "_view_count": null,
            "_view_module": "@jupyter-widgets/base",
            "_view_module_version": "1.2.0",
            "_view_name": "StyleView",
            "description_width": ""
          }
        },
        "9d83375ace7246f09183c0d146a622e3": {
          "model_module": "@jupyter-widgets/controls",
          "model_name": "HBoxModel",
          "model_module_version": "1.5.0",
          "state": {
            "_dom_classes": [],
            "_model_module": "@jupyter-widgets/controls",
            "_model_module_version": "1.5.0",
            "_model_name": "HBoxModel",
            "_view_count": null,
            "_view_module": "@jupyter-widgets/controls",
            "_view_module_version": "1.5.0",
            "_view_name": "HBoxView",
            "box_style": "",
            "children": [
              "IPY_MODEL_aac14d26964b4a0d9380d25312f04d37",
              "IPY_MODEL_4cf1c7c5772e4b4596fb939288417d0d",
              "IPY_MODEL_b35a6b8077584e73939f5d21fee26a6d"
            ],
            "layout": "IPY_MODEL_a210321e904645d0b119c794d76a7818"
          }
        },
        "aac14d26964b4a0d9380d25312f04d37": {
          "model_module": "@jupyter-widgets/controls",
          "model_name": "HTMLModel",
          "model_module_version": "1.5.0",
          "state": {
            "_dom_classes": [],
            "_model_module": "@jupyter-widgets/controls",
            "_model_module_version": "1.5.0",
            "_model_name": "HTMLModel",
            "_view_count": null,
            "_view_module": "@jupyter-widgets/controls",
            "_view_module_version": "1.5.0",
            "_view_name": "HTMLView",
            "description": "",
            "description_tooltip": null,
            "layout": "IPY_MODEL_85412aee2282498b9c96a190de3e8728",
            "placeholder": "​",
            "style": "IPY_MODEL_1c70e66952b94b73a3812c3501eb9abe",
            "value": "Shuffling ~/tensorflow_datasets/ag_news_subset/1.0.0.incompleteWM80DE/ag_news_subset-test.tfrecord*...:   0%"
          }
        },
        "4cf1c7c5772e4b4596fb939288417d0d": {
          "model_module": "@jupyter-widgets/controls",
          "model_name": "FloatProgressModel",
          "model_module_version": "1.5.0",
          "state": {
            "_dom_classes": [],
            "_model_module": "@jupyter-widgets/controls",
            "_model_module_version": "1.5.0",
            "_model_name": "FloatProgressModel",
            "_view_count": null,
            "_view_module": "@jupyter-widgets/controls",
            "_view_module_version": "1.5.0",
            "_view_name": "ProgressView",
            "bar_style": "",
            "description": "",
            "description_tooltip": null,
            "layout": "IPY_MODEL_e4f4d7742bbb41ad94b028ef043114fd",
            "max": 7600,
            "min": 0,
            "orientation": "horizontal",
            "style": "IPY_MODEL_a7ee031abe854435898caa8200137160",
            "value": 7600
          }
        },
        "b35a6b8077584e73939f5d21fee26a6d": {
          "model_module": "@jupyter-widgets/controls",
          "model_name": "HTMLModel",
          "model_module_version": "1.5.0",
          "state": {
            "_dom_classes": [],
            "_model_module": "@jupyter-widgets/controls",
            "_model_module_version": "1.5.0",
            "_model_name": "HTMLModel",
            "_view_count": null,
            "_view_module": "@jupyter-widgets/controls",
            "_view_module_version": "1.5.0",
            "_view_name": "HTMLView",
            "description": "",
            "description_tooltip": null,
            "layout": "IPY_MODEL_54694d63814b459da000c4b469d21c94",
            "placeholder": "​",
            "style": "IPY_MODEL_952a6e043612465a99d6aca92fda98c9",
            "value": " 0/7600 [00:00&lt;?, ? examples/s]"
          }
        },
        "a210321e904645d0b119c794d76a7818": {
          "model_module": "@jupyter-widgets/base",
          "model_name": "LayoutModel",
          "model_module_version": "1.2.0",
          "state": {
            "_model_module": "@jupyter-widgets/base",
            "_model_module_version": "1.2.0",
            "_model_name": "LayoutModel",
            "_view_count": null,
            "_view_module": "@jupyter-widgets/base",
            "_view_module_version": "1.2.0",
            "_view_name": "LayoutView",
            "align_content": null,
            "align_items": null,
            "align_self": null,
            "border": null,
            "bottom": null,
            "display": null,
            "flex": null,
            "flex_flow": null,
            "grid_area": null,
            "grid_auto_columns": null,
            "grid_auto_flow": null,
            "grid_auto_rows": null,
            "grid_column": null,
            "grid_gap": null,
            "grid_row": null,
            "grid_template_areas": null,
            "grid_template_columns": null,
            "grid_template_rows": null,
            "height": null,
            "justify_content": null,
            "justify_items": null,
            "left": null,
            "margin": null,
            "max_height": null,
            "max_width": null,
            "min_height": null,
            "min_width": null,
            "object_fit": null,
            "object_position": null,
            "order": null,
            "overflow": null,
            "overflow_x": null,
            "overflow_y": null,
            "padding": null,
            "right": null,
            "top": null,
            "visibility": null,
            "width": null
          }
        },
        "85412aee2282498b9c96a190de3e8728": {
          "model_module": "@jupyter-widgets/base",
          "model_name": "LayoutModel",
          "model_module_version": "1.2.0",
          "state": {
            "_model_module": "@jupyter-widgets/base",
            "_model_module_version": "1.2.0",
            "_model_name": "LayoutModel",
            "_view_count": null,
            "_view_module": "@jupyter-widgets/base",
            "_view_module_version": "1.2.0",
            "_view_name": "LayoutView",
            "align_content": null,
            "align_items": null,
            "align_self": null,
            "border": null,
            "bottom": null,
            "display": null,
            "flex": null,
            "flex_flow": null,
            "grid_area": null,
            "grid_auto_columns": null,
            "grid_auto_flow": null,
            "grid_auto_rows": null,
            "grid_column": null,
            "grid_gap": null,
            "grid_row": null,
            "grid_template_areas": null,
            "grid_template_columns": null,
            "grid_template_rows": null,
            "height": null,
            "justify_content": null,
            "justify_items": null,
            "left": null,
            "margin": null,
            "max_height": null,
            "max_width": null,
            "min_height": null,
            "min_width": null,
            "object_fit": null,
            "object_position": null,
            "order": null,
            "overflow": null,
            "overflow_x": null,
            "overflow_y": null,
            "padding": null,
            "right": null,
            "top": null,
            "visibility": null,
            "width": null
          }
        },
        "1c70e66952b94b73a3812c3501eb9abe": {
          "model_module": "@jupyter-widgets/controls",
          "model_name": "DescriptionStyleModel",
          "model_module_version": "1.5.0",
          "state": {
            "_model_module": "@jupyter-widgets/controls",
            "_model_module_version": "1.5.0",
            "_model_name": "DescriptionStyleModel",
            "_view_count": null,
            "_view_module": "@jupyter-widgets/base",
            "_view_module_version": "1.2.0",
            "_view_name": "StyleView",
            "description_width": ""
          }
        },
        "e4f4d7742bbb41ad94b028ef043114fd": {
          "model_module": "@jupyter-widgets/base",
          "model_name": "LayoutModel",
          "model_module_version": "1.2.0",
          "state": {
            "_model_module": "@jupyter-widgets/base",
            "_model_module_version": "1.2.0",
            "_model_name": "LayoutModel",
            "_view_count": null,
            "_view_module": "@jupyter-widgets/base",
            "_view_module_version": "1.2.0",
            "_view_name": "LayoutView",
            "align_content": null,
            "align_items": null,
            "align_self": null,
            "border": null,
            "bottom": null,
            "display": null,
            "flex": null,
            "flex_flow": null,
            "grid_area": null,
            "grid_auto_columns": null,
            "grid_auto_flow": null,
            "grid_auto_rows": null,
            "grid_column": null,
            "grid_gap": null,
            "grid_row": null,
            "grid_template_areas": null,
            "grid_template_columns": null,
            "grid_template_rows": null,
            "height": null,
            "justify_content": null,
            "justify_items": null,
            "left": null,
            "margin": null,
            "max_height": null,
            "max_width": null,
            "min_height": null,
            "min_width": null,
            "object_fit": null,
            "object_position": null,
            "order": null,
            "overflow": null,
            "overflow_x": null,
            "overflow_y": null,
            "padding": null,
            "right": null,
            "top": null,
            "visibility": null,
            "width": null
          }
        },
        "a7ee031abe854435898caa8200137160": {
          "model_module": "@jupyter-widgets/controls",
          "model_name": "ProgressStyleModel",
          "model_module_version": "1.5.0",
          "state": {
            "_model_module": "@jupyter-widgets/controls",
            "_model_module_version": "1.5.0",
            "_model_name": "ProgressStyleModel",
            "_view_count": null,
            "_view_module": "@jupyter-widgets/base",
            "_view_module_version": "1.2.0",
            "_view_name": "StyleView",
            "bar_color": null,
            "description_width": ""
          }
        },
        "54694d63814b459da000c4b469d21c94": {
          "model_module": "@jupyter-widgets/base",
          "model_name": "LayoutModel",
          "model_module_version": "1.2.0",
          "state": {
            "_model_module": "@jupyter-widgets/base",
            "_model_module_version": "1.2.0",
            "_model_name": "LayoutModel",
            "_view_count": null,
            "_view_module": "@jupyter-widgets/base",
            "_view_module_version": "1.2.0",
            "_view_name": "LayoutView",
            "align_content": null,
            "align_items": null,
            "align_self": null,
            "border": null,
            "bottom": null,
            "display": null,
            "flex": null,
            "flex_flow": null,
            "grid_area": null,
            "grid_auto_columns": null,
            "grid_auto_flow": null,
            "grid_auto_rows": null,
            "grid_column": null,
            "grid_gap": null,
            "grid_row": null,
            "grid_template_areas": null,
            "grid_template_columns": null,
            "grid_template_rows": null,
            "height": null,
            "justify_content": null,
            "justify_items": null,
            "left": null,
            "margin": null,
            "max_height": null,
            "max_width": null,
            "min_height": null,
            "min_width": null,
            "object_fit": null,
            "object_position": null,
            "order": null,
            "overflow": null,
            "overflow_x": null,
            "overflow_y": null,
            "padding": null,
            "right": null,
            "top": null,
            "visibility": null,
            "width": null
          }
        },
        "952a6e043612465a99d6aca92fda98c9": {
          "model_module": "@jupyter-widgets/controls",
          "model_name": "DescriptionStyleModel",
          "model_module_version": "1.5.0",
          "state": {
            "_model_module": "@jupyter-widgets/controls",
            "_model_module_version": "1.5.0",
            "_model_name": "DescriptionStyleModel",
            "_view_count": null,
            "_view_module": "@jupyter-widgets/base",
            "_view_module_version": "1.2.0",
            "_view_name": "StyleView",
            "description_width": ""
          }
        }
      }
    }
  },
  "cells": [
    {
      "cell_type": "markdown",
      "source": [
        "#**Deep Learning Homework 2: *Optimize and Train Deep Models***\n",
        "---"
      ],
      "metadata": {
        "id": "raUKrVPW0SO1"
      }
    },
    {
      "cell_type": "markdown",
      "metadata": {
        "id": "QUc9frYnVBI_"
      },
      "source": [
        "In this homework, we will explore how to develop a simple Deep Neural Network for a classification problem. We will explore two common libraries: TensorFlow and Keras.\n",
        "Then we will explore how to face a well known problem that is common to encounter during the training phase: the Overfitting.\n",
        "Finally, we will study how to perform a fair model selection."
      ]
    },
    {
      "cell_type": "markdown",
      "metadata": {
        "id": "e-Nc7mFSVEiU"
      },
      "source": [
        "##Exercise 2.1: Text Classification with Tensorflow and Keras\n",
        "\n",
        "In this first exercise we will develop a 3 layers Neural Network to perform classification.\n",
        "\n",
        "Let's start importing the libraries we will need and setting a couple of environmental variables.\n"
      ]
    },
    {
      "cell_type": "code",
      "metadata": {
        "id": "bWn9FzneVqJo"
      },
      "source": [
        "import matplotlib as mpl\n",
        "import matplotlib.pyplot as plt\n",
        "import numpy as np\n",
        "import os\n",
        "import pandas as pd\n",
        "import sklearn\n",
        "import sys\n",
        "import tensorflow as tf\n",
        "from tensorflow import keras  # tf.keras\n",
        "import tensorflow_datasets as tfds\n",
        "import time\n",
        "\n",
        "import logging\n",
        "logging.disable(logging.WARNING)\n",
        "os.environ[\"TF_CPP_MIN_LOG_LEVEL\"] = \"3\" \n",
        "\n",
        "tf.random.set_seed(42)\n",
        "# os.environ['TF_DETERMINISTIC_OPS']='1'"
      ],
      "execution_count": 1,
      "outputs": []
    },
    {
      "cell_type": "markdown",
      "metadata": {
        "id": "LT2HMYDEXcx0"
      },
      "source": [
        "### Load Data: AG News Subset\n",
        "\n",
        "In this HW, we use the AG News Subset that is available in Tensorflow Dataset. The AG's news topic classification dataset is constructed by choosing the 4 largest topic classes from a larger news corpus. The total number of training samples is 120,000 and testing 7,600. Each class contains 30,000 training samples and 1,900 testing samples. Each sample contains both the title and an excerpt of the article, but in this exercise we will use only the excerpt as input.\n",
        "\n",
        "We will split the training set into two 90%-10% splits in order to have a validation set."
      ]
    },
    {
      "cell_type": "code",
      "source": [
        "### NOTE ### \n",
        "# running this cell might yield download-related errors.\n",
        "# just repeating the execution a couple of times should solve the error.\n",
        "\n",
        "train_ds, valid_ds, test_ds = tfds.load('ag_news_subset',\n",
        "                                        as_supervised=True, # return a set of (text, label) tuples \n",
        "                                        split=['train[:90%]', 'train[-10%:]', 'test'],\n",
        "                                        batch_size=-1)  \n",
        "                                        # ^ using batch_size=-1 returns Tensors instead of Dataset objects"
      ],
      "metadata": {
        "id": "d8xZASzs26zD",
        "colab": {
          "base_uri": "https://localhost:8080/",
          "height": 148,
          "referenced_widgets": [
            "60025fd332d447e1b44adba86ab128b5",
            "c8cd4d47ab12482892483b4b445dde3a",
            "ea95576a72b1480398f0ac31c4194e50",
            "c98e8a3caf3c43bea56bc6b2ad7d572f",
            "a4e2d36430984269a44baa1a828069b2",
            "fc8b077886e24f2e9b1befbeeebe736b",
            "0a2bc6e236834ffc88d1f0b4e9b84158",
            "80e91d2b4820404b907d52cd078d14fe",
            "1cec6ac8383a405fa9739e03341d2ab1",
            "5ce82b30d9684e8bb617faca4126b7de",
            "5aa43d295bc74627ac82db80251c561c",
            "30e2aa06c5674c888f22055c259cdc10",
            "423bc0a64c85416e9056d1f5b4d1ee10",
            "6e64ac6517724011a6c15c91d01c88d6",
            "edc748e03aba4a098e47e28a4ad2fa9a",
            "ade49545bf1a4c6d910c197815f15fad",
            "f73aac3336ef4739ad5ab1ee50fc009d",
            "89cae1d380bb425fa7c787bcb38338e4",
            "bdb03455f1bc4c7a8d361bd6e1bd2d6b",
            "1ddfaceeef3f444a9936bf38d79cb231",
            "48e116f15a9742d48e9b8ec876fc52b0",
            "a5425d63bf874721bd8629d568d695ee",
            "86c6d6195dd348f594c54c5823fb7d83",
            "d7d135b3842146f5ac651a56740c3505",
            "1b04dc1101bc4a639d5824b32656f3cf",
            "a3870a16ee9b4a2885a8ab36d1767fb6",
            "f2416ac42a5c4641baedb34bcd2e614f",
            "390266823e3c4580b083c555a26b3ff1",
            "2e9ea55276dc4688bff0f88920224a79",
            "2a33549a32bf4fe99ac08aa36d60689f",
            "3588fc626df545c39ff2775bbdf6578e",
            "18a9e45c8dea4404ace0953e09656919",
            "6a4042e4974c449589ed42cc3b8c7e05",
            "2d057610d4834b2e8243c96afdcd3914",
            "4123bc46d1b2485f85f63579386fde63",
            "b59a611c507743c9ba3d9404f6298e5a",
            "deb3e3c94ad44a039fad5937117eca01",
            "e21c16711ca84d83847dd302f63c3532",
            "d2e2c0c6573b46869fcf48fc3973bcc6",
            "a0b7e9c3d0a342df8f983361d18a6721",
            "acedaafed90f46878097058594499767",
            "24f15b3ec78546df8469df8043410127",
            "62e974a881a14cb3a0f7724a36636079",
            "a8230101549148febb733f4fd5d37904",
            "0148ad2844eb4448987701dbcb4fd099",
            "cf0ab3972fb343fca69fa5ea4ec02236",
            "648cc3177daa4c63b93e60896e2169d5",
            "552a55d09cbd43f9839b8bc415f3ffed",
            "f490a1ae12ac41d8b2f36021b30ef471",
            "fb27a4a124aa46519b1526eb5e2bf59a",
            "8ebf3c7237b44eca8095061e2fb8a878",
            "1d5889325a1e49e382363f11e654a3b3",
            "210f22ce432c48b9a58a7bab83779ce1",
            "f9c6645514e041ee91e4e52d0dd9dd16",
            "90c19576d77d4ce0a32aaa15b5076e3f",
            "f2cee78029ab4da3af443cf26bea8f2d",
            "6fe155610e434d63a1c24d1fbff55bb1",
            "1885913b6db449a69649302c92225ef2",
            "df26cc47e9f348f294ca7b2adc163c74",
            "cafcb4b5258541d0bd2717e35e557158",
            "2b409ff556264704825525d3ae268b6d",
            "815d454a52c44eab8922440008d2289f",
            "1c28611728674a7ca888cae419362561",
            "c6e8dab7fb3e4385bf65d020dd293d55",
            "5e702aafe00e42408b798396146cf72f",
            "58dd03aa391e4b4fae2706c73681bdb8",
            "c2113b04d1e241d298f3234bf370f4c0",
            "4d7e01147f3d4dbda8a38cc626631756",
            "b0a3b91c26854d42821c03de7411be85",
            "4c2489d7f99843a08efa0870214136b2",
            "5b861b3b67314b049b34b0a16eb436bb",
            "63478e81f3044139940718d307e1d842",
            "a5f10745006c40aca273642b941e2ddb",
            "f9dc96c1293a4913a80568b00ba3f1af",
            "5e9450f9b56b4c1d8c7c6508af33bca7",
            "14b3ed5a302541c2a274500b22b4cd5f",
            "f80a1f4e0208482ebbea1e20a5712764",
            "9d83375ace7246f09183c0d146a622e3",
            "aac14d26964b4a0d9380d25312f04d37",
            "4cf1c7c5772e4b4596fb939288417d0d",
            "b35a6b8077584e73939f5d21fee26a6d",
            "a210321e904645d0b119c794d76a7818",
            "85412aee2282498b9c96a190de3e8728",
            "1c70e66952b94b73a3812c3501eb9abe",
            "e4f4d7742bbb41ad94b028ef043114fd",
            "a7ee031abe854435898caa8200137160",
            "54694d63814b459da000c4b469d21c94",
            "952a6e043612465a99d6aca92fda98c9"
          ]
        },
        "outputId": "a5f82d63-23c4-4137-bf61-08a39a06f891"
      },
      "execution_count": 2,
      "outputs": [
        {
          "output_type": "stream",
          "name": "stdout",
          "text": [
            "\u001b[1mDownloading and preparing dataset 11.24 MiB (download: 11.24 MiB, generated: 35.79 MiB, total: 47.03 MiB) to ~/tensorflow_datasets/ag_news_subset/1.0.0...\u001b[0m\n"
          ]
        },
        {
          "output_type": "display_data",
          "data": {
            "text/plain": [
              "Dl Completed...: 0 url [00:00, ? url/s]"
            ],
            "application/vnd.jupyter.widget-view+json": {
              "version_major": 2,
              "version_minor": 0,
              "model_id": "60025fd332d447e1b44adba86ab128b5"
            }
          },
          "metadata": {}
        },
        {
          "output_type": "display_data",
          "data": {
            "text/plain": [
              "Dl Size...: 0 MiB [00:00, ? MiB/s]"
            ],
            "application/vnd.jupyter.widget-view+json": {
              "version_major": 2,
              "version_minor": 0,
              "model_id": "30e2aa06c5674c888f22055c259cdc10"
            }
          },
          "metadata": {}
        },
        {
          "output_type": "display_data",
          "data": {
            "text/plain": [
              "Extraction completed...: 0 file [00:00, ? file/s]"
            ],
            "application/vnd.jupyter.widget-view+json": {
              "version_major": 2,
              "version_minor": 0,
              "model_id": "86c6d6195dd348f594c54c5823fb7d83"
            }
          },
          "metadata": {}
        },
        {
          "output_type": "display_data",
          "data": {
            "text/plain": [
              "Generating splits...:   0%|          | 0/2 [00:00<?, ? splits/s]"
            ],
            "application/vnd.jupyter.widget-view+json": {
              "version_major": 2,
              "version_minor": 0,
              "model_id": "2d057610d4834b2e8243c96afdcd3914"
            }
          },
          "metadata": {}
        },
        {
          "output_type": "display_data",
          "data": {
            "text/plain": [
              "Generating train examples...:   0%|          | 0/120000 [00:00<?, ? examples/s]"
            ],
            "application/vnd.jupyter.widget-view+json": {
              "version_major": 2,
              "version_minor": 0,
              "model_id": "0148ad2844eb4448987701dbcb4fd099"
            }
          },
          "metadata": {}
        },
        {
          "output_type": "display_data",
          "data": {
            "text/plain": [
              "Shuffling ~/tensorflow_datasets/ag_news_subset/1.0.0.incompleteWM80DE/ag_news_subset-train.tfrecord*...:   0%|…"
            ],
            "application/vnd.jupyter.widget-view+json": {
              "version_major": 2,
              "version_minor": 0,
              "model_id": "f2cee78029ab4da3af443cf26bea8f2d"
            }
          },
          "metadata": {}
        },
        {
          "output_type": "display_data",
          "data": {
            "text/plain": [
              "Generating test examples...:   0%|          | 0/7600 [00:00<?, ? examples/s]"
            ],
            "application/vnd.jupyter.widget-view+json": {
              "version_major": 2,
              "version_minor": 0,
              "model_id": "c2113b04d1e241d298f3234bf370f4c0"
            }
          },
          "metadata": {}
        },
        {
          "output_type": "display_data",
          "data": {
            "text/plain": [
              "Shuffling ~/tensorflow_datasets/ag_news_subset/1.0.0.incompleteWM80DE/ag_news_subset-test.tfrecord*...:   0%| …"
            ],
            "application/vnd.jupyter.widget-view+json": {
              "version_major": 2,
              "version_minor": 0,
              "model_id": "9d83375ace7246f09183c0d146a622e3"
            }
          },
          "metadata": {}
        },
        {
          "output_type": "stream",
          "name": "stdout",
          "text": [
            "\u001b[1mDataset ag_news_subset downloaded and prepared to ~/tensorflow_datasets/ag_news_subset/1.0.0. Subsequent calls will reuse this data.\u001b[0m\n"
          ]
        }
      ]
    },
    {
      "cell_type": "code",
      "source": [
        "# Tensors have two elements, data and labels; let's split them\n",
        "# so we can transform the data\n",
        "X_train, y_train = train_ds\n",
        "X_valid, y_valid = valid_ds\n",
        "X_test, y_test = test_ds"
      ],
      "metadata": {
        "id": "BYkXCTv3NrvC"
      },
      "execution_count": 3,
      "outputs": []
    },
    {
      "cell_type": "markdown",
      "source": [
        "The AG News Subset dataset consists in news articles, each one composed by a sequence of words. In order to encode each article in a single tensor with a fixed number of elements, we will use multi-hot encoding. For testing purposes, we will only consider the first 10,000  most common words. Multi-hot-encoding our lists means turning them into vectors of 0s and 1s. Concretely, this would mean for instance turning the sequence [3, 5] into a 10,000-dimensional vector that would be all-zeros except for indices 3 and 5, which would be ones. The obtained input representation indicates which words are present (at least one time) in the sentence."
      ],
      "metadata": {
        "id": "8prUBtqq8JW7"
      }
    },
    {
      "cell_type": "code",
      "source": [
        "num_words = 1000\n",
        "vectorize_layer = tf.keras.layers.TextVectorization(\n",
        " max_tokens=num_words,\n",
        " standardize=\"lower_and_strip_punctuation\",\n",
        " split=\"whitespace\",\n",
        " output_mode='multi_hot',\n",
        " pad_to_max_tokens=True)\n",
        "\n",
        "vectorize_layer.adapt(X_train)"
      ],
      "metadata": {
        "id": "Brt087tDIDpe"
      },
      "execution_count": 4,
      "outputs": []
    },
    {
      "cell_type": "code",
      "source": [
        "X_train = vectorize_layer(X_train)\n",
        "X_valid = vectorize_layer(X_valid)\n",
        "X_test  = vectorize_layer(X_test)"
      ],
      "metadata": {
        "id": "seuFLH2lNiDT"
      },
      "execution_count": 5,
      "outputs": []
    },
    {
      "cell_type": "markdown",
      "metadata": {
        "id": "jGUg8TexZMNf"
      },
      "source": [
        "### Define the model:\n",
        "\n",
        "Let's build a Sequential model (`keras.models.Sequential`) and add four layers to it by calling its `add()` method:\n",
        "\n",
        "\n",
        "*   a input layer (`tf.keras.Input`) that is the first layer in your model. With this layer you should specify the `input_shape` argument, leaving out the batch size: `(num_words,)`;\n",
        "*  a Dense layer (`keras.layers.Dense`) with 16 neurons, and the \"relu\" activation function;\n",
        "* another Dense layer with 16 neurons, also with the \"relu\" activation function;\n",
        "* a final Dense layer with 4 output neurons, and with the \"softmax\" activation (since we considering a classification task with four classes)."
      ]
    },
    {
      "cell_type": "code",
      "metadata": {
        "id": "OaoEISyaZL56"
      },
      "source": [
        "model = keras.models.Sequential()\n",
        "model.add(tf.keras.Input(shape=(num_words,)))\n",
        "model.add(keras.layers.Dense(16, activation=\"relu\"))\n",
        "model.add(keras.layers.Dense(16, activation=\"relu\"))\n",
        "model.add(keras.layers.Dense(4, activation=\"softmax\"))"
      ],
      "execution_count": 6,
      "outputs": []
    },
    {
      "cell_type": "markdown",
      "metadata": {
        "id": "fYfxUOQVZljh"
      },
      "source": [
        "Call the model's `summary()` method to check if the model has been built correctly. Also, try using `keras.utils.plot_model()` to save an image of your model's architecture."
      ]
    },
    {
      "cell_type": "code",
      "metadata": {
        "id": "IpGkQl5dZoWq",
        "colab": {
          "base_uri": "https://localhost:8080/"
        },
        "outputId": "b8d94c49-a7a8-4fc7-8df8-9686235804d5"
      },
      "source": [
        "model.summary()"
      ],
      "execution_count": 7,
      "outputs": [
        {
          "output_type": "stream",
          "name": "stdout",
          "text": [
            "Model: \"sequential\"\n",
            "_________________________________________________________________\n",
            " Layer (type)                Output Shape              Param #   \n",
            "=================================================================\n",
            " dense (Dense)               (None, 16)                16016     \n",
            "                                                                 \n",
            " dense_1 (Dense)             (None, 16)                272       \n",
            "                                                                 \n",
            " dense_2 (Dense)             (None, 4)                 68        \n",
            "                                                                 \n",
            "=================================================================\n",
            "Total params: 16,356\n",
            "Trainable params: 16,356\n",
            "Non-trainable params: 0\n",
            "_________________________________________________________________\n"
          ]
        }
      ]
    },
    {
      "cell_type": "code",
      "metadata": {
        "id": "b1NbkrXRZwOA",
        "colab": {
          "base_uri": "https://localhost:8080/",
          "height": 422
        },
        "outputId": "e4fe6092-d8e2-4660-c2e0-0bc213057627"
      },
      "source": [
        "keras.utils.plot_model(model, \"my_model.png\", show_shapes=True)"
      ],
      "execution_count": 8,
      "outputs": [
        {
          "output_type": "execute_result",
          "data": {
            "image/png": "[encoded data removed]",
            "text/plain": [
              "<IPython.core.display.Image object>"
            ]
          },
          "metadata": {},
          "execution_count": 8
        }
      ]
    },
    {
      "cell_type": "markdown",
      "metadata": {
        "id": "Mc3xzuA-33WH"
      },
      "source": [
        "As you can see, the first dimension of each layer is not defined (`None`), indeed this dimension in each layer is variable and depends on the batch size."
      ]
    },
    {
      "cell_type": "markdown",
      "metadata": {
        "id": "6FAjFixuHSA_"
      },
      "source": [
        "Instead of using `add()` method it is also possibile to define the model using the following syntax"
      ]
    },
    {
      "cell_type": "code",
      "metadata": {
        "id": "yOhr57M9GPHy",
        "colab": {
          "base_uri": "https://localhost:8080/",
          "height": 682
        },
        "outputId": "56dfc354-4b9a-4649-abf8-8af0ae660b08"
      },
      "source": [
        "model = keras.models.Sequential([\n",
        "    tf.keras.Input(shape=(num_words,)),\n",
        "    keras.layers.Dense(16, activation=\"relu\"),\n",
        "    keras.layers.Dense(16, activation=\"relu\"),\n",
        "    keras.layers.Dense(4, activation=\"softmax\")\n",
        "])\n",
        "model.summary()\n",
        "keras.utils.plot_model(model, \"my_model.png\", show_shapes=True)"
      ],
      "execution_count": 9,
      "outputs": [
        {
          "output_type": "stream",
          "name": "stdout",
          "text": [
            "Model: \"sequential_1\"\n",
            "_________________________________________________________________\n",
            " Layer (type)                Output Shape              Param #   \n",
            "=================================================================\n",
            " dense_3 (Dense)             (None, 16)                16016     \n",
            "                                                                 \n",
            " dense_4 (Dense)             (None, 16)                272       \n",
            "                                                                 \n",
            " dense_5 (Dense)             (None, 4)                 68        \n",
            "                                                                 \n",
            "=================================================================\n",
            "Total params: 16,356\n",
            "Trainable params: 16,356\n",
            "Non-trainable params: 0\n",
            "_________________________________________________________________\n"
          ]
        },
        {
          "output_type": "execute_result",
          "data": {
            "image/png": "[encoded data removed]",
            "text/plain": [
              "<IPython.core.display.Image object>"
            ]
          },
          "metadata": {},
          "execution_count": 9
        }
      ]
    },
    {
      "cell_type": "markdown",
      "metadata": {
        "id": "2ySdJmzxaSuz"
      },
      "source": [
        "### Optimize the model:\n",
        "\n",
        "After the model has been created, we must call its `compile()` method to specify the loss function and the optimizer to use.\n",
        "\n",
        "Since the model performs a classification task, and we have labels encoded as integers, we use the sparse categorical cross-entropy loss. As optimizer we use Adam.\n",
        "\n",
        "Moreover, you can optionally specify a list of additional metrics that should be measured during training. In this case we specify `metrics=[\"accuracy\"]`."
      ]
    },
    {
      "cell_type": "code",
      "metadata": {
        "id": "x3bbsY3uaeh5"
      },
      "source": [
        "model.compile(loss=\"sparse_categorical_crossentropy\",\n",
        "              optimizer=keras.optimizers.Adam(learning_rate=1e-4),\n",
        "              metrics=[\"accuracy\"])"
      ],
      "execution_count": 10,
      "outputs": []
    },
    {
      "cell_type": "markdown",
      "metadata": {
        "id": "NB9SV0MpaeTg"
      },
      "source": [
        "Now our model is ready to be trained. Call its `fit()` method, passing to it the input features (`X_train`) and the target classes (`y_train`). Set the number of epochs to 20. \n",
        "In order to validate our model we will also pass the validation data by setting `validation_data=(X_valid, y_valid)`. Keras will compute the loss and the additional metrics (the accuracy in this case) on the validation set at the end of each epoch. If the loss on the training set is much lower than the one on the validation set, your model is probably overfitting the training set. Note: the `fit()` method will return a `History` object containing training stats."
      ]
    },
    {
      "cell_type": "code",
      "metadata": {
        "id": "5whx-LU3aoKn",
        "colab": {
          "base_uri": "https://localhost:8080/"
        },
        "outputId": "4a5c0581-842a-45ed-c02d-723c6c0e5180"
      },
      "source": [
        "history = model.fit(X_train, y_train, epochs=20,\n",
        "                    validation_data=(X_valid, y_valid))"
      ],
      "execution_count": 11,
      "outputs": [
        {
          "output_type": "stream",
          "name": "stdout",
          "text": [
            "Epoch 1/20\n",
            "3375/3375 [==============================] - 14s 4ms/step - loss: 0.8503 - accuracy: 0.6761 - val_loss: 0.5107 - val_accuracy: 0.8314\n",
            "Epoch 2/20\n",
            "3375/3375 [==============================] - 7s 2ms/step - loss: 0.4583 - accuracy: 0.8449 - val_loss: 0.4452 - val_accuracy: 0.8475\n",
            "Epoch 3/20\n",
            "3375/3375 [==============================] - 6s 2ms/step - loss: 0.4222 - accuracy: 0.8546 - val_loss: 0.4318 - val_accuracy: 0.8507\n",
            "Epoch 4/20\n",
            "3375/3375 [==============================] - 7s 2ms/step - loss: 0.4089 - accuracy: 0.8573 - val_loss: 0.4241 - val_accuracy: 0.8509\n",
            "Epoch 5/20\n",
            "3375/3375 [==============================] - 6s 2ms/step - loss: 0.4012 - accuracy: 0.8590 - val_loss: 0.4210 - val_accuracy: 0.8525\n",
            "Epoch 6/20\n",
            "3375/3375 [==============================] - 7s 2ms/step - loss: 0.3959 - accuracy: 0.8601 - val_loss: 0.4175 - val_accuracy: 0.8531\n",
            "Epoch 7/20\n",
            "3375/3375 [==============================] - 7s 2ms/step - loss: 0.3917 - accuracy: 0.8615 - val_loss: 0.4149 - val_accuracy: 0.8535\n",
            "Epoch 8/20\n",
            "3375/3375 [==============================] - 6s 2ms/step - loss: 0.3882 - accuracy: 0.8617 - val_loss: 0.4132 - val_accuracy: 0.8550\n",
            "Epoch 9/20\n",
            "3375/3375 [==============================] - 7s 2ms/step - loss: 0.3851 - accuracy: 0.8627 - val_loss: 0.4109 - val_accuracy: 0.8540\n",
            "Epoch 10/20\n",
            "3375/3375 [==============================] - 7s 2ms/step - loss: 0.3825 - accuracy: 0.8629 - val_loss: 0.4096 - val_accuracy: 0.8534\n",
            "Epoch 11/20\n",
            "3375/3375 [==============================] - 6s 2ms/step - loss: 0.3799 - accuracy: 0.8637 - val_loss: 0.4081 - val_accuracy: 0.8539\n",
            "Epoch 12/20\n",
            "3375/3375 [==============================] - 7s 2ms/step - loss: 0.3775 - accuracy: 0.8638 - val_loss: 0.4064 - val_accuracy: 0.8543\n",
            "Epoch 13/20\n",
            "3375/3375 [==============================] - 7s 2ms/step - loss: 0.3753 - accuracy: 0.8645 - val_loss: 0.4051 - val_accuracy: 0.8538\n",
            "Epoch 14/20\n",
            "3375/3375 [==============================] - 7s 2ms/step - loss: 0.3731 - accuracy: 0.8649 - val_loss: 0.4053 - val_accuracy: 0.8543\n",
            "Epoch 15/20\n",
            "3375/3375 [==============================] - 6s 2ms/step - loss: 0.3709 - accuracy: 0.8660 - val_loss: 0.4035 - val_accuracy: 0.8553\n",
            "Epoch 16/20\n",
            "3375/3375 [==============================] - 6s 2ms/step - loss: 0.3689 - accuracy: 0.8661 - val_loss: 0.4027 - val_accuracy: 0.8553\n",
            "Epoch 17/20\n",
            "3375/3375 [==============================] - 7s 2ms/step - loss: 0.3669 - accuracy: 0.8668 - val_loss: 0.4011 - val_accuracy: 0.8565\n",
            "Epoch 18/20\n",
            "3375/3375 [==============================] - 6s 2ms/step - loss: 0.3649 - accuracy: 0.8672 - val_loss: 0.4003 - val_accuracy: 0.8554\n",
            "Epoch 19/20\n",
            "3375/3375 [==============================] - 6s 2ms/step - loss: 0.3630 - accuracy: 0.8679 - val_loss: 0.3992 - val_accuracy: 0.8559\n",
            "Epoch 20/20\n",
            "3375/3375 [==============================] - 6s 2ms/step - loss: 0.3612 - accuracy: 0.8684 - val_loss: 0.3993 - val_accuracy: 0.8564\n"
          ]
        }
      ]
    },
    {
      "cell_type": "markdown",
      "metadata": {
        "id": "EPxiw8iCADr-"
      },
      "source": [
        "Let's plot the loss and the accuracy trends on both training and validation sets. We define the `plot_learning_acc_and_loss` function because we will reuse it in the next steps."
      ]
    },
    {
      "cell_type": "code",
      "metadata": {
        "id": "AJg-F7mUa7st",
        "colab": {
          "base_uri": "https://localhost:8080/",
          "height": 320
        },
        "outputId": "365c2edd-3be3-4493-b6a8-94d9600ad53e"
      },
      "source": [
        "def plot_learning_acc_and_loss(history):\n",
        "    pd.DataFrame(history.history).plot(figsize=(8, 5))\n",
        "    plt.grid(True)\n",
        "    plt.show()\n",
        "plot_learning_acc_and_loss(history)"
      ],
      "execution_count": 12,
      "outputs": [
        {
          "output_type": "display_data",
          "data": {
            "text/plain": [
              "<Figure size 576x360 with 1 Axes>"
            ],
            "image/png": "[encoded data removed]"
          },
          "metadata": {
            "needs_background": "light"
          }
        }
      ]
    },
    {
      "cell_type": "markdown",
      "metadata": {
        "id": "9O3-sLmxansJ"
      },
      "source": [
        "### Evaluate the model:\n",
        "\n",
        "Now, our model has been optimized on the training set, and as you can see the performance on the validation set in quite similar (so it does not overfit the training data). Let's now evaluate the performance of our model using the test set."
      ]
    },
    {
      "cell_type": "code",
      "metadata": {
        "id": "q-ZvJEcObdyB",
        "colab": {
          "base_uri": "https://localhost:8080/"
        },
        "outputId": "daf5d746-5b17-4bf7-ed7e-cc43b10a0977"
      },
      "source": [
        "model.evaluate(X_test, y_test)"
      ],
      "execution_count": 13,
      "outputs": [
        {
          "output_type": "stream",
          "name": "stdout",
          "text": [
            "238/238 [==============================] - 1s 2ms/step - loss: 0.4093 - accuracy: 0.8521\n"
          ]
        },
        {
          "output_type": "execute_result",
          "data": {
            "text/plain": [
              "[0.40926671028137207, 0.8521052598953247]"
            ]
          },
          "metadata": {},
          "execution_count": 13
        }
      ]
    },
    {
      "cell_type": "markdown",
      "metadata": {
        "id": "KTSxlnwrII-n"
      },
      "source": [
        "But why is it important to use test and validation, and why is it important to evaluate the model on the test set instead of the validation set? Moreover, what is the usefulness of the validation set? We try to answer such questions right below.\n",
        "\n",
        "\n",
        "One of the crucial steps when handling machine learning models is model selection and evaluation.\n",
        "\n",
        "The three main strategies of performing model selection and evaluation are respectively: Hold-out, k fold cross-validation, and leave-one-out, the last two being a generalization of the first one.\n",
        "\n",
        "Hold-out basically consists of splitting the original dataset (let's say P) in three separate sets: Training set, Validation set and Test set.\n",
        "\n",
        "The first one used for training the parameters of the model, the second one used for training the hyperparameters, and last one used to evaluate the performances of the model itself.\n",
        "\n",
        "But why is this necessary in the first place?\n",
        "We'll start by saying that in the machine learning setting, what we wish to do is to minimize the generalization error, which is the error the model makes when tested on examples never seen before.\n",
        "\n",
        "Unfortunately though we don't have an infinite amount of data at our disposal, so the best way we have to provide the model examples never seen before consists of considering a subset of the original dataset P and reserving this subset for testing purposes only. We'll use this subset just to evaluate the performances of our model. Such subset is what we usually refer to as the Test set and It's extremely important for this subset never to be used during training phases, otherwise the model will be obviously biased.\n",
        "\n",
        "Having done this, instead of directly training the model on the remaining P\\Test set, we furtherly split the latter into Training and Validation sets, for regularisation reasons.\n",
        "In fact we saw that in many cases optimising only with respect to the parameters of the model is just not enough to achieve good performances, and we have to introduce hyperparameters to take into account bias and variance effects. \n",
        "These hyperparameters must be trained too, usually via grid search, and the set we use to train them is the Validation set.\n",
        "So we use the training set to optimise with respect to the parameters of the model, and the validation set to optimise with respect to the hyperparameters of the model.\n",
        "\n",
        "One strategy that could be applied although of questionable effectiveness, is to fix an hyperparameter $\\lambda$ and optimize on the training set to obtain the best set of parameters $\\overline{\\theta}$. Once obtained $\\overline{\\theta}$ we optimize for the best hyperparameter on the validation set obtaining $\\lambda^*$. At this point, with fixed hyperparameter $\\lambda^*$ we merge back together training and validation sets and optimize once again with respect to the parameters of the model, obtaining $\\theta^*$.\n",
        "\n",
        "We also note that when splitting P into Tr, Val, and Test set, we usually apply strategies to preserve the distribution of data in the original set. For example, if we have a binary classification problem, we don't want the Test set to contain only examples belonging to one class, we'd like this set to be as representative as possible."
      ]
    },
    {
      "cell_type": "markdown",
      "metadata": {
        "id": "aeGlzKe864Gq"
      },
      "source": [
        "## Exercise 2.2: Overfiting\n",
        "\n",
        "A common problem that occurs when you train a deep neural network is overfittig. Overfitting occurs when you achieve a good fit of your model on the training data, while it does not generalize well on new, unseen data. In other words, the model learned patterns specific to the training data, which are irrelevant in other data.\n",
        "As we have seen in the previous exercise, our model does not overfit the training data. In this exercise, we try to modify the training parameters in order to have a model that overfits.\n",
        "Overfitting can have many causes and usually is a combination of some of them, for instance: too many parameters/ layers, too few training samples, wrong learning rate (usualy too high), etc..\n",
        "\n",
        "In the next cell we define a new model (similar to the previuos one) that overfits the training data; we then plot the trend of the loss in training and validation set."
      ]
    },
    {
      "cell_type": "code",
      "metadata": {
        "id": "T2B2DFEC8f88",
        "colab": {
          "base_uri": "https://localhost:8080/"
        },
        "outputId": "440d9ff5-1dea-4fc6-876a-3f976e31edd1"
      },
      "source": [
        "model = keras.models.Sequential()\n",
        "# let's modify the previous model in order to obtain a new model that overfits the training data\n",
        "model.add(tf.keras.Input(shape=(num_words,)))\n",
        "model.add(keras.layers.Dense(260, activation=\"relu\"))\n",
        "model.add(keras.layers.Dense(16, activation=\"relu\"))\n",
        "model.add(keras.layers.Dense(4, activation=\"softmax\"))\n",
        "\n",
        "model.compile(loss=\"sparse_categorical_crossentropy\",\n",
        "              optimizer=keras.optimizers.Adam(learning_rate=0.0001), metrics=[\"accuracy\"])\n",
        "\n",
        "history = model.fit(X_train, y_train, epochs=20, validation_data=(X_valid, y_valid))\n",
        "\n",
        "print(\"Model Evaluation\")\n",
        "model.evaluate(X_test, y_test)"
      ],
      "execution_count": 14,
      "outputs": [
        {
          "output_type": "stream",
          "name": "stdout",
          "text": [
            "Epoch 1/20\n",
            "3375/3375 [==============================] - 13s 4ms/step - loss: 0.5984 - accuracy: 0.7829 - val_loss: 0.4345 - val_accuracy: 0.8486\n",
            "Epoch 2/20\n",
            "3375/3375 [==============================] - 13s 4ms/step - loss: 0.4088 - accuracy: 0.8562 - val_loss: 0.4212 - val_accuracy: 0.8518\n",
            "Epoch 3/20\n",
            "3375/3375 [==============================] - 13s 4ms/step - loss: 0.3926 - accuracy: 0.8603 - val_loss: 0.4162 - val_accuracy: 0.8527\n",
            "Epoch 4/20\n",
            "3375/3375 [==============================] - 13s 4ms/step - loss: 0.3807 - accuracy: 0.8631 - val_loss: 0.4108 - val_accuracy: 0.8528\n",
            "Epoch 5/20\n",
            "3375/3375 [==============================] - 13s 4ms/step - loss: 0.3687 - accuracy: 0.8676 - val_loss: 0.4054 - val_accuracy: 0.8555\n",
            "Epoch 6/20\n",
            "3375/3375 [==============================] - 13s 4ms/step - loss: 0.3553 - accuracy: 0.8712 - val_loss: 0.4024 - val_accuracy: 0.8559\n",
            "Epoch 7/20\n",
            "3375/3375 [==============================] - 13s 4ms/step - loss: 0.3410 - accuracy: 0.8770 - val_loss: 0.3983 - val_accuracy: 0.8571\n",
            "Epoch 8/20\n",
            "3375/3375 [==============================] - 13s 4ms/step - loss: 0.3257 - accuracy: 0.8825 - val_loss: 0.3932 - val_accuracy: 0.8586\n",
            "Epoch 9/20\n",
            "3375/3375 [==============================] - 13s 4ms/step - loss: 0.3094 - accuracy: 0.8885 - val_loss: 0.3904 - val_accuracy: 0.8595\n",
            "Epoch 10/20\n",
            "3375/3375 [==============================] - 12s 4ms/step - loss: 0.2927 - accuracy: 0.8945 - val_loss: 0.3902 - val_accuracy: 0.8611\n",
            "Epoch 11/20\n",
            "3375/3375 [==============================] - 13s 4ms/step - loss: 0.2753 - accuracy: 0.9012 - val_loss: 0.3881 - val_accuracy: 0.8617\n",
            "Epoch 12/20\n",
            "3375/3375 [==============================] - 13s 4ms/step - loss: 0.2576 - accuracy: 0.9079 - val_loss: 0.3886 - val_accuracy: 0.8618\n",
            "Epoch 13/20\n",
            "3375/3375 [==============================] - 13s 4ms/step - loss: 0.2398 - accuracy: 0.9159 - val_loss: 0.3911 - val_accuracy: 0.8607\n",
            "Epoch 14/20\n",
            "3375/3375 [==============================] - 13s 4ms/step - loss: 0.2217 - accuracy: 0.9228 - val_loss: 0.3957 - val_accuracy: 0.8615\n",
            "Epoch 15/20\n",
            "3375/3375 [==============================] - 13s 4ms/step - loss: 0.2040 - accuracy: 0.9301 - val_loss: 0.3998 - val_accuracy: 0.8597\n",
            "Epoch 16/20\n",
            "3375/3375 [==============================] - 13s 4ms/step - loss: 0.1868 - accuracy: 0.9376 - val_loss: 0.4071 - val_accuracy: 0.8608\n",
            "Epoch 17/20\n",
            "3375/3375 [==============================] - 13s 4ms/step - loss: 0.1698 - accuracy: 0.9448 - val_loss: 0.4188 - val_accuracy: 0.8572\n",
            "Epoch 18/20\n",
            "3375/3375 [==============================] - 13s 4ms/step - loss: 0.1532 - accuracy: 0.9513 - val_loss: 0.4224 - val_accuracy: 0.8593\n",
            "Epoch 19/20\n",
            "3375/3375 [==============================] - 13s 4ms/step - loss: 0.1377 - accuracy: 0.9576 - val_loss: 0.4353 - val_accuracy: 0.8587\n",
            "Epoch 20/20\n",
            "3375/3375 [==============================] - 15s 4ms/step - loss: 0.1222 - accuracy: 0.9636 - val_loss: 0.4561 - val_accuracy: 0.8548\n",
            "Model Evaluation\n",
            "238/238 [==============================] - 1s 3ms/step - loss: 0.4573 - accuracy: 0.8537\n"
          ]
        },
        {
          "output_type": "execute_result",
          "data": {
            "text/plain": [
              "[0.4573356807231903, 0.8536841869354248]"
            ]
          },
          "metadata": {},
          "execution_count": 14
        }
      ]
    },
    {
      "cell_type": "markdown",
      "metadata": {
        "id": "MS0fujEqh_m3"
      },
      "source": [
        "Define the `plot_learning_curves` function that plots only the losses (not the accuracy)."
      ]
    },
    {
      "cell_type": "code",
      "metadata": {
        "id": "q5EsklC0DZYH",
        "colab": {
          "base_uri": "https://localhost:8080/",
          "height": 336
        },
        "outputId": "eb1f404a-b91c-4440-c107-eed2749b3122"
      },
      "source": [
        "def plot_learning_curves(history):\n",
        "    plt.figure(figsize=(8, 5))\n",
        "    plt.plot(history.epoch,history.history['loss'], label='train loss')\n",
        "    plt.plot(history.epoch,history.history['val_loss'], label='valid loss')\n",
        "    plt.legend()\n",
        "    plt.title('loss')\n",
        "    plt.grid(True)\n",
        "    plt.show()\n",
        "plot_learning_curves(history)"
      ],
      "execution_count": 15,
      "outputs": [
        {
          "output_type": "display_data",
          "data": {
            "text/plain": [
              "<Figure size 576x360 with 1 Axes>"
            ],
            "image/png": "[encoded data removed]"
          },
          "metadata": {
            "needs_background": "light"
          }
        }
      ]
    },
    {
      "cell_type": "markdown",
      "metadata": {
        "id": "OW4Kf4fgDfOs"
      },
      "source": [
        "### L1 norm Regularization\n",
        "\n",
        "One possible way to solve the overitting issue is by using regularization methods. The two most common regularization methods in Deep Learning are the L1-norm regularization and the L2-norm regularization. Both These techniques are based on limiting the capacity of models, by adding a parameter norm penalty to the objective function $\\mathcal{J}$:\n",
        "$$\n",
        "\\hat{\\mathcal{J}}(\\theta,\\mathbf{X},\\mathbf{y}) = \\mathcal{J}(\\theta,\\mathbf{X},\\mathbf{y}) + \\alpha \\Omega(\\theta)\n",
        "$$\n",
        "where $\\alpha$ is a hyperparameter that weighs the relative contribution of the norm penalty $\\Omega$.\n",
        "Lets start by considering the L1-norm regularization where the regularization term is defined as:\n",
        "$$\n",
        " \\Omega(\\theta)=||\\mathbf{W}||_1=\\sum_i |\\mathbf{w}|\n",
        "$$\n",
        "Let's find the values for the $\\alpha$ parameters that allow to remove the overfitting effect."
      ]
    },
    {
      "cell_type": "code",
      "metadata": {
        "id": "QzD8520dDgw3",
        "colab": {
          "base_uri": "https://localhost:8080/",
          "height": 1000
        },
        "outputId": "78d344c0-c1af-48e5-adb2-2f87ac118660"
      },
      "source": [
        "# In Keras is neccesary to add the regularizer by using the attribute kernel_regularizer\n",
        "# to each layer whose weights will be considered in the Omega function.\n",
        "# is it also possibile to consider the bias by using the attribute bias_regularizer \n",
        "# tf.keras.regularizers.l1(alpha) perfroms the L1-norm regularization\n",
        "\n",
        "# Let's copy the model we previously defined that overfits the \n",
        "# training data, and let us add the L1-norm regularization. We'll need to choose\n",
        "# a proper value for the alpha hyper-parameter, that prevents the model from overfitting. \n",
        "\n",
        "# In general, a layer that exploits L1-norm regularization is defined as follows:\n",
        "\n",
        "alpha=0.001\n",
        "model = keras.models.Sequential()\n",
        "model.add(tf.keras.Input(shape=(num_words,)))\n",
        "model.add(keras.layers.Dense(260, activation=\"relu\", kernel_regularizer=tf.keras.regularizers.l1(alpha)))\n",
        "model.add(keras.layers.Dense(16, activation=\"relu\", kernel_regularizer=tf.keras.regularizers.l1(alpha)))\n",
        "model.add(keras.layers.Dense(4, activation=\"softmax\", kernel_regularizer=tf.keras.regularizers.l1(alpha)))\n",
        "\n",
        "model.compile(loss=\"sparse_categorical_crossentropy\", optimizer=keras.optimizers.Adam(learning_rate=0.0001), metrics=[\"accuracy\"])\n",
        "\n",
        "history = model.fit(X_train, y_train, epochs=20, validation_data=(X_valid, y_valid))\n",
        "\n",
        "print(\"Model Evaluation\")\n",
        "model.evaluate(X_test, y_test)\n",
        "plot_learning_curves(history)"
      ],
      "execution_count": 16,
      "outputs": [
        {
          "output_type": "stream",
          "name": "stdout",
          "text": [
            "Epoch 1/20\n",
            "3375/3375 [==============================] - 26s 8ms/step - loss: 2.1594 - accuracy: 0.7326 - val_loss: 1.0869 - val_accuracy: 0.7906\n",
            "Epoch 2/20\n",
            "3375/3375 [==============================] - 19s 6ms/step - loss: 0.9836 - accuracy: 0.8061 - val_loss: 0.9109 - val_accuracy: 0.8208\n",
            "Epoch 3/20\n",
            "3375/3375 [==============================] - 20s 6ms/step - loss: 0.8577 - accuracy: 0.8266 - val_loss: 0.8261 - val_accuracy: 0.8284\n",
            "Epoch 4/20\n",
            "3375/3375 [==============================] - 19s 6ms/step - loss: 0.7908 - accuracy: 0.8355 - val_loss: 0.7760 - val_accuracy: 0.8337\n",
            "Epoch 5/20\n",
            "3375/3375 [==============================] - 19s 6ms/step - loss: 0.7486 - accuracy: 0.8405 - val_loss: 0.7418 - val_accuracy: 0.8396\n",
            "Epoch 6/20\n",
            "3375/3375 [==============================] - 18s 5ms/step - loss: 0.7184 - accuracy: 0.8441 - val_loss: 0.7177 - val_accuracy: 0.8422\n",
            "Epoch 7/20\n",
            "3375/3375 [==============================] - 18s 5ms/step - loss: 0.6960 - accuracy: 0.8466 - val_loss: 0.6990 - val_accuracy: 0.8442\n",
            "Epoch 8/20\n",
            "3375/3375 [==============================] - 19s 6ms/step - loss: 0.6790 - accuracy: 0.8476 - val_loss: 0.6836 - val_accuracy: 0.8451\n",
            "Epoch 9/20\n",
            "3375/3375 [==============================] - 19s 6ms/step - loss: 0.6658 - accuracy: 0.8489 - val_loss: 0.6731 - val_accuracy: 0.8447\n",
            "Epoch 10/20\n",
            "3375/3375 [==============================] - 20s 6ms/step - loss: 0.6553 - accuracy: 0.8496 - val_loss: 0.6639 - val_accuracy: 0.8453\n",
            "Epoch 11/20\n",
            "3375/3375 [==============================] - 19s 6ms/step - loss: 0.6465 - accuracy: 0.8509 - val_loss: 0.6547 - val_accuracy: 0.8449\n",
            "Epoch 12/20\n",
            "3375/3375 [==============================] - 19s 6ms/step - loss: 0.6393 - accuracy: 0.8513 - val_loss: 0.6484 - val_accuracy: 0.8474\n",
            "Epoch 13/20\n",
            "3375/3375 [==============================] - 19s 6ms/step - loss: 0.6331 - accuracy: 0.8518 - val_loss: 0.6419 - val_accuracy: 0.8463\n",
            "Epoch 14/20\n",
            "3375/3375 [==============================] - 18s 5ms/step - loss: 0.6273 - accuracy: 0.8524 - val_loss: 0.6393 - val_accuracy: 0.8493\n",
            "Epoch 15/20\n",
            "3375/3375 [==============================] - 19s 5ms/step - loss: 0.6221 - accuracy: 0.8530 - val_loss: 0.6326 - val_accuracy: 0.8473\n",
            "Epoch 16/20\n",
            "3375/3375 [==============================] - 20s 6ms/step - loss: 0.6174 - accuracy: 0.8529 - val_loss: 0.6278 - val_accuracy: 0.8478\n",
            "Epoch 17/20\n",
            "3375/3375 [==============================] - 19s 6ms/step - loss: 0.6131 - accuracy: 0.8535 - val_loss: 0.6249 - val_accuracy: 0.8499\n",
            "Epoch 18/20\n",
            "3375/3375 [==============================] - 19s 6ms/step - loss: 0.6093 - accuracy: 0.8535 - val_loss: 0.6206 - val_accuracy: 0.8499\n",
            "Epoch 19/20\n",
            "3375/3375 [==============================] - 18s 5ms/step - loss: 0.6059 - accuracy: 0.8536 - val_loss: 0.6170 - val_accuracy: 0.8497\n",
            "Epoch 20/20\n",
            "3375/3375 [==============================] - 18s 5ms/step - loss: 0.6026 - accuracy: 0.8543 - val_loss: 0.6176 - val_accuracy: 0.8512\n",
            "Model Evaluation\n",
            "238/238 [==============================] - 1s 3ms/step - loss: 0.6249 - accuracy: 0.8446\n"
          ]
        },
        {
          "output_type": "display_data",
          "data": {
            "text/plain": [
              "<Figure size 576x360 with 1 Axes>"
            ],
            "image/png": "[encoded data removed]"
          },
          "metadata": {
            "needs_background": "light"
          }
        }
      ]
    },
    {
      "cell_type": "markdown",
      "metadata": {
        "id": "CgnCGYUvDqbC"
      },
      "source": [
        "### L2-norm\n",
        "\n",
        "L2-norm regularization is also known as weight decay. This strategy drives the weights closer to the origin by adding the regularization term omega which is defined as:\n",
        "$$\n",
        " \\Omega(\\theta)=\\frac{1}{2}||\\mathbf{W}||_2^2\n",
        "$$\n",
        "\n",
        "Let's find the values for the $\\alpha$ parameters that allow removing remove the overfitting effect with L2-norm."
      ]
    },
    {
      "cell_type": "code",
      "metadata": {
        "id": "qqNhu350DtJo",
        "colab": {
          "base_uri": "https://localhost:8080/",
          "height": 1000
        },
        "outputId": "cbb3a7d7-7b21-4811-e41b-ab9961ed3483"
      },
      "source": [
        "# Again, let us consider the model we previously defined (the one that overfits the \n",
        "# trainig data), and add the L2-norm regularization. Just as before, we'll need to choose\n",
        "# proper values for the alpha hyper-parameters, that prevents the model from overfitting.\n",
        "\n",
        "# In general, a layer that exploits L2-norm regularization is defined as follow:\n",
        "\n",
        "alpha=0.001\n",
        "model = keras.models.Sequential()\n",
        "model.add(tf.keras.Input(shape=(num_words,)))\n",
        "model.add(keras.layers.Dense(260, activation=\"relu\", kernel_regularizer=tf.keras.regularizers.l2(alpha)))\n",
        "model.add(keras.layers.Dense(16, activation=\"relu\", kernel_regularizer=tf.keras.regularizers.l2(alpha)))\n",
        "model.add(keras.layers.Dense(4, activation=\"softmax\", kernel_regularizer=tf.keras.regularizers.l2(alpha)))\n",
        "\n",
        "model.compile(loss=\"sparse_categorical_crossentropy\",\n",
        "              optimizer=keras.optimizers.Adam(learning_rate=0.0001), metrics=[\"accuracy\"])\n",
        "\n",
        "history = model.fit(X_train, y_train, epochs=20, validation_data=(X_valid, y_valid))\n",
        "\n",
        "print(\"Model Evaluation\")\n",
        "model.evaluate(X_test, y_test)\n",
        "plot_learning_curves(history)"
      ],
      "execution_count": 17,
      "outputs": [
        {
          "output_type": "stream",
          "name": "stdout",
          "text": [
            "Epoch 1/20\n",
            "3375/3375 [==============================] - 17s 5ms/step - loss: 0.8548 - accuracy: 0.8042 - val_loss: 0.6330 - val_accuracy: 0.8469\n",
            "Epoch 2/20\n",
            "3375/3375 [==============================] - 16s 5ms/step - loss: 0.5827 - accuracy: 0.8505 - val_loss: 0.5668 - val_accuracy: 0.8497\n",
            "Epoch 3/20\n",
            "3375/3375 [==============================] - 18s 5ms/step - loss: 0.5388 - accuracy: 0.8532 - val_loss: 0.5401 - val_accuracy: 0.8487\n",
            "Epoch 4/20\n",
            "3375/3375 [==============================] - 17s 5ms/step - loss: 0.5181 - accuracy: 0.8541 - val_loss: 0.5278 - val_accuracy: 0.8470\n",
            "Epoch 5/20\n",
            "3375/3375 [==============================] - 18s 5ms/step - loss: 0.5059 - accuracy: 0.8548 - val_loss: 0.5162 - val_accuracy: 0.8512\n",
            "Epoch 6/20\n",
            "3375/3375 [==============================] - 17s 5ms/step - loss: 0.4969 - accuracy: 0.8556 - val_loss: 0.5116 - val_accuracy: 0.8494\n",
            "Epoch 7/20\n",
            "3375/3375 [==============================] - 17s 5ms/step - loss: 0.4903 - accuracy: 0.8573 - val_loss: 0.5089 - val_accuracy: 0.8503\n",
            "Epoch 8/20\n",
            "3375/3375 [==============================] - 17s 5ms/step - loss: 0.4849 - accuracy: 0.8575 - val_loss: 0.4997 - val_accuracy: 0.8531\n",
            "Epoch 9/20\n",
            "3375/3375 [==============================] - 17s 5ms/step - loss: 0.4799 - accuracy: 0.8587 - val_loss: 0.4995 - val_accuracy: 0.8504\n",
            "Epoch 10/20\n",
            "3375/3375 [==============================] - 16s 5ms/step - loss: 0.4760 - accuracy: 0.8599 - val_loss: 0.4975 - val_accuracy: 0.8533\n",
            "Epoch 11/20\n",
            "3375/3375 [==============================] - 18s 5ms/step - loss: 0.4721 - accuracy: 0.8612 - val_loss: 0.4910 - val_accuracy: 0.8533\n",
            "Epoch 12/20\n",
            "3375/3375 [==============================] - 17s 5ms/step - loss: 0.4685 - accuracy: 0.8623 - val_loss: 0.4897 - val_accuracy: 0.8546\n",
            "Epoch 13/20\n",
            "3375/3375 [==============================] - 17s 5ms/step - loss: 0.4653 - accuracy: 0.8638 - val_loss: 0.4867 - val_accuracy: 0.8543\n",
            "Epoch 14/20\n",
            "3375/3375 [==============================] - 16s 5ms/step - loss: 0.4619 - accuracy: 0.8660 - val_loss: 0.4883 - val_accuracy: 0.8565\n",
            "Epoch 15/20\n",
            "3375/3375 [==============================] - 16s 5ms/step - loss: 0.4590 - accuracy: 0.8666 - val_loss: 0.4854 - val_accuracy: 0.8557\n",
            "Epoch 16/20\n",
            "3375/3375 [==============================] - 17s 5ms/step - loss: 0.4564 - accuracy: 0.8684 - val_loss: 0.4839 - val_accuracy: 0.8574\n",
            "Epoch 17/20\n",
            "3375/3375 [==============================] - 18s 5ms/step - loss: 0.4538 - accuracy: 0.8699 - val_loss: 0.4846 - val_accuracy: 0.8583\n",
            "Epoch 18/20\n",
            "3375/3375 [==============================] - 17s 5ms/step - loss: 0.4510 - accuracy: 0.8710 - val_loss: 0.4838 - val_accuracy: 0.8593\n",
            "Epoch 19/20\n",
            "3375/3375 [==============================] - 17s 5ms/step - loss: 0.4486 - accuracy: 0.8727 - val_loss: 0.4828 - val_accuracy: 0.8592\n",
            "Epoch 20/20\n",
            "3375/3375 [==============================] - 17s 5ms/step - loss: 0.4456 - accuracy: 0.8746 - val_loss: 0.4900 - val_accuracy: 0.8562\n",
            "Model Evaluation\n",
            "238/238 [==============================] - 1s 3ms/step - loss: 0.4963 - accuracy: 0.8549\n"
          ]
        },
        {
          "output_type": "display_data",
          "data": {
            "text/plain": [
              "<Figure size 576x360 with 1 Axes>"
            ],
            "image/png": "[encoded data removed]"
          },
          "metadata": {
            "needs_background": "light"
          }
        }
      ]
    },
    {
      "cell_type": "markdown",
      "metadata": {
        "id": "xvyKPb4DD25G"
      },
      "source": [
        "### Early stopping\n",
        "\n",
        "Early Stopping is a form of regularization used to avoid overfitting. It is designed to monitor the generalization error of one model and stop training when generalization error begins to degrade. In order to evaluate the generalization error, early stopping requires that a validation dataset is evaluated during training. Then, when the validation error does not improve for a specific number of epochs (`patience` hyper-parameter), it stops the training phase."
      ]
    },
    {
      "cell_type": "code",
      "metadata": {
        "id": "MqNOOZ11D7cq",
        "colab": {
          "base_uri": "https://localhost:8080/",
          "height": 683
        },
        "outputId": "85b8028c-a3af-4cda-fc08-afd54af91b84"
      },
      "source": [
        "# Let's consider once again the previously defined model, \n",
        "# the one that overfit the trainnig data\n",
        "model = keras.models.Sequential()\n",
        "model.add(tf.keras.Input(shape=(num_words,)))\n",
        "model.add(keras.layers.Dense(260, activation=\"relu\"))\n",
        "model.add(keras.layers.Dense(16, activation=\"relu\"))\n",
        "model.add(keras.layers.Dense(4, activation=\"softmax\"))\n",
        "\n",
        "model.compile(loss=\"sparse_categorical_crossentropy\",\n",
        "              optimizer=keras.optimizers.Adam(learning_rate=0.0001), metrics=[\"accuracy\"])\n",
        "\n",
        "# Let's define a log dir in order to save the checkpoint file\n",
        "logdir = os.path.join(os.curdir, \"my_logs\", \"run_{}\".format(time.time()))\n",
        "\n",
        "# In Keras the early stopping is manage by using the callbacks argument.\n",
        "callbacks = [\n",
        "    keras.callbacks.TensorBoard(logdir),\n",
        "    keras.callbacks.EarlyStopping(patience=1),\n",
        "    # Saving the checkpoints file allows to load the \"best\" model when the Early \n",
        "    # stopping detect that the generalization error degrade (after 'patience' epochs)\n",
        "    keras.callbacks.ModelCheckpoint(\"my_mnist_model.h5\", save_best_only=True),\n",
        "]\n",
        "\n",
        "history = model.fit(X_train, y_train, epochs=20,\n",
        "                    validation_data=(X_valid, y_valid),\n",
        "                    callbacks=callbacks)\n",
        "\n",
        "print(\"Model Evaluation\")\n",
        "# The early stopping stopped training after few epochs without progress, so your\n",
        "# model may already have started to overfit the training set. Since the \n",
        "# ModelCheckpoint callback only saved the best models (on the validation set) the\n",
        "# last saved model is the best on the validation set.\n",
        "model = keras.models.load_model(\"my_mnist_model.h5\")\n",
        "model.evaluate(X_test, y_test)\n",
        "plot_learning_curves(history)"
      ],
      "execution_count": 18,
      "outputs": [
        {
          "output_type": "stream",
          "name": "stdout",
          "text": [
            "Epoch 1/20\n",
            "3375/3375 [==============================] - 15s 4ms/step - loss: 0.5731 - accuracy: 0.8029 - val_loss: 0.4290 - val_accuracy: 0.8503\n",
            "Epoch 2/20\n",
            "3375/3375 [==============================] - 13s 4ms/step - loss: 0.4038 - accuracy: 0.8573 - val_loss: 0.4148 - val_accuracy: 0.8531\n",
            "Epoch 3/20\n",
            "3375/3375 [==============================] - 13s 4ms/step - loss: 0.3850 - accuracy: 0.8630 - val_loss: 0.4088 - val_accuracy: 0.8543\n",
            "Epoch 4/20\n",
            "3375/3375 [==============================] - 13s 4ms/step - loss: 0.3700 - accuracy: 0.8673 - val_loss: 0.4009 - val_accuracy: 0.8541\n",
            "Epoch 5/20\n",
            "3375/3375 [==============================] - 14s 4ms/step - loss: 0.3551 - accuracy: 0.8725 - val_loss: 0.3971 - val_accuracy: 0.8563\n",
            "Epoch 6/20\n",
            "3375/3375 [==============================] - 13s 4ms/step - loss: 0.3392 - accuracy: 0.8784 - val_loss: 0.3917 - val_accuracy: 0.8572\n",
            "Epoch 7/20\n",
            "3375/3375 [==============================] - 14s 4ms/step - loss: 0.3225 - accuracy: 0.8846 - val_loss: 0.3905 - val_accuracy: 0.8586\n",
            "Epoch 8/20\n",
            "3375/3375 [==============================] - 14s 4ms/step - loss: 0.3049 - accuracy: 0.8917 - val_loss: 0.3841 - val_accuracy: 0.8604\n",
            "Epoch 9/20\n",
            "3375/3375 [==============================] - 13s 4ms/step - loss: 0.2865 - accuracy: 0.8991 - val_loss: 0.3845 - val_accuracy: 0.8607\n",
            "Model Evaluation\n",
            "238/238 [==============================] - 1s 2ms/step - loss: 0.3929 - accuracy: 0.8586\n"
          ]
        },
        {
          "output_type": "display_data",
          "data": {
            "text/plain": [
              "<Figure size 576x360 with 1 Axes>"
            ],
            "image/png": "[encoded data removed]"
          },
          "metadata": {
            "needs_background": "light"
          }
        }
      ]
    },
    {
      "cell_type": "markdown",
      "metadata": {
        "id": "DCV8pwVzl9GK"
      },
      "source": [
        "\n",
        "## Exercise 2.3: Model Selection\n",
        "\n",
        "Hyperparameters are the parameters of the learning method itself which we have to specify a priori, i.e., before model fitting. In contrast, model parameters are parameters which arise as a result of the fit (the network weights). The aim of model selection is selecting the best hyperparameters for our deep network. Finding the right hyperparameters for a model can be crucial for the model performance on given data. For istance lets consider our model trained by using different values for the learning rate: "
      ]
    },
    {
      "cell_type": "code",
      "metadata": {
        "id": "Fw8Hs-AEmLKh"
      },
      "source": [
        "learning_rates = [1e-4, 1e-2, 1e-1]"
      ],
      "execution_count": 19,
      "outputs": []
    },
    {
      "cell_type": "code",
      "metadata": {
        "id": "mym4GOgUmWqD",
        "colab": {
          "base_uri": "https://localhost:8080/"
        },
        "outputId": "f5e0c1d3-0e7b-4601-f275-977ce446fe8d"
      },
      "source": [
        "histories = []\n",
        "for learning_rate in learning_rates:\n",
        "    model = keras.models.Sequential([\n",
        "                                    tf.keras.Input(shape=(num_words,)),\n",
        "                                    keras.layers.Dense(16, activation=\"relu\"),\n",
        "                                    keras.layers.Dense(16, activation=\"relu\"),\n",
        "                                    keras.layers.Dense(4, activation=\"softmax\")\n",
        "                                     ])\n",
        "    model.compile(loss=\"sparse_categorical_crossentropy\",\n",
        "              optimizer=keras.optimizers.Adam(learning_rate=learning_rate),\n",
        "              metrics=[\"accuracy\"])\n",
        "              \n",
        "    callbacks = [keras.callbacks.EarlyStopping(patience=2)]\n",
        "\n",
        "    history = model.fit(X_train, y_train,\n",
        "                        validation_data=(X_valid, y_valid), epochs=10,\n",
        "                        callbacks=callbacks)\n",
        "    histories.append(history)\n",
        "    print(\"evaluation on test set\")\n",
        "    model.evaluate(X_test, y_test)"
      ],
      "execution_count": 20,
      "outputs": [
        {
          "output_type": "stream",
          "name": "stdout",
          "text": [
            "Epoch 1/10\n",
            "3375/3375 [==============================] - 7s 2ms/step - loss: 0.8467 - accuracy: 0.6874 - val_loss: 0.5046 - val_accuracy: 0.8340\n",
            "Epoch 2/10\n",
            "3375/3375 [==============================] - 7s 2ms/step - loss: 0.4544 - accuracy: 0.8446 - val_loss: 0.4450 - val_accuracy: 0.8475\n",
            "Epoch 3/10\n",
            "3375/3375 [==============================] - 7s 2ms/step - loss: 0.4203 - accuracy: 0.8537 - val_loss: 0.4310 - val_accuracy: 0.8498\n",
            "Epoch 4/10\n",
            "3375/3375 [==============================] - 7s 2ms/step - loss: 0.4071 - accuracy: 0.8567 - val_loss: 0.4227 - val_accuracy: 0.8508\n",
            "Epoch 5/10\n",
            "3375/3375 [==============================] - 7s 2ms/step - loss: 0.3996 - accuracy: 0.8588 - val_loss: 0.4193 - val_accuracy: 0.8516\n",
            "Epoch 6/10\n",
            "3375/3375 [==============================] - 7s 2ms/step - loss: 0.3944 - accuracy: 0.8601 - val_loss: 0.4160 - val_accuracy: 0.8524\n",
            "Epoch 7/10\n",
            "3375/3375 [==============================] - 7s 2ms/step - loss: 0.3904 - accuracy: 0.8612 - val_loss: 0.4137 - val_accuracy: 0.8531\n",
            "Epoch 8/10\n",
            "3375/3375 [==============================] - 7s 2ms/step - loss: 0.3869 - accuracy: 0.8615 - val_loss: 0.4120 - val_accuracy: 0.8542\n",
            "Epoch 9/10\n",
            "3375/3375 [==============================] - 7s 2ms/step - loss: 0.3839 - accuracy: 0.8623 - val_loss: 0.4095 - val_accuracy: 0.8547\n",
            "Epoch 10/10\n",
            "3375/3375 [==============================] - 6s 2ms/step - loss: 0.3812 - accuracy: 0.8624 - val_loss: 0.4084 - val_accuracy: 0.8550\n",
            "evaluation on test set\n",
            "238/238 [==============================] - 1s 2ms/step - loss: 0.4193 - accuracy: 0.8493\n",
            "Epoch 1/10\n",
            "3375/3375 [==============================] - 7s 2ms/step - loss: 0.4643 - accuracy: 0.8306 - val_loss: 0.4359 - val_accuracy: 0.8462\n",
            "Epoch 2/10\n",
            "3375/3375 [==============================] - 7s 2ms/step - loss: 0.4096 - accuracy: 0.8509 - val_loss: 0.4190 - val_accuracy: 0.8502\n",
            "Epoch 3/10\n",
            "3375/3375 [==============================] - 7s 2ms/step - loss: 0.3899 - accuracy: 0.8597 - val_loss: 0.4103 - val_accuracy: 0.8524\n",
            "Epoch 4/10\n",
            "3375/3375 [==============================] - 7s 2ms/step - loss: 0.3747 - accuracy: 0.8646 - val_loss: 0.4130 - val_accuracy: 0.8538\n",
            "Epoch 5/10\n",
            "3375/3375 [==============================] - 7s 2ms/step - loss: 0.3630 - accuracy: 0.8688 - val_loss: 0.4293 - val_accuracy: 0.8510\n",
            "evaluation on test set\n",
            "238/238 [==============================] - 1s 2ms/step - loss: 0.4392 - accuracy: 0.8412\n",
            "Epoch 1/10\n",
            "3375/3375 [==============================] - 7s 2ms/step - loss: 0.6563 - accuracy: 0.7706 - val_loss: 0.5774 - val_accuracy: 0.7857\n",
            "Epoch 2/10\n",
            "3375/3375 [==============================] - 6s 2ms/step - loss: 0.7391 - accuracy: 0.7150 - val_loss: 0.6771 - val_accuracy: 0.7847\n",
            "Epoch 3/10\n",
            "3375/3375 [==============================] - 7s 2ms/step - loss: 0.7370 - accuracy: 0.7619 - val_loss: 0.7410 - val_accuracy: 0.7712\n",
            "evaluation on test set\n",
            "238/238 [==============================] - 1s 2ms/step - loss: 0.7269 - accuracy: 0.7684\n"
          ]
        }
      ]
    },
    {
      "cell_type": "markdown",
      "metadata": {
        "id": "RzTSjfwptkHJ"
      },
      "source": [
        "Let's plot the results"
      ]
    },
    {
      "cell_type": "code",
      "metadata": {
        "id": "cIlN1vlioIYh",
        "colab": {
          "base_uri": "https://localhost:8080/",
          "height": 978
        },
        "outputId": "5b4bd292-0d9e-4bc2-c408-e0c15d0662a3"
      },
      "source": [
        "for learning_rate, history in zip(learning_rates, histories):\n",
        "    print(\"Learning rate:\", learning_rate)\n",
        "    plot_learning_acc_and_loss(history)"
      ],
      "execution_count": 21,
      "outputs": [
        {
          "output_type": "stream",
          "name": "stdout",
          "text": [
            "Learning rate: 0.0001\n"
          ]
        },
        {
          "output_type": "display_data",
          "data": {
            "text/plain": [
              "<Figure size 576x360 with 1 Axes>"
            ],
            "image/png": "[encoded data removed]"
          },
          "metadata": {
            "needs_background": "light"
          }
        },
        {
          "output_type": "stream",
          "name": "stdout",
          "text": [
            "Learning rate: 0.01\n"
          ]
        },
        {
          "output_type": "display_data",
          "data": {
            "text/plain": [
              "<Figure size 576x360 with 1 Axes>"
            ],
            "image/png": "[encoded data removed]"
          },
          "metadata": {
            "needs_background": "light"
          }
        },
        {
          "output_type": "stream",
          "name": "stdout",
          "text": [
            "Learning rate: 0.1\n"
          ]
        },
        {
          "output_type": "display_data",
          "data": {
            "text/plain": [
              "<Figure size 576x360 with 1 Axes>"
            ],
            "image/png": "[encoded data removed]"
          },
          "metadata": {
            "needs_background": "light"
          }
        }
      ]
    },
    {
      "cell_type": "markdown",
      "metadata": {
        "id": "_JntujSWq3e5"
      },
      "source": [
        "### GRID Search:\n",
        "\n",
        "Since a deep net has many hyperparameters, in order to find the best ones, we have to consider all the possible combinations of all of the possible values. One common method to perform this complex task is Grid-Search.\n",
        "Given a set of values for each hyper-parameter, Grid-Search will build a model on each parameter combination possible. It iterates through every parameter combination and stores a model for each combination. Finally, the model that obtained the best result on the validation set will be select.\n",
        "\n",
        "In order to perfrom Grid-Search we will use the `GridSearchCV` class from `scikit-learn`."
      ]
    },
    {
      "cell_type": "markdown",
      "metadata": {
        "id": "CPz629YSrDhN"
      },
      "source": [
        "Let's Create a `build_model()` function that takes two arguments, `n_neurons` and `learning_rate`, and builds, compiles and returns a model with the given number of of neurons and the given learning rate.\n",
        "In order to limit the time requirements of the process we will consider only these two hyper-paramters.\n",
        "\n",
        "In the following cell we define the `build_model` function."
      ]
    },
    {
      "cell_type": "code",
      "metadata": {
        "id": "oGSKWTTtqxZ4",
        "colab": {
          "base_uri": "https://localhost:8080/"
        },
        "outputId": "4e752193-bdca-484b-c04f-1e83f44d780d"
      },
      "source": [
        "def build_model(n_units=30, learning_rate=1e-3):\n",
        "    # The function has to build a model similar to the ones we used in previuous execises:\n",
        "    #- a input layer \n",
        "    #- one or two Dense layers composed of n_units and that exploit Relu activation function \n",
        "    #- the output layer that uses the softmax activation function\n",
        "    # Then, the model has to be compiled.\n",
        "    model = keras.models.Sequential([\n",
        "                                  tf.keras.Input(shape=(num_words,)),\n",
        "                                  keras.layers.Dense(n_units, activation=\"relu\"),\n",
        "                                  keras.layers.Dense(n_units, activation=\"relu\"),\n",
        "                                  keras.layers.Dense(4, activation=\"softmax\")\n",
        "                                    ])\n",
        "    \n",
        "    # Then, the model has to be compiled.\n",
        "    model.compile(loss=\"sparse_categorical_crossentropy\",\n",
        "              optimizer=keras.optimizers.Adam(learning_rate=learning_rate),\n",
        "              metrics=[\"accuracy\"])\n",
        "    \n",
        "    return model\n",
        "\n",
        "    \n",
        "# Create a keras.wrappers.scikit_learn.KerasRegressor and pass the build_model \n",
        "# function to the constructor. This gives you a Scikit-Learn compatible predictor\n",
        "keras_reg = keras.wrappers.scikit_learn.KerasRegressor(build_model)"
      ],
      "execution_count": 22,
      "outputs": [
        {
          "output_type": "stream",
          "name": "stderr",
          "text": [
            "/usr/local/lib/python3.7/dist-packages/ipykernel_launcher.py:24: DeprecationWarning: KerasRegressor is deprecated, use Sci-Keras (https://github.com/adriangb/scikeras) instead. See https://www.adriangb.com/scikeras/stable/migration.html for help migrating.\n"
          ]
        }
      ]
    },
    {
      "cell_type": "markdown",
      "metadata": {
        "id": "PS6W3A2LxDg5"
      },
      "source": [
        "Let's define the lists of hyper-parameters' values. Also in this case, we use a very limited size lists, but in a real-world scenario a reasonable amount of possible values should be considered (try to add some values and check how much the time required to perform the Grid-Search increases)"
      ]
    },
    {
      "cell_type": "code",
      "metadata": {
        "id": "y-uldCW3ru24"
      },
      "source": [
        "param_distribs = {\n",
        "    \"n_units\": [50, 170],\n",
        "    \"learning_rate\": [0.01, 1, 10]\n",
        "    # Check how the time required to perform GRID search increases when increasing the number of values for each hyper-parameter.\n",
        "}"
      ],
      "execution_count": 23,
      "outputs": []
    },
    {
      "cell_type": "markdown",
      "metadata": {
        "id": "bEiBxVYtx_sK"
      },
      "source": [
        "Use a `sklearn.model_selection.GridSearchCV` to search the hyperparameter space of your `KerasRegressor`"
      ]
    },
    {
      "cell_type": "code",
      "metadata": {
        "id": "iobF2Bvdr9ER"
      },
      "source": [
        "from sklearn.model_selection import GridSearchCV\n",
        "\n",
        "grid_search = GridSearchCV(keras_reg, param_distribs)"
      ],
      "execution_count": 24,
      "outputs": []
    },
    {
      "cell_type": "markdown",
      "metadata": {
        "id": "LVGMcZz_yKSX"
      },
      "source": [
        "Run the Grid-Search (~ 20 minutes)"
      ]
    },
    {
      "cell_type": "code",
      "metadata": {
        "id": "-BA3vgTjr-hw",
        "colab": {
          "base_uri": "https://localhost:8080/"
        },
        "outputId": "50e271ae-d1ec-4d7a-8d8c-5235e412e7be"
      },
      "source": [
        "grid_search.fit(X_train.numpy(), y_train.numpy(), epochs=5,\n",
        "                validation_data=(X_valid.numpy(), y_valid.numpy()))"
      ],
      "execution_count": 25,
      "outputs": [
        {
          "output_type": "stream",
          "name": "stdout",
          "text": [
            "Epoch 1/5\n",
            "2700/2700 [==============================] - 7s 2ms/step - loss: 0.4748 - accuracy: 0.8287 - val_loss: 0.4574 - val_accuracy: 0.8378\n",
            "Epoch 2/5\n",
            "2700/2700 [==============================] - 6s 2ms/step - loss: 0.4044 - accuracy: 0.8546 - val_loss: 0.4150 - val_accuracy: 0.8575\n",
            "Epoch 3/5\n",
            "2700/2700 [==============================] - 6s 2ms/step - loss: 0.3622 - accuracy: 0.8698 - val_loss: 0.4376 - val_accuracy: 0.8484\n",
            "Epoch 4/5\n",
            "2700/2700 [==============================] - 6s 2ms/step - loss: 0.3289 - accuracy: 0.8829 - val_loss: 0.4315 - val_accuracy: 0.8490\n",
            "Epoch 5/5\n",
            "2700/2700 [==============================] - 6s 2ms/step - loss: 0.2972 - accuracy: 0.8939 - val_loss: 0.4584 - val_accuracy: 0.8512\n",
            "675/675 [==============================] - 1s 1ms/step - loss: 0.4555 - accuracy: 0.8453\n",
            "Epoch 1/5\n",
            "2700/2700 [==============================] - 7s 2ms/step - loss: 0.4742 - accuracy: 0.8280 - val_loss: 0.4260 - val_accuracy: 0.8481\n",
            "Epoch 2/5\n",
            "2700/2700 [==============================] - 6s 2ms/step - loss: 0.3997 - accuracy: 0.8556 - val_loss: 0.4249 - val_accuracy: 0.8524\n",
            "Epoch 3/5\n",
            "2700/2700 [==============================] - 6s 2ms/step - loss: 0.3591 - accuracy: 0.8690 - val_loss: 0.4262 - val_accuracy: 0.8536\n",
            "Epoch 4/5\n",
            "2700/2700 [==============================] - 6s 2ms/step - loss: 0.3226 - accuracy: 0.8821 - val_loss: 0.4377 - val_accuracy: 0.8467\n",
            "Epoch 5/5\n",
            "2700/2700 [==============================] - 6s 2ms/step - loss: 0.2921 - accuracy: 0.8938 - val_loss: 0.4518 - val_accuracy: 0.8429\n",
            "675/675 [==============================] - 1s 1ms/step - loss: 0.4434 - accuracy: 0.8464\n",
            "Epoch 1/5\n",
            "2700/2700 [==============================] - 7s 3ms/step - loss: 0.4720 - accuracy: 0.8303 - val_loss: 0.4305 - val_accuracy: 0.8468\n",
            "Epoch 2/5\n",
            "2700/2700 [==============================] - 6s 2ms/step - loss: 0.3984 - accuracy: 0.8560 - val_loss: 0.4181 - val_accuracy: 0.8499\n",
            "Epoch 3/5\n",
            "2700/2700 [==============================] - 6s 2ms/step - loss: 0.3573 - accuracy: 0.8706 - val_loss: 0.4236 - val_accuracy: 0.8522\n",
            "Epoch 4/5\n",
            "2700/2700 [==============================] - 6s 2ms/step - loss: 0.3231 - accuracy: 0.8841 - val_loss: 0.4341 - val_accuracy: 0.8495\n",
            "Epoch 5/5\n",
            "2700/2700 [==============================] - 6s 2ms/step - loss: 0.2900 - accuracy: 0.8972 - val_loss: 0.4702 - val_accuracy: 0.8476\n",
            "675/675 [==============================] - 1s 1ms/step - loss: 0.4781 - accuracy: 0.8414\n",
            "Epoch 1/5\n",
            "2700/2700 [==============================] - 7s 2ms/step - loss: 0.4773 - accuracy: 0.8273 - val_loss: 0.4598 - val_accuracy: 0.8341\n",
            "Epoch 2/5\n",
            "2700/2700 [==============================] - 6s 2ms/step - loss: 0.4019 - accuracy: 0.8552 - val_loss: 0.4222 - val_accuracy: 0.8487\n",
            "Epoch 3/5\n",
            "2700/2700 [==============================] - 6s 2ms/step - loss: 0.3625 - accuracy: 0.8683 - val_loss: 0.4237 - val_accuracy: 0.8467\n",
            "Epoch 4/5\n",
            "2700/2700 [==============================] - 6s 2ms/step - loss: 0.3250 - accuracy: 0.8830 - val_loss: 0.4298 - val_accuracy: 0.8451\n",
            "Epoch 5/5\n",
            "2700/2700 [==============================] - 6s 2ms/step - loss: 0.2936 - accuracy: 0.8934 - val_loss: 0.4462 - val_accuracy: 0.8460\n",
            "675/675 [==============================] - 1s 1ms/step - loss: 0.4431 - accuracy: 0.8506\n",
            "Epoch 1/5\n",
            "2700/2700 [==============================] - 7s 2ms/step - loss: 0.4759 - accuracy: 0.8289 - val_loss: 0.4513 - val_accuracy: 0.8363\n",
            "Epoch 2/5\n",
            "2700/2700 [==============================] - 6s 2ms/step - loss: 0.3996 - accuracy: 0.8564 - val_loss: 0.4323 - val_accuracy: 0.8475\n",
            "Epoch 3/5\n",
            "2700/2700 [==============================] - 6s 2ms/step - loss: 0.3581 - accuracy: 0.8714 - val_loss: 0.4365 - val_accuracy: 0.8485\n",
            "Epoch 4/5\n",
            "2700/2700 [==============================] - 6s 2ms/step - loss: 0.3199 - accuracy: 0.8846 - val_loss: 0.4511 - val_accuracy: 0.8430\n",
            "Epoch 5/5\n",
            "2700/2700 [==============================] - 6s 2ms/step - loss: 0.2902 - accuracy: 0.8964 - val_loss: 0.4682 - val_accuracy: 0.8442\n",
            "675/675 [==============================] - 1s 1ms/step - loss: 0.4783 - accuracy: 0.8452\n",
            "Epoch 1/5\n",
            "2700/2700 [==============================] - 11s 4ms/step - loss: 0.4868 - accuracy: 0.8262 - val_loss: 0.4721 - val_accuracy: 0.8357\n",
            "Epoch 2/5\n",
            "2700/2700 [==============================] - 10s 4ms/step - loss: 0.3966 - accuracy: 0.8579 - val_loss: 0.4215 - val_accuracy: 0.8495\n",
            "Epoch 3/5\n",
            "2700/2700 [==============================] - 10s 4ms/step - loss: 0.3331 - accuracy: 0.8805 - val_loss: 0.4649 - val_accuracy: 0.8449\n",
            "Epoch 4/5\n",
            "2700/2700 [==============================] - 10s 4ms/step - loss: 0.2757 - accuracy: 0.8997 - val_loss: 0.4619 - val_accuracy: 0.8444\n",
            "Epoch 5/5\n",
            "2700/2700 [==============================] - 10s 4ms/step - loss: 0.2272 - accuracy: 0.9161 - val_loss: 0.5242 - val_accuracy: 0.8455\n",
            "675/675 [==============================] - 1s 2ms/step - loss: 0.5140 - accuracy: 0.8435\n",
            "Epoch 1/5\n",
            "2700/2700 [==============================] - 10s 4ms/step - loss: 0.4824 - accuracy: 0.8267 - val_loss: 0.4398 - val_accuracy: 0.8436\n",
            "Epoch 2/5\n",
            "2700/2700 [==============================] - 10s 4ms/step - loss: 0.3914 - accuracy: 0.8606 - val_loss: 0.4291 - val_accuracy: 0.8527\n",
            "Epoch 3/5\n",
            "2700/2700 [==============================] - 10s 4ms/step - loss: 0.3293 - accuracy: 0.8812 - val_loss: 0.4511 - val_accuracy: 0.8503\n",
            "Epoch 4/5\n",
            "2700/2700 [==============================] - 11s 4ms/step - loss: 0.2750 - accuracy: 0.9011 - val_loss: 0.4577 - val_accuracy: 0.8479\n",
            "Epoch 5/5\n",
            "2700/2700 [==============================] - 10s 4ms/step - loss: 0.2297 - accuracy: 0.9174 - val_loss: 0.5318 - val_accuracy: 0.8397\n",
            "675/675 [==============================] - 1s 2ms/step - loss: 0.5210 - accuracy: 0.8441\n",
            "Epoch 1/5\n",
            "2700/2700 [==============================] - 11s 4ms/step - loss: 0.4836 - accuracy: 0.8275 - val_loss: 0.4413 - val_accuracy: 0.8420\n",
            "Epoch 2/5\n",
            "2700/2700 [==============================] - 10s 4ms/step - loss: 0.3894 - accuracy: 0.8611 - val_loss: 0.4265 - val_accuracy: 0.8495\n",
            "Epoch 3/5\n",
            "2700/2700 [==============================] - 10s 4ms/step - loss: 0.3285 - accuracy: 0.8819 - val_loss: 0.4417 - val_accuracy: 0.8486\n",
            "Epoch 4/5\n",
            "2700/2700 [==============================] - 10s 4ms/step - loss: 0.2718 - accuracy: 0.9025 - val_loss: 0.4753 - val_accuracy: 0.8385\n",
            "Epoch 5/5\n",
            "2700/2700 [==============================] - 10s 4ms/step - loss: 0.2227 - accuracy: 0.9202 - val_loss: 0.5724 - val_accuracy: 0.8466\n",
            "675/675 [==============================] - 1s 2ms/step - loss: 0.5980 - accuracy: 0.8414\n",
            "Epoch 1/5\n",
            "2700/2700 [==============================] - 11s 4ms/step - loss: 0.4864 - accuracy: 0.8266 - val_loss: 0.4372 - val_accuracy: 0.8465\n",
            "Epoch 2/5\n",
            "2700/2700 [==============================] - 10s 4ms/step - loss: 0.3928 - accuracy: 0.8584 - val_loss: 0.4269 - val_accuracy: 0.8478\n",
            "Epoch 3/5\n",
            "2700/2700 [==============================] - 11s 4ms/step - loss: 0.3351 - accuracy: 0.8797 - val_loss: 0.4412 - val_accuracy: 0.8485\n",
            "Epoch 4/5\n",
            "2700/2700 [==============================] - 10s 4ms/step - loss: 0.2780 - accuracy: 0.8997 - val_loss: 0.4675 - val_accuracy: 0.8493\n",
            "Epoch 5/5\n",
            "2700/2700 [==============================] - 10s 4ms/step - loss: 0.2318 - accuracy: 0.9174 - val_loss: 0.5135 - val_accuracy: 0.8432\n",
            "675/675 [==============================] - 1s 2ms/step - loss: 0.5202 - accuracy: 0.8484\n",
            "Epoch 1/5\n",
            "2700/2700 [==============================] - 13s 5ms/step - loss: 0.4822 - accuracy: 0.8271 - val_loss: 0.4503 - val_accuracy: 0.8410\n",
            "Epoch 2/5\n",
            "2700/2700 [==============================] - 11s 4ms/step - loss: 0.3905 - accuracy: 0.8596 - val_loss: 0.4270 - val_accuracy: 0.8521\n",
            "Epoch 3/5\n",
            "2700/2700 [==============================] - 10s 4ms/step - loss: 0.3278 - accuracy: 0.8819 - val_loss: 0.4494 - val_accuracy: 0.8474\n",
            "Epoch 4/5\n",
            "2700/2700 [==============================] - 10s 4ms/step - loss: 0.2706 - accuracy: 0.9026 - val_loss: 0.4762 - val_accuracy: 0.8480\n",
            "Epoch 5/5\n",
            "2700/2700 [==============================] - 10s 4ms/step - loss: 0.2213 - accuracy: 0.9180 - val_loss: 0.5329 - val_accuracy: 0.8420\n",
            "675/675 [==============================] - 1s 2ms/step - loss: 0.5648 - accuracy: 0.8444\n",
            "Epoch 1/5\n",
            "2700/2700 [==============================] - 7s 2ms/step - loss: 2.8029 - accuracy: 0.2496 - val_loss: 1.4256 - val_accuracy: 0.2484\n",
            "Epoch 2/5\n",
            "2700/2700 [==============================] - 7s 3ms/step - loss: 2.3878 - accuracy: 0.2518 - val_loss: 1.3936 - val_accuracy: 0.2432\n",
            "Epoch 3/5\n",
            "2700/2700 [==============================] - 7s 3ms/step - loss: 1.4458 - accuracy: 0.2500 - val_loss: 1.4194 - val_accuracy: 0.2484\n",
            "Epoch 4/5\n",
            "2700/2700 [==============================] - 7s 3ms/step - loss: 1.4495 - accuracy: 0.2511 - val_loss: 1.4126 - val_accuracy: 0.2432\n",
            "Epoch 5/5\n",
            "2700/2700 [==============================] - 7s 3ms/step - loss: 1.4421 - accuracy: 0.2496 - val_loss: 1.4248 - val_accuracy: 0.2432\n",
            "675/675 [==============================] - 1s 2ms/step - loss: 1.4233 - accuracy: 0.2525\n",
            "Epoch 1/5\n",
            "2700/2700 [==============================] - 8s 3ms/step - loss: 2.8155 - accuracy: 0.2492 - val_loss: 1.4651 - val_accuracy: 0.2484\n",
            "Epoch 2/5\n",
            "2700/2700 [==============================] - 7s 3ms/step - loss: 1.9542 - accuracy: 0.2505 - val_loss: 1.4054 - val_accuracy: 0.2484\n",
            "Epoch 3/5\n",
            "2700/2700 [==============================] - 7s 3ms/step - loss: 1.4465 - accuracy: 0.2453 - val_loss: 1.3939 - val_accuracy: 0.2484\n",
            "Epoch 4/5\n",
            "2700/2700 [==============================] - 7s 3ms/step - loss: 1.4450 - accuracy: 0.2500 - val_loss: 1.5186 - val_accuracy: 0.2571\n",
            "Epoch 5/5\n",
            "2700/2700 [==============================] - 7s 3ms/step - loss: 1.4411 - accuracy: 0.2503 - val_loss: 1.4940 - val_accuracy: 0.2512\n",
            "675/675 [==============================] - 1s 2ms/step - loss: 1.4845 - accuracy: 0.2523\n",
            "Epoch 1/5\n",
            "2700/2700 [==============================] - 7s 3ms/step - loss: 4.2736 - accuracy: 0.2482 - val_loss: 1.4951 - val_accuracy: 0.2484\n",
            "Epoch 2/5\n",
            "2700/2700 [==============================] - 7s 3ms/step - loss: 5.8529 - accuracy: 0.2483 - val_loss: 1.3895 - val_accuracy: 0.2512\n",
            "Epoch 3/5\n",
            "2700/2700 [==============================] - 7s 2ms/step - loss: 1.5093 - accuracy: 0.2462 - val_loss: 1.3948 - val_accuracy: 0.2512\n",
            "Epoch 4/5\n",
            "2700/2700 [==============================] - 7s 2ms/step - loss: 1.4449 - accuracy: 0.2498 - val_loss: 1.5121 - val_accuracy: 0.2571\n",
            "Epoch 5/5\n",
            "2700/2700 [==============================] - 7s 3ms/step - loss: 1.4428 - accuracy: 0.2495 - val_loss: 1.4623 - val_accuracy: 0.2512\n",
            "675/675 [==============================] - 1s 2ms/step - loss: 2.1079 - accuracy: 0.2505\n",
            "Epoch 1/5\n",
            "2700/2700 [==============================] - 8s 3ms/step - loss: 4.5790 - accuracy: 0.2507 - val_loss: 1.4338 - val_accuracy: 0.2514\n",
            "Epoch 2/5\n",
            "2700/2700 [==============================] - 7s 3ms/step - loss: 16.6792 - accuracy: 0.2516 - val_loss: 1.3903 - val_accuracy: 0.2571\n",
            "Epoch 3/5\n",
            "2700/2700 [==============================] - 7s 2ms/step - loss: 1.9812 - accuracy: 0.2486 - val_loss: 1.3952 - val_accuracy: 0.2571\n",
            "Epoch 4/5\n",
            "2700/2700 [==============================] - 7s 2ms/step - loss: 1.4404 - accuracy: 0.2495 - val_loss: 1.4675 - val_accuracy: 0.2571\n",
            "Epoch 5/5\n",
            "2700/2700 [==============================] - 7s 3ms/step - loss: 1.4445 - accuracy: 0.2510 - val_loss: 1.4064 - val_accuracy: 0.2484\n",
            "675/675 [==============================] - 1s 2ms/step - loss: 1.4025 - accuracy: 0.2500\n",
            "Epoch 1/5\n",
            "2700/2700 [==============================] - 8s 3ms/step - loss: 4.7008 - accuracy: 0.2512 - val_loss: 2.1999 - val_accuracy: 0.2512\n",
            "Epoch 2/5\n",
            "2700/2700 [==============================] - 7s 2ms/step - loss: 10.4698 - accuracy: 0.2510 - val_loss: 1.5220 - val_accuracy: 0.2571\n",
            "Epoch 3/5\n",
            "2700/2700 [==============================] - 7s 3ms/step - loss: 1.4473 - accuracy: 0.2514 - val_loss: 1.5216 - val_accuracy: 0.2512\n",
            "Epoch 4/5\n",
            "2700/2700 [==============================] - 7s 2ms/step - loss: 1.4412 - accuracy: 0.2520 - val_loss: 1.5330 - val_accuracy: 0.2571\n",
            "Epoch 5/5\n",
            "2700/2700 [==============================] - 7s 2ms/step - loss: 1.4446 - accuracy: 0.2504 - val_loss: 1.6397 - val_accuracy: 0.2483\n",
            "675/675 [==============================] - 1s 2ms/step - loss: 1.5499 - accuracy: 0.2527\n",
            "Epoch 1/5\n",
            "2700/2700 [==============================] - 11s 4ms/step - loss: 30.4918 - accuracy: 0.2506 - val_loss: 1.6770 - val_accuracy: 0.2488\n",
            "Epoch 2/5\n",
            "2700/2700 [==============================] - 11s 4ms/step - loss: 59.7440 - accuracy: 0.2527 - val_loss: 1.3935 - val_accuracy: 0.2436\n",
            "Epoch 3/5\n",
            "2700/2700 [==============================] - 11s 4ms/step - loss: 7.6976 - accuracy: 0.2504 - val_loss: 1.4189 - val_accuracy: 0.2488\n",
            "Epoch 4/5\n",
            "2700/2700 [==============================] - 11s 4ms/step - loss: 2.1065 - accuracy: 0.2511 - val_loss: 1.4138 - val_accuracy: 0.2574\n",
            "Epoch 5/5\n",
            "2700/2700 [==============================] - 11s 4ms/step - loss: 1.4417 - accuracy: 0.2499 - val_loss: 1.4249 - val_accuracy: 0.2436\n",
            "675/675 [==============================] - 1s 2ms/step - loss: 1.4314 - accuracy: 0.2529\n",
            "Epoch 1/5\n",
            "2700/2700 [==============================] - 12s 4ms/step - loss: 42.2000 - accuracy: 0.2523 - val_loss: 3.7118 - val_accuracy: 0.2486\n",
            "Epoch 2/5\n",
            "2700/2700 [==============================] - 11s 4ms/step - loss: 75.3576 - accuracy: 0.2510 - val_loss: 18.0407 - val_accuracy: 0.2483\n",
            "Epoch 3/5\n",
            "2700/2700 [==============================] - 11s 4ms/step - loss: 82.3086 - accuracy: 0.2462 - val_loss: 1.5967 - val_accuracy: 0.2485\n",
            "Epoch 4/5\n",
            "2700/2700 [==============================] - 11s 4ms/step - loss: 46.2289 - accuracy: 0.2499 - val_loss: 1.7206 - val_accuracy: 0.2571\n",
            "Epoch 5/5\n",
            "2700/2700 [==============================] - 11s 4ms/step - loss: 1.4406 - accuracy: 0.2507 - val_loss: 1.6950 - val_accuracy: 0.2512\n",
            "675/675 [==============================] - 1s 2ms/step - loss: 1.5574 - accuracy: 0.2524\n",
            "Epoch 1/5\n",
            "2700/2700 [==============================] - 12s 4ms/step - loss: 59.5993 - accuracy: 0.2507 - val_loss: 12.3150 - val_accuracy: 0.2492\n",
            "Epoch 2/5\n",
            "2700/2700 [==============================] - 11s 4ms/step - loss: 96.1138 - accuracy: 0.2497 - val_loss: 1.8291 - val_accuracy: 0.2512\n",
            "Epoch 3/5\n",
            "2700/2700 [==============================] - 11s 4ms/step - loss: 58.1776 - accuracy: 0.2464 - val_loss: 1.3943 - val_accuracy: 0.2512\n",
            "Epoch 4/5\n",
            "2700/2700 [==============================] - 11s 4ms/step - loss: 1.5285 - accuracy: 0.2503 - val_loss: 1.5131 - val_accuracy: 0.2575\n",
            "Epoch 5/5\n",
            "2700/2700 [==============================] - 11s 4ms/step - loss: 1.4423 - accuracy: 0.2500 - val_loss: 1.4609 - val_accuracy: 0.2512\n",
            "675/675 [==============================] - 1s 2ms/step - loss: 1.7831 - accuracy: 0.2504\n",
            "Epoch 1/5\n",
            "2700/2700 [==============================] - 11s 4ms/step - loss: 25.5103 - accuracy: 0.2523 - val_loss: 7.2363 - val_accuracy: 0.2512\n",
            "Epoch 2/5\n",
            "2700/2700 [==============================] - 11s 4ms/step - loss: 99.0876 - accuracy: 0.2527 - val_loss: 61.2651 - val_accuracy: 0.2573\n",
            "Epoch 3/5\n",
            "2700/2700 [==============================] - 11s 4ms/step - loss: 170.8923 - accuracy: 0.2486 - val_loss: 16.1705 - val_accuracy: 0.2573\n",
            "Epoch 4/5\n",
            "2700/2700 [==============================] - 11s 4ms/step - loss: 18.5958 - accuracy: 0.2497 - val_loss: 14.9703 - val_accuracy: 0.2572\n",
            "Epoch 5/5\n",
            "2700/2700 [==============================] - 11s 4ms/step - loss: 12.0026 - accuracy: 0.2510 - val_loss: 1.4064 - val_accuracy: 0.2484\n",
            "675/675 [==============================] - 1s 2ms/step - loss: 1.6189 - accuracy: 0.2500\n",
            "Epoch 1/5\n",
            "2700/2700 [==============================] - 11s 4ms/step - loss: 60.5028 - accuracy: 0.2508 - val_loss: 5.4712 - val_accuracy: 0.2514\n",
            "Epoch 2/5\n",
            "2700/2700 [==============================] - 11s 4ms/step - loss: 142.8182 - accuracy: 0.2493 - val_loss: 1.6117 - val_accuracy: 0.2572\n",
            "Epoch 3/5\n",
            "2700/2700 [==============================] - 11s 4ms/step - loss: 49.1079 - accuracy: 0.2513 - val_loss: 1.4298 - val_accuracy: 0.2512\n",
            "Epoch 4/5\n",
            "2700/2700 [==============================] - 11s 4ms/step - loss: 1.9594 - accuracy: 0.2523 - val_loss: 1.4433 - val_accuracy: 0.2571\n",
            "Epoch 5/5\n",
            "2700/2700 [==============================] - 11s 4ms/step - loss: 1.4445 - accuracy: 0.2506 - val_loss: 1.5506 - val_accuracy: 0.2484\n",
            "675/675 [==============================] - 1s 2ms/step - loss: 1.7373 - accuracy: 0.2528\n",
            "Epoch 1/5\n",
            "2700/2700 [==============================] - 7s 3ms/step - loss: 2501.7756 - accuracy: 0.2494 - val_loss: 1.9405 - val_accuracy: 0.2512\n",
            "Epoch 2/5\n",
            "2700/2700 [==============================] - 7s 3ms/step - loss: 174.1823 - accuracy: 0.2501 - val_loss: 1.3988 - val_accuracy: 0.2512\n",
            "Epoch 3/5\n",
            "2700/2700 [==============================] - 7s 3ms/step - loss: 1005.2869 - accuracy: 0.2495 - val_loss: 1.9585 - val_accuracy: 0.2571\n",
            "Epoch 4/5\n",
            "2700/2700 [==============================] - 8s 3ms/step - loss: 1.8501 - accuracy: 0.2509 - val_loss: 2.2278 - val_accuracy: 0.2484\n",
            "Epoch 5/5\n",
            "2700/2700 [==============================] - 7s 3ms/step - loss: 1.8665 - accuracy: 0.2488 - val_loss: 1.8438 - val_accuracy: 0.2512\n",
            "675/675 [==============================] - 1s 2ms/step - loss: 1.8365 - accuracy: 0.2464\n",
            "Epoch 1/5\n",
            "2700/2700 [==============================] - 7s 3ms/step - loss: 1181.7502 - accuracy: 0.2516 - val_loss: 476.1963 - val_accuracy: 0.2486\n",
            "Epoch 2/5\n",
            "2700/2700 [==============================] - 7s 2ms/step - loss: 483.2462 - accuracy: 0.2522 - val_loss: 2.2526 - val_accuracy: 0.2485\n",
            "Epoch 3/5\n",
            "2700/2700 [==============================] - 7s 3ms/step - loss: 1571.5878 - accuracy: 0.2511 - val_loss: 1.5305 - val_accuracy: 0.2572\n",
            "Epoch 4/5\n",
            "2700/2700 [==============================] - 7s 3ms/step - loss: 1.8306 - accuracy: 0.2513 - val_loss: 1.6213 - val_accuracy: 0.2485\n",
            "Epoch 5/5\n",
            "2700/2700 [==============================] - 7s 3ms/step - loss: 1.8434 - accuracy: 0.2502 - val_loss: 1.4957 - val_accuracy: 0.2433\n",
            "675/675 [==============================] - 1s 2ms/step - loss: 2.7959 - accuracy: 0.2501\n",
            "Epoch 1/5\n",
            "2700/2700 [==============================] - 7s 3ms/step - loss: 2592.2039 - accuracy: 0.2502 - val_loss: 106.6441 - val_accuracy: 0.2484\n",
            "Epoch 2/5\n",
            "2700/2700 [==============================] - 7s 3ms/step - loss: 1964.0148 - accuracy: 0.2521 - val_loss: 442.9010 - val_accuracy: 0.2570\n",
            "Epoch 3/5\n",
            "2700/2700 [==============================] - 7s 2ms/step - loss: 4368.1455 - accuracy: 0.2493 - val_loss: 32.6591 - val_accuracy: 0.2571\n",
            "Epoch 4/5\n",
            "2700/2700 [==============================] - 7s 3ms/step - loss: 78.2192 - accuracy: 0.2504 - val_loss: 32.6479 - val_accuracy: 0.2484\n",
            "Epoch 5/5\n",
            "2700/2700 [==============================] - 7s 3ms/step - loss: 1.8517 - accuracy: 0.2481 - val_loss: 32.6143 - val_accuracy: 0.2484\n",
            "675/675 [==============================] - 1s 2ms/step - loss: 9.1108 - accuracy: 0.2488\n",
            "Epoch 1/5\n",
            "2700/2700 [==============================] - 8s 3ms/step - loss: 2156.0969 - accuracy: 0.2498 - val_loss: 14.5146 - val_accuracy: 0.2484\n",
            "Epoch 2/5\n",
            "2700/2700 [==============================] - 7s 3ms/step - loss: 2236.0183 - accuracy: 0.2496 - val_loss: 192.3880 - val_accuracy: 0.2512\n",
            "Epoch 3/5\n",
            "2700/2700 [==============================] - 7s 3ms/step - loss: 6.0842 - accuracy: 0.2499 - val_loss: 184.6090 - val_accuracy: 0.2432\n",
            "Epoch 4/5\n",
            "2700/2700 [==============================] - 7s 3ms/step - loss: 1.8703 - accuracy: 0.2518 - val_loss: 183.9668 - val_accuracy: 0.2482\n",
            "Epoch 5/5\n",
            "2700/2700 [==============================] - 7s 3ms/step - loss: 1.8911 - accuracy: 0.2486 - val_loss: 183.7705 - val_accuracy: 0.2482\n",
            "675/675 [==============================] - 1s 2ms/step - loss: 115.1494 - accuracy: 0.2499\n",
            "Epoch 1/5\n",
            "2700/2700 [==============================] - 8s 3ms/step - loss: 1616.1459 - accuracy: 0.2518 - val_loss: 95.1292 - val_accuracy: 0.2484\n",
            "Epoch 2/5\n",
            "2700/2700 [==============================] - 7s 3ms/step - loss: 1211.4183 - accuracy: 0.2527 - val_loss: 85.4586 - val_accuracy: 0.2512\n",
            "Epoch 3/5\n",
            "2700/2700 [==============================] - 7s 3ms/step - loss: 5443.8726 - accuracy: 0.2496 - val_loss: 85.6495 - val_accuracy: 0.2482\n",
            "Epoch 4/5\n",
            "2700/2700 [==============================] - 7s 3ms/step - loss: 1.8117 - accuracy: 0.2513 - val_loss: 85.6118 - val_accuracy: 0.2482\n",
            "Epoch 5/5\n",
            "2700/2700 [==============================] - 7s 3ms/step - loss: 1.8701 - accuracy: 0.2503 - val_loss: 85.5949 - val_accuracy: 0.2482\n",
            "675/675 [==============================] - 1s 1ms/step - loss: 1.6552 - accuracy: 0.2528\n",
            "Epoch 1/5\n",
            "2700/2700 [==============================] - 12s 4ms/step - loss: 51811.1719 - accuracy: 0.2500 - val_loss: 7449.8467 - val_accuracy: 0.2578\n",
            "Epoch 2/5\n",
            "2700/2700 [==============================] - 11s 4ms/step - loss: 32309.0898 - accuracy: 0.2498 - val_loss: 1.4579 - val_accuracy: 0.2485\n",
            "Epoch 3/5\n",
            "2700/2700 [==============================] - 11s 4ms/step - loss: 24995.2305 - accuracy: 0.2503 - val_loss: 3993.7866 - val_accuracy: 0.2512\n",
            "Epoch 4/5\n",
            "2700/2700 [==============================] - 11s 4ms/step - loss: 64497.8711 - accuracy: 0.2488 - val_loss: 1632.6094 - val_accuracy: 0.2484\n",
            "Epoch 5/5\n",
            "2700/2700 [==============================] - 10s 4ms/step - loss: 4218.4868 - accuracy: 0.2488 - val_loss: 1.8516 - val_accuracy: 0.2512\n",
            "675/675 [==============================] - 1s 2ms/step - loss: 1.8445 - accuracy: 0.2464\n",
            "Epoch 1/5\n",
            "2700/2700 [==============================] - 11s 4ms/step - loss: 22149.9746 - accuracy: 0.2506 - val_loss: 1.9713 - val_accuracy: 0.2484\n",
            "Epoch 2/5\n",
            "2700/2700 [==============================] - 10s 4ms/step - loss: 1.8443 - accuracy: 0.2526 - val_loss: 1.5363 - val_accuracy: 0.2571\n",
            "Epoch 3/5\n",
            "2700/2700 [==============================] - 10s 4ms/step - loss: 1.8576 - accuracy: 0.2510 - val_loss: 1.5222 - val_accuracy: 0.2571\n",
            "Epoch 4/5\n",
            "2700/2700 [==============================] - 11s 4ms/step - loss: 1.8538 - accuracy: 0.2515 - val_loss: 1.6488 - val_accuracy: 0.2484\n",
            "Epoch 5/5\n",
            "2700/2700 [==============================] - 11s 4ms/step - loss: 1.8353 - accuracy: 0.2536 - val_loss: 1.4568 - val_accuracy: 0.2432\n",
            "675/675 [==============================] - 1s 2ms/step - loss: 1.4519 - accuracy: 0.2500\n",
            "Epoch 1/5\n",
            "2700/2700 [==============================] - 11s 4ms/step - loss: 34489.9688 - accuracy: 0.2523 - val_loss: 69.8680 - val_accuracy: 0.2485\n",
            "Epoch 2/5\n",
            "2700/2700 [==============================] - 11s 4ms/step - loss: 41959.2383 - accuracy: 0.2524 - val_loss: 526.5468 - val_accuracy: 0.2571\n",
            "Epoch 3/5\n",
            "2700/2700 [==============================] - 11s 4ms/step - loss: 85967.4688 - accuracy: 0.2496 - val_loss: 175.2524 - val_accuracy: 0.2569\n",
            "Epoch 4/5\n",
            "2700/2700 [==============================] - 11s 4ms/step - loss: 1645.5365 - accuracy: 0.2485 - val_loss: 154.2250 - val_accuracy: 0.2486\n",
            "Epoch 5/5\n",
            "2700/2700 [==============================] - 11s 4ms/step - loss: 1.8641 - accuracy: 0.2483 - val_loss: 154.4734 - val_accuracy: 0.2513\n",
            "675/675 [==============================] - 1s 2ms/step - loss: 89.4315 - accuracy: 0.2506\n",
            "Epoch 1/5\n",
            "2700/2700 [==============================] - 11s 4ms/step - loss: 41098.3945 - accuracy: 0.2486 - val_loss: 10326.5840 - val_accuracy: 0.2512\n",
            "Epoch 2/5\n",
            "2700/2700 [==============================] - 11s 4ms/step - loss: 24212.3535 - accuracy: 0.2519 - val_loss: 2.5266 - val_accuracy: 0.2572\n",
            "Epoch 3/5\n",
            "2700/2700 [==============================] - 11s 4ms/step - loss: 393.7938 - accuracy: 0.2502 - val_loss: 2.6593 - val_accuracy: 0.2512\n",
            "Epoch 4/5\n",
            "2700/2700 [==============================] - 11s 4ms/step - loss: 1.8956 - accuracy: 0.2502 - val_loss: 1.8345 - val_accuracy: 0.2572\n",
            "Epoch 5/5\n",
            "2700/2700 [==============================] - 11s 4ms/step - loss: 1.8803 - accuracy: 0.2493 - val_loss: 1.9171 - val_accuracy: 0.2512\n",
            "675/675 [==============================] - 1s 2ms/step - loss: 1.8946 - accuracy: 0.2516\n",
            "Epoch 1/5\n",
            "2700/2700 [==============================] - 11s 4ms/step - loss: 19486.6738 - accuracy: 0.2523 - val_loss: 859.7744 - val_accuracy: 0.2516\n",
            "Epoch 2/5\n",
            "2700/2700 [==============================] - 11s 4ms/step - loss: 69268.3359 - accuracy: 0.2498 - val_loss: 17316.3555 - val_accuracy: 0.2513\n",
            "Epoch 3/5\n",
            "2700/2700 [==============================] - 11s 4ms/step - loss: 5993.3394 - accuracy: 0.2498 - val_loss: 4090.6521 - val_accuracy: 0.2483\n",
            "Epoch 4/5\n",
            "2700/2700 [==============================] - 11s 4ms/step - loss: 637.0786 - accuracy: 0.2498 - val_loss: 1.4411 - val_accuracy: 0.2513\n",
            "Epoch 5/5\n",
            "2700/2700 [==============================] - 11s 4ms/step - loss: 1.8672 - accuracy: 0.2494 - val_loss: 1.7166 - val_accuracy: 0.2484\n",
            "675/675 [==============================] - 1s 2ms/step - loss: 11.6278 - accuracy: 0.2527\n",
            "Epoch 1/5\n",
            "3375/3375 [==============================] - 9s 3ms/step - loss: 0.4641 - accuracy: 0.8328 - val_loss: 0.4244 - val_accuracy: 0.8486\n",
            "Epoch 2/5\n",
            "3375/3375 [==============================] - 8s 2ms/step - loss: 0.3987 - accuracy: 0.8557 - val_loss: 0.4134 - val_accuracy: 0.8521\n",
            "Epoch 3/5\n",
            "3375/3375 [==============================] - 8s 2ms/step - loss: 0.3657 - accuracy: 0.8671 - val_loss: 0.4172 - val_accuracy: 0.8485\n",
            "Epoch 4/5\n",
            "3375/3375 [==============================] - 8s 2ms/step - loss: 0.3350 - accuracy: 0.8799 - val_loss: 0.4384 - val_accuracy: 0.8493\n",
            "Epoch 5/5\n",
            "3375/3375 [==============================] - 9s 3ms/step - loss: 0.3085 - accuracy: 0.8889 - val_loss: 0.4585 - val_accuracy: 0.8428\n"
          ]
        },
        {
          "output_type": "execute_result",
          "data": {
            "text/plain": [
              "GridSearchCV(estimator=<keras.wrappers.scikit_learn.KerasRegressor object at 0x7f894827ba50>,\n",
              "             param_grid={'learning_rate': [0.01, 1, 10], 'n_units': [50, 170]})"
            ]
          },
          "metadata": {},
          "execution_count": 25
        }
      ]
    },
    {
      "cell_type": "markdown",
      "metadata": {
        "id": "aadmkiOoyM94"
      },
      "source": [
        "Print the best hyper-parameters, and evaluate the best model on the test set."
      ]
    },
    {
      "cell_type": "code",
      "metadata": {
        "id": "b0nL5OZkylNX",
        "colab": {
          "base_uri": "https://localhost:8080/"
        },
        "outputId": "7ed0c034-a98c-4169-d7d4-8c6b35c21221"
      },
      "source": [
        "print(grid_search.best_params_)\n",
        "\n",
        "model = grid_search.best_estimator_.model\n",
        "model.evaluate(X_test, y_test)"
      ],
      "execution_count": 26,
      "outputs": [
        {
          "output_type": "stream",
          "name": "stdout",
          "text": [
            "{'learning_rate': 0.01, 'n_units': 50}\n",
            "238/238 [==============================] - 1s 2ms/step - loss: 0.4720 - accuracy: 0.8414\n"
          ]
        },
        {
          "output_type": "execute_result",
          "data": {
            "text/plain": [
              "[0.4720192551612854, 0.8414473533630371]"
            ]
          },
          "metadata": {},
          "execution_count": 26
        }
      ]
    }
  ]
}