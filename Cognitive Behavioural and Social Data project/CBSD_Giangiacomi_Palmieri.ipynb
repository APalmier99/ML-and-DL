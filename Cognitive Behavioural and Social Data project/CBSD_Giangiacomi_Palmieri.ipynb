{
  "cells": [
    {
      "cell_type": "markdown",
      "metadata": {
        "id": "TdBPqwg0oUrH"
      },
      "source": [
        "# Cognitive, Behavioral & Social Data Project\n",
        "\n",
        "## Features stability across several Psychological Tests Datasets\n",
        "\n",
        "### Giangiacomi Angelica (2055739) - Palmieri Anthony (2038503)\n",
        "#### Academic year: 2022/2023\n",
        "_____________________"
      ]
    },
    {
      "cell_type": "markdown",
      "metadata": {
        "id": "Yvr3Cy1eqRJH"
      },
      "source": [
        "## Introduction\n",
        "\n",
        "Nowadays, Machine and Deep Learning are more and more used in different fields of study, including Cognitive Neuroscience, in which one of the most important applications regards the analysis of Psychological Tests.\n",
        "\n",
        "A Psychological Test is an objective and standardized measure of an individual's mental and/or behavioral characteristics, supported by numerical scales or category systems.\n",
        "\n",
        "In particular, in this project we studied some tests related to malingering attitudes, in order to tell apart honest from dishonest behaviors.\n",
        "To accomplish this, we used some Machine Learning techniques, including both Unsupervised and Supervised algorithms.\n",
        "The aim was to differentiate the various predictors, identifying for each of the given datasets the most relevant ones.\n",
        "Specifically, the algorithms we implemented are the following:\n",
        "\n",
        "    1. Unsupervised algorithms:\n",
        "        - PCA\n",
        "        - Sparse PCA\n",
        "        - Variance Threshold Feature Selection\n",
        "        \n",
        "    2. Supervised algorithms:\n",
        "        - Logistic Regression\n",
        "        - Support Vector Machines (SVM)\n",
        "        - Decision Tree\n",
        "        - Random Forest\n",
        "        - XGBoost\n",
        "\n",
        "In addition, upon the set of features determined by the previous models we also implemented some Greedy Features Selection strategies, in an attempt to further reduce the number of relevant predictors.\n",
        "\n",
        "All the above mentioned algorithms are tested on all the given datasets, datasets sharing more or less the same structure although with different features. In particular, each predictor is related to a specific psychological trait, quantified with an integer number within a proper range."
      ]
    },
    {
      "cell_type": "code",
      "execution_count": null,
      "metadata": {
        "colab": {
          "base_uri": "https://localhost:8080/"
        },
        "id": "eibeyWUEqRJL",
        "outputId": "909bd890-cff5-46d2-fa36-0f8dc60f6df3"
      },
      "outputs": [
        {
          "name": "stdout",
          "output_type": "stream",
          "text": [
            "Defaulting to user installation because normal site-packages is not writeable\n",
            "Requirement already satisfied: venn in /home/giangia/.local/lib/python3.10/site-packages (0.1.3)\n",
            "Requirement already satisfied: matplotlib in /home/giangia/.local/lib/python3.10/site-packages (from venn) (3.6.2)\n",
            "Requirement already satisfied: fonttools>=4.22.0 in /usr/lib/python3/dist-packages (from matplotlib->venn) (4.29.1)\n",
            "Requirement already satisfied: pyparsing>=2.2.1 in /usr/lib/python3/dist-packages (from matplotlib->venn) (2.4.7)\n",
            "Requirement already satisfied: packaging>=20.0 in /usr/lib/python3/dist-packages (from matplotlib->venn) (21.3)\n",
            "Requirement already satisfied: numpy>=1.19 in /usr/lib/python3/dist-packages (from matplotlib->venn) (1.21.5)\n",
            "Requirement already satisfied: pillow>=6.2.0 in /usr/lib/python3/dist-packages (from matplotlib->venn) (9.0.1)\n",
            "Requirement already satisfied: contourpy>=1.0.1 in /home/giangia/.local/lib/python3.10/site-packages (from matplotlib->venn) (1.0.5)\n",
            "Requirement already satisfied: kiwisolver>=1.0.1 in /usr/lib/python3/dist-packages (from matplotlib->venn) (1.3.2)\n",
            "Requirement already satisfied: python-dateutil>=2.7 in /usr/lib/python3/dist-packages (from matplotlib->venn) (2.8.1)\n",
            "Requirement already satisfied: cycler>=0.10 in /usr/lib/python3/dist-packages (from matplotlib->venn) (0.11.0)\n"
          ]
        }
      ],
      "source": [
        "# import libraries \n",
        "\n",
        "# Essentials\n",
        "import pandas as pd\n",
        "import numpy as np\n",
        "import seaborn as sns\n",
        "from numpy import linalg as la\n",
        "from pandas.api.types import is_numeric_dtype\n",
        "from collections import Counter \n",
        "\n",
        "# Preprocessing\n",
        "from sklearn.preprocessing import StandardScaler\n",
        "from sklearn.preprocessing import MinMaxScaler\n",
        "from sklearn.model_selection import train_test_split\n",
        "from sklearn.model_selection import LeaveOneOut\n",
        "from sklearn.model_selection import KFold\n",
        "from imblearn.over_sampling import SMOTE\n",
        "from imblearn.under_sampling import RandomUnderSampler\n",
        "from matplotlib_venn import venn3\n",
        "\n",
        "!pip install venn         # comment this if venn library already installed\n",
        "# Plot Venn Diagram\n",
        "from venn import venn\n",
        "\n",
        "# Feature selection\n",
        "from sklearn.inspection import permutation_importance\n",
        "from sklearn.feature_selection import SequentialFeatureSelector\n",
        "from sklearn.metrics import accuracy_score\n",
        "\n",
        "# Unsupervised Learning\n",
        "from sklearn.decomposition import PCA\n",
        "from sklearn.decomposition import SparsePCA\n",
        "from sklearn.feature_selection import VarianceThreshold\n",
        " \n",
        "# Supervised Learning\n",
        "from sklearn.linear_model import LogisticRegressionCV\n",
        "from sklearn.linear_model import LogisticRegression\n",
        "from sklearn.svm import LinearSVC\n",
        "from sklearn import tree\n",
        "from sklearn.ensemble import RandomForestClassifier\n",
        "from sklearn.linear_model import LinearRegression\n",
        "from sklearn.ensemble import GradientBoostingClassifier"
      ]
    },
    {
      "cell_type": "markdown",
      "metadata": {
        "id": "G8HMLslVykhi"
      },
      "source": [
        "The next cell is needed in case you want to connect Colab to your Google Drive and load the data directly from there."
      ]
    },
    {
      "cell_type": "code",
      "execution_count": null,
      "metadata": {
        "id": "_9bsvZ-hyT6Y"
      },
      "outputs": [],
      "source": [
        "# if you don't want to connect to your Drive just set drive_path='' and delete the rest of the cell\n",
        "# drive_path = ''\n",
        "\n",
        "# if you want to connect to your drive instead run the following, changing the path properly\n",
        "from google.colab import drive\n",
        "drive.mount('/content/drive')\n",
        "drive_path = '/content/drive/MyDrive/CBSD_project/'"
      ]
    },
    {
      "cell_type": "markdown",
      "metadata": {
        "id": "8_U3tX9JyjTG"
      },
      "source": [
        "Since the csv files for the folder 10.\\_R\\_NEO\\_PI are divided into Honest.csv and Faked.csv, we first need to merge them together into one single dataset. If you have already done this, then just skip the next cell of code."
      ]
    },
    {
      "cell_type": "code",
      "execution_count": null,
      "metadata": {
        "id": "pRdnWoYPyZ77"
      },
      "outputs": [],
      "source": [
        "# since the csv files for the folder 10._R_NEO_PI are divided into Honest.csv and Faked.csv, \n",
        "# we first need to merge them together into one single dataset.\n",
        "\n",
        "honest = pd.read_csv(drive_path+'Datasets/10._R_NEO_PI/Honest.csv', sep=';', skiprows=[0])\n",
        "honest['CONDITION'] = list('H'*honest.shape[0])\n",
        "\n",
        "dishonest = pd.read_csv(drive_path+'Datasets/10._R_NEO_PI/Faked.csv', sep=';', skiprows=[0])\n",
        "dishonest['CONDITION'] = list('D'*dishonest.shape[0])\n",
        "\n",
        "# concatenate Honest.csv and Faked.csv into a single csv file\n",
        "dataset = pd.concat([honest, dishonest])\n",
        "\n",
        "# save resulting file to the given path as 10._R_NEO_PI.csv\n",
        "dataset.to_csv(path_or_buf=drive_path+'Datasets/10._R_NEO_PI/10._R_NEO_PI.csv', index=False)"
      ]
    },
    {
      "cell_type": "markdown",
      "metadata": {
        "id": "5xwuSS1jlJW_"
      },
      "source": [
        "In the next cell we define a dictionary containing for each dataset:\n",
        "\n",
        "    - a txt file where we will save all main results;\n",
        "    - the path to the dataset;\n",
        "    - the separator for the csv file.\n",
        "\n",
        "The path and the separator are needed to load the dataset and start working on it."
      ]
    },
    {
      "cell_type": "code",
      "execution_count": null,
      "metadata": {
        "id": "w_l8b5v4lJXB"
      },
      "outputs": [],
      "source": [
        "# define the dictionary we'll use to access the datasets and start working on them\n",
        "files = {\n",
        "    1: ['DT_df_CC.txt', drive_path+'Datasets/1._shortDT_(2)/DT_df_CC.csv', ','],\n",
        "    2: ['DT_df_JI.txt', drive_path+'Datasets/1._shortDT_(2)/DT_df_JI.csv', ','],\n",
        "    3: ['PRMQ_df.txt', drive_path+'Datasets/2._PRMQ/PRMQ_df.csv', ','],\n",
        "    4: ['PCL5_df.txt', drive_path+'Datasets/3._PCL/PCL5_df.csv', ';'],\n",
        "    5: ['NAQ_R_df(1).txt', drive_path+'Datasets/4._NAQ_R/NAQ_R_df(1).csv', ';'],\n",
        "    6: ['NAQ_R_df(2).txt', drive_path+'Datasets/4._NAQ_R/NAQ_R_df(2).csv', ';'],\n",
        "    7: ['PHQ9_GAD7_df.txt', drive_path+'Datasets/5._PHQ9_GAD7/PHQ9_GAD7_df.csv', ';'],\n",
        "    8: ['PID5_df.txt', drive_path+'Datasets/6._PID5/PID5_df.csv', ';'],\n",
        "    9: ['PID5_df(1).txt', drive_path+'Datasets/6._PID5/PID5_df(1).csv', ';'],\n",
        "    10: ['PID5_df(2).txt', drive_path+'Datasets/6._PID5/PID5_df(2).csv', ';'],\n",
        "    11: ['sPID-5_df.txt', drive_path+'Datasets/7._shortPID5/sPID-5_df.csv', ','],\n",
        "    12: ['PRFQ_df.txt', drive_path+'Datasets/8._PRFQ/PRFQ_df.csv', ','],\n",
        "    13: ['IESR_df.txt', drive_path+'Datasets/9._IESR/IESR_df.csv', ','],\n",
        "    14: ['10._R_NEO_PI.txt', drive_path+'Datasets/10._R_NEO_PI/10._R_NEO_PI.csv', ','],\n",
        "    15: ['RAW_DDDT.txt', drive_path+'Datasets/11._DDDT/RAW_DDDT.csv', ','],\n",
        "    16: ['IADQ_df.txt', drive_path+'Datasets/12._IADQ/IADQ_df.csv', ','],\n",
        "    17: ['BF_df_CTU.txt', drive_path+'Datasets/13._BF_(3)/BF_df_CTU.csv', ','],\n",
        "    18: ['BF_df_OU.txt', drive_path+'Datasets/13._BF_(3)/BF_df_OU.csv', ','],\n",
        "    19: ['BF_df_V.txt', drive_path+'Datasets/13._BF_(3)/BF_df_V.csv', ','] \n",
        "}"
      ]
    },
    {
      "cell_type": "markdown",
      "metadata": {
        "id": "nXnf-qh5qRJT"
      },
      "source": [
        "## 1. Preprocessing and Data Cleaning\n",
        "\n",
        "In this section we focus on the Preprocessing phase.\n"
      ]
    },
    {
      "cell_type": "markdown",
      "metadata": {
        "id": "ZbmoZbvEqRJY"
      },
      "source": [
        "Considering we have many datasets, for computational reasons, we decided to avoid cyclying over all the datasets with a for-loop and, instead, we preferred working with one dataset at the time.\n",
        "This is the reason why, in the cell above, we put all of them in a dictionary.\n",
        "To use the dataset you want to work with, just change the $num\\_dataset$ variable according to the keys of the dictionary above."
      ]
    },
    {
      "cell_type": "code",
      "execution_count": null,
      "metadata": {
        "colab": {
          "base_uri": "https://localhost:8080/",
          "height": 236
        },
        "id": "CP6H2F0AqRJV",
        "outputId": "59e68ad3-62de-4350-b0bf-8d6fbdb9321c"
      },
      "outputs": [
        {
          "data": {
            "text/html": [
              "<div>\n",
              "<style scoped>\n",
              "    .dataframe tbody tr th:only-of-type {\n",
              "        vertical-align: middle;\n",
              "    }\n",
              "\n",
              "    .dataframe tbody tr th {\n",
              "        vertical-align: top;\n",
              "    }\n",
              "\n",
              "    .dataframe thead th {\n",
              "        text-align: right;\n",
              "    }\n",
              "</style>\n",
              "<table border=\"1\" class=\"dataframe\">\n",
              "  <thead>\n",
              "    <tr style=\"text-align: right;\">\n",
              "      <th></th>\n",
              "      <th>Mach1</th>\n",
              "      <th>Mach2</th>\n",
              "      <th>Mach3</th>\n",
              "      <th>Mach4</th>\n",
              "      <th>Mach5</th>\n",
              "      <th>Mach6</th>\n",
              "      <th>Mach7</th>\n",
              "      <th>Mach8</th>\n",
              "      <th>Mach9</th>\n",
              "      <th>Psycho1</th>\n",
              "      <th>...</th>\n",
              "      <th>Narc1</th>\n",
              "      <th>Narc2</th>\n",
              "      <th>Narc3</th>\n",
              "      <th>Narc4</th>\n",
              "      <th>Narc5</th>\n",
              "      <th>Narc6</th>\n",
              "      <th>Narc7</th>\n",
              "      <th>Narc8</th>\n",
              "      <th>Narc9</th>\n",
              "      <th>CONDITION</th>\n",
              "    </tr>\n",
              "  </thead>\n",
              "  <tbody>\n",
              "    <tr>\n",
              "      <th>0</th>\n",
              "      <td>3</td>\n",
              "      <td>3</td>\n",
              "      <td>2</td>\n",
              "      <td>4</td>\n",
              "      <td>4</td>\n",
              "      <td>3</td>\n",
              "      <td>3</td>\n",
              "      <td>3</td>\n",
              "      <td>4</td>\n",
              "      <td>2</td>\n",
              "      <td>...</td>\n",
              "      <td>3</td>\n",
              "      <td>3</td>\n",
              "      <td>3</td>\n",
              "      <td>3</td>\n",
              "      <td>3</td>\n",
              "      <td>4</td>\n",
              "      <td>3</td>\n",
              "      <td>4</td>\n",
              "      <td>2</td>\n",
              "      <td>H</td>\n",
              "    </tr>\n",
              "    <tr>\n",
              "      <th>1</th>\n",
              "      <td>4</td>\n",
              "      <td>2</td>\n",
              "      <td>1</td>\n",
              "      <td>3</td>\n",
              "      <td>4</td>\n",
              "      <td>4</td>\n",
              "      <td>4</td>\n",
              "      <td>2</td>\n",
              "      <td>2</td>\n",
              "      <td>3</td>\n",
              "      <td>...</td>\n",
              "      <td>4</td>\n",
              "      <td>1</td>\n",
              "      <td>3</td>\n",
              "      <td>3</td>\n",
              "      <td>2</td>\n",
              "      <td>2</td>\n",
              "      <td>3</td>\n",
              "      <td>4</td>\n",
              "      <td>5</td>\n",
              "      <td>H</td>\n",
              "    </tr>\n",
              "    <tr>\n",
              "      <th>2</th>\n",
              "      <td>4</td>\n",
              "      <td>1</td>\n",
              "      <td>3</td>\n",
              "      <td>3</td>\n",
              "      <td>3</td>\n",
              "      <td>1</td>\n",
              "      <td>4</td>\n",
              "      <td>1</td>\n",
              "      <td>5</td>\n",
              "      <td>1</td>\n",
              "      <td>...</td>\n",
              "      <td>3</td>\n",
              "      <td>2</td>\n",
              "      <td>3</td>\n",
              "      <td>3</td>\n",
              "      <td>2</td>\n",
              "      <td>1</td>\n",
              "      <td>2</td>\n",
              "      <td>3</td>\n",
              "      <td>3</td>\n",
              "      <td>H</td>\n",
              "    </tr>\n",
              "    <tr>\n",
              "      <th>3</th>\n",
              "      <td>4</td>\n",
              "      <td>3</td>\n",
              "      <td>1</td>\n",
              "      <td>3</td>\n",
              "      <td>3</td>\n",
              "      <td>4</td>\n",
              "      <td>2</td>\n",
              "      <td>3</td>\n",
              "      <td>4</td>\n",
              "      <td>2</td>\n",
              "      <td>...</td>\n",
              "      <td>4</td>\n",
              "      <td>4</td>\n",
              "      <td>1</td>\n",
              "      <td>2</td>\n",
              "      <td>4</td>\n",
              "      <td>2</td>\n",
              "      <td>2</td>\n",
              "      <td>3</td>\n",
              "      <td>4</td>\n",
              "      <td>H</td>\n",
              "    </tr>\n",
              "    <tr>\n",
              "      <th>4</th>\n",
              "      <td>3</td>\n",
              "      <td>2</td>\n",
              "      <td>1</td>\n",
              "      <td>2</td>\n",
              "      <td>2</td>\n",
              "      <td>3</td>\n",
              "      <td>3</td>\n",
              "      <td>2</td>\n",
              "      <td>3</td>\n",
              "      <td>2</td>\n",
              "      <td>...</td>\n",
              "      <td>2</td>\n",
              "      <td>2</td>\n",
              "      <td>2</td>\n",
              "      <td>2</td>\n",
              "      <td>3</td>\n",
              "      <td>1</td>\n",
              "      <td>1</td>\n",
              "      <td>3</td>\n",
              "      <td>4</td>\n",
              "      <td>H</td>\n",
              "    </tr>\n",
              "  </tbody>\n",
              "</table>\n",
              "<p>5 rows × 28 columns</p>\n",
              "</div>"
            ],
            "text/plain": [
              "   Mach1   Mach2   Mach3   Mach4   Mach5   Mach6   Mach7   Mach8   Mach9   \\\n",
              "0       3       3       2       4       4       3       3       3       4   \n",
              "1       4       2       1       3       4       4       4       2       2   \n",
              "2       4       1       3       3       3       1       4       1       5   \n",
              "3       4       3       1       3       3       4       2       3       4   \n",
              "4       3       2       1       2       2       3       3       2       3   \n",
              "\n",
              "   Psycho1   ...  Narc1  Narc2   Narc3   Narc4   Narc5   Narc6  Narc7   \\\n",
              "0         2  ...      3       3       3       3       3      4       3   \n",
              "1         3  ...      4       1       3       3       2      2       3   \n",
              "2         1  ...      3       2       3       3       2      1       2   \n",
              "3         2  ...      4       4       1       2       4      2       2   \n",
              "4         2  ...      2       2       2       2       3      1       1   \n",
              "\n",
              "   Narc8   Narc9   CONDITION  \n",
              "0       4       2          H  \n",
              "1       4       5          H  \n",
              "2       3       3          H  \n",
              "3       3       4          H  \n",
              "4       3       4          H  \n",
              "\n",
              "[5 rows x 28 columns]"
            ]
          },
          "execution_count": 5,
          "metadata": {},
          "output_type": "execute_result"
        }
      ],
      "source": [
        "# choose the file by changing the num_dataset variable\n",
        "num_dataset = 1\n",
        "\n",
        "# upload the dataset you want to study\n",
        "data = pd.read_csv(files[num_dataset][1], sep=files[num_dataset][2])\n",
        "\n",
        "# in txt_path specify the path you want the txt files to be saved to\n",
        "txt_path = drive_path\n",
        "# open the connection to the file we'll write the main results onto\n",
        "file = open(txt_path+files[num_dataset][0], 'w')\n",
        "\n",
        "data.head()"
      ]
    },
    {
      "cell_type": "markdown",
      "metadata": {
        "id": "Bbpd4zAWqRJb"
      },
      "source": [
        "Now we check for Na or NaN values:"
      ]
    },
    {
      "cell_type": "code",
      "execution_count": null,
      "metadata": {
        "colab": {
          "base_uri": "https://localhost:8080/"
        },
        "id": "_WkZuZBfeIoT",
        "outputId": "c5725bc7-0069-414a-b334-ef7837c62cba"
      },
      "outputs": [
        {
          "name": "stdout",
          "output_type": "stream",
          "text": [
            "Number of rows, columns:  (482, 28) \n",
            "\n",
            "number of NA/nan values per columns:\n",
            " Mach1        0\n",
            "Mach2        0\n",
            "Mach3        0\n",
            "Mach4        0\n",
            "Mach5        0\n",
            "Mach6        0\n",
            "Mach7        0\n",
            "Mach8        0\n",
            "Mach9        0\n",
            "Psycho1      0\n",
            "Psycho2      0\n",
            "Psycho3      0\n",
            "Psycho4      0\n",
            "Psycho5 H    0\n",
            "Psycho6      0\n",
            "Psycho7      0\n",
            "Psycho8      0\n",
            "Psycho9      0\n",
            "Narc1        0\n",
            "Narc2        0\n",
            "Narc3        0\n",
            "Narc4        0\n",
            "Narc5        0\n",
            "Narc6        0\n",
            "Narc7        0\n",
            "Narc8        0\n",
            "Narc9        0\n",
            "CONDITION    0\n",
            "dtype: int64 \n",
            "\n",
            "number of NA/nan values over all dataset:  0\n"
          ]
        }
      ],
      "source": [
        "# check dataset dimensions\n",
        "print('Number of rows, columns: ',data.shape,'\\n')\n",
        "\n",
        "# check for NA, nan values on each columns\n",
        "print('number of NA/nan values per columns:\\n', np.sum(data.isna()),'\\n')\n",
        "\n",
        "# dataset is clean\n",
        "print('number of NA/nan values over all dataset: ', np.sum(np.sum(data.isna())))"
      ]
    },
    {
      "cell_type": "markdown",
      "metadata": {
        "id": "VposcW6kqRJe"
      },
      "source": [
        "Since in the dataset some variables may not be numerical, we implement the one-hot-encoding technique to convert the categorical features to numerical ones:"
      ]
    },
    {
      "cell_type": "code",
      "execution_count": null,
      "metadata": {
        "colab": {
          "base_uri": "https://localhost:8080/"
        },
        "id": "Dmi0GliXguY8",
        "outputId": "738a4b3a-e11a-473c-82bd-41805e1bf045"
      },
      "outputs": [
        {
          "name": "stdout",
          "output_type": "stream",
          "text": [
            "(482, 27)\n",
            "(482,)\n"
          ]
        }
      ],
      "source": [
        "# let's initialize the numpy objects we'll use to train our models\n",
        "\n",
        "# target labels vector\n",
        "y = np.array(data.iloc[:, data.shape[1]-1])\n",
        "\n",
        "# design matrix\n",
        "data = data.iloc[:, :data.shape[1]-1]\n",
        "\n",
        "# for safety reasons, we'll work on a copy of the dataset\n",
        "data_encoded = data.copy()\n",
        "\n",
        "# get categorical features. These are the features we want to one-hot encode\n",
        "cat_cols = [col for col in data.columns if is_numeric_dtype(data.loc[:, col])==False]\n",
        "\n",
        "# move categorical variables to the end of the dataframe\n",
        "for col in cat_cols:\n",
        "    categorical = data_encoded.loc[:, col]\n",
        "    data_encoded.drop(col, axis=1, inplace=True)\n",
        "    data_encoded = pd.concat([data_encoded, categorical], axis=1)\n",
        "\n",
        "# get numerical features indexes. We need these indexes for a feature-correlation analysis\n",
        "num_cols = [i for i in range(data_encoded.shape[1]) if is_numeric_dtype(data_encoded.iloc[:, i])==True]\n",
        "\n",
        "# one-hot encode the categorical features\n",
        "if cat_cols != []:\n",
        "    data_encoded = pd.get_dummies(data_encoded, columns=cat_cols, drop_first=False)\n",
        "\n",
        "# take the indexes of categorical features after expanding via one-hot encoding\n",
        "cat_cols = np.arange(np.max(num_cols)+1, data_encoded.shape[1])\n",
        "\n",
        "# finally get the design matrix\n",
        "X = np.array(data_encoded)\n",
        "\n",
        "print(X.shape)\n",
        "print(y.shape)"
      ]
    },
    {
      "cell_type": "markdown",
      "metadata": {
        "id": "gxRCqWcRqRJg"
      },
      "source": [
        "Finally, in order to implement model selection and evaluation strategies we randomly\n",
        "divide the original dataset into two disjoint subsets:\n",
        "\n",
        "    • a Training set which we will use to train the parameters of our models (80% of original size);\n",
        "    • a Test set which we will use to test the various algorithms (20% of original size).\n",
        "    \n",
        "Eventually, on the Training set we will implement a cross validation approach to determine the optimal values\n",
        "of the hyperparameters (like regularization hyperparameters, for instance):"
      ]
    },
    {
      "cell_type": "code",
      "execution_count": null,
      "metadata": {
        "colab": {
          "base_uri": "https://localhost:8080/"
        },
        "id": "UPt3gBDHo0Kl",
        "outputId": "638e3638-7049-4a02-fff8-e86275a80440"
      },
      "outputs": [
        {
          "name": "stdout",
          "output_type": "stream",
          "text": [
            "Original dataset shape:  (482, 27)\n",
            "Train_Val set shape:  (385, 27)\n",
            "Test set shape:  (97, 27)\n"
          ]
        }
      ],
      "source": [
        "# split dataset into train-validation and test sets\n",
        "X_train_val, X_test, y_train_val, y_test = train_test_split(X, y, test_size=0.20, random_state=42)\n",
        "\n",
        "print('Original dataset shape: ',X.shape)\n",
        "print('Train_Val set shape: ',X_train_val.shape)\n",
        "print('Test set shape: ',X_test.shape)"
      ]
    },
    {
      "cell_type": "markdown",
      "metadata": {
        "id": "K6kVTUzRqRJo"
      },
      "source": [
        "## 2. Exploratory Data Analysis\n",
        "\n",
        "In this section we analyze general properties of the dataset with a preliminar Exploratory Data Analysis.\n",
        "In particular, we start by standardizing the data using the StandardScaler:"
      ]
    },
    {
      "cell_type": "code",
      "execution_count": null,
      "metadata": {
        "id": "UFrdR7e2m7DS"
      },
      "outputs": [],
      "source": [
        "# let's standardize the data via a standard scaler\n",
        "\n",
        "scaler = StandardScaler()\n",
        "scaler.fit(X_train_val)\n",
        "X_train_val_scaled = scaler.transform(X_train_val)\n",
        "X_test_scaled = scaler.transform(X_test)"
      ]
    },
    {
      "cell_type": "markdown",
      "metadata": {
        "id": "C7ioaKfyqRJq"
      },
      "source": [
        "Then we look at both the Correlation Matrix of the data and Variance Inflation Factors in order to spot a priori possible correlations and/or multicollinearity among the predictors.\n",
        "\n",
        "First, we plot the Correlations Ellipses:"
      ]
    },
    {
      "cell_type": "code",
      "execution_count": null,
      "metadata": {
        "colab": {
          "base_uri": "https://localhost:8080/",
          "height": 867
        },
        "id": "BVw3_e68qRJr",
        "outputId": "0a572f37-6067-4161-cd7c-4b9f6a364f12"
      },
      "outputs": [
        {
          "data": {
            "image/png": "[encoded data removed]",
            "text/plain": [
              "<Figure size 1368x1080 with 2 Axes>"
            ]
          },
          "metadata": {
            "needs_background": "light"
          },
          "output_type": "display_data"
        }
      ],
      "source": [
        "from matplotlib import pyplot as plt\n",
        "from matplotlib.collections import EllipseCollection\n",
        "\n",
        "# custom function to plot correlation-ellipses\n",
        "\n",
        "def plot_corr_ellipses(data, ax=None, **kwargs):\n",
        "\n",
        "    M = np.array(data)\n",
        "    if not M.ndim == 2:\n",
        "        raise ValueError('data must be a 2D array')\n",
        "    if ax is None:\n",
        "        fig, ax = plt.subplots(1, 1, subplot_kw={'aspect':'equal'})\n",
        "        ax.set_xlim(-0.5, M.shape[1] - 0.5)\n",
        "        ax.set_ylim(-0.5, M.shape[0] - 0.5)\n",
        "\n",
        "    # xy locations of each ellipse center\n",
        "    xy = np.indices(M.shape)[::-1].reshape(2, -1).T\n",
        "\n",
        "    # set the relative sizes of the major/minor axes according to the strength of\n",
        "    # the positive/negative correlation\n",
        "    w = np.ones_like(M).ravel()\n",
        "    h = 1 - np.abs(M).ravel()\n",
        "    a = 45 * np.sign(M).ravel()\n",
        "\n",
        "    ec = EllipseCollection(widths=w, heights=h, angles=a, units='x', offsets=xy,\n",
        "                           transOffset=ax.transData, array=M.ravel(), **kwargs)\n",
        "    ax.add_collection(ec)\n",
        "\n",
        "    # if data is a DataFrame, use the row/column names as tick labels\n",
        "    if isinstance(data, pd.DataFrame):\n",
        "        ax.set_xticks(np.arange(M.shape[1]))\n",
        "        ax.set_xticklabels(data.columns, rotation=90)\n",
        "        ax.set_yticks(np.arange(M.shape[0]))\n",
        "        ax.set_yticklabels(data.index)\n",
        "\n",
        "    return ec\n",
        "\n",
        "\n",
        "# plot the Correlations Ellipses\n",
        "cor = np.corrcoef(X_train_val_scaled[:, num_cols].T)\n",
        "fig, ax = plt.subplots(1, 1, figsize=(19, 15))\n",
        "m = plot_corr_ellipses(cor, ax=ax, cmap='Blues')\n",
        "cb = fig.colorbar(m)\n",
        "cb.set_label('Correlation coefficient')\n",
        "ax.margins(0.1)\n",
        "plt.show()"
      ]
    },
    {
      "cell_type": "markdown",
      "metadata": {
        "id": "1Ys6sgdAqRJu"
      },
      "source": [
        "We would like to clarify that the function we used above it is not written by us, but it is taken from Stackoverflow, specifically at the link: \n",
        "\n",
        "https://stackoverflow.com/questions/34556180/how-can-i-plot-a-correlation-matrix-as-a-set-of-ellipses-similar-to-the-r-open"
      ]
    },
    {
      "cell_type": "markdown",
      "metadata": {
        "id": "5FyXrgdcqRJv"
      },
      "source": [
        "In the next cell we implement a first simple feature selection strategy by removing highly correlated predictors; in particular if two features (i.e. two columns) $X_i$ and $X_j$ share a correlation value over a fixed threshold, then we drop the one with the highest average correlation, w.r.t. all the other variables:"
      ]
    },
    {
      "cell_type": "code",
      "execution_count": null,
      "metadata": {
        "colab": {
          "base_uri": "https://localhost:8080/"
        },
        "id": "vFgaM9z0qRJw",
        "outputId": "a3e43342-03f5-4fe7-c877-96869f2105c1"
      },
      "outputs": [
        {
          "name": "stdout",
          "output_type": "stream",
          "text": [
            "Original set of numerical features:\n",
            " [0, 1, 2, 3, 4, 5, 6, 7, 8, 9, 10, 11, 12, 13, 14, 15, 16, 17, 18, 19, 20, 21, 22, 23, 24, 25, 26]\n",
            "\n",
            "Set of numerical features after de-correlation:\n",
            " [0, 1, 2, 3, 4, 5, 6, 7, 8, 9, 10, 11, 12, 13, 14, 15, 16, 17, 18, 19, 20, 21, 22, 23, 24, 25, 26]\n"
          ]
        }
      ],
      "source": [
        "# check for correlation between numerical features\n",
        "\n",
        "# compute correlation matrix\n",
        "cor = np.corrcoef(X_train_val_scaled[:, num_cols].T)\n",
        "\n",
        "# if |cor(Xi, Xj)|>=0.8 remove one from {Xi, Xj}\n",
        "\n",
        "print('Original set of numerical features:\\n',num_cols)\n",
        "\n",
        "# save numerical columns to drop\n",
        "to_drop = []\n",
        "\n",
        "for i in range(cor.shape[0]):\n",
        "    for j in range(i+1, cor.shape[1]):\n",
        "        if np.abs(cor[i,j])>=0.8:\n",
        "            # drop the variable with highest average correlation in absolute value\n",
        "            if np.sum(np.abs(cor[i,:])) <= np.sum(np.abs(cor[j,:])):\n",
        "                to_drop.append(j)\n",
        "            else:\n",
        "                to_drop.append(i)\n",
        "\n",
        "# redefine num_cols by dropping correlated variables\n",
        "num_cols = list(set(num_cols)-set(to_drop))\n",
        "\n",
        "print('\\nSet of numerical features after de-correlation:\\n',num_cols)"
      ]
    },
    {
      "cell_type": "markdown",
      "metadata": {
        "id": "wZscSi21l4Jp"
      },
      "source": [
        "We also check for multicollinearity computing the Variance Inflation Factors (VIFs) for the numerical features:"
      ]
    },
    {
      "cell_type": "code",
      "execution_count": null,
      "metadata": {
        "colab": {
          "base_uri": "https://localhost:8080/"
        },
        "id": "20Qv3CbdqRJ0",
        "outputId": "d7e82bf0-199f-490d-c2c1-643970dac35b"
      },
      "outputs": [
        {
          "name": "stdout",
          "output_type": "stream",
          "text": [
            "\n",
            "Set of numerical features after fixing multicollinearity:\n",
            " [0, 1, 2, 3, 4, 5, 6, 7, 8, 9, 10, 11, 12, 13, 14, 15, 16, 17, 18, 19, 20, 21, 22, 23, 24, 25, 26]\n",
            "\n",
            "vifs:  [1.30148945 2.09530235 1.88677863 1.67996233 2.05975084 1.29260171\n",
            " 1.62269251 1.386383   1.49761245 2.00190181 1.68187057 1.83292461\n",
            " 1.46352962 1.92491237 1.96330798 1.30088282 1.44737614 1.77965723\n",
            " 1.63115018 1.8499326  1.43994127 1.52008474 1.46716987 1.70441572\n",
            " 1.46610313 1.30479949 1.23608816]\n"
          ]
        }
      ],
      "source": [
        "# compute VIFs for numerical features\n",
        "\n",
        "# function to compute VIFs values\n",
        "def compute_vifs(M):\n",
        "  vifs = np.zeros(M.shape[1])\n",
        "  for i in range(M.shape[1]):\n",
        "    target = M[:, i]\n",
        "    features = M[:, [j for j in range(M.shape[1]) if j!=i]]\n",
        "    reg = LinearRegression().fit(features, target)\n",
        "    TSS = np.dot(target-np.mean(target),target-np.mean(target))\n",
        "    target_pred = reg.predict(features)\n",
        "    RSS = np.dot(target-target_pred,target-target_pred)\n",
        "    r2 = 1 - RSS/TSS\n",
        "    vifs[i] = 1/(1-r2)\n",
        "  return vifs\n",
        "\n",
        "\n",
        "X_vifs = X_train_val_scaled[:, num_cols]\n",
        "vifs = compute_vifs(X_vifs)\n",
        "\n",
        "# keep dropping numerical features whose VIF values exceeds 4\n",
        "while np.sum(vifs>=4)>=1:\n",
        "  for i in range(len(vifs)):\n",
        "    if vifs[i]>=4:\n",
        "      to_drop = i\n",
        "  del num_cols[to_drop]\n",
        "  X_vifs = X_train_val_scaled[:, num_cols]\n",
        "  vifs = compute_vifs(X_vifs)\n",
        "\n",
        "print('\\nSet of numerical features after fixing multicollinearity:\\n',num_cols)\n",
        "\n",
        "print('\\nvifs: ', vifs)"
      ]
    },
    {
      "cell_type": "markdown",
      "metadata": {
        "id": "EiOsml8TqRJ4"
      },
      "source": [
        "Before moving on, we redefine Training and Test sets, after dropping correlated and multicollinear features:"
      ]
    },
    {
      "cell_type": "code",
      "execution_count": null,
      "metadata": {
        "colab": {
          "base_uri": "https://localhost:8080/"
        },
        "id": "GWcfGiurqRJ6",
        "outputId": "55a611f3-cae3-4c65-b742-fad9967c9671"
      },
      "outputs": [
        {
          "name": "stdout",
          "output_type": "stream",
          "text": [
            "(385, 27) (97, 27)\n",
            "(385, 27) (97, 27)\n"
          ]
        }
      ],
      "source": [
        "# redefine X_train_val and X_test after dropping correlated and multicollinear features\n",
        "X_train_val = X_train_val[:, np.append(num_cols, cat_cols)]\n",
        "X_test = X_test[:, np.append(num_cols, cat_cols)]\n",
        "print(X_train_val.shape, X_test.shape)\n",
        "\n",
        "# redefine X_train_val_scaled and X_test_scaled after dropping correlated and multicollinear features\n",
        "X_train_val_scaled = X_train_val_scaled[:, np.append(num_cols, cat_cols)]\n",
        "X_test_scaled = X_test_scaled[:, np.append(num_cols, cat_cols)]\n",
        "print(X_train_val_scaled.shape, X_test_scaled.shape)"
      ]
    },
    {
      "cell_type": "code",
      "execution_count": null,
      "metadata": {
        "id": "mvTXZKZmJgNY"
      },
      "outputs": [],
      "source": [
        "# save current predictors to get back original set of features after feature selection\n",
        "predictors = list(np.append(num_cols, cat_cols))\n",
        "predictors = data.columns[predictors]"
      ]
    },
    {
      "cell_type": "code",
      "execution_count": null,
      "metadata": {
        "colab": {
          "base_uri": "https://localhost:8080/"
        },
        "id": "fLaXH_Vvkdlq",
        "outputId": "770a443f-e350-42aa-93c6-68bfbdd0a6a2"
      },
      "outputs": [
        {
          "data": {
            "text/plain": [
              "Index(['Mach1 ', 'Mach2 ', 'Mach3 ', 'Mach4 ', 'Mach5 ', 'Mach6 ', 'Mach7 ',\n",
              "       'Mach8 ', 'Mach9 ', 'Psycho1 ', 'Psycho2 ', 'Psycho3 ', 'Psycho4 ',\n",
              "       'Psycho5 H', 'Psycho6', 'Psycho7 ', 'Psycho8 ', 'Psycho9 ', 'Narc1',\n",
              "       'Narc2 ', 'Narc3 ', 'Narc4 ', 'Narc5 ', 'Narc6', 'Narc7 ', 'Narc8 ',\n",
              "       'Narc9 '],\n",
              "      dtype='object')"
            ]
          },
          "execution_count": 15,
          "metadata": {},
          "output_type": "execute_result"
        }
      ],
      "source": [
        "predictors"
      ]
    },
    {
      "cell_type": "markdown",
      "metadata": {
        "id": "-rkKkOM6qRJ8"
      },
      "source": [
        "We finally take a look at the balancement of examples within the two classes, eventually applying an undersampling technique."
      ]
    },
    {
      "cell_type": "code",
      "execution_count": null,
      "metadata": {
        "colab": {
          "base_uri": "https://localhost:8080/",
          "height": 336
        },
        "id": "qmJyQMB3qRJ9",
        "outputId": "cc62d97c-dc5c-4c04-8394-70af35795ce2"
      },
      "outputs": [
        {
          "data": {
            "image/png": "[encoded data removed]",
            "text/plain": [
              "<Figure size 792x360 with 1 Axes>"
            ]
          },
          "metadata": {
            "needs_background": "light"
          },
          "output_type": "display_data"
        }
      ],
      "source": [
        "# plot the histogram of the number of examples within each class\n",
        "y_tv_df = pd.DataFrame(y_train_val, columns=['Type'])\n",
        "plt.figure(figsize=(11,5))\n",
        "y_tv_df['Type'].value_counts().plot(kind='barh', color=['blue', 'teal'], rot=0)\n",
        "plt.title('Original Class Balancement')\n",
        "plt.show()"
      ]
    },
    {
      "cell_type": "code",
      "execution_count": null,
      "metadata": {
        "colab": {
          "base_uri": "https://localhost:8080/"
        },
        "id": "o80VWAGLdvdI",
        "outputId": "8cbd5bd4-3ec7-403b-dc67-81f88db87000"
      },
      "outputs": [
        {
          "name": "stdout",
          "output_type": "stream",
          "text": [
            "Honest class:  191\n",
            "Dishonest class:  194\n",
            "\n",
            "The classes were already balanced, we did not apply undersampling.\n"
          ]
        }
      ],
      "source": [
        "# check class balance\n",
        "\n",
        "n_H = np.sum(y_train_val=='H')\n",
        "n_D = np.sum(y_train_val=='D')\n",
        "print('Honest class: ', n_H)\n",
        "print('Dishonest class: ', n_D)\n",
        "\n",
        "# store original data in case of undersampling \n",
        "original_X_train_val =  X_train_val\n",
        "original_y_train_val = y_train_val\n",
        "\n",
        "# if the unbalance between the classes exceeds 10% of entire dataset, then apply undersampling\n",
        "if np.abs(n_H-n_D)>=X_train_val.shape[0]*10/100:\n",
        "    print('\\nThe classes are not balanced, we apply a random undersampling.')\n",
        "    # apply random undersampling to balance the data\n",
        "    sm = RandomUnderSampler(random_state=42)\n",
        "    X_train_val_res, y_train_val_res = sm.fit_resample(X_train_val, y_train_val)\n",
        "    # overwrite X_train_val, y_train_val in order to apply learning algorithms on balanced data\n",
        "    X_train_val = X_train_val_res\n",
        "    y_train_val = y_train_val_res\n",
        "\n",
        "    # re-standardize the data via a standard scaler\n",
        "    scaler = StandardScaler()\n",
        "    scaler.fit(X_train_val)\n",
        "    X_train_val_scaled = scaler.transform(X_train_val)\n",
        "    X_test_scaled = scaler.transform(X_test)\n",
        "\n",
        "    y_tv_df = pd.DataFrame(y_train_val, columns=['Type'])\n",
        "    plt.figure(figsize=(11,5))\n",
        "    y_tv_df['Type'].value_counts().plot(kind='barh', color=['dodgerblue', 'lightseagreen'], rot=0)\n",
        "    \n",
        "else:\n",
        "    print('\\nThe classes were already balanced, we did not apply undersampling.')"
      ]
    },
    {
      "cell_type": "markdown",
      "metadata": {
        "id": "UV53yff3qRJ_"
      },
      "source": [
        "## 3.1 Unsupervised Learning (whole dataset)\n",
        "\n",
        "In this section we focus on unsupervised feature selection techniques.\n",
        "The unsupervised algorithms we will analyze are: \n",
        "- PCA; \n",
        "- Sparse PCA;\n",
        "- Variance Thresholding.\n",
        "\n",
        "For each of these algorithms we have implemented a specific feature extraction strategy. \n",
        "In the case of PCA and Sparse PCA we use explained variance ratios to select the right number of principal components, and then we extract relevant features from these principal components using factor analysis. \n",
        "In the case of Variance Thresholding instead, feature selection is much simpler: we simply retain the features with the highest sample variances.\n",
        "At this point we have three sets of relevant features, one per algorithm, that we somehow have to combine.\n",
        "Our strategy is to take the union of these feature sets and then apply greedy feature selection techniques in an attempt to further reduce the number of relevant predictors."
      ]
    },
    {
      "cell_type": "markdown",
      "metadata": {
        "id": "0g4rByhfXkCP"
      },
      "source": [
        "### PCA"
      ]
    },
    {
      "cell_type": "markdown",
      "metadata": {
        "id": "nMuSjRF-AOQP"
      },
      "source": [
        "Principal Component Analysis is a Dimensionality Reduction technique which works by projecting onto the subspace spanned by the directions of maximum variances within the dataset.\n",
        "In the next cell we first implement the model and we take a look at the variances explained by the selected principal components:"
      ]
    },
    {
      "cell_type": "code",
      "execution_count": null,
      "metadata": {
        "colab": {
          "base_uri": "https://localhost:8080/"
        },
        "id": "3-lAKlDs1_Vt",
        "outputId": "23cc733e-b8f2-405b-bb0d-14d54e76630a"
      },
      "outputs": [
        {
          "data": {
            "text/plain": [
              "array([0.22977059, 0.08585315, 0.07427034, 0.05747162, 0.04615354,\n",
              "       0.04258108, 0.03815573, 0.03739311, 0.03409662, 0.03096288,\n",
              "       0.02876217, 0.02760873, 0.02654397, 0.02504798, 0.02299322,\n",
              "       0.02262025])"
            ]
          },
          "execution_count": 18,
          "metadata": {},
          "output_type": "execute_result"
        }
      ],
      "source": [
        "# get number of principal components equal to the 60%\n",
        "# of the number of features in the original dataset\n",
        "# of course we get the int number\n",
        "n_comp = int(0.6 * X_train_val.shape[1])\n",
        "\n",
        "pca = PCA(n_components=n_comp, random_state=123)\n",
        "pca.fit(X_train_val_scaled)\n",
        "\n",
        "# take a look at the explained variance ratios\n",
        "pca.explained_variance_ratio_"
      ]
    },
    {
      "cell_type": "code",
      "execution_count": null,
      "metadata": {
        "colab": {
          "base_uri": "https://localhost:8080/"
        },
        "id": "JoliXwTFCDy3",
        "outputId": "34212e4a-abf2-412b-d6f0-092b8e7f8a8c"
      },
      "outputs": [
        {
          "data": {
            "text/plain": [
              "array([[-1.16550400e-01, -2.78321716e-01, -2.45212351e-01,\n",
              "        -2.13750556e-01, -2.90872652e-01, -1.16554999e-01,\n",
              "        -2.25473900e-01, -1.72352793e-01, -2.18747787e-01,\n",
              "        -2.67333862e-01, -1.22665839e-01, -2.49763211e-01,\n",
              "        -1.94726963e-01, -2.39903170e-01, -2.61223216e-01,\n",
              "        -1.14738639e-01, -2.06411710e-01, -2.14492069e-01,\n",
              "        -1.48243316e-01, -1.41804928e-01, -1.68482009e-01,\n",
              "        -9.95441843e-02, -1.86657138e-01, -1.12112708e-01,\n",
              "        -1.02280868e-01, -1.19929253e-01, -9.76235309e-02],\n",
              "       [ 5.10181268e-02, -4.77755445e-02, -1.51201035e-01,\n",
              "        -2.44596767e-01,  5.18776804e-02, -2.40384516e-01,\n",
              "         1.65071818e-01,  1.68493318e-02,  3.71326812e-02,\n",
              "         1.38203817e-01,  3.67097588e-01,  1.50098510e-04,\n",
              "         1.88953159e-01,  2.48828777e-01,  1.11819786e-02,\n",
              "         2.32316904e-01,  2.05339644e-01, -6.71664686e-02,\n",
              "        -2.97468783e-01,  1.48060863e-01, -2.57530695e-01,\n",
              "        -3.56842748e-01, -2.39835221e-01,  1.29627160e-01,\n",
              "        -2.76264835e-01, -1.56900245e-02, -1.25797052e-01],\n",
              "       [-1.46074414e-01, -1.29008783e-01, -2.11088001e-01,\n",
              "        -6.21681717e-02, -9.58484808e-02, -1.48751805e-01,\n",
              "         1.55010837e-02, -2.46017361e-01, -2.21298308e-02,\n",
              "        -2.82644162e-02,  2.93304351e-01, -1.89810094e-01,\n",
              "         6.74147544e-02, -5.22006672e-02, -2.03262890e-02,\n",
              "         1.78408729e-01,  4.78691348e-02, -2.03854041e-01,\n",
              "         3.30817757e-01,  3.23032929e-01,  1.05525425e-01,\n",
              "         3.05042320e-01, -2.13165268e-02,  2.78105132e-01,\n",
              "         3.30983943e-01,  3.30877854e-01,  2.88171661e-03],\n",
              "       [-2.06187777e-01,  1.03064253e-01,  1.53947964e-01,\n",
              "         1.92750509e-01, -6.26548936e-02,  3.20476083e-02,\n",
              "        -7.33909689e-04,  2.05733802e-01,  4.07317714e-02,\n",
              "        -1.60612018e-01, -1.48459891e-01, -1.31525071e-01,\n",
              "        -6.08921041e-03, -1.63969405e-01, -2.98187748e-01,\n",
              "        -8.73102025e-02,  8.80735433e-02,  1.77287715e-01,\n",
              "        -1.60610056e-01,  4.35956139e-01, -1.91648353e-01,\n",
              "        -1.25994233e-01,  2.19677177e-01,  4.64464838e-01,\n",
              "         6.17066676e-02, -1.45115307e-01, -2.27988588e-01],\n",
              "       [ 4.69741761e-01, -1.08841539e-01, -2.05407200e-01,\n",
              "         7.19939619e-02, -1.31805037e-02,  1.07858244e-01,\n",
              "         1.93602056e-01,  9.73019394e-02, -3.21092546e-02,\n",
              "         8.49494211e-02, -9.80106531e-02, -6.80234706e-02,\n",
              "        -2.10165908e-01,  1.19426386e-01,  2.16767670e-02,\n",
              "        -2.67361474e-01, -1.14488865e-01, -3.37649384e-01,\n",
              "         3.69258720e-02,  2.10719670e-01, -1.95922221e-01,\n",
              "        -9.49791996e-03,  1.69093531e-01,  2.39225522e-01,\n",
              "        -1.41345258e-01,  3.63531959e-05,  4.37427148e-01],\n",
              "       [ 3.92955727e-01,  1.27907661e-01,  7.41819999e-02,\n",
              "         1.48950229e-01,  9.77091920e-02, -6.17163122e-02,\n",
              "         2.38070842e-01, -1.35627615e-01,  4.38316075e-01,\n",
              "        -2.44002579e-01, -2.44761037e-02, -1.10226813e-01,\n",
              "        -1.59257536e-01, -2.80856203e-02, -1.03301624e-01,\n",
              "        -3.31435705e-02, -1.85086869e-01, -8.35839705e-02,\n",
              "        -1.81521221e-02, -1.06825293e-02, -7.70013816e-02,\n",
              "        -4.85597857e-02, -1.10371657e-01, -1.58678256e-01,\n",
              "         6.30781824e-02,  3.34020880e-01, -4.55955214e-01],\n",
              "       [ 3.76086724e-02, -2.17324729e-01, -2.04365861e-01,\n",
              "         1.09985610e-01, -4.05281506e-02,  3.18722209e-01,\n",
              "         1.11808524e-01,  2.64838834e-01,  2.16346572e-02,\n",
              "        -2.67844991e-02, -1.15635761e-01, -8.63149456e-06,\n",
              "        -5.93532601e-02,  9.11390249e-02,  8.75899678e-02,\n",
              "         4.53576388e-01,  1.90744430e-01, -3.31558769e-01,\n",
              "        -5.57186491e-02, -8.71288139e-02, -8.94056231e-02,\n",
              "         7.14876820e-02,  1.14850106e-01, -1.22340978e-01,\n",
              "         3.27519032e-01, -3.09247808e-01, -2.65821589e-01],\n",
              "       [ 1.22307284e-02, -2.34935080e-01,  7.47626349e-02,\n",
              "         1.88795740e-01,  2.66678491e-01, -5.04106550e-01,\n",
              "        -2.93613318e-01, -7.30239290e-02, -1.07722755e-01,\n",
              "        -9.22114037e-02, -1.59783701e-01,  3.47409808e-01,\n",
              "        -3.79661260e-01,  6.28986817e-02,  2.90360769e-01,\n",
              "         1.03915788e-01,  5.87542256e-02, -9.88956800e-02,\n",
              "        -3.66310956e-02,  5.18273207e-02,  8.55245398e-03,\n",
              "        -2.33564004e-02,  1.12504767e-01,  1.61781824e-01,\n",
              "        -3.77379871e-02,  2.75788427e-02, -1.34936229e-01],\n",
              "       [-2.52463324e-01,  1.82982811e-02, -1.08384324e-01,\n",
              "         3.23062683e-01, -1.42738941e-02, -9.34604850e-02,\n",
              "        -2.88645818e-01, -2.22150337e-01,  3.38417153e-01,\n",
              "         1.01419138e-01,  3.63238146e-02, -1.04194945e-01,\n",
              "         1.89839026e-01,  2.52573733e-01, -7.82726080e-02,\n",
              "        -2.49351793e-01,  2.27121742e-01, -1.92003920e-01,\n",
              "         1.25529169e-01, -7.73171649e-02, -3.38862002e-01,\n",
              "        -9.50673165e-02,  2.66284484e-01, -2.52156992e-01,\n",
              "         5.72055086e-03, -2.30702855e-02,  6.30525213e-02],\n",
              "       [ 1.63794494e-01, -2.01298110e-01, -4.30720291e-02,\n",
              "         1.85983606e-01, -2.33773098e-02,  3.33309762e-01,\n",
              "        -9.82387809e-02, -5.57682483e-01,  1.16087921e-01,\n",
              "        -6.63621492e-02, -3.74488900e-02,  7.26036579e-03,\n",
              "         2.81145189e-01, -2.17043626e-01,  2.18752260e-01,\n",
              "         1.49614428e-01, -3.04996875e-02,  2.28119884e-02,\n",
              "        -1.04150775e-01,  9.05519469e-02,  2.50244106e-01,\n",
              "        -1.72866316e-01,  1.08912533e-01,  1.75562868e-01,\n",
              "        -2.60904074e-01, -1.50422420e-01, -4.23690955e-02],\n",
              "       [-6.56306788e-02,  9.97128258e-02, -5.20410858e-02,\n",
              "         1.45492748e-01, -8.54345083e-02,  3.75794036e-01,\n",
              "        -2.58313926e-01,  7.08986093e-02, -1.99922143e-01,\n",
              "         2.80036033e-01,  2.45806981e-02,  4.40432223e-02,\n",
              "        -2.99372355e-01, -1.08568283e-01, -9.74709507e-02,\n",
              "         2.37912546e-01,  7.76068425e-02, -3.45242921e-03,\n",
              "         6.44331780e-02,  6.48843416e-03, -8.59471107e-02,\n",
              "        -3.10548543e-01,  1.78081315e-02, -4.00604564e-02,\n",
              "        -1.56175917e-01,  5.57687666e-01, -4.20658952e-02],\n",
              "       [ 3.72601243e-01,  2.37392424e-02,  3.49301857e-02,\n",
              "        -3.66589443e-02, -9.14926668e-02, -1.53391599e-01,\n",
              "        -6.83593222e-02,  5.63782425e-02, -2.98760718e-01,\n",
              "        -1.97591880e-01,  1.54070869e-01, -4.93430739e-02,\n",
              "         2.57493285e-01, -2.10174648e-01,  2.50817145e-02,\n",
              "        -1.27664936e-01,  3.41977668e-01,  2.80101956e-03,\n",
              "        -2.55535499e-01, -2.17668263e-01,  3.93332407e-02,\n",
              "        -1.52321897e-01,  3.65833947e-01, -4.61522772e-02,\n",
              "         3.04472723e-01,  2.27385749e-01,  4.07032300e-02],\n",
              "       [ 2.42668080e-01,  1.19564780e-01,  1.34654137e-01,\n",
              "         1.76290585e-02, -2.50385953e-01, -2.71881183e-01,\n",
              "         1.74886040e-03, -1.55830993e-01,  4.07771224e-02,\n",
              "         8.88229680e-02, -6.45473998e-02, -2.83199151e-01,\n",
              "        -1.41207685e-01, -9.09361383e-04, -7.85645480e-02,\n",
              "         5.29928253e-01, -3.64877645e-02,  3.29055259e-01,\n",
              "         1.86583954e-01, -1.55120337e-01, -2.47121744e-01,\n",
              "         6.64480411e-02,  2.08433833e-01,  1.73779727e-02,\n",
              "        -7.21190468e-02, -1.64847101e-01,  1.91118804e-01],\n",
              "       [ 6.94859663e-02,  8.05919052e-03,  1.00208492e-01,\n",
              "        -1.99952935e-01, -5.09649671e-02,  7.96741684e-02,\n",
              "        -1.34945745e-01,  1.82391179e-03, -1.61953533e-01,\n",
              "         1.32266643e-01,  2.02728549e-01,  2.80226860e-01,\n",
              "         2.30739671e-01, -2.20142638e-02,  1.40277165e-01,\n",
              "        -3.06971924e-02, -5.62109195e-01, -2.44368908e-02,\n",
              "         1.15210078e-01,  1.01902272e-01, -3.95986434e-01,\n",
              "         4.73625374e-02,  3.04265707e-01, -4.52900996e-02,\n",
              "         7.73290375e-02, -3.79115359e-02, -2.80916834e-01],\n",
              "       [ 1.41529914e-01, -1.02215769e-01, -1.19177346e-01,\n",
              "         1.23756302e-01, -1.31474490e-01, -7.91755922e-02,\n",
              "         1.27872734e-01,  3.84031431e-02, -2.71680434e-01,\n",
              "         1.17756598e-01, -2.90497246e-01,  9.05975863e-02,\n",
              "         2.87176213e-01,  5.00850529e-02, -1.45951920e-01,\n",
              "        -9.31196794e-02,  2.54889678e-01,  5.36956661e-02,\n",
              "         1.84653284e-01, -4.74438399e-02, -6.15966097e-02,\n",
              "         4.12327723e-01, -2.49772424e-02,  9.74519193e-03,\n",
              "        -4.24487776e-01,  1.26101794e-01, -3.58577809e-01],\n",
              "       [-8.38762359e-02, -1.92974624e-01, -8.36332276e-03,\n",
              "        -2.25458357e-02,  2.70334442e-02, -9.52962184e-02,\n",
              "        -2.15090914e-02,  2.20288259e-01,  3.86784966e-02,\n",
              "         1.00340581e-01,  1.54735996e-01, -3.27182272e-01,\n",
              "        -3.60246136e-02,  2.97674450e-01, -1.54062176e-01,\n",
              "         2.48756052e-02, -2.68816310e-01, -4.37508463e-02,\n",
              "        -1.03170904e-01, -8.84252189e-02,  4.95565099e-01,\n",
              "        -2.12209995e-02,  4.60142536e-01, -4.82302562e-03,\n",
              "        -2.39797426e-01,  6.36245737e-02, -1.65976038e-01]])"
            ]
          },
          "execution_count": 19,
          "metadata": {},
          "output_type": "execute_result"
        }
      ],
      "source": [
        "pca.components_"
      ]
    },
    {
      "cell_type": "markdown",
      "metadata": {
        "id": "zNIJ0N8wB2wD"
      },
      "source": [
        "To better understand the contribution of each feature to the selected principal components, a color matrix is plotted in the next cell, where the columns represent the selected principal components and each row refers to a specific feature in the dataset.\n",
        "This colormap shows us the influence that the various predictors exert on the principal components."
      ]
    },
    {
      "cell_type": "code",
      "execution_count": null,
      "metadata": {
        "colab": {
          "base_uri": "https://localhost:8080/",
          "height": 732
        },
        "id": "Sx4szPv8BjlG",
        "outputId": "22b44eff-a78d-4498-c9a1-915ad5d53ced"
      },
      "outputs": [
        {
          "data": {
            "image/png": "[encoded data removed]",
            "text/plain": [
              "<Figure size 576x14400 with 2 Axes>"
            ]
          },
          "metadata": {
            "needs_background": "light"
          },
          "output_type": "display_data"
        }
      ],
      "source": [
        "plt.figure(figsize=(8, 200))\n",
        "im = plt.imshow(np.abs(pca.components_.T), cmap = plt.cm.Blues)\n",
        "plt.yticks(range(len(predictors)), predictors)\n",
        "plt.colorbar(im,fraction=0.0785, pad=0.04)\n",
        "plt.show()"
      ]
    },
    {
      "cell_type": "code",
      "execution_count": null,
      "metadata": {
        "colab": {
          "base_uri": "https://localhost:8080/"
        },
        "id": "FLqE5rJmqRKC",
        "outputId": "49019193-b262-47b3-bfa4-2eaa3d95c405"
      },
      "outputs": [
        {
          "name": "stdout",
          "output_type": "stream",
          "text": [
            "Percentage of total variance explained by the first 16 components:  83.03%\n"
          ]
        }
      ],
      "source": [
        "# total explained variance\n",
        "total_explained_variance = sum(pca.explained_variance_ratio_)\n",
        "print('Percentage of total variance explained by the first',n_comp,'components: ', str(round(total_explained_variance * 100, 2))+'%')"
      ]
    },
    {
      "cell_type": "code",
      "execution_count": null,
      "metadata": {
        "colab": {
          "base_uri": "https://localhost:8080/"
        },
        "id": "aVHj2EvylJXr",
        "outputId": "8ae4a9cb-970b-4ae4-c774-c855dbd4405d"
      },
      "outputs": [
        {
          "data": {
            "text/plain": [
              "18"
            ]
          },
          "execution_count": 22,
          "metadata": {},
          "output_type": "execute_result"
        }
      ],
      "source": [
        "# save the result onto the txt file\n",
        "file.write('UNSUPERVISED WHOLE DATASET')\n",
        "file.write('\\n\\n\\nPercentage of total variance explained by the first ')\n",
        "file.write(str(n_comp))\n",
        "file.write(' components: ')\n",
        "file.write(str(total_explained_variance))"
      ]
    },
    {
      "cell_type": "markdown",
      "metadata": {
        "id": "zgWIlEgZAOQS"
      },
      "source": [
        "We now want to reduce the number of selected components, retaining only the most relevant ones. To do this we look at the explained variance ratios.\n",
        "In particular, our strategy is to keep a principal component as long as the related explained variance ratio is at most 5% smaller than the highest explained variance ratio."
      ]
    },
    {
      "cell_type": "code",
      "execution_count": null,
      "metadata": {
        "colab": {
          "base_uri": "https://localhost:8080/"
        },
        "id": "C6MZIRmPqRKE",
        "outputId": "598ff187-0414-4bf5-d6e1-17dc2836d364"
      },
      "outputs": [
        {
          "data": {
            "text/plain": [
              "[0]"
            ]
          },
          "execution_count": 23,
          "metadata": {},
          "output_type": "execute_result"
        }
      ],
      "source": [
        "selected_eigenvectors = []\n",
        "explained_variance = pca.explained_variance_ratio_\n",
        "\n",
        "for i in range(len(explained_variance)):\n",
        "    if explained_variance[0] - explained_variance[i] < 0.05:\n",
        "        selected_eigenvectors.append(i)\n",
        "    else:\n",
        "        break\n",
        "\n",
        "selected_eigenvectors"
      ]
    },
    {
      "cell_type": "markdown",
      "metadata": {
        "id": "oEGQ5PzaAOQU"
      },
      "source": [
        "Now we start the feature selection by extracting the most relevant features from each one of the selected principal components.\n",
        "In particular, for each principal component we extract those features associated with the 25% highest coefficients, in absolute value."
      ]
    },
    {
      "cell_type": "code",
      "execution_count": null,
      "metadata": {
        "colab": {
          "base_uri": "https://localhost:8080/"
        },
        "id": "WjiOZ_F7qRKF",
        "outputId": "5c47aa87-9b14-4399-ad06-d70c9afdf8ec"
      },
      "outputs": [
        {
          "name": "stdout",
          "output_type": "stream",
          "text": [
            "Features that are sufficiently relevant:\n",
            "\n",
            " Index(['Mach2 ', 'Mach3 ', 'Mach5 ', 'Psycho1 ', 'Psycho3 ', 'Psycho5 H',\n",
            "       'Psycho6'],\n",
            "      dtype='object')\n"
          ]
        }
      ],
      "source": [
        "features_extracted = np.zeros(pca.components_.shape[1])\n",
        "for component in np.abs(pca.components_[selected_eigenvectors]):\n",
        "    percentile = np.percentile(component, 75)    \n",
        "    features_extracted = np.logical_or(features_extracted, component>=percentile)\n",
        "\n",
        "features_pca = features_extracted\n",
        "print('Features that are sufficiently relevant:\\n\\n', predictors[features_pca])"
      ]
    },
    {
      "cell_type": "code",
      "execution_count": null,
      "metadata": {
        "colab": {
          "base_uri": "https://localhost:8080/"
        },
        "id": "X0-wftXtlJXu",
        "outputId": "7c739893-e533-43a2-eef8-f6b896759612"
      },
      "outputs": [
        {
          "data": {
            "text/plain": [
              "78"
            ]
          },
          "execution_count": 25,
          "metadata": {},
          "output_type": "execute_result"
        }
      ],
      "source": [
        "file.write('\\n\\nFeatures Selected via PCA: ')\n",
        "file.write(str(list(predictors[features_pca])))"
      ]
    },
    {
      "cell_type": "markdown",
      "metadata": {
        "id": "GD2VXe8IX0mb"
      },
      "source": [
        "### Sparse PCA"
      ]
    },
    {
      "cell_type": "markdown",
      "metadata": {
        "id": "CzbJzHb7Xy9g"
      },
      "source": [
        "A typical issue with PCA is that the principal components are usually combinations of the entire feature set, which may affect the interpretability of the model.\n",
        "The Sparse PCA overcomes this disadvantage by finding linear combinations that contain just a few input variables.\n",
        "In other words, in Sparse PCA the principal components tend to be sparse.\n",
        "\n",
        "In the next cell we implement this algorithm:"
      ]
    },
    {
      "cell_type": "code",
      "execution_count": null,
      "metadata": {
        "colab": {
          "base_uri": "https://localhost:8080/"
        },
        "id": "mki_s4DuqRKB",
        "outputId": "89e67890-ca96-4474-d2e4-a565be0fbda2"
      },
      "outputs": [
        {
          "name": "stdout",
          "output_type": "stream",
          "text": [
            "\n",
            "Number of times each feature appears in the selected components:\n",
            "\n",
            " [ 1.  6.  3.  2.  5.  1.  7.  1.  1. 10.  6.  3.  2.  7.  8.  1.  1.  3.\n",
            "  4.  2.  1.  1.  2.  1.  1.  1.  1.]\n",
            "\n",
            "\n",
            "Features that appear a number of times greater than the mean frequency:\n",
            "\n",
            " Index(['Mach2 ', 'Mach5 ', 'Mach7 ', 'Psycho1 ', 'Psycho2 ', 'Psycho5 H',\n",
            "       'Psycho6', 'Narc1'],\n",
            "      dtype='object')\n"
          ]
        }
      ],
      "source": [
        "# get number of principal components equal to the 60%\n",
        "# of the number of features in the original dataset\n",
        "# of course we get the int number\n",
        "n_comp = int(0.6 * X_train_val.shape[1])\n",
        "\n",
        "sparse_pca = SparsePCA(n_components=n_comp, random_state=123, alpha=1)\n",
        "sparse_pca.fit(X_train_val_scaled)\n",
        "\n",
        "# the feature selection on sparse PCA is much simpler.\n",
        "# For each principal component we retain only the features associated with non-zero coefficients \n",
        "features_extracted = np.zeros(sparse_pca.components_.shape[1])\n",
        "for component in sparse_pca.components_:\n",
        "    features_extracted += (component!=0)\n",
        "print('\\nNumber of times each feature appears in the selected components:\\n\\n',features_extracted)\n",
        "\n",
        "# extract only those features whose frequencies are greater or equal than the mean frequency\n",
        "features_sparse_pca = (features_extracted>=np.mean(features_extracted))\n",
        "print('\\n\\nFeatures that appear a number of times greater than the mean frequency:\\n\\n', predictors[features_sparse_pca])"
      ]
    },
    {
      "cell_type": "markdown",
      "metadata": {
        "id": "647VSo_XJpo7"
      },
      "source": [
        "To better understand SparsePCA and the difference sparsity induces on the principal components, let'have a look at the color matrix."
      ]
    },
    {
      "cell_type": "code",
      "execution_count": null,
      "metadata": {
        "colab": {
          "base_uri": "https://localhost:8080/",
          "height": 738
        },
        "id": "Kq4CVQKoL5s-",
        "outputId": "e0804a49-b52a-4ef9-8732-adab1445f11a"
      },
      "outputs": [
        {
          "data": {
            "image/png": "[encoded data removed]",
            "text/plain": [
              "<Figure size 576x14400 with 2 Axes>"
            ]
          },
          "metadata": {
            "needs_background": "light"
          },
          "output_type": "display_data"
        }
      ],
      "source": [
        "plt.figure(figsize=(8, 200))\n",
        "im = plt.imshow(np.abs(sparse_pca.components_.T), cmap = plt.cm.Blues)\n",
        "plt.yticks(range(len(predictors)), predictors)\n",
        "plt.colorbar(im,fraction=0.0785, pad=0.04)\n",
        "plt.show()"
      ]
    },
    {
      "cell_type": "code",
      "execution_count": null,
      "metadata": {
        "colab": {
          "base_uri": "https://localhost:8080/"
        },
        "id": "2fGqYI-2bnNU",
        "outputId": "1f2f1115-ddab-4e5a-8704-29ad6962015e"
      },
      "outputs": [
        {
          "data": {
            "text/plain": [
              "87"
            ]
          },
          "execution_count": 28,
          "metadata": {},
          "output_type": "execute_result"
        }
      ],
      "source": [
        "file.write('\\n\\nFeatures Selected via Sparse PCA: ')\n",
        "file.write(str(list(predictors[features_sparse_pca])))"
      ]
    },
    {
      "cell_type": "markdown",
      "metadata": {
        "id": "XRuUwYF4XorC"
      },
      "source": [
        "### Variance Thresholding"
      ]
    },
    {
      "cell_type": "markdown",
      "metadata": {
        "id": "2BPBthRdqRKI"
      },
      "source": [
        "The last Unsupervised feature selection technique we are going to consider is Variance Thresholding, which removes features with sample variance lower than a fixed threshold:"
      ]
    },
    {
      "cell_type": "code",
      "execution_count": null,
      "metadata": {
        "colab": {
          "base_uri": "https://localhost:8080/"
        },
        "id": "RDDZkHwLqRKJ",
        "outputId": "62d52816-93e7-4299-b234-4009baef9fd6"
      },
      "outputs": [
        {
          "name": "stdout",
          "output_type": "stream",
          "text": [
            "Selected features based on variance thresholding:\n",
            "\n",
            " Index(['Mach2 ', 'Mach4 ', 'Mach5 ', 'Mach8 ', 'Mach9 ', 'Psycho1 ',\n",
            "       'Psycho5 H'],\n",
            "      dtype='object')\n"
          ]
        }
      ],
      "source": [
        "# VarianceThreshold approach\n",
        "\n",
        "# first of all let's compute the variances\n",
        "variances = np.var(X_train_val, axis=0)\n",
        "\n",
        "\n",
        "# in the following we implement two different strategies to select a threshold\n",
        "# just uncomment the one you want you use\n",
        "\n",
        "# first approach to set a threshold\n",
        "# alpha = 0.5\n",
        "# threshold = (1-alpha)*np.min(variances)+alpha*np.max(variances)\n",
        "\n",
        "# set a threshold using percentiles \n",
        "threshold = np.percentile(variances, 75)\n",
        "\n",
        "# let's see the selected features\n",
        "features_varthresh = (variances>=threshold)\n",
        "print('Selected features based on variance thresholding:\\n\\n', predictors[features_varthresh])"
      ]
    },
    {
      "cell_type": "code",
      "execution_count": null,
      "metadata": {
        "colab": {
          "base_uri": "https://localhost:8080/"
        },
        "id": "5zUQE_AAb5QQ",
        "outputId": "d3783ac9-6da7-41d8-84d4-4727dc43c2d9"
      },
      "outputs": [
        {
          "data": {
            "text/plain": [
              "75"
            ]
          },
          "execution_count": 30,
          "metadata": {},
          "output_type": "execute_result"
        }
      ],
      "source": [
        "file.write('\\n\\nFeatures Selected via Variance Thresholding: ')\n",
        "file.write(str(list(predictors[features_varthresh])))"
      ]
    },
    {
      "cell_type": "markdown",
      "metadata": {
        "id": "Vc8F33N0ZIUm"
      },
      "source": [
        "### Union to find best subset of features"
      ]
    },
    {
      "cell_type": "markdown",
      "metadata": {
        "id": "xIYFVHQBqRKK"
      },
      "source": [
        "To conclude this part, we now want to combine somehow the set or relevant predictors found by the various algorithms.\n",
        "Our strategy is to take the union of said feature sets, and upon this union set apply Greedy Feature Selection techniques."
      ]
    },
    {
      "cell_type": "code",
      "execution_count": null,
      "metadata": {
        "colab": {
          "base_uri": "https://localhost:8080/"
        },
        "id": "hKSnClmXqRKL",
        "outputId": "e6a5c443-1860-4466-ac6b-1381da0a1e9c"
      },
      "outputs": [
        {
          "name": "stdout",
          "output_type": "stream",
          "text": [
            "Final set of features from Unsupervised Algorithms:\n",
            "\n",
            " ['Mach2 ', 'Mach3 ', 'Mach5 ', 'Mach7 ', 'Psycho1 ', 'Psycho2 ', 'Psycho3 ', 'Psycho5 H', 'Psycho6', 'Narc1']\n"
          ]
        }
      ],
      "source": [
        "# take the union among all the extracted features sets\n",
        "# found through the different unsupervised learning techniques\n",
        "features_set_unsup = np.logical_or(features_pca, features_sparse_pca, features_varthresh)\n",
        "features_unsup = [i for i in range(len(features_set_unsup)) if features_set_unsup[i]==True]\n",
        "features_selected = [predictors[i] for i in features_unsup]\n",
        "print('Final set of features from Unsupervised Algorithms:\\n\\n', features_selected)"
      ]
    },
    {
      "cell_type": "code",
      "execution_count": null,
      "metadata": {
        "colab": {
          "base_uri": "https://localhost:8080/"
        },
        "id": "TnHb-snslJX5",
        "outputId": "bd4f6b2b-571f-4c79-d7f3-fa3927668680"
      },
      "outputs": [
        {
          "data": {
            "text/plain": [
              "109"
            ]
          },
          "execution_count": 32,
          "metadata": {},
          "output_type": "execute_result"
        }
      ],
      "source": [
        "file.write('\\n\\n(Union) Final set of features from Unsupervised Algorithms: ')\n",
        "file.write(str(features_selected))"
      ]
    },
    {
      "cell_type": "markdown",
      "metadata": {
        "id": "4KG4pwfdZqQp"
      },
      "source": [
        "Finally, let's implement a Logistic Regression to check how this subset of features behaves."
      ]
    },
    {
      "cell_type": "code",
      "execution_count": null,
      "metadata": {
        "colab": {
          "base_uri": "https://localhost:8080/"
        },
        "id": "-K-CjdUoZ8Xf",
        "outputId": "9eb3ae6a-195c-4299-fc3e-ec00917dade1"
      },
      "outputs": [
        {
          "name": "stdout",
          "output_type": "stream",
          "text": [
            "Accuracy on train: 0.7636363636363637\n",
            "Accuracy on test: 0.7628865979381443\n"
          ]
        }
      ],
      "source": [
        "# logistic regression\n",
        "\n",
        "max_iter = 1000\n",
        "C = [0.01, 0.1, 1]\n",
        "logreg_clf = LogisticRegressionCV(penalty='l2', Cs=C, max_iter=max_iter, cv=KFold())\n",
        "logreg_clf = logreg_clf.fit(X_train_val_scaled[:, features_unsup], y_train_val)\n",
        "y_train_val_pred = logreg_clf.predict(X_train_val_scaled[:, features_unsup])\n",
        "y_test_pred = logreg_clf.predict(X_test_scaled[:, features_unsup])\n",
        "\n",
        "print('Accuracy on train:', np.mean(y_train_val==y_train_val_pred))\n",
        "print('Accuracy on test:', np.mean(y_test==y_test_pred))"
      ]
    },
    {
      "cell_type": "code",
      "execution_count": null,
      "metadata": {
        "colab": {
          "base_uri": "https://localhost:8080/"
        },
        "id": "ZpGvRwI9lJX7",
        "outputId": "49fa1f61-a9ec-4b80-d56c-bbbca213b2d7"
      },
      "outputs": [
        {
          "data": {
            "text/plain": [
              "18"
            ]
          },
          "execution_count": 34,
          "metadata": {},
          "output_type": "execute_result"
        }
      ],
      "source": [
        "file.write('\\n\\nResult after applying Logistic Regression: \\nOn train: ')\n",
        "file.write(str(np.mean(y_train_val==y_train_val_pred)))\n",
        "file.write('\\nOn test: ')\n",
        "file.write(str(np.mean(y_test==y_test_pred)))"
      ]
    },
    {
      "cell_type": "markdown",
      "metadata": {
        "id": "z0DkCkVpacdW"
      },
      "source": [
        "Let's check whether we can further reduce this subset of features via greedy selection techniques. In particular we apply both Forward and Backward Selections, based on the accuracy score."
      ]
    },
    {
      "cell_type": "code",
      "execution_count": null,
      "metadata": {
        "colab": {
          "base_uri": "https://localhost:8080/"
        },
        "id": "7NwnA9fWqRKN",
        "outputId": "690a3b9b-47f1-46af-aee2-67207d4de680"
      },
      "outputs": [
        {
          "name": "stderr",
          "output_type": "stream",
          "text": [
            "/home/giangia/.local/lib/python3.10/site-packages/sklearn/feature_selection/_sequential.py:188: FutureWarning: Leaving `n_features_to_select` to None is deprecated in 1.0 and will become 'auto' in 1.3. To keep the same behaviour as with None (i.e. select half of the features) and avoid this warning, you should manually set `n_features_to_select='auto'` and set tol=None when creating an instance.\n",
            "  warnings.warn(\n"
          ]
        },
        {
          "name": "stdout",
          "output_type": "stream",
          "text": [
            "Final features after greedy forward selection:  Index(['Mach3 ', 'Psycho1 ', 'Psycho2 ', 'Psycho3 ', 'Psycho5 H'], dtype='object')\n",
            "Accuracy on train: 0.7402597402597403\n",
            "Accuracy on test: 0.7628865979381443\n"
          ]
        }
      ],
      "source": [
        "lreg = LogisticRegression()\n",
        "\n",
        "# apply Forward selection\n",
        "sfs = SequentialFeatureSelector(lreg, direction='forward')\n",
        "sfs.fit(X_train_val_scaled[:, features_unsup], y_train_val)\n",
        "final_features_forward = [features_unsup[i] for i in range(len(features_unsup)) if sfs.get_support()[i]>0]\n",
        "print('Final features after greedy forward selection: ', predictors[final_features_forward])\n",
        "\n",
        "# fit the model once again\n",
        "logreg_clf = logreg_clf.fit(X_train_val_scaled[:, final_features_forward], y_train_val)\n",
        "y_train_val_pred = logreg_clf.predict(X_train_val_scaled[:, final_features_forward])\n",
        "y_test_pred = logreg_clf.predict(X_test_scaled[:, final_features_forward])\n",
        "\n",
        "print('Accuracy on train:', np.mean(y_train_val==y_train_val_pred))\n",
        "print('Accuracy on test:', np.mean(y_test==y_test_pred))"
      ]
    },
    {
      "cell_type": "code",
      "execution_count": null,
      "metadata": {
        "colab": {
          "base_uri": "https://localhost:8080/"
        },
        "id": "5y0rFiU4lJX-",
        "outputId": "6cb02149-4289-4bba-f8c4-76266f6e0053"
      },
      "outputs": [
        {
          "data": {
            "text/plain": [
              "18"
            ]
          },
          "execution_count": 36,
          "metadata": {},
          "output_type": "execute_result"
        }
      ],
      "source": [
        "file.write('\\n\\nFinal features after greedy forward selection: ')\n",
        "file.write(str(list(predictors[final_features_forward])))\n",
        "file.write('\\nAccuracy on Train: ')\n",
        "file.write(str(np.mean(y_train_val==y_train_val_pred)))\n",
        "file.write('\\nAccuracy on Test: ')\n",
        "file.write(str(np.mean(y_test==y_test_pred)))"
      ]
    },
    {
      "cell_type": "code",
      "execution_count": null,
      "metadata": {
        "colab": {
          "base_uri": "https://localhost:8080/"
        },
        "id": "C1eFqbHGbPMH",
        "outputId": "ff46f557-9338-441c-bdd2-3574acd9752f"
      },
      "outputs": [
        {
          "name": "stderr",
          "output_type": "stream",
          "text": [
            "/home/giangia/.local/lib/python3.10/site-packages/sklearn/feature_selection/_sequential.py:188: FutureWarning: Leaving `n_features_to_select` to None is deprecated in 1.0 and will become 'auto' in 1.3. To keep the same behaviour as with None (i.e. select half of the features) and avoid this warning, you should manually set `n_features_to_select='auto'` and set tol=None when creating an instance.\n",
            "  warnings.warn(\n"
          ]
        },
        {
          "name": "stdout",
          "output_type": "stream",
          "text": [
            "Final features after greedy backward selection:  Index(['Mach2 ', 'Mach3 ', 'Mach7 ', 'Psycho5 H', 'Psycho6'], dtype='object')\n",
            "Accuracy on train: 0.7298701298701299\n",
            "Accuracy on test: 0.7010309278350515\n"
          ]
        }
      ],
      "source": [
        "# apply Backward selection\n",
        "sfs = SequentialFeatureSelector(lreg, direction='backward')\n",
        "sfs.fit(X_train_val_scaled[:, features_unsup], y_train_val)\n",
        "final_features_backward = [features_unsup[i] for i in range(len(features_unsup)) if sfs.get_support()[i]>0]\n",
        "print('Final features after greedy backward selection: ', predictors[final_features_backward])\n",
        "\n",
        "# fit the model once again\n",
        "logreg_clf = logreg_clf.fit(X_train_val_scaled[:, final_features_backward], y_train_val)\n",
        "y_train_val_pred = logreg_clf.predict(X_train_val_scaled[:, final_features_backward])\n",
        "y_test_pred = logreg_clf.predict(X_test_scaled[:, final_features_backward])\n",
        "\n",
        "print('Accuracy on train:', np.mean(y_train_val==y_train_val_pred))\n",
        "print('Accuracy on test:', np.mean(y_test==y_test_pred))"
      ]
    },
    {
      "cell_type": "code",
      "execution_count": null,
      "metadata": {
        "colab": {
          "base_uri": "https://localhost:8080/"
        },
        "id": "RhOOyo8GlJYA",
        "outputId": "4b9b1035-c926-4ae4-ac5f-ba983864c70b"
      },
      "outputs": [
        {
          "data": {
            "text/plain": [
              "18"
            ]
          },
          "execution_count": 38,
          "metadata": {},
          "output_type": "execute_result"
        }
      ],
      "source": [
        "file.write('\\n\\nFinal features after greedy backward selection: ')\n",
        "file.write(str(list(predictors[final_features_backward])))\n",
        "file.write('\\nAccuracy on Train: ')\n",
        "file.write(str(np.mean(y_train_val==y_train_val_pred)))\n",
        "file.write('\\nAccuracy on Test: ')\n",
        "file.write(str(np.mean(y_test==y_test_pred)))"
      ]
    },
    {
      "cell_type": "markdown",
      "metadata": {
        "id": "fvl02iJbuBmS"
      },
      "source": [
        "### Venn Diagram"
      ]
    },
    {
      "cell_type": "markdown",
      "metadata": {
        "id": "osVkNNRSlJYE"
      },
      "source": [
        "Now we want to look at the features shared across the different models implemented above. To do this we use a Venn Diagram."
      ]
    },
    {
      "cell_type": "code",
      "execution_count": null,
      "metadata": {
        "colab": {
          "base_uri": "https://localhost:8080/"
        },
        "id": "TyKaZfwFuBmc",
        "outputId": "b84fc7a8-a0bd-41c3-cbe0-678e529139a2"
      },
      "outputs": [
        {
          "name": "stdout",
          "output_type": "stream",
          "text": [
            "Features shared: {'Psycho1 ', 'Mach2 ', 'Mach5 ', 'Psycho5 H', 'Psycho6'}\n"
          ]
        }
      ],
      "source": [
        "feats_pca = set([predictors[i] for i in range(len(features_pca)) if features_pca[i]==True])\n",
        "feats_sparse_pca = set([predictors[i] for i in range(len(features_sparse_pca)) if features_sparse_pca[i]==True])\n",
        "feats_varthresh = set([predictors[i] for i in range(len(features_varthresh)) if features_varthresh[i]==True])\n",
        "\n",
        "print('Features shared:', feats_pca & feats_sparse_pca & feats_varthresh)"
      ]
    },
    {
      "cell_type": "code",
      "execution_count": null,
      "metadata": {
        "colab": {
          "base_uri": "https://localhost:8080/",
          "height": 463
        },
        "id": "feb-fVqxuBmX",
        "outputId": "8138fdf7-6710-468c-83b4-4576266fc5cc"
      },
      "outputs": [
        {
          "name": "stderr",
          "output_type": "stream",
          "text": [
            "/home/giangia/.local/lib/python3.10/site-packages/matplotlib_venn/_venn3.py:117: UserWarning: Bad circle positioning\n",
            "  warnings.warn(\"Bad circle positioning\")\n"
          ]
        },
        {
          "data": {
            "image/png": "[encoded data removed]",
            "text/plain": [
              "<Figure size 504x504 with 1 Axes>"
            ]
          },
          "metadata": {},
          "output_type": "display_data"
        }
      ],
      "source": [
        "plt.figure(figsize=(7, 7))\n",
        "venn3([feats_pca, feats_sparse_pca, feats_varthresh], ('pca', 'sparse pca', 'variance threshold'))\n",
        "plt.title('Venn Diagram for selected features')\n",
        "plt.show()"
      ]
    },
    {
      "cell_type": "code",
      "execution_count": null,
      "metadata": {
        "colab": {
          "base_uri": "https://localhost:8080/"
        },
        "id": "LMgqOBz0lJYF",
        "outputId": "de7909e2-2104-467d-cbc0-b931536ae66a"
      },
      "outputs": [
        {
          "data": {
            "text/plain": [
              "50"
            ]
          },
          "execution_count": 41,
          "metadata": {},
          "output_type": "execute_result"
        }
      ],
      "source": [
        "file.write('\\n\\nFeature shared across PCA, Sparse PCA and Variance Thresholding: ')\n",
        "file.write(str(feats_pca & feats_sparse_pca & feats_varthresh))\n",
        "file.write('\\n\\n\\n')\n",
        "file.write('_'*50)"
      ]
    },
    {
      "cell_type": "markdown",
      "metadata": {
        "id": "ZYMi15k5fIMt"
      },
      "source": [
        "## 3.2 Unsupervised Learning (Honest only)\n",
        "So far, all the algorithms implemented have been applied to the entire dataset, consisting of honest and dishonest responses. \n",
        "Now we want to try something different, focusing separately on honest-only and dishonest-only responses and trying to infer a set of relevant predictors in these two different scenarios.\n",
        "The idea is that if some features are relevant in both the case of honest-only and dishonest-only responses, then perhaps those features are not so useful for prediction purposes.\n",
        "To begin with, we will focus only on the honest responses; in particular, we will implement the same algorithms and selection strategies used before."
      ]
    },
    {
      "cell_type": "markdown",
      "metadata": {
        "id": "hF5LXQSAfIMu"
      },
      "source": [
        "### PCA"
      ]
    },
    {
      "cell_type": "code",
      "execution_count": null,
      "metadata": {
        "colab": {
          "base_uri": "https://localhost:8080/"
        },
        "id": "dWKKbon5fIMw",
        "outputId": "a1b5a4ef-602d-4e5d-c085-2886fdde0dac"
      },
      "outputs": [
        {
          "data": {
            "text/plain": [
              "array([0.17484458, 0.09054053, 0.0672795 , 0.05992502, 0.05816154,\n",
              "       0.0503356 , 0.04918496, 0.04160979, 0.04134258, 0.03756328,\n",
              "       0.03237874, 0.03006075, 0.02797823, 0.02776303, 0.02356775,\n",
              "       0.02262525])"
            ]
          },
          "execution_count": 42,
          "metadata": {},
          "output_type": "execute_result"
        }
      ],
      "source": [
        "# get number of principal components equal to the 60%\n",
        "# of the number of features in the original dataset\n",
        "# of course we get the int number\n",
        "n_comp = int(0.6 * X_train_val.shape[1])\n",
        "\n",
        "pca = PCA(n_components=n_comp, random_state=123)\n",
        "pca.fit(X_train_val_scaled[y_train_val=='H'])\n",
        "\n",
        "pca.explained_variance_ratio_"
      ]
    },
    {
      "cell_type": "code",
      "execution_count": null,
      "metadata": {
        "colab": {
          "base_uri": "https://localhost:8080/"
        },
        "id": "PPXmZG5hfIMy",
        "outputId": "3c3a9d60-dd12-4869-c3a0-ea4ef9337383"
      },
      "outputs": [
        {
          "data": {
            "text/plain": [
              "array([[ 5.58645002e-02,  3.06822446e-01,  2.80344948e-01,\n",
              "         2.47151687e-01,  2.59196316e-01,  1.61324213e-01,\n",
              "         1.24736030e-01,  1.87896342e-01,  1.20596220e-01,\n",
              "         2.33493144e-01,  5.84411413e-02,  2.46269249e-01,\n",
              "         2.43266425e-01,  1.73769974e-01,  2.23542362e-01,\n",
              "         6.96336592e-02,  2.48969994e-01,  2.16713909e-01,\n",
              "         1.73728870e-01,  1.66667989e-01,  1.72784372e-01,\n",
              "         1.26296946e-01,  2.24608722e-01,  1.70686041e-01,\n",
              "         1.84583655e-01,  1.08581166e-01,  5.92324630e-02],\n",
              "       [-1.94612701e-01, -9.70193350e-02, -2.00698545e-01,\n",
              "        -5.78866003e-02, -1.18638470e-01, -8.26422041e-02,\n",
              "        -4.36157195e-02, -2.58195567e-01,  3.56645622e-02,\n",
              "        -4.43384669e-02,  3.34106261e-01, -2.49764982e-01,\n",
              "         1.37891406e-01, -1.52039780e-01, -7.92180971e-02,\n",
              "         2.71950814e-01,  1.06163069e-01, -1.26119943e-01,\n",
              "         2.31038545e-01,  3.59844588e-01,  1.47336810e-02,\n",
              "         1.39356418e-01, -1.29187694e-02,  3.01116866e-01,\n",
              "         2.90506304e-01,  3.17723675e-01, -1.18905072e-01],\n",
              "       [-6.52118969e-02,  1.15080042e-01,  6.80267371e-02,\n",
              "         2.13646162e-01, -3.06904158e-02,  4.35723881e-03,\n",
              "         3.28951777e-02,  1.61228951e-01,  1.86822526e-01,\n",
              "        -1.57725617e-01, -2.65307474e-01, -1.11687745e-01,\n",
              "        -1.40247214e-01, -1.54802688e-01, -3.82433244e-01,\n",
              "        -3.99183521e-01, -4.54102645e-02,  4.64469406e-02,\n",
              "        -1.26477902e-01,  3.98075779e-01, -1.70758062e-01,\n",
              "        -2.27031077e-02,  2.35492364e-01,  3.57746577e-01,\n",
              "        -7.06071048e-02, -3.36042252e-02, -1.20032681e-01],\n",
              "       [ 2.85341790e-01, -2.21320596e-01,  3.08590739e-02,\n",
              "         2.10047828e-01,  1.45184015e-01, -1.01643734e-01,\n",
              "        -4.21459784e-03,  3.15334992e-02,  6.68384490e-02,\n",
              "        -1.32892075e-01, -1.51856661e-01,  1.81214261e-01,\n",
              "        -2.94423043e-01,  1.08710603e-01,  1.14470229e-01,\n",
              "         5.10923419e-01,  1.45171382e-01, -2.11724032e-01,\n",
              "        -1.68151448e-01,  5.28583490e-02, -1.17742825e-01,\n",
              "        -1.34570120e-01,  7.56537579e-02,  1.31359792e-01,\n",
              "         6.50142803e-04, -2.54123592e-02, -4.34578858e-01],\n",
              "       [-2.49938604e-01, -1.22076506e-01, -6.16423877e-02,\n",
              "        -1.15375438e-01, -1.00814465e-01,  1.01151123e-01,\n",
              "        -3.06222725e-02, -2.86891637e-02, -1.63352431e-01,\n",
              "         2.21362845e-01,  4.04778378e-02, -1.09708432e-01,\n",
              "         2.92697736e-01,  3.83852788e-02, -7.70291813e-02,\n",
              "         2.09751780e-01,  4.06550160e-01,  1.42745426e-01,\n",
              "        -2.73182001e-01,  6.02103685e-02, -4.02029374e-02,\n",
              "        -3.01601602e-01,  1.76410259e-01,  1.88001805e-01,\n",
              "        -2.54678292e-01, -4.07081647e-01,  5.82381649e-02],\n",
              "       [ 3.72541075e-01, -2.37786539e-02, -8.20000609e-02,\n",
              "        -2.53534413e-01,  1.21615359e-01, -1.72492877e-01,\n",
              "         1.08270459e-01, -3.42266004e-02,  6.79555754e-02,\n",
              "         1.73403683e-01,  2.16803914e-01, -3.63480482e-03,\n",
              "         1.14388664e-01,  3.53855570e-01,  1.01537473e-01,\n",
              "        -1.07287223e-01, -2.59377773e-01, -1.07553939e-01,\n",
              "        -1.33739397e-02,  2.20029375e-01, -2.69506657e-01,\n",
              "        -2.18158778e-01,  5.02497760e-02,  2.26187748e-01,\n",
              "        -3.25947030e-01,  2.06479569e-01,  2.00395398e-01],\n",
              "       [-1.06926666e-01, -1.83323439e-01, -1.21064337e-01,\n",
              "         1.12935728e-02, -1.00404869e-01,  2.45928223e-01,\n",
              "        -1.00968458e-01,  7.59907491e-02, -1.47410834e-01,\n",
              "         2.96700797e-01, -2.10431073e-01,  4.71329806e-02,\n",
              "        -4.22034539e-01,  1.44588557e-01,  3.67356535e-02,\n",
              "         1.03899362e-01, -7.93512477e-02, -2.56696221e-01,\n",
              "         3.21182349e-01,  1.36174669e-01, -9.02615505e-02,\n",
              "         1.79236749e-01,  1.87372871e-01,  1.03137358e-01,\n",
              "         8.69330083e-02, -1.88703480e-01,  4.03905860e-01],\n",
              "       [ 1.90805284e-01,  7.88128295e-02, -9.37549395e-02,\n",
              "         2.53520137e-01, -1.03607168e-01,  4.41781514e-01,\n",
              "         1.39083025e-01, -1.82147872e-01,  3.84845310e-01,\n",
              "         1.41557491e-01,  1.77026744e-02, -4.09352180e-01,\n",
              "         9.87205366e-02,  1.61594910e-01, -1.39702908e-01,\n",
              "         7.31075792e-03,  1.07491816e-01, -2.06582484e-01,\n",
              "         9.47560512e-02, -1.12814821e-01, -1.21174058e-01,\n",
              "        -5.98161344e-02,  1.03400117e-01, -3.34706245e-01,\n",
              "        -6.55464463e-02,  1.62902177e-02, -1.13827582e-01],\n",
              "       [ 5.86984207e-02,  1.31800908e-01,  8.20368658e-02,\n",
              "        -1.66228958e-02, -1.49973019e-01,  1.99149874e-01,\n",
              "         1.70554493e-01,  9.26718638e-03, -6.99426334e-03,\n",
              "         7.19163494e-02, -1.30822789e-02, -2.16225797e-02,\n",
              "         1.52832164e-01, -2.17671099e-01, -1.73296833e-02,\n",
              "         4.13185862e-01, -6.77908702e-01,  2.27524310e-01,\n",
              "         6.31802163e-02,  2.11725426e-02,  2.22087199e-02,\n",
              "         8.05607130e-02,  5.40679353e-02,  1.20148649e-01,\n",
              "        -1.05555366e-01, -2.34986783e-01, -1.63578678e-01],\n",
              "       [-5.15604121e-01,  3.65013063e-02,  3.26255657e-02,\n",
              "         9.93531212e-02,  8.29518353e-02, -3.00425265e-01,\n",
              "        -1.43680827e-01,  9.23712039e-03,  1.03431429e-01,\n",
              "         1.17513344e-01,  3.91846594e-02, -6.56201744e-02,\n",
              "        -1.36957149e-01,  4.69575226e-01, -1.84026910e-01,\n",
              "         1.67209518e-01, -2.08222735e-01,  2.25009309e-01,\n",
              "        -4.43336789e-02, -4.42484428e-02, -5.56727817e-02,\n",
              "         6.02320423e-02,  2.22567334e-01, -2.42071631e-01,\n",
              "        -1.01610413e-01,  1.83510941e-01, -1.25754776e-01],\n",
              "       [-1.06537996e-01, -3.70261683e-01,  5.07126583e-02,\n",
              "         5.22151421e-02,  1.11712044e-02, -6.06948593e-02,\n",
              "        -5.66324347e-02, -1.36249558e-01,  1.18422990e-01,\n",
              "        -1.17799941e-01,  7.56101535e-02,  1.66283406e-01,\n",
              "         3.51250385e-01,  2.47789191e-01,  1.58797113e-01,\n",
              "        -3.26687884e-01, -1.68324164e-01, -2.60946786e-01,\n",
              "         1.04465568e-01,  7.05329097e-02,  1.26280912e-01,\n",
              "         2.07216429e-01,  1.26985723e-01,  1.21044334e-02,\n",
              "         5.67405247e-02, -4.20684918e-01, -2.73907483e-01],\n",
              "       [ 5.79616480e-02,  3.54033518e-02,  1.03512593e-01,\n",
              "        -1.61888299e-01,  1.41722993e-01, -7.65286650e-02,\n",
              "         9.47727199e-02,  2.89290118e-01,  1.03075238e-01,\n",
              "        -1.82645993e-01,  4.04029603e-01, -3.20460037e-01,\n",
              "        -2.10660507e-01,  1.50693488e-02,  4.32393323e-02,\n",
              "         2.03575538e-02, -9.33192517e-02, -2.59953470e-02,\n",
              "        -1.26041663e-01, -1.44920563e-02,  4.43498065e-02,\n",
              "        -2.23762545e-01,  2.59180406e-01, -8.43830614e-02,\n",
              "         4.62203476e-01, -3.14110424e-01,  1.37602056e-01],\n",
              "       [ 1.41483508e-01,  2.04877290e-01, -2.69315824e-01,\n",
              "        -1.63373099e-01, -1.41868068e-01, -3.90333706e-01,\n",
              "         7.75995173e-02,  1.45874958e-01,  2.22122320e-01,\n",
              "        -2.24878998e-01, -3.16482783e-01, -1.57544626e-01,\n",
              "         9.57981315e-02,  1.39465560e-01,  9.65728781e-02,\n",
              "         1.46059717e-01,  2.05006021e-01,  1.98009461e-01,\n",
              "         3.61430108e-01,  1.10295525e-01, -5.88153849e-02,\n",
              "         1.49416128e-01, -8.34626406e-02, -8.61360050e-02,\n",
              "        -5.56104935e-02, -2.91450452e-01,  5.08111035e-02],\n",
              "       [-1.78010373e-01,  1.08027990e-01,  9.45874475e-02,\n",
              "        -1.04012545e-01,  1.23836711e-01,  1.49541265e-01,\n",
              "        -9.41525659e-02,  1.86503586e-01,  3.18233385e-01,\n",
              "         1.87312259e-01,  7.71179171e-02, -7.57796810e-02,\n",
              "        -1.35575171e-01,  1.68950559e-01, -1.81982839e-02,\n",
              "         3.99637330e-02, -1.24091142e-02, -1.20848080e-01,\n",
              "        -1.66675481e-01,  1.77398048e-01,  1.06080798e-01,\n",
              "         7.94198774e-02, -7.13202663e-01,  1.41308515e-01,\n",
              "        -3.56232646e-02, -1.80128709e-01, -6.86874652e-02],\n",
              "       [-1.65044991e-01,  3.88107031e-01, -2.74499372e-01,\n",
              "        -5.32955137e-02,  3.16109003e-01,  1.62497048e-01,\n",
              "        -1.37923767e-01, -1.70166050e-01, -9.77164304e-02,\n",
              "        -8.11358312e-02,  8.12256406e-02,  2.69087836e-01,\n",
              "         5.18282108e-02, -9.05801892e-02,  8.62832791e-02,\n",
              "        -1.99204823e-02, -2.41844846e-02, -4.78690222e-02,\n",
              "        -1.69664922e-02,  1.14441149e-01, -5.87639972e-01,\n",
              "        -1.53061302e-02, -1.88331663e-02, -1.66227834e-01,\n",
              "         1.52449664e-01, -1.79384716e-01, -1.02669488e-01],\n",
              "       [-2.03103979e-01, -7.81294325e-02, -2.70044857e-01,\n",
              "         2.90904553e-02,  2.12782992e-01,  2.34182454e-01,\n",
              "         2.25505153e-02,  5.91667658e-02,  1.39326743e-01,\n",
              "        -4.08509009e-01, -3.24383156e-01,  6.90081817e-02,\n",
              "         2.58572554e-01,  1.09887139e-01,  1.82322177e-02,\n",
              "         1.65853707e-01, -1.84115941e-01, -1.15690070e-01,\n",
              "        -1.17659726e-01,  9.66802404e-02,  2.65888699e-01,\n",
              "        -2.99598219e-01, -8.18912524e-03, -1.62377436e-02,\n",
              "         6.82571890e-02,  1.86065690e-01,  3.18047241e-01]])"
            ]
          },
          "execution_count": 43,
          "metadata": {},
          "output_type": "execute_result"
        }
      ],
      "source": [
        "pca.components_"
      ]
    },
    {
      "cell_type": "markdown",
      "metadata": {
        "id": "OcfH_yjxZDLL"
      },
      "source": [
        "Again, let's have a look at the color matrix to understand how much influence each predictor exert on each one of the selected principal components."
      ]
    },
    {
      "cell_type": "code",
      "execution_count": null,
      "metadata": {
        "colab": {
          "base_uri": "https://localhost:8080/",
          "height": 732
        },
        "id": "mYOWj1K2fIMz",
        "outputId": "818f6b52-4e5a-496a-ddd7-560f265ec78b"
      },
      "outputs": [
        {
          "data": {
            "image/png": "[encoded data removed]",
            "text/plain": [
              "<Figure size 576x14400 with 2 Axes>"
            ]
          },
          "metadata": {
            "needs_background": "light"
          },
          "output_type": "display_data"
        }
      ],
      "source": [
        "plt.figure(figsize=(8, 200))\n",
        "im = plt.imshow(np.abs(pca.components_.T), cmap = plt.cm.Blues)\n",
        "plt.yticks(range(len(predictors)), predictors)\n",
        "plt.colorbar(im,fraction=0.0785, pad=0.04)\n",
        "plt.show()"
      ]
    },
    {
      "cell_type": "code",
      "execution_count": null,
      "metadata": {
        "colab": {
          "base_uri": "https://localhost:8080/"
        },
        "id": "8Dzm_6iIfIM0",
        "outputId": "186ee1c6-4532-476c-d04c-3e3a11bc90ac"
      },
      "outputs": [
        {
          "name": "stdout",
          "output_type": "stream",
          "text": [
            "Percentage of total variance explained by the first 16 components : 83.52%\n"
          ]
        }
      ],
      "source": [
        "# check the sum over all explained variance\n",
        "total_explained_variance = sum(pca.explained_variance_ratio_)\n",
        "print('Percentage of total variance explained by the first',n_comp,'components :', str(round(total_explained_variance * 100,2))+'%')"
      ]
    },
    {
      "cell_type": "code",
      "execution_count": null,
      "metadata": {
        "colab": {
          "base_uri": "https://localhost:8080/"
        },
        "id": "Zii7nz5AlJYM",
        "outputId": "d17f54f2-b824-4bf5-8904-c5b0cc3b3c0b"
      },
      "outputs": [
        {
          "data": {
            "text/plain": [
              "18"
            ]
          },
          "execution_count": 46,
          "metadata": {},
          "output_type": "execute_result"
        }
      ],
      "source": [
        "file.write('\\n\\n\\nUNSUPERVISED HONEST ONLY')\n",
        "file.write('\\n\\n\\nPercentage of total variance explained by the first ')\n",
        "file.write(str(n_comp))\n",
        "file.write(' components: ')\n",
        "file.write(str(total_explained_variance))"
      ]
    },
    {
      "cell_type": "markdown",
      "metadata": {
        "id": "UDFBFtoxfIM3"
      },
      "source": [
        "In the next cell we select the most influential principal components: in particular we select those components such that the difference between their explained variance ratio and the highest one is less than 5%:"
      ]
    },
    {
      "cell_type": "code",
      "execution_count": null,
      "metadata": {
        "colab": {
          "base_uri": "https://localhost:8080/"
        },
        "id": "BFz7FOtofIM4",
        "outputId": "1639b57d-4345-464f-b7e2-8bca99914e10"
      },
      "outputs": [
        {
          "data": {
            "text/plain": [
              "[0]"
            ]
          },
          "execution_count": 47,
          "metadata": {},
          "output_type": "execute_result"
        }
      ],
      "source": [
        "selected_eigenvectors = []\n",
        "explained_variance = pca.explained_variance_ratio_\n",
        "\n",
        "for i in range(len(explained_variance)):\n",
        "    if explained_variance[0] - explained_variance[i] < 0.05:\n",
        "        selected_eigenvectors.append(i)\n",
        "    else:\n",
        "        break\n",
        "\n",
        "selected_eigenvectors"
      ]
    },
    {
      "cell_type": "markdown",
      "metadata": {
        "id": "jOVCAPHVfIM6"
      },
      "source": [
        "Then just as before, from each one of the selected principal components we extract a set of relevant predictors considering the loading factors."
      ]
    },
    {
      "cell_type": "code",
      "execution_count": null,
      "metadata": {
        "colab": {
          "base_uri": "https://localhost:8080/"
        },
        "id": "NO1bNEnHfIM7",
        "outputId": "3d066888-b373-4d97-e982-0382c30d2bf7"
      },
      "outputs": [
        {
          "name": "stdout",
          "output_type": "stream",
          "text": [
            "Features that are sufficiently relevant:\n",
            "\n",
            " Index(['Mach2 ', 'Mach3 ', 'Mach4 ', 'Mach5 ', 'Psycho3 ', 'Psycho4 ',\n",
            "       'Psycho8 '],\n",
            "      dtype='object')\n"
          ]
        }
      ],
      "source": [
        "features_extracted = np.zeros(pca.components_.shape[1])\n",
        "for component in np.abs(pca.components_[selected_eigenvectors]):\n",
        "    percentile = np.percentile(component, 75)    \n",
        "    features_extracted = np.logical_or(features_extracted, component>=percentile)\n",
        "\n",
        "features_pca = features_extracted\n",
        "print('Features that are sufficiently relevant:\\n\\n', predictors[features_pca])"
      ]
    },
    {
      "cell_type": "code",
      "execution_count": null,
      "metadata": {
        "colab": {
          "base_uri": "https://localhost:8080/"
        },
        "id": "cLWkWuY3lJYP",
        "outputId": "70978ec0-ce80-4bc0-dbfd-32428e0d0c4a"
      },
      "outputs": [
        {
          "data": {
            "text/plain": [
              "76"
            ]
          },
          "execution_count": 49,
          "metadata": {},
          "output_type": "execute_result"
        }
      ],
      "source": [
        "file.write('\\n\\nFeatures Selected via PCA: ')\n",
        "file.write(str(list(predictors[features_pca])))"
      ]
    },
    {
      "cell_type": "markdown",
      "metadata": {
        "id": "JbkFGiSRfIM8"
      },
      "source": [
        "### Sparse PCA"
      ]
    },
    {
      "cell_type": "code",
      "execution_count": null,
      "metadata": {
        "colab": {
          "base_uri": "https://localhost:8080/"
        },
        "id": "7JDf5aTGfIM-",
        "outputId": "8a6e18a9-edf9-40e8-8f40-dc5429ad42a6"
      },
      "outputs": [
        {
          "name": "stdout",
          "output_type": "stream",
          "text": [
            "\n",
            "Number of times each feature appears in the selected components:\n",
            "\n",
            " [1. 4. 3. 3. 3. 1. 3. 4. 2. 4. 3. 1. 2. 1. 6. 1. 1. 2. 1. 2. 1. 1. 1. 1.\n",
            " 1. 1. 1.]\n",
            "\n",
            "\n",
            "Features that appear a number of times greater than the mean frequency:\n",
            "\n",
            " Index(['Mach2 ', 'Mach3 ', 'Mach4 ', 'Mach5 ', 'Mach7 ', 'Mach8 ', 'Psycho1 ',\n",
            "       'Psycho2 ', 'Psycho6'],\n",
            "      dtype='object')\n"
          ]
        }
      ],
      "source": [
        "# get number of principal components equal to the 60%\n",
        "# of the number of features in the original dataset\n",
        "# of course we get the int number\n",
        "n_comp = int(0.6 * X_train_val.shape[1])\n",
        "\n",
        "sparse_pca = SparsePCA(n_components=n_comp, random_state=123, alpha=1)\n",
        "sparse_pca.fit(X_train_val_scaled[y_train_val == 'H'])\n",
        "\n",
        "features_extracted = np.zeros(sparse_pca.components_.shape[1])\n",
        "for component in sparse_pca.components_:\n",
        "    features_extracted += (component!=0)\n",
        "print('\\nNumber of times each feature appears in the selected components:\\n\\n',features_extracted)\n",
        "\n",
        "# extract only those features whose frequencies are greater or equal than the mean frequency\n",
        "features_sparse_pca = (features_extracted>=np.mean(features_extracted))\n",
        "print('\\n\\nFeatures that appear a number of times greater than the mean frequency:\\n\\n', predictors[features_sparse_pca])"
      ]
    },
    {
      "cell_type": "code",
      "execution_count": null,
      "metadata": {
        "colab": {
          "base_uri": "https://localhost:8080/",
          "height": 742
        },
        "id": "uwU8zFntfINA",
        "outputId": "14a2d33b-0d86-47b1-d375-6be2dd29d88f"
      },
      "outputs": [
        {
          "data": {
            "image/png": "[encoded data removed]",
            "text/plain": [
              "<Figure size 576x14400 with 2 Axes>"
            ]
          },
          "metadata": {
            "needs_background": "light"
          },
          "output_type": "display_data"
        }
      ],
      "source": [
        "plt.figure(figsize=(8, 200))\n",
        "im = plt.imshow(np.abs(sparse_pca.components_.T), cmap = plt.cm.Blues)\n",
        "plt.yticks(range(len(predictors)), predictors)\n",
        "plt.colorbar(im,fraction=0.0785, pad=0.04)\n",
        "plt.show()"
      ]
    },
    {
      "cell_type": "code",
      "execution_count": null,
      "metadata": {
        "colab": {
          "base_uri": "https://localhost:8080/"
        },
        "id": "QYTOPB26fonx",
        "outputId": "f3640862-a5fa-4aa8-8acc-872a79d2ef27"
      },
      "outputs": [
        {
          "data": {
            "text/plain": [
              "95"
            ]
          },
          "execution_count": 52,
          "metadata": {},
          "output_type": "execute_result"
        }
      ],
      "source": [
        "file.write('\\n\\nFeatures Selected via Sparse PCA: ')\n",
        "file.write(str(list(predictors[features_sparse_pca])))"
      ]
    },
    {
      "cell_type": "markdown",
      "metadata": {
        "id": "40uC_hUKfINB"
      },
      "source": [
        "### Variance Thresholding"
      ]
    },
    {
      "cell_type": "code",
      "execution_count": null,
      "metadata": {
        "colab": {
          "base_uri": "https://localhost:8080/"
        },
        "id": "Ormt7krsfINC",
        "outputId": "4fc93ca8-d53d-4f73-ca73-f7dc5f67f673"
      },
      "outputs": [
        {
          "name": "stdout",
          "output_type": "stream",
          "text": [
            "Selected features based on variance thresholding:\n",
            "\n",
            " Index(['Mach2 ', 'Mach4 ', 'Mach5 ', 'Psycho1 ', 'Psycho5 H', 'Psycho8 ',\n",
            "       'Narc6'],\n",
            "      dtype='object')\n"
          ]
        }
      ],
      "source": [
        "# VarianceThreshold approach\n",
        "\n",
        "# first of all let's compute the variances\n",
        "variances = np.var(X_train_val[y_train_val == 'H'], axis=0)\n",
        "\n",
        "# first approach to set a threshold\n",
        "alpha = 0.5\n",
        "threshold = (1-alpha)*np.min(variances)+alpha*np.max(variances)\n",
        "\n",
        "# second approach to set a threshold\n",
        "threshold = np.percentile(variances, 75)\n",
        "\n",
        "# see the selected features\n",
        "features_varthresh = (variances>=threshold)\n",
        "print('Selected features based on variance thresholding:\\n\\n', predictors[features_varthresh])"
      ]
    },
    {
      "cell_type": "code",
      "execution_count": null,
      "metadata": {
        "colab": {
          "base_uri": "https://localhost:8080/"
        },
        "id": "5VlHQN9Nf26v",
        "outputId": "1c56319e-e225-447a-8b05-e2862c79cbd6"
      },
      "outputs": [
        {
          "data": {
            "text/plain": [
              "76"
            ]
          },
          "execution_count": 54,
          "metadata": {},
          "output_type": "execute_result"
        }
      ],
      "source": [
        "file.write('\\n\\nFeatures Selected via Variance Thresholding: ')\n",
        "file.write(str(list(predictors[features_varthresh])))"
      ]
    },
    {
      "cell_type": "markdown",
      "metadata": {
        "id": "9A_XavYAfIND"
      },
      "source": [
        "### Union to find best subset of features"
      ]
    },
    {
      "cell_type": "markdown",
      "metadata": {
        "id": "WDYryOJsfINE"
      },
      "source": [
        "Once again we now combine the previous sets of features by taking the union set. Upon this union set we'll perform further Greedy Feature Selections."
      ]
    },
    {
      "cell_type": "code",
      "execution_count": null,
      "metadata": {
        "colab": {
          "base_uri": "https://localhost:8080/"
        },
        "id": "iKK7gNt4fINE",
        "outputId": "a203527c-1ffe-4a78-87b8-ad36a5adb300"
      },
      "outputs": [
        {
          "name": "stdout",
          "output_type": "stream",
          "text": [
            "Final set of features from Unsupervised Algorithms on Honest only:\n",
            "\n",
            " ['Mach2 ', 'Mach3 ', 'Mach4 ', 'Mach5 ', 'Mach7 ', 'Mach8 ', 'Psycho1 ', 'Psycho2 ', 'Psycho3 ', 'Psycho4 ', 'Psycho6', 'Psycho8 ']\n"
          ]
        }
      ],
      "source": [
        "# take the union among all the extracted features sets\n",
        "# found through the different unsupervised learning techniques\n",
        "features_set_unsup = np.logical_or(features_pca, features_sparse_pca, features_varthresh)\n",
        "features_unsup_honest = [i for i in range(len(features_set_unsup)) if features_set_unsup[i]==True]\n",
        "features_selected_honest = [predictors[i] for i in features_unsup_honest]\n",
        "print('Final set of features from Unsupervised Algorithms on Honest only:\\n\\n', features_selected_honest)"
      ]
    },
    {
      "cell_type": "code",
      "execution_count": null,
      "metadata": {
        "colab": {
          "base_uri": "https://localhost:8080/"
        },
        "id": "2VSGvaZMlJYY",
        "outputId": "f358c0fe-2375-44db-c2f0-40e0ed749db0"
      },
      "outputs": [
        {
          "data": {
            "text/plain": [
              "131"
            ]
          },
          "execution_count": 56,
          "metadata": {},
          "output_type": "execute_result"
        }
      ],
      "source": [
        "file.write('\\n\\n(Union) Final set of features from Unsupervised Algorithms: ')\n",
        "file.write(str(features_selected_honest))"
      ]
    },
    {
      "cell_type": "markdown",
      "metadata": {
        "id": "3fqn5pj6fING"
      },
      "source": [
        "Finally, let's implement a Logistic Regression to check how this subset of features behaves."
      ]
    },
    {
      "cell_type": "code",
      "execution_count": null,
      "metadata": {
        "colab": {
          "base_uri": "https://localhost:8080/"
        },
        "id": "pqzF5PcYfING",
        "outputId": "5c178328-139d-4787-a05f-3688d573dc28"
      },
      "outputs": [
        {
          "name": "stdout",
          "output_type": "stream",
          "text": [
            "Accuracy on train: 0.7038961038961039\n",
            "Accuracy on test: 0.7216494845360825\n"
          ]
        }
      ],
      "source": [
        "# logistic regression\n",
        "\n",
        "max_iter = 1000\n",
        "C = [0.01, 0.1, 1]\n",
        "logreg_clf = LogisticRegressionCV(penalty='l2', Cs=C, max_iter=max_iter, cv=KFold())\n",
        "logreg_clf = logreg_clf.fit(X_train_val_scaled[:, features_unsup_honest], y_train_val)\n",
        "y_train_val_pred = logreg_clf.predict(X_train_val_scaled[:, features_unsup_honest])\n",
        "y_test_pred = logreg_clf.predict(X_test_scaled[:, features_unsup_honest])\n",
        "\n",
        "print('Accuracy on train:', np.mean(y_train_val==y_train_val_pred))\n",
        "print('Accuracy on test:', np.mean(y_test==y_test_pred))"
      ]
    },
    {
      "cell_type": "code",
      "execution_count": null,
      "metadata": {
        "colab": {
          "base_uri": "https://localhost:8080/"
        },
        "id": "vg89pPQ6lJYa",
        "outputId": "812014df-7e22-4ca6-da3d-e3fc49dc112f"
      },
      "outputs": [
        {
          "data": {
            "text/plain": [
              "18"
            ]
          },
          "execution_count": 58,
          "metadata": {},
          "output_type": "execute_result"
        }
      ],
      "source": [
        "file.write('\\n\\nResult after applying Logistic Regression: \\nOn train: ')\n",
        "file.write(str(np.mean(y_train_val==y_train_val_pred)))\n",
        "file.write('\\nOn test: ')\n",
        "file.write(str(np.mean(y_test==y_test_pred)))"
      ]
    },
    {
      "cell_type": "markdown",
      "metadata": {
        "id": "s_SPSw5wfINH"
      },
      "source": [
        "Let's check whether we can further reduce this subset of features via greedy selection techniques. In particular we apply both Forward and Backward Selections, based on the accuracy score."
      ]
    },
    {
      "cell_type": "code",
      "execution_count": null,
      "metadata": {
        "colab": {
          "base_uri": "https://localhost:8080/"
        },
        "id": "OJfroUHIfINI",
        "outputId": "0dd13c22-379a-4716-b211-da1a048d9ed1"
      },
      "outputs": [
        {
          "name": "stderr",
          "output_type": "stream",
          "text": [
            "/home/giangia/.local/lib/python3.10/site-packages/sklearn/feature_selection/_sequential.py:188: FutureWarning: Leaving `n_features_to_select` to None is deprecated in 1.0 and will become 'auto' in 1.3. To keep the same behaviour as with None (i.e. select half of the features) and avoid this warning, you should manually set `n_features_to_select='auto'` and set tol=None when creating an instance.\n",
            "  warnings.warn(\n"
          ]
        },
        {
          "name": "stdout",
          "output_type": "stream",
          "text": [
            "Final features after greedy forward selection:  Index(['Mach4 ', 'Mach8 ', 'Psycho1 ', 'Psycho3 ', 'Psycho4 ', 'Psycho6'], dtype='object')\n",
            "Accuracy on train: 0.6961038961038961\n",
            "Accuracy on test: 0.6907216494845361\n"
          ]
        }
      ],
      "source": [
        "lreg = LogisticRegression()\n",
        "\n",
        "# apply Forward selection\n",
        "sfs = SequentialFeatureSelector(lreg, direction='forward')\n",
        "sfs.fit(X_train_val_scaled[:, features_unsup_honest], y_train_val)\n",
        "final_features_forward = [features_unsup_honest[i] for i in range(len(features_unsup_honest)) if sfs.get_support()[i]>0]\n",
        "print('Final features after greedy forward selection: ', predictors[final_features_forward])\n",
        "\n",
        "# fit the model once again\n",
        "logreg_clf = logreg_clf.fit(X_train_val_scaled[:, final_features_forward], y_train_val)\n",
        "y_train_val_pred = logreg_clf.predict(X_train_val_scaled[:, final_features_forward])\n",
        "y_test_pred = logreg_clf.predict(X_test_scaled[:, final_features_forward])\n",
        "\n",
        "print('Accuracy on train:', np.mean(y_train_val==y_train_val_pred))\n",
        "print('Accuracy on test:', np.mean(y_test==y_test_pred))"
      ]
    },
    {
      "cell_type": "code",
      "execution_count": null,
      "metadata": {
        "colab": {
          "base_uri": "https://localhost:8080/"
        },
        "id": "J08RDsKUlJYd",
        "outputId": "15337b18-5d5c-4b7e-e6ad-9a0befc11a35"
      },
      "outputs": [
        {
          "data": {
            "text/plain": [
              "18"
            ]
          },
          "execution_count": 60,
          "metadata": {},
          "output_type": "execute_result"
        }
      ],
      "source": [
        "file.write('\\n\\nFinal features after greedy forward selection: ')\n",
        "file.write(str(list(predictors[final_features_forward])))\n",
        "file.write('\\nAccuracy on Train: ')\n",
        "file.write(str(np.mean(y_train_val==y_train_val_pred)))\n",
        "file.write('\\nAccuracy on Test: ')\n",
        "file.write(str(np.mean(y_test==y_test_pred)))"
      ]
    },
    {
      "cell_type": "code",
      "execution_count": null,
      "metadata": {
        "colab": {
          "base_uri": "https://localhost:8080/"
        },
        "id": "ebnxgK7PfINK",
        "outputId": "ed7b447e-e814-4c3d-d6d0-868fe024b571"
      },
      "outputs": [
        {
          "name": "stderr",
          "output_type": "stream",
          "text": [
            "/home/giangia/.local/lib/python3.10/site-packages/sklearn/feature_selection/_sequential.py:188: FutureWarning: Leaving `n_features_to_select` to None is deprecated in 1.0 and will become 'auto' in 1.3. To keep the same behaviour as with None (i.e. select half of the features) and avoid this warning, you should manually set `n_features_to_select='auto'` and set tol=None when creating an instance.\n",
            "  warnings.warn(\n"
          ]
        },
        {
          "name": "stdout",
          "output_type": "stream",
          "text": [
            "Final features after greedy backward selection:  Index(['Mach3 ', 'Mach7 ', 'Psycho1 ', 'Psycho2 ', 'Psycho3 ', 'Psycho8 '], dtype='object')\n",
            "Accuracy on train: 0.7090909090909091\n",
            "Accuracy on test: 0.7422680412371134\n"
          ]
        }
      ],
      "source": [
        "# apply Backward selection\n",
        "sfs = SequentialFeatureSelector(lreg, direction='backward')\n",
        "sfs.fit(X_train_val_scaled[:, features_unsup_honest], y_train_val)\n",
        "final_features_backward = [features_unsup_honest[i] for i in range(len(features_unsup_honest)) if sfs.get_support()[i]>0]\n",
        "print('Final features after greedy backward selection: ', predictors[final_features_backward])\n",
        "\n",
        "# fit the model once again\n",
        "logreg_clf = logreg_clf.fit(X_train_val_scaled[:, final_features_backward], y_train_val)\n",
        "y_train_val_pred = logreg_clf.predict(X_train_val_scaled[:, final_features_backward])\n",
        "y_test_pred = logreg_clf.predict(X_test_scaled[:, final_features_backward])\n",
        "\n",
        "print('Accuracy on train:', np.mean(y_train_val==y_train_val_pred))\n",
        "print('Accuracy on test:', np.mean(y_test==y_test_pred))"
      ]
    },
    {
      "cell_type": "code",
      "execution_count": null,
      "metadata": {
        "colab": {
          "base_uri": "https://localhost:8080/"
        },
        "id": "qS551e0ZlJYf",
        "outputId": "bcf37fb7-7ad1-41ba-c2c3-f6d4bae5d392"
      },
      "outputs": [
        {
          "data": {
            "text/plain": [
              "50"
            ]
          },
          "execution_count": 62,
          "metadata": {},
          "output_type": "execute_result"
        }
      ],
      "source": [
        "file.write('\\n\\nFinal features after greedy backward selection: ')\n",
        "file.write(str(list(predictors[final_features_backward])))\n",
        "file.write('\\nAccuracy on Train: ')\n",
        "file.write(str(np.mean(y_train_val==y_train_val_pred)))\n",
        "file.write('\\nAccuracy on Test: ')\n",
        "file.write(str(np.mean(y_test==y_test_pred)))\n",
        "\n",
        "file.write('\\n\\n\\n')\n",
        "file.write('_'*50)"
      ]
    },
    {
      "cell_type": "markdown",
      "metadata": {
        "id": "kUWZeN0qhbYi"
      },
      "source": [
        "## 3.3 Unsupervised Learning (Dishonest only)\n",
        "\n",
        "Now we repeat everything once again, but this time focusing on Dishonest responses only. We apply the exact same algorithms and selection strategies applied before."
      ]
    },
    {
      "cell_type": "markdown",
      "metadata": {
        "id": "Eb1q0zpdhbYj"
      },
      "source": [
        "### PCA"
      ]
    },
    {
      "cell_type": "code",
      "execution_count": null,
      "metadata": {
        "colab": {
          "base_uri": "https://localhost:8080/"
        },
        "id": "8DMJ4dkphbYk",
        "outputId": "879d56e6-c2ef-4faf-b05f-597c6e54734e"
      },
      "outputs": [
        {
          "data": {
            "text/plain": [
              "array([0.24040285, 0.10828987, 0.07487556, 0.05602593, 0.05249664,\n",
              "       0.04756864, 0.04145001, 0.03859591, 0.0334385 , 0.0309797 ,\n",
              "       0.02826127, 0.02611253, 0.02363426, 0.02197917, 0.02105085,\n",
              "       0.0186821 ])"
            ]
          },
          "execution_count": 63,
          "metadata": {},
          "output_type": "execute_result"
        }
      ],
      "source": [
        "# get number of principal components equal to the 60%\n",
        "# of the number of features in the original dataset\n",
        "# of course we get the int number\n",
        "n_comp = int(0.6 * X_train_val.shape[1])\n",
        "\n",
        "pca = PCA(n_components=n_comp, random_state=123)\n",
        "pca.fit(X_train_val_scaled[y_train_val=='D'])\n",
        "\n",
        "pca.explained_variance_ratio_"
      ]
    },
    {
      "cell_type": "code",
      "execution_count": null,
      "metadata": {
        "colab": {
          "base_uri": "https://localhost:8080/"
        },
        "id": "W5z7q8wghbYn",
        "outputId": "282d6a77-c321-43da-a17a-21deed5277ba"
      },
      "outputs": [
        {
          "data": {
            "text/plain": [
              "array([[ 1.28556282e-01,  2.56210439e-01,  2.75260726e-01,\n",
              "         2.28562374e-01,  2.83061442e-01,  1.60145784e-01,\n",
              "         2.28452024e-01,  1.51843901e-01,  2.42907674e-01,\n",
              "         2.28550872e-01,  5.38864576e-02,  2.43000164e-01,\n",
              "         1.22478315e-01,  1.66727749e-01,  2.77704608e-01,\n",
              "         1.03086798e-01,  1.29567624e-01,  2.58673508e-01,\n",
              "         1.71813998e-01,  1.01305216e-01,  2.42848386e-01,\n",
              "         1.42423052e-01,  2.33029098e-01,  8.11125457e-02,\n",
              "         1.21713474e-01,  9.60000459e-02,  1.31948597e-01],\n",
              "       [ 3.21688911e-02,  6.01865300e-02, -9.83928106e-03,\n",
              "        -1.98049914e-01,  9.51598341e-02, -1.46906227e-01,\n",
              "         2.27199986e-01,  1.62644567e-01,  6.70545146e-02,\n",
              "         1.43677078e-01,  2.99003157e-01,  8.88926037e-02,\n",
              "         1.72130337e-01,  2.07190025e-01,  2.12222790e-02,\n",
              "         2.12944774e-01,  2.00724447e-01,  7.87710153e-02,\n",
              "        -3.58620188e-01,  1.60703980e-01, -2.48350619e-01,\n",
              "        -4.07423001e-01, -2.22958809e-01,  1.38912560e-01,\n",
              "        -2.69106005e-01, -1.13513950e-01, -1.53635679e-01],\n",
              "       [-8.73999481e-03,  1.83456875e-01,  2.82293188e-01,\n",
              "         1.43695555e-01,  3.72853693e-02,  2.33663127e-01,\n",
              "        -2.42496117e-01,  1.71033188e-01,  1.04139880e-01,\n",
              "        -3.28774682e-02, -3.25854052e-01,  1.25301746e-01,\n",
              "        -4.34841982e-02, -1.02230267e-01, -6.29523036e-02,\n",
              "        -1.63814332e-01, -7.09121036e-02,  2.77069474e-01,\n",
              "        -2.02236317e-01, -3.02552130e-01, -1.43433583e-01,\n",
              "        -3.14734248e-01,  9.04892510e-02, -3.14715716e-01,\n",
              "        -1.84759138e-01, -2.28362966e-01, -1.32485640e-01],\n",
              "       [ 1.96530068e-01, -6.79790366e-02, -1.20050808e-01,\n",
              "        -1.63339195e-01,  1.29221010e-01, -1.27648351e-01,\n",
              "        -1.32100387e-01, -3.79367530e-01,  9.90344775e-02,\n",
              "         2.01421266e-01,  1.29554864e-01,  2.20299271e-01,\n",
              "         2.53414778e-02,  6.76983236e-02,  2.76969125e-01,\n",
              "         2.83881813e-02, -3.39693034e-02, -1.05907778e-01,\n",
              "         2.69396475e-02, -3.71249803e-01,  2.27614129e-01,\n",
              "        -5.41466036e-02, -1.83416660e-01, -3.96399899e-01,\n",
              "        -2.80555379e-01,  1.37495209e-01,  1.69733560e-01],\n",
              "       [ 4.90355180e-01, -8.46926286e-02, -2.67256941e-01,\n",
              "         3.95636718e-02, -6.08029386e-02,  3.84507776e-01,\n",
              "         3.07175353e-01,  2.87971191e-01, -1.56945243e-01,\n",
              "         3.99446346e-02, -9.87620808e-02, -6.65405455e-02,\n",
              "        -4.82824173e-02,  8.00017771e-02,  4.40527751e-02,\n",
              "        -1.24252577e-01, -4.27289532e-02, -2.85014025e-01,\n",
              "        -1.67419617e-01, -7.31769411e-02, -8.96294935e-02,\n",
              "        -3.71144400e-03,  1.05075060e-01, -3.20164426e-02,\n",
              "        -9.99779298e-02, -1.07047218e-01,  3.55006450e-01],\n",
              "       [ 5.29570441e-02, -5.62823132e-02,  3.62320482e-02,\n",
              "         3.32406964e-01,  4.08778065e-02, -2.92673155e-01,\n",
              "        -2.97922698e-01, -2.15299818e-01, -8.43162661e-02,\n",
              "         3.39538702e-02, -4.12144511e-02,  5.83433562e-02,\n",
              "        -1.14882872e-01, -5.70784371e-02,  1.69779084e-01,\n",
              "        -2.09059575e-01,  1.34304603e-02,  1.56395329e-02,\n",
              "        -5.09989742e-02,  2.37781130e-01, -1.01706054e-01,\n",
              "        -2.12700694e-01,  2.09448941e-01,  3.87843575e-01,\n",
              "        -2.84102912e-01, -8.47075906e-02,  4.00119815e-01],\n",
              "       [ 3.28340121e-01,  1.10247534e-01,  1.39086437e-01,\n",
              "        -1.66620909e-02, -5.61877779e-03,  1.32066922e-01,\n",
              "         3.45170467e-01, -3.74671752e-01,  1.52095044e-01,\n",
              "        -1.91523709e-01, -8.72616910e-02, -1.85333636e-01,\n",
              "        -2.39466928e-01, -1.44965399e-01, -1.41652901e-01,\n",
              "        -1.30564375e-01, -1.91319822e-01,  2.28194647e-01,\n",
              "        -6.56849600e-02,  1.87388697e-01,  1.99038563e-01,\n",
              "        -1.31178876e-01, -2.11231865e-01,  1.32411753e-01,\n",
              "        -1.84648434e-01,  2.54819290e-01, -1.41641642e-01],\n",
              "       [-1.51146562e-01, -2.17228664e-02,  8.56309638e-02,\n",
              "        -2.40871124e-01,  1.14461649e-02,  1.69327809e-01,\n",
              "        -1.50319075e-01,  3.05279880e-01, -5.85772929e-01,\n",
              "         1.05452004e-01,  2.14854447e-02,  9.62842500e-02,\n",
              "        -1.31793792e-01, -7.62666899e-02,  8.50506128e-03,\n",
              "         3.21225495e-02, -1.83924002e-02,  2.46593338e-01,\n",
              "        -1.98372879e-02,  5.34724806e-02,  3.81424719e-01,\n",
              "         7.95485690e-02, -1.44377256e-01,  1.26261744e-01,\n",
              "        -3.08231529e-01,  1.60399851e-01,  6.87765062e-02],\n",
              "       [ 4.13028989e-01,  2.73718547e-01,  2.28057881e-01,\n",
              "        -1.43125669e-01, -1.97225134e-01, -3.65180787e-01,\n",
              "        -1.11980262e-01,  1.61700172e-01, -1.16389333e-01,\n",
              "         1.61721570e-01,  1.57959875e-01, -1.63803819e-01,\n",
              "        -4.31453316e-02, -1.79208939e-02, -3.16527099e-01,\n",
              "         1.72118149e-02,  8.49390873e-02,  9.86913427e-02,\n",
              "         1.51738151e-01, -2.04341759e-01, -2.16821290e-01,\n",
              "         3.43854114e-03,  1.74465364e-01, -5.03584288e-02,\n",
              "         6.02732024e-02,  3.13039833e-01,  1.16352952e-01],\n",
              "       [-2.45443332e-02, -1.17271369e-02,  1.61874772e-01,\n",
              "        -9.19684431e-02,  4.56866129e-02, -3.76722265e-01,\n",
              "         3.30213018e-01, -3.72599383e-02, -5.28347584e-02,\n",
              "        -1.29885482e-01, -2.08845269e-01, -6.33480095e-02,\n",
              "        -5.09469845e-02,  8.38453207e-02, -3.25461302e-02,\n",
              "         1.32800242e-02,  4.26341202e-02,  2.56176059e-01,\n",
              "        -5.19995526e-02, -2.33982486e-01,  7.49839903e-03,\n",
              "         3.79687721e-01, -2.06949207e-01,  2.92601219e-02,\n",
              "        -6.55332236e-02, -4.92789059e-01,  2.68469465e-01],\n",
              "       [ 2.40866208e-01, -1.00929333e-01,  1.96627781e-02,\n",
              "        -3.17950708e-02,  3.05415746e-01, -3.91869852e-01,\n",
              "         5.01687255e-02,  1.45633091e-01, -1.96187225e-01,\n",
              "        -8.33435416e-02, -1.53985769e-01,  7.36493909e-02,\n",
              "        -2.67919222e-01,  1.14195466e-04,  2.66502066e-01,\n",
              "        -8.89021499e-02, -1.41586128e-02, -1.71285677e-01,\n",
              "        -2.53638898e-01,  1.04783229e-02,  1.43055329e-01,\n",
              "         3.60019071e-02,  2.55026368e-01, -4.24970470e-02,\n",
              "         1.44933293e-01,  3.10747686e-02, -4.79577933e-01],\n",
              "       [ 2.60957547e-01, -6.90232649e-02,  5.77793097e-02,\n",
              "        -3.09360317e-01, -1.90690995e-01,  1.06008390e-01,\n",
              "        -2.77243528e-01, -1.58036283e-01,  9.04540977e-02,\n",
              "        -1.52903427e-01,  1.40993897e-01, -9.37104862e-02,\n",
              "         4.12659412e-01, -6.75607590e-02,  9.53477585e-03,\n",
              "         4.72972736e-02,  9.78122934e-03,  1.40240614e-01,\n",
              "        -3.52081324e-01,  3.90781287e-02,  3.10180114e-01,\n",
              "         1.11491347e-01,  3.24749421e-01,  1.23944138e-01,\n",
              "         9.10529956e-02, -2.41149046e-01, -9.51637814e-03],\n",
              "       [ 8.15743079e-02, -3.01463109e-02,  9.78586638e-02,\n",
              "        -2.75426124e-01, -2.40178422e-02,  1.45105278e-01,\n",
              "         1.05129013e-01, -3.21029284e-01, -3.22559251e-01,\n",
              "         1.34460880e-01, -4.25832448e-02,  3.46947959e-01,\n",
              "         9.96409715e-02, -1.06159296e-01,  1.79524702e-01,\n",
              "        -1.57673175e-01, -1.08565575e-01,  1.86990337e-01,\n",
              "         6.23125710e-02,  2.56360866e-01, -5.12485994e-01,\n",
              "         1.51370499e-01,  5.10684713e-02, -1.34713702e-01,\n",
              "         1.51892820e-01, -1.89780712e-02, -5.05990251e-02],\n",
              "       [ 2.53798973e-01, -1.73503229e-01, -2.35709906e-02,\n",
              "         5.98206947e-02,  9.77168950e-02,  7.50683468e-03,\n",
              "        -1.61754168e-01,  1.37985439e-01,  1.70004538e-01,\n",
              "         1.01645536e-01, -2.70202463e-02, -6.55185767e-02,\n",
              "         1.47925209e-01, -3.97490404e-02, -1.04594147e-01,\n",
              "         1.15590823e-02, -2.63403148e-02, -4.43095440e-02,\n",
              "         3.62729423e-01,  1.93499062e-01, -1.14197807e-01,\n",
              "         3.67716719e-01, -5.54026620e-03, -8.87893603e-03,\n",
              "        -5.45761336e-01, -1.71481758e-01, -3.47056736e-01],\n",
              "       [-1.03902689e-01, -1.16100380e-02,  1.54807439e-02,\n",
              "         4.69280120e-01, -1.29249935e-01,  1.09064122e-02,\n",
              "         2.03700253e-01, -1.94021525e-01, -3.63744930e-01,\n",
              "        -1.09198174e-01,  6.22460953e-02, -1.86839715e-01,\n",
              "         3.95736650e-01,  1.33368480e-01,  9.98419212e-02,\n",
              "        -8.92007344e-03,  1.21687267e-01,  8.20748888e-02,\n",
              "        -1.60088305e-01, -2.55900311e-01, -7.11060937e-02,\n",
              "         1.32753537e-01,  1.20590469e-01, -4.85951362e-02,\n",
              "        -2.20168127e-01,  2.53412177e-01, -2.00624630e-01],\n",
              "       [ 2.00178570e-01, -2.03060390e-01, -2.37908187e-01,\n",
              "         9.52434855e-02, -2.53271289e-01,  8.42904557e-02,\n",
              "        -1.55239915e-01, -5.69118161e-03,  8.21448308e-02,\n",
              "        -9.67734684e-02, -1.88966609e-01,  7.34516730e-02,\n",
              "        -2.91698117e-01, -3.40361889e-02,  2.47864412e-01,\n",
              "         5.38353670e-01,  2.23443610e-01,  3.46557451e-01,\n",
              "        -5.55951339e-03, -1.25733712e-01, -1.76835061e-01,\n",
              "         5.16332896e-02, -6.14752603e-02,  1.41873885e-01,\n",
              "         6.39819294e-02,  1.05541354e-01, -6.30122900e-02]])"
            ]
          },
          "execution_count": 64,
          "metadata": {},
          "output_type": "execute_result"
        }
      ],
      "source": [
        "pca.components_"
      ]
    },
    {
      "cell_type": "code",
      "execution_count": null,
      "metadata": {
        "colab": {
          "base_uri": "https://localhost:8080/",
          "height": 732
        },
        "id": "fBYPf2hUhbYo",
        "outputId": "c94491ce-dec5-46ff-fcbc-96c385668a32"
      },
      "outputs": [
        {
          "data": {
            "image/png": "[encoded data removed]",
            "text/plain": [
              "<Figure size 576x14400 with 2 Axes>"
            ]
          },
          "metadata": {
            "needs_background": "light"
          },
          "output_type": "display_data"
        }
      ],
      "source": [
        "plt.figure(figsize=(8, 200))\n",
        "im = plt.imshow(np.abs(pca.components_.T), cmap = plt.cm.Blues)\n",
        "plt.yticks(range(len(predictors)), predictors)\n",
        "plt.colorbar(im,fraction=0.0785, pad=0.04)\n",
        "plt.show()"
      ]
    },
    {
      "cell_type": "code",
      "execution_count": null,
      "metadata": {
        "colab": {
          "base_uri": "https://localhost:8080/"
        },
        "id": "0MYKQLMihbYp",
        "outputId": "5afa4231-dc32-44b1-8203-6e0d780bdf7a"
      },
      "outputs": [
        {
          "name": "stdout",
          "output_type": "stream",
          "text": [
            "Percentage of total variance explained by the first 16 components : 86.38%\n"
          ]
        }
      ],
      "source": [
        "# see the sum over all explained variance\n",
        "total_explained_variance = sum(pca.explained_variance_ratio_)\n",
        "print('Percentage of total variance explained by the first',n_comp,'components :', str(round(total_explained_variance * 100,2))+'%')"
      ]
    },
    {
      "cell_type": "code",
      "execution_count": null,
      "metadata": {
        "colab": {
          "base_uri": "https://localhost:8080/"
        },
        "id": "q5Hx-z1elJYk",
        "outputId": "8b591846-da5d-4d18-da93-979eca234459"
      },
      "outputs": [
        {
          "data": {
            "text/plain": [
              "17"
            ]
          },
          "execution_count": 67,
          "metadata": {},
          "output_type": "execute_result"
        }
      ],
      "source": [
        "file.write('\\n\\n\\nUNSUPERVISED DISHONEST ONLY')\n",
        "file.write('\\n\\n\\nPercentage of total variance explained by the first ')\n",
        "file.write(str(n_comp))\n",
        "file.write(' components: ')\n",
        "file.write(str(total_explained_variance))"
      ]
    },
    {
      "cell_type": "markdown",
      "metadata": {
        "id": "HcD0BCZyhbYq"
      },
      "source": [
        "In the next cell we select the most influential principal components: in particular we select those components such that the difference between their explained variance ratio and the highest one is less than 5%:"
      ]
    },
    {
      "cell_type": "code",
      "execution_count": null,
      "metadata": {
        "colab": {
          "base_uri": "https://localhost:8080/"
        },
        "id": "a7qGdc-LhbYr",
        "outputId": "307fa5c9-ed86-4e20-afd6-fe647a7ae8db"
      },
      "outputs": [
        {
          "data": {
            "text/plain": [
              "[0]"
            ]
          },
          "execution_count": 68,
          "metadata": {},
          "output_type": "execute_result"
        }
      ],
      "source": [
        "selected_eigenvectors = []\n",
        "explained_variance = pca.explained_variance_ratio_\n",
        "\n",
        "for i in range(len(explained_variance)):\n",
        "    if explained_variance[0] - explained_variance[i] < 0.05:\n",
        "        selected_eigenvectors.append(i)\n",
        "    else:\n",
        "        break\n",
        "\n",
        "selected_eigenvectors"
      ]
    },
    {
      "cell_type": "markdown",
      "metadata": {
        "id": "AHOJVdJnhbYs"
      },
      "source": [
        "Then, we extract the most relevant features from each one of the selected components."
      ]
    },
    {
      "cell_type": "code",
      "execution_count": null,
      "metadata": {
        "colab": {
          "base_uri": "https://localhost:8080/"
        },
        "id": "Uml7lJyphbYt",
        "outputId": "8fe129ed-788d-4363-a9ec-b67fac8e5eaf"
      },
      "outputs": [
        {
          "name": "stdout",
          "output_type": "stream",
          "text": [
            "Features that are sufficiently relevant:\n",
            "\n",
            " Index(['Mach2 ', 'Mach3 ', 'Mach5 ', 'Mach9 ', 'Psycho3 ', 'Psycho6',\n",
            "       'Psycho9 '],\n",
            "      dtype='object')\n"
          ]
        }
      ],
      "source": [
        "features_extracted = np.zeros(pca.components_.shape[1])\n",
        "for component in np.abs(pca.components_[selected_eigenvectors]):\n",
        "    percentile = np.percentile(component, 75)    \n",
        "    features_extracted = np.logical_or(features_extracted, component>=percentile)\n",
        "\n",
        "features_pca = features_extracted\n",
        "print('Features that are sufficiently relevant:\\n\\n', predictors[features_pca])"
      ]
    },
    {
      "cell_type": "code",
      "execution_count": null,
      "metadata": {
        "colab": {
          "base_uri": "https://localhost:8080/"
        },
        "id": "Dl_icuvMlJYn",
        "outputId": "f9389a71-133d-401d-9e5b-6f876f79d3ee"
      },
      "outputs": [
        {
          "data": {
            "text/plain": [
              "75"
            ]
          },
          "execution_count": 70,
          "metadata": {},
          "output_type": "execute_result"
        }
      ],
      "source": [
        "file.write('\\n\\nFeatures Selected via PCA: ')\n",
        "file.write(str(list(predictors[features_pca])))"
      ]
    },
    {
      "cell_type": "markdown",
      "metadata": {
        "id": "ijQdljMehbYu"
      },
      "source": [
        "### Sparse PCA"
      ]
    },
    {
      "cell_type": "code",
      "execution_count": null,
      "metadata": {
        "colab": {
          "base_uri": "https://localhost:8080/"
        },
        "id": "sh-cWTJrhbYw",
        "outputId": "4882cb39-b960-42fd-fbe2-48f347c4810d"
      },
      "outputs": [
        {
          "name": "stdout",
          "output_type": "stream",
          "text": [
            "\n",
            "Number of times each feature appears in the selected components:\n",
            "\n",
            " [1. 6. 2. 1. 5. 1. 1. 1. 1. 5. 5. 2. 3. 4. 4. 1. 5. 3. 4. 1. 1. 1. 4. 1.\n",
            " 1. 1. 1.]\n",
            "\n",
            "\n",
            "Features that appear a number of times greater than the mean frequency:\n",
            "\n",
            " Index(['Mach2 ', 'Mach5 ', 'Psycho1 ', 'Psycho2 ', 'Psycho4 ', 'Psycho5 H',\n",
            "       'Psycho6', 'Psycho8 ', 'Psycho9 ', 'Narc1', 'Narc5 '],\n",
            "      dtype='object')\n"
          ]
        }
      ],
      "source": [
        "# get number of principal components equal to the 60%\n",
        "# of the number of features in the original dataset\n",
        "# of course we get the int number\n",
        "n_comp = int(0.6 * X_train_val.shape[1])\n",
        "\n",
        "sparse_pca = SparsePCA(n_components=n_comp, random_state=123, alpha=1)\n",
        "sparse_pca.fit(X_train_val_scaled[y_train_val == 'D'])\n",
        "\n",
        "features_extracted = np.zeros(sparse_pca.components_.shape[1])\n",
        "for component in sparse_pca.components_:\n",
        "    features_extracted += (component!=0)\n",
        "print('\\nNumber of times each feature appears in the selected components:\\n\\n',features_extracted)\n",
        "\n",
        "# extract only those features whose frequencies are greater or equal than the mean frequency\n",
        "features_sparse_pca = (features_extracted>=np.mean(features_extracted))\n",
        "print('\\n\\nFeatures that appear a number of times greater than the mean frequency:\\n\\n', predictors[features_sparse_pca])"
      ]
    },
    {
      "cell_type": "markdown",
      "metadata": {
        "id": "WQsIfBCOq1ms"
      },
      "source": [
        "Once again, let' take a look at the color matrix."
      ]
    },
    {
      "cell_type": "code",
      "execution_count": null,
      "metadata": {
        "colab": {
          "base_uri": "https://localhost:8080/",
          "height": 738
        },
        "id": "nd4zxma3hbYx",
        "outputId": "d0c5edd2-30b9-407f-b3d0-41937a3e6b19"
      },
      "outputs": [
        {
          "data": {
            "image/png": "[encoded data removed]",
            "text/plain": [
              "<Figure size 576x14400 with 2 Axes>"
            ]
          },
          "metadata": {
            "needs_background": "light"
          },
          "output_type": "display_data"
        }
      ],
      "source": [
        "plt.figure(figsize=(8, 200))\n",
        "im = plt.imshow(np.abs(sparse_pca.components_.T), cmap = plt.cm.Blues)\n",
        "plt.yticks(range(len(predictors)), predictors)\n",
        "plt.colorbar(im,fraction=0.0785, pad=0.04)\n",
        "plt.show()"
      ]
    },
    {
      "cell_type": "code",
      "execution_count": null,
      "metadata": {
        "colab": {
          "base_uri": "https://localhost:8080/"
        },
        "id": "ILWUQGq0iL69",
        "outputId": "584b4bd0-504e-4571-f3ef-e39b8c7b2cbf"
      },
      "outputs": [
        {
          "data": {
            "text/plain": [
              "123"
            ]
          },
          "execution_count": 73,
          "metadata": {},
          "output_type": "execute_result"
        }
      ],
      "source": [
        "file.write('\\n\\nFeatures Selected via Sparse PCA: ')\n",
        "file.write(str(list(predictors[features_sparse_pca])))"
      ]
    },
    {
      "cell_type": "markdown",
      "metadata": {
        "id": "NPlNXI6xhbYy"
      },
      "source": [
        "### Variance Thresholding"
      ]
    },
    {
      "cell_type": "code",
      "execution_count": null,
      "metadata": {
        "colab": {
          "base_uri": "https://localhost:8080/"
        },
        "id": "ofiLSWuehbY0",
        "outputId": "3ed8b5b0-4f82-4aa5-941a-474d741f980c"
      },
      "outputs": [
        {
          "name": "stdout",
          "output_type": "stream",
          "text": [
            "Selected features based on variance thresholding:\n",
            "\n",
            " Index(['Mach4 ', 'Mach5 ', 'Mach7 ', 'Mach8 ', 'Mach9 ', 'Psycho9 ', 'Narc5 '], dtype='object')\n"
          ]
        }
      ],
      "source": [
        "# VarianceThreshold approach\n",
        "\n",
        "# first of all let's compute the variances\n",
        "variances = np.var(X_train_val[y_train_val == 'D'], axis=0)\n",
        "\n",
        "# first approach to set a threshold\n",
        "alpha = 0.5\n",
        "threshold = (1-alpha)*np.min(variances)+alpha*np.max(variances)\n",
        "\n",
        "# second approach to set a threshold\n",
        "threshold = np.percentile(variances, 75)\n",
        "\n",
        "# see the selected features\n",
        "features_varthresh = (variances>=threshold)\n",
        "print('Selected features based on variance thresholding:\\n\\n', predictors[features_varthresh])"
      ]
    },
    {
      "cell_type": "code",
      "execution_count": null,
      "metadata": {
        "colab": {
          "base_uri": "https://localhost:8080/"
        },
        "id": "juInoJbtiaO6",
        "outputId": "e012a05f-dc70-4e20-bc53-aecaa98564e1"
      },
      "outputs": [
        {
          "data": {
            "text/plain": [
              "72"
            ]
          },
          "execution_count": 75,
          "metadata": {},
          "output_type": "execute_result"
        }
      ],
      "source": [
        "file.write('\\n\\nFeatures Selected via Variance Thresholding: ')\n",
        "file.write(str(list(predictors[features_varthresh])))"
      ]
    },
    {
      "cell_type": "markdown",
      "metadata": {
        "id": "79DYwNm9hbY1"
      },
      "source": [
        "### Union to find best subset of features"
      ]
    },
    {
      "cell_type": "markdown",
      "metadata": {
        "id": "K8v8dHmrhbY2"
      },
      "source": [
        "Just as before, let's take the union set of the sets of features found by the various algorithms. Upon this union set we will perform further Greedy Feature Selections."
      ]
    },
    {
      "cell_type": "code",
      "execution_count": null,
      "metadata": {
        "colab": {
          "base_uri": "https://localhost:8080/"
        },
        "id": "Qxp0BdNlhbY3",
        "outputId": "e35ebb57-557c-4eb3-d911-64b6635c8c89"
      },
      "outputs": [
        {
          "name": "stdout",
          "output_type": "stream",
          "text": [
            "Final set of features from Unsupervised Algorithms on Dishonest:\n",
            "\n",
            " ['Mach2 ', 'Mach3 ', 'Mach5 ', 'Mach9 ', 'Psycho1 ', 'Psycho2 ', 'Psycho3 ', 'Psycho4 ', 'Psycho5 H', 'Psycho6', 'Psycho8 ', 'Psycho9 ', 'Narc1', 'Narc5 ']\n"
          ]
        }
      ],
      "source": [
        "# take the union among all the extracted features sets\n",
        "# found through the different unsupervised learning techniques\n",
        "features_set_unsup = np.logical_or(features_pca, features_sparse_pca, features_varthresh)\n",
        "features_unsup_dishonest = [i for i in range(len(features_set_unsup)) if features_set_unsup[i]==True]\n",
        "features_selected_dishonest = [predictors[i] for i in features_unsup_dishonest]\n",
        "print('Final set of features from Unsupervised Algorithms on Dishonest:\\n\\n', features_selected_dishonest)"
      ]
    },
    {
      "cell_type": "code",
      "execution_count": null,
      "metadata": {
        "colab": {
          "base_uri": "https://localhost:8080/"
        },
        "id": "dLuK_BCQlJYv",
        "outputId": "7d874036-8fa3-48f2-ea02-9633cf9013c7"
      },
      "outputs": [
        {
          "data": {
            "text/plain": [
              "155"
            ]
          },
          "execution_count": 77,
          "metadata": {},
          "output_type": "execute_result"
        }
      ],
      "source": [
        "file.write('\\n\\n(Union) Final set of features from Unsupervised Algorithms: ')\n",
        "file.write(str(features_selected_dishonest))"
      ]
    },
    {
      "cell_type": "markdown",
      "metadata": {
        "id": "eOpfosoXhbY4"
      },
      "source": [
        "Finally, let's implement a Logistic Regression to check how this subset of features behaves."
      ]
    },
    {
      "cell_type": "code",
      "execution_count": null,
      "metadata": {
        "colab": {
          "base_uri": "https://localhost:8080/"
        },
        "id": "RGl-w0ichbY5",
        "outputId": "6eae322b-a43f-4b61-c52e-4eb857610dfb"
      },
      "outputs": [
        {
          "name": "stdout",
          "output_type": "stream",
          "text": [
            "Accuracy on train: 0.7558441558441559\n",
            "Accuracy on test: 0.7422680412371134\n"
          ]
        }
      ],
      "source": [
        "# logistic regression\n",
        "\n",
        "max_iter = 1000\n",
        "C = [0.01, 0.1, 1]\n",
        "logreg_clf = LogisticRegressionCV(penalty='l2', Cs=C, max_iter=max_iter, cv=KFold())\n",
        "logreg_clf = logreg_clf.fit(X_train_val_scaled[:, features_unsup_dishonest], y_train_val)\n",
        "y_train_val_pred = logreg_clf.predict(X_train_val_scaled[:, features_unsup_dishonest])\n",
        "y_test_pred = logreg_clf.predict(X_test_scaled[:, features_unsup_dishonest])\n",
        "\n",
        "print('Accuracy on train:', np.mean(y_train_val==y_train_val_pred))\n",
        "print('Accuracy on test:', np.mean(y_test==y_test_pred))"
      ]
    },
    {
      "cell_type": "code",
      "execution_count": null,
      "metadata": {
        "colab": {
          "base_uri": "https://localhost:8080/"
        },
        "id": "VyJLwfmwlJYx",
        "outputId": "8dbe872d-4d32-42a3-ce20-daa95f68fef4"
      },
      "outputs": [
        {
          "data": {
            "text/plain": [
              "18"
            ]
          },
          "execution_count": 79,
          "metadata": {},
          "output_type": "execute_result"
        }
      ],
      "source": [
        "file.write('\\n\\nResult after applying Logistic Regression: \\nOn train: ')\n",
        "file.write(str(np.mean(y_train_val==y_train_val_pred)))\n",
        "file.write('\\nOn test: ')\n",
        "file.write(str(np.mean(y_test==y_test_pred)))"
      ]
    },
    {
      "cell_type": "markdown",
      "metadata": {
        "id": "QFlt2WNuhbY6"
      },
      "source": [
        "Let's check whether we can further reduce this subset of features via greedy selection techniques. In particular we apply both Forward and Backward Selections, based on the accuracy score."
      ]
    },
    {
      "cell_type": "code",
      "execution_count": null,
      "metadata": {
        "colab": {
          "base_uri": "https://localhost:8080/"
        },
        "id": "vx8nUp6ohbY7",
        "outputId": "0320a551-d9aa-4a88-9c3d-1f5dd1d69914"
      },
      "outputs": [
        {
          "name": "stderr",
          "output_type": "stream",
          "text": [
            "/home/giangia/.local/lib/python3.10/site-packages/sklearn/feature_selection/_sequential.py:188: FutureWarning: Leaving `n_features_to_select` to None is deprecated in 1.0 and will become 'auto' in 1.3. To keep the same behaviour as with None (i.e. select half of the features) and avoid this warning, you should manually set `n_features_to_select='auto'` and set tol=None when creating an instance.\n",
            "  warnings.warn(\n"
          ]
        },
        {
          "name": "stdout",
          "output_type": "stream",
          "text": [
            "Final features after greedy forward selection:  Index(['Mach3 ', 'Mach9 ', 'Psycho1 ', 'Psycho2 ', 'Psycho4 ', 'Psycho5 H',\n",
            "       'Psycho8 '],\n",
            "      dtype='object')\n",
            "Accuracy on train: 0.7662337662337663\n",
            "Accuracy on test: 0.7319587628865979\n"
          ]
        }
      ],
      "source": [
        "lreg = LogisticRegression()\n",
        "\n",
        "# apply Forward selection\n",
        "sfs = SequentialFeatureSelector(lreg, direction='forward')\n",
        "sfs.fit(X_train_val_scaled[:, features_unsup_dishonest], y_train_val)\n",
        "final_features_forward = [features_unsup_dishonest[i] for i in range(len(features_unsup_dishonest)) if sfs.get_support()[i]>0]\n",
        "print('Final features after greedy forward selection: ', predictors[final_features_forward])\n",
        "\n",
        "# fit the model once again\n",
        "logreg_clf = logreg_clf.fit(X_train_val_scaled[:, final_features_forward], y_train_val)\n",
        "y_train_val_pred = logreg_clf.predict(X_train_val_scaled[:, final_features_forward])\n",
        "y_test_pred = logreg_clf.predict(X_test_scaled[:, final_features_forward])\n",
        "\n",
        "print('Accuracy on train:', np.mean(y_train_val==y_train_val_pred))\n",
        "print('Accuracy on test:', np.mean(y_test==y_test_pred))"
      ]
    },
    {
      "cell_type": "code",
      "execution_count": null,
      "metadata": {
        "colab": {
          "base_uri": "https://localhost:8080/"
        },
        "id": "AXBsDT5VlJY1",
        "outputId": "c09ea1bb-712f-4d27-8654-2baf1f971bc6"
      },
      "outputs": [
        {
          "data": {
            "text/plain": [
              "18"
            ]
          },
          "execution_count": 81,
          "metadata": {},
          "output_type": "execute_result"
        }
      ],
      "source": [
        "file.write('\\n\\nFinal features after greedy forward selection: ')\n",
        "file.write(str(list(predictors[final_features_forward])))\n",
        "file.write('\\nAccuracy on Train: ')\n",
        "file.write(str(np.mean(y_train_val==y_train_val_pred)))\n",
        "file.write('\\nAccuracy on Test: ')\n",
        "file.write(str(np.mean(y_test==y_test_pred)))"
      ]
    },
    {
      "cell_type": "code",
      "execution_count": null,
      "metadata": {
        "colab": {
          "base_uri": "https://localhost:8080/"
        },
        "id": "0U9ChyABhbY9",
        "outputId": "21b554e7-e598-4ac4-ab67-50a1893bd692"
      },
      "outputs": [
        {
          "name": "stderr",
          "output_type": "stream",
          "text": [
            "/home/giangia/.local/lib/python3.10/site-packages/sklearn/feature_selection/_sequential.py:188: FutureWarning: Leaving `n_features_to_select` to None is deprecated in 1.0 and will become 'auto' in 1.3. To keep the same behaviour as with None (i.e. select half of the features) and avoid this warning, you should manually set `n_features_to_select='auto'` and set tol=None when creating an instance.\n",
            "  warnings.warn(\n"
          ]
        },
        {
          "name": "stdout",
          "output_type": "stream",
          "text": [
            "Final features after greedy backward selection:  Index(['Mach3 ', 'Mach9 ', 'Psycho1 ', 'Psycho2 ', 'Psycho5 H', 'Psycho6',\n",
            "       'Psycho8 '],\n",
            "      dtype='object')\n",
            "Accuracy on train: 0.7688311688311689\n",
            "Accuracy on test: 0.7216494845360825\n"
          ]
        }
      ],
      "source": [
        "# apply Backward selection\n",
        "sfs = SequentialFeatureSelector(lreg, direction='backward')\n",
        "sfs.fit(X_train_val_scaled[:, features_unsup_dishonest], y_train_val)\n",
        "final_features_backward = [features_unsup_dishonest[i] for i in range(len(features_unsup_dishonest)) if sfs.get_support()[i]>0]\n",
        "print('Final features after greedy backward selection: ', predictors[final_features_backward])\n",
        "\n",
        "# fit the model once again\n",
        "logreg_clf = logreg_clf.fit(X_train_val_scaled[:, final_features_backward], y_train_val)\n",
        "y_train_val_pred = logreg_clf.predict(X_train_val_scaled[:, final_features_backward])\n",
        "y_test_pred = logreg_clf.predict(X_test_scaled[:, final_features_backward])\n",
        "\n",
        "print('Accuracy on train:', np.mean(y_train_val==y_train_val_pred))\n",
        "print('Accuracy on test:', np.mean(y_test==y_test_pred))"
      ]
    },
    {
      "cell_type": "code",
      "execution_count": null,
      "metadata": {
        "colab": {
          "base_uri": "https://localhost:8080/"
        },
        "id": "UX-_N35LlJY3",
        "outputId": "b4c657bf-88aa-4277-bf24-05b774e3e58f"
      },
      "outputs": [
        {
          "data": {
            "text/plain": [
              "50"
            ]
          },
          "execution_count": 83,
          "metadata": {},
          "output_type": "execute_result"
        }
      ],
      "source": [
        "file.write('\\n\\nFinal features after greedy backward selection: ')\n",
        "file.write(str(list(predictors[final_features_backward])))\n",
        "file.write('\\nAccuracy on Train: ')\n",
        "file.write(str(np.mean(y_train_val==y_train_val_pred)))\n",
        "file.write('\\nAccuracy on Test: ')\n",
        "file.write(str(np.mean(y_test==y_test_pred)))\n",
        "\n",
        "file.write('\\n\\n\\n')\n",
        "file.write('_'*50)"
      ]
    },
    {
      "cell_type": "markdown",
      "metadata": {
        "id": "GSoUd8HYrh4V"
      },
      "source": [
        "## 3.4 Venn Diagram for all cases (Whole Dataset, Honest only, Dishonest only)"
      ]
    },
    {
      "cell_type": "markdown",
      "metadata": {
        "id": "BH4vMGpfsQ3B"
      },
      "source": [
        "Let's now look at the distribution of features across the three different scenarios we examined. To easily check for common predictors we use a Venn Diagram."
      ]
    },
    {
      "cell_type": "code",
      "execution_count": null,
      "metadata": {
        "colab": {
          "base_uri": "https://localhost:8080/",
          "height": 427
        },
        "id": "w6sY6SP5ri5Q",
        "outputId": "d0b2d501-316a-42a0-8808-303f74cfb9ed"
      },
      "outputs": [
        {
          "data": {
            "image/png": "[encoded data removed]",
            "text/plain": [
              "<Figure size 504x504 with 1 Axes>"
            ]
          },
          "metadata": {},
          "output_type": "display_data"
        }
      ],
      "source": [
        "plt.figure(figsize=(7, 7))\n",
        "venn3([set(features_selected), set(features_selected_honest), set(features_selected_dishonest)], ('whole dataset', 'honest only', 'dishonest only'))\n",
        "plt.title('Venn Diagram for selected features')\n",
        "plt.show()"
      ]
    },
    {
      "cell_type": "code",
      "execution_count": null,
      "metadata": {
        "colab": {
          "base_uri": "https://localhost:8080/"
        },
        "id": "Bi_Es9N9sog7",
        "outputId": "8de43fd9-a1dc-47de-a027-a263425b9d5d"
      },
      "outputs": [
        {
          "name": "stdout",
          "output_type": "stream",
          "text": [
            "Features shared: {'Psycho3 ', 'Psycho1 ', 'Psycho2 ', 'Mach3 ', 'Mach2 ', 'Mach5 ', 'Psycho6'}\n"
          ]
        }
      ],
      "source": [
        "print('Features shared:', set(features_selected) & set(features_selected_honest) & set(features_selected_dishonest))"
      ]
    },
    {
      "cell_type": "code",
      "execution_count": null,
      "metadata": {
        "colab": {
          "base_uri": "https://localhost:8080/"
        },
        "id": "vse3vxu9jr2h",
        "outputId": "5ddca04f-466c-4284-9214-cc445d7d4f25"
      },
      "outputs": [
        {
          "data": {
            "text/plain": [
              "77"
            ]
          },
          "execution_count": 86,
          "metadata": {},
          "output_type": "execute_result"
        }
      ],
      "source": [
        "file.write('\\n\\nFeature shared across whole dataset, Honest-only, Dishonest-only: ')\n",
        "file.write(str(set(features_selected) & set(features_selected_honest) & set(features_selected_dishonest)))"
      ]
    },
    {
      "cell_type": "markdown",
      "metadata": {
        "id": "pcd0EHx2lJY6"
      },
      "source": [
        "Since there might be some features shared across whole dataset, honest only and dishonest only, this could suggest that such features may be not relevant to discriminate honest answers from dishonest ones. Thus, in the next cell, we implement a simple Logistic Regression using only those predictors which are NOT shared by all the three cases."
      ]
    },
    {
      "cell_type": "code",
      "execution_count": null,
      "metadata": {
        "colab": {
          "base_uri": "https://localhost:8080/"
        },
        "id": "l_ifgwD0lJY7",
        "outputId": "46aaa567-c57a-4e21-d77d-94be5a16492c"
      },
      "outputs": [
        {
          "name": "stdout",
          "output_type": "stream",
          "text": [
            "Accuracy on train: 0.7350649350649351\n",
            "Accuracy on test: 0.6701030927835051\n"
          ]
        }
      ],
      "source": [
        "# logistic regression\n",
        "\n",
        "# take those features not shared by all the three cases\n",
        "intersection = set(features_unsup) & set(features_unsup_honest) & set(features_unsup_dishonest)\n",
        "union = set(features_unsup) | set(features_unsup_honest) | set(features_unsup_dishonest)\n",
        "features_NOT_shared = list(union - intersection)\n",
        "\n",
        "max_iter = 1000\n",
        "C = [0.01, 0.1, 1]\n",
        "logreg_clf = LogisticRegressionCV(penalty='l2', Cs=C, max_iter=max_iter, cv=KFold())\n",
        "logreg_clf = logreg_clf.fit(X_train_val_scaled[:, features_NOT_shared], y_train_val)\n",
        "y_train_val_pred = logreg_clf.predict(X_train_val_scaled[:, features_NOT_shared])\n",
        "y_test_pred = logreg_clf.predict(X_test_scaled[:, features_NOT_shared])\n",
        "\n",
        "print('Accuracy on train:', np.mean(y_train_val==y_train_val_pred))\n",
        "print('Accuracy on test:', np.mean(y_test==y_test_pred))"
      ]
    },
    {
      "cell_type": "code",
      "execution_count": null,
      "metadata": {
        "colab": {
          "base_uri": "https://localhost:8080/"
        },
        "id": "0Y2Z2ZH-lJY8",
        "outputId": "6495b0b9-6a6b-4388-e72e-73b54e03c405"
      },
      "outputs": [
        {
          "data": {
            "text/plain": [
              "50"
            ]
          },
          "execution_count": 88,
          "metadata": {},
          "output_type": "execute_result"
        }
      ],
      "source": [
        "file.write('\\n\\nLogistic Regression on NOT shared features: ')\n",
        "file.write(str(list(predictors[features_NOT_shared])))\n",
        "file.write('\\nAccuracy on Train: ')\n",
        "file.write(str(np.mean(y_train_val==y_train_val_pred)))\n",
        "file.write('\\nAccuracy on Test: ')\n",
        "file.write(str(np.mean(y_test==y_test_pred)))\n",
        "\n",
        "file.write('\\n\\n\\n')\n",
        "file.write('_'*50)"
      ]
    },
    {
      "cell_type": "markdown",
      "metadata": {
        "id": "QjXtbYyIl94F"
      },
      "source": [
        "## 4. Supervised Feature Selection "
      ]
    },
    {
      "cell_type": "markdown",
      "metadata": {
        "id": "IFTjq8x2qRKQ"
      },
      "source": [
        "In this section we move on to Supervised Learning algorithms. The algorithms we are going to analyze are:\n",
        "- Logistic Regression;\n",
        "- Support Vector Machine;\n",
        "- Decision Tree;\n",
        "- Random Forest;\n",
        "- Gradient Boosting.\n",
        "\n",
        "In order to assess the stability of the coefficients found by the models, for each one of such algorithms we also apply a Permutation Importance strategy.\n",
        "We then combine the model coefficients with the Permutation Importance values in order to extract a set of relevant features from each algorithm.\n",
        "Then again, we take the union of the found sets of features, and upon this union set we further apply Greedy Feature Selection techniques.\n",
        "In particular we implemented 4 different Greedy Feature Selection strategies:\n",
        "- Greedy Feature Selection using Akaike's Information Criterion;\n",
        "- Greedy Feature Selection using p-values;\n",
        "- Greedy Forward Feature Selection;\n",
        "- Greedy Backward Feature Selection.\n",
        "\n",
        "All these feature selection strategies are built upon a Logistic Regression classifier. "
      ]
    },
    {
      "cell_type": "markdown",
      "metadata": {
        "id": "c45Onm7ssqPZ"
      },
      "source": [
        "### Logistic Regression"
      ]
    },
    {
      "cell_type": "markdown",
      "metadata": {
        "id": "RkZH4F9zAOQt"
      },
      "source": [
        "In the next cell we fit a Logistic Regression. In particular, to carry out feature selection we consider the Lasso Regularization; in this way we expect some of the coefficients will be set to zero. Then we make predictions both on Training and Test sets:"
      ]
    },
    {
      "cell_type": "code",
      "execution_count": null,
      "metadata": {
        "colab": {
          "base_uri": "https://localhost:8080/"
        },
        "id": "ULcF4p10mA9g",
        "outputId": "6c028cfc-5b50-47a2-ec43-a488680cc119"
      },
      "outputs": [
        {
          "name": "stdout",
          "output_type": "stream",
          "text": [
            "Accuracy on train: 0.7506493506493507\n",
            "Accuracy on test: 0.7216494845360825\n"
          ]
        }
      ],
      "source": [
        "# logistic regression\n",
        "\n",
        "max_iter = 1000\n",
        "C = 0.1\n",
        "logreg_clf = LogisticRegression(penalty='l1', solver='saga', C=C, max_iter=max_iter)\n",
        "logreg_clf = logreg_clf.fit(X_train_val_scaled, y_train_val)\n",
        "y_train_val_pred = logreg_clf.predict(X_train_val_scaled)\n",
        "y_test_pred = logreg_clf.predict(X_test_scaled)\n",
        "\n",
        "acc_logreg_train = np.mean(y_train_val==y_train_val_pred)\n",
        "acc_logreg_test =  np.mean(y_test==y_test_pred)\n",
        "\n",
        "print('Accuracy on train:', acc_logreg_train)\n",
        "print('Accuracy on test:', acc_logreg_test)"
      ]
    },
    {
      "cell_type": "code",
      "execution_count": null,
      "metadata": {
        "colab": {
          "base_uri": "https://localhost:8080/"
        },
        "id": "5UlE71mRsvA_",
        "outputId": "b4403589-9cb2-44f3-f72b-778a2b7c5e76"
      },
      "outputs": [
        {
          "name": "stdout",
          "output_type": "stream",
          "text": [
            "Logistic Regression coefficients:\n",
            "\n",
            " [[ 0.          0.02856925  0.          0.02334553  0.02991761 -0.03006303\n",
            "   0.22057314  0.          0.17042847  0.1795043   0.31333791  0.01759121\n",
            "   0.          0.58127517  0.          0.          0.1726532   0.\n",
            "   0.          0.         -0.0574599   0.         -0.02119248  0.\n",
            "  -0.05736307  0.13115204  0.        ]]\n"
          ]
        }
      ],
      "source": [
        "print('Logistic Regression coefficients:\\n\\n', logreg_clf.coef_)"
      ]
    },
    {
      "cell_type": "markdown",
      "metadata": {
        "id": "Ckljt0qpAOQw"
      },
      "source": [
        "To assess the stability of the found coefficients, we also consider the Permutation Importance technique:"
      ]
    },
    {
      "cell_type": "code",
      "execution_count": null,
      "metadata": {
        "id": "dP3Xtfs4tOmD",
        "scrolled": true
      },
      "outputs": [],
      "source": [
        "logreg_clf_permut = permutation_importance(logreg_clf, X_train_val_scaled, y_train_val, n_repeats=100, random_state=0)"
      ]
    },
    {
      "cell_type": "code",
      "execution_count": null,
      "metadata": {
        "colab": {
          "base_uri": "https://localhost:8080/"
        },
        "id": "10qybpUGqRNO",
        "outputId": "ad30ea82-9a1b-4d34-ce2f-579530f378e0"
      },
      "outputs": [
        {
          "name": "stdout",
          "output_type": "stream",
          "text": [
            "    |Coeff.|  P.I. Mean  P.I. std\n",
            "13  0.581275   0.075974  0.019148\n",
            "10  0.313338   0.022675  0.012243\n",
            "6   0.220573  -0.000675  0.009370\n",
            "9   0.179504   0.011688  0.008445\n",
            "16  0.172653   0.009922  0.008586\n",
            "8   0.170428   0.004234  0.008036\n",
            "25  0.131152  -0.000442  0.006804\n",
            "20  0.057460  -0.000779  0.004339\n",
            "24  0.057363  -0.005377  0.004427\n",
            "5   0.030063  -0.004623  0.003610\n",
            "4   0.029918  -0.000727  0.002651\n",
            "1   0.028569   0.001870  0.002411\n",
            "3   0.023346  -0.000312  0.002630\n",
            "22  0.021192  -0.004935  0.002366\n",
            "11  0.017591  -0.002831  0.002439\n",
            "0   0.000000   0.000000  0.000000\n",
            "2   0.000000   0.000000  0.000000\n",
            "7   0.000000   0.000000  0.000000\n",
            "12  0.000000   0.000000  0.000000\n",
            "14  0.000000   0.000000  0.000000\n",
            "15  0.000000   0.000000  0.000000\n",
            "17  0.000000   0.000000  0.000000\n",
            "18  0.000000   0.000000  0.000000\n",
            "19  0.000000   0.000000  0.000000\n",
            "21  0.000000   0.000000  0.000000\n",
            "23  0.000000   0.000000  0.000000\n",
            "26  0.000000   0.000000  0.000000\n"
          ]
        }
      ],
      "source": [
        "logreg_clf_feature_sorted = {}\n",
        "\n",
        "for i in range(len(logreg_clf.coef_[0])):\n",
        "  logreg_clf_feature_sorted[i] = [np.abs(logreg_clf.coef_[0][i]), logreg_clf_permut.importances_mean[i], logreg_clf_permut.importances_std[i]]\n",
        "\n",
        "# convert dictionary to dataframe \n",
        "logreg_clf_feature_sorted = pd.DataFrame.from_dict(logreg_clf_feature_sorted, orient='index')\n",
        "\n",
        "# sort the dataframe \n",
        "# decreasing order w.r.t. |coeff| value\n",
        "# decreasing order w.r.t. permut_importance\n",
        "# increasing order w.r.t. permut_std\n",
        "\n",
        "logreg_clf_feature_sorted  = logreg_clf_feature_sorted.sort_values([0, 1, 2], ascending = [False, False, True])\n",
        "logreg_clf_feature_sorted.columns = ['|Coeff.|', 'P.I. Mean', 'P.I. std']\n",
        "\n",
        "print(logreg_clf_feature_sorted)"
      ]
    },
    {
      "cell_type": "markdown",
      "metadata": {
        "id": "_AvtwCUQAOQ0"
      },
      "source": [
        "Now we get the first 20% of features with $|Coeff.| > 0$ and $P.I. Mean > 0$:\n",
        "\n"
      ]
    },
    {
      "cell_type": "code",
      "execution_count": null,
      "metadata": {
        "colab": {
          "base_uri": "https://localhost:8080/"
        },
        "id": "2rYVmeRPqRNQ",
        "outputId": "be38466f-670e-4799-f2d6-14aa98e7c1e9"
      },
      "outputs": [
        {
          "name": "stdout",
          "output_type": "stream",
          "text": [
            "Features selected via Logistic Regression: ['Psycho5 H', 'Psycho2 ', 'Psycho1 ', 'Psycho8 ', 'Mach9 ']\n"
          ]
        }
      ],
      "source": [
        "k = 20/100*X_train_val.shape[1]\n",
        "\n",
        "mask1 = np.abs(logreg_clf_feature_sorted.iloc[:,0])>0\n",
        "mask2 = logreg_clf_feature_sorted.iloc[:,1]>0\n",
        "logreg_features = logreg_clf_feature_sorted[np.logical_and(mask1, mask2)].index[:int(k)]\n",
        "\n",
        "features_selected = [predictors[i] for i in logreg_features]\n",
        "print('Features selected via Logistic Regression:', features_selected)"
      ]
    },
    {
      "cell_type": "code",
      "execution_count": null,
      "metadata": {
        "colab": {
          "base_uri": "https://localhost:8080/"
        },
        "id": "jR5yCURnlJZI",
        "outputId": "dc6586f5-bf47-458a-cfe5-feb61fe9a027"
      },
      "outputs": [
        {
          "data": {
            "text/plain": [
              "59"
            ]
          },
          "execution_count": 94,
          "metadata": {},
          "output_type": "execute_result"
        }
      ],
      "source": [
        "file.write('\\n\\n\\n\\nSUPERVISED LEARNING')\n",
        "file.write('\\n\\n\\nLogistic Regression')\n",
        "file.write('\\nAccuracy on Train: ')\n",
        "file.write(str(acc_logreg_train))\n",
        "file.write('\\nAccuracy on Test: ')\n",
        "file.write(str(acc_logreg_test))\n",
        "file.write('\\nFeatures selected: ')\n",
        "file.write(str(features_selected))"
      ]
    },
    {
      "cell_type": "markdown",
      "metadata": {
        "id": "iuz_OmN95LmO"
      },
      "source": [
        "### SVM with Lasso regularization"
      ]
    },
    {
      "cell_type": "markdown",
      "metadata": {
        "id": "ajWUfUCzAOQ5"
      },
      "source": [
        "Now we implement the Support Vector Machine; also in this case we consider the Lasso Regularization, and again we make predictions both on Training and Test sets:"
      ]
    },
    {
      "cell_type": "code",
      "execution_count": null,
      "metadata": {
        "colab": {
          "base_uri": "https://localhost:8080/"
        },
        "id": "cfSb77E35Su3",
        "outputId": "b82d033a-8965-44ed-f2a9-897fb049e5b5"
      },
      "outputs": [
        {
          "name": "stdout",
          "output_type": "stream",
          "text": [
            "Accuracy on train: 0.7506493506493507\n",
            "Accuracy on test: 0.7319587628865979\n"
          ]
        }
      ],
      "source": [
        "max_iter = 1000\n",
        "C = 0.01\n",
        "svm_clf = LinearSVC(penalty='l1', loss='squared_hinge', C=C, dual=False, max_iter=max_iter)\n",
        "svm_clf = svm_clf.fit(X_train_val_scaled, y_train_val)\n",
        "y_train_val_pred = svm_clf.predict(X_train_val_scaled)\n",
        "y_test_pred = svm_clf.predict(X_test_scaled)\n",
        "\n",
        "acc_svm_train = np.mean(y_train_val==y_train_val_pred)\n",
        "acc_svm_test =  np.mean(y_test==y_test_pred)\n",
        "\n",
        "print('Accuracy on train:', acc_svm_train)\n",
        "print('Accuracy on test:', acc_svm_test)"
      ]
    },
    {
      "cell_type": "code",
      "execution_count": null,
      "metadata": {
        "colab": {
          "base_uri": "https://localhost:8080/"
        },
        "id": "29_Ti3ju6zRU",
        "outputId": "c1f73cb8-45be-4b0c-99e5-7a3948b773de",
        "scrolled": true
      },
      "outputs": [
        {
          "name": "stdout",
          "output_type": "stream",
          "text": [
            "SVM coefficients:\n",
            "\n",
            " [[0.         0.         0.         0.         0.         0.\n",
            "  0.05051025 0.         0.02987233 0.05061821 0.09719098 0.\n",
            "  0.         0.24381035 0.         0.         0.03616987 0.\n",
            "  0.         0.         0.         0.         0.         0.\n",
            "  0.         0.         0.        ]]\n"
          ]
        }
      ],
      "source": [
        "print('SVM coefficients:\\n\\n',svm_clf.coef_)"
      ]
    },
    {
      "cell_type": "markdown",
      "metadata": {
        "id": "W2FRyvEiAOQ_"
      },
      "source": [
        "To assess the stability of the found coefficients, once again we consider the Permutation Importance technique:"
      ]
    },
    {
      "cell_type": "code",
      "execution_count": null,
      "metadata": {
        "id": "Qn5hfQQFxbCA"
      },
      "outputs": [],
      "source": [
        "svm_clf_permut = permutation_importance(svm_clf, X_train_val_scaled, y_train_val, n_repeats=100, random_state=0)"
      ]
    },
    {
      "cell_type": "code",
      "execution_count": null,
      "metadata": {
        "colab": {
          "base_uri": "https://localhost:8080/"
        },
        "id": "btbIgKO0qRNW",
        "outputId": "b3e02ec3-f709-4c55-f54a-b6a22619e64c"
      },
      "outputs": [
        {
          "name": "stdout",
          "output_type": "stream",
          "text": [
            "    |Coeff.|  P.I. Mean  P.I. std\n",
            "13  0.243810   0.153481  0.023874\n",
            "10  0.097191   0.031117  0.011099\n",
            "9   0.050618   0.013403  0.008228\n",
            "6   0.050510   0.011818  0.007359\n",
            "16  0.036170   0.008026  0.006754\n",
            "8   0.029872   0.007922  0.006387\n",
            "0   0.000000   0.000000  0.000000\n",
            "1   0.000000   0.000000  0.000000\n",
            "2   0.000000   0.000000  0.000000\n",
            "3   0.000000   0.000000  0.000000\n",
            "4   0.000000   0.000000  0.000000\n",
            "5   0.000000   0.000000  0.000000\n",
            "7   0.000000   0.000000  0.000000\n",
            "11  0.000000   0.000000  0.000000\n",
            "12  0.000000   0.000000  0.000000\n",
            "14  0.000000   0.000000  0.000000\n",
            "15  0.000000   0.000000  0.000000\n",
            "17  0.000000   0.000000  0.000000\n",
            "18  0.000000   0.000000  0.000000\n",
            "19  0.000000   0.000000  0.000000\n",
            "20  0.000000   0.000000  0.000000\n",
            "21  0.000000   0.000000  0.000000\n",
            "22  0.000000   0.000000  0.000000\n",
            "23  0.000000   0.000000  0.000000\n",
            "24  0.000000   0.000000  0.000000\n",
            "25  0.000000   0.000000  0.000000\n",
            "26  0.000000   0.000000  0.000000\n"
          ]
        }
      ],
      "source": [
        "svm_clf_feature_sorted = {}\n",
        "\n",
        "for i in range(len(svm_clf.coef_[0])):\n",
        "  svm_clf_feature_sorted[i] = [np.abs(svm_clf.coef_[0][i]), svm_clf_permut.importances_mean[i], svm_clf_permut.importances_std[i]]\n",
        "\n",
        "# convert dictionary to dataframe \n",
        "svm_clf_feature_sorted = pd.DataFrame.from_dict(svm_clf_feature_sorted, orient='index')\n",
        "\n",
        "# sort the dataframe \n",
        "# decreasing order w.r.t. |coeff| value\n",
        "# decreasing order w.r.t. permut_importance\n",
        "# increasing order w.r.t. permut_std\n",
        "\n",
        "svm_clf_feature_sorted  = svm_clf_feature_sorted.sort_values([0, 1, 2], ascending = [False, False, True])\n",
        "svm_clf_feature_sorted.columns = ['|Coeff.|', 'P.I. Mean', 'P.I. std']\n",
        "print(svm_clf_feature_sorted)"
      ]
    },
    {
      "cell_type": "markdown",
      "metadata": {
        "id": "YYlEJcjMAORC"
      },
      "source": [
        "Now we get only first 20% of features which have both $|Coeff.| > 0$ and $P.I. Mean > 0$:"
      ]
    },
    {
      "cell_type": "code",
      "execution_count": null,
      "metadata": {
        "colab": {
          "base_uri": "https://localhost:8080/"
        },
        "id": "cfz7JVxYqRNX",
        "outputId": "dc2e0763-25c2-44d3-c6f3-75fc964129a5"
      },
      "outputs": [
        {
          "name": "stdout",
          "output_type": "stream",
          "text": [
            "Features selected via SVM: ['Psycho5 H', 'Psycho2 ', 'Psycho1 ', 'Mach7 ', 'Psycho8 ']\n"
          ]
        }
      ],
      "source": [
        "k = 20/100*X_train_val.shape[1]\n",
        "\n",
        "mask1 = np.abs(svm_clf_feature_sorted.iloc[:,0])>0\n",
        "mask2 = svm_clf_feature_sorted.iloc[:,1]>0\n",
        "svm_features = svm_clf_feature_sorted[np.logical_and(mask1, mask2)].index[:int(k)]\n",
        "\n",
        "features_selected = [predictors[i] for i in svm_features]\n",
        "print('Features selected via SVM:', features_selected)"
      ]
    },
    {
      "cell_type": "code",
      "execution_count": null,
      "metadata": {
        "colab": {
          "base_uri": "https://localhost:8080/"
        },
        "id": "ehbtAw-elJZR",
        "outputId": "fda018b1-e0e7-496a-bb72-bb69288e53a9"
      },
      "outputs": [
        {
          "data": {
            "text/plain": [
              "59"
            ]
          },
          "execution_count": 100,
          "metadata": {},
          "output_type": "execute_result"
        }
      ],
      "source": [
        "file.write('\\n\\nSupport Vector Machine')\n",
        "file.write('\\nAccuracy on Train: ')\n",
        "file.write(str(acc_svm_train))\n",
        "file.write('\\nAccuracy on Test: ')\n",
        "file.write(str(acc_svm_test))\n",
        "file.write('\\nFeatures selected: ')\n",
        "file.write(str(features_selected))"
      ]
    },
    {
      "cell_type": "markdown",
      "metadata": {
        "id": "rUJoQthwAORF"
      },
      "source": [
        "Now we move on the Tree-based algorithms."
      ]
    },
    {
      "cell_type": "markdown",
      "metadata": {
        "id": "3Dj_Es2e671w"
      },
      "source": [
        "### Decision Tree"
      ]
    },
    {
      "cell_type": "markdown",
      "metadata": {
        "id": "oULwIVx6AORH"
      },
      "source": [
        "Let's first fit a Decision Tree:"
      ]
    },
    {
      "cell_type": "code",
      "execution_count": null,
      "metadata": {
        "colab": {
          "base_uri": "https://localhost:8080/"
        },
        "id": "TgE-AIN06-ax",
        "outputId": "eeccb5c4-464e-42c2-bbc5-1b5750e5743b"
      },
      "outputs": [
        {
          "name": "stdout",
          "output_type": "stream",
          "text": [
            "Accuracy on train: 1.0\n",
            "Accuracy on test: 0.6288659793814433\n"
          ]
        }
      ],
      "source": [
        "tree_clf = tree.DecisionTreeClassifier(random_state=39)\n",
        "tree_clf = tree_clf.fit(X_train_val, y_train_val)\n",
        "y_train_val_pred = tree_clf.predict(X_train_val)\n",
        "y_test_pred = tree_clf.predict(X_test)\n",
        "\n",
        "acc_tree_train = np.mean(y_train_val==y_train_val_pred)\n",
        "acc_tree_test =  np.mean(y_test==y_test_pred)\n",
        "\n",
        "print('Accuracy on train:', acc_tree_train)\n",
        "print('Accuracy on test:', acc_tree_test)"
      ]
    },
    {
      "cell_type": "code",
      "execution_count": null,
      "metadata": {
        "colab": {
          "base_uri": "https://localhost:8080/"
        },
        "id": "FT8y_dgD8lwo",
        "outputId": "ac7fc303-a688-4dbf-fa05-2949ea00ede5"
      },
      "outputs": [
        {
          "name": "stdout",
          "output_type": "stream",
          "text": [
            "Feature importances:\n",
            "\n",
            " [0.01806077 0.         0.01671573 0.02578998 0.02899035 0.05171956\n",
            " 0.05789359 0.02476528 0.05288997 0.04616054 0.12898527 0.01402683\n",
            " 0.02328792 0.20059463 0.01667551 0.03682451 0.02606063 0.05222333\n",
            " 0.02961219 0.02046563 0.00519512 0.0320632  0.01523902 0.02287952\n",
            " 0.01133481 0.02841603 0.01313008]\n"
          ]
        }
      ],
      "source": [
        "print('Feature importances:\\n\\n', tree_clf.feature_importances_)"
      ]
    },
    {
      "cell_type": "markdown",
      "metadata": {
        "id": "ruouO0UD1cFv"
      },
      "source": [
        "Apply permutation importance:"
      ]
    },
    {
      "cell_type": "code",
      "execution_count": null,
      "metadata": {
        "id": "moKfTZIhx8No"
      },
      "outputs": [],
      "source": [
        "tree_clf_permut = permutation_importance(tree_clf, X_train_val, y_train_val, n_repeats=100, random_state=0)"
      ]
    },
    {
      "cell_type": "code",
      "execution_count": null,
      "metadata": {
        "colab": {
          "base_uri": "https://localhost:8080/"
        },
        "id": "Q05bpa54qRNg",
        "outputId": "14df50b0-1b0c-4c8e-fe19-7a40bf79626b"
      },
      "outputs": [
        {
          "name": "stdout",
          "output_type": "stream",
          "text": [
            "    Importance  P.I. Mean  P.I. std\n",
            "13    0.200595   0.261273  0.016697\n",
            "10    0.128985   0.127870  0.012835\n",
            "6     0.057894   0.129247  0.012294\n",
            "8     0.052890   0.087091  0.009383\n",
            "17    0.052223   0.037117  0.006491\n",
            "5     0.051720   0.041532  0.008340\n",
            "9     0.046161   0.048260  0.007256\n",
            "15    0.036825   0.067117  0.009115\n",
            "21    0.032063   0.021532  0.004946\n",
            "18    0.029612   0.025896  0.006378\n",
            "4     0.028990   0.039143  0.006574\n",
            "25    0.028416   0.064753  0.009324\n",
            "16    0.026061   0.046727  0.007709\n",
            "3     0.025790   0.054208  0.008045\n",
            "7     0.024765   0.034494  0.007028\n",
            "12    0.023288   0.016260  0.004084\n",
            "23    0.022880   0.015844  0.004260\n",
            "19    0.020466   0.019325  0.004836\n",
            "0     0.018061   0.028130  0.006136\n",
            "2     0.016716   0.027117  0.005949\n",
            "14    0.016676   0.053091  0.007340\n",
            "22    0.015239   0.016364  0.005057\n",
            "11    0.014027   0.008727  0.003809\n",
            "26    0.013130   0.018494  0.004807\n",
            "24    0.011335   0.014831  0.003250\n",
            "20    0.005195   0.002494  0.001834\n",
            "1     0.000000   0.000000  0.000000\n"
          ]
        }
      ],
      "source": [
        "tree_clf_feature_sorted = {}\n",
        "\n",
        "for i in range(len(tree_clf.feature_importances_)):\n",
        "  tree_clf_feature_sorted[i] = [tree_clf.feature_importances_[i], tree_clf_permut.importances_mean[i], tree_clf_permut.importances_std[i]]\n",
        "\n",
        "# convert dictionary to dataframe \n",
        "tree_clf_feature_sorted = pd.DataFrame.from_dict(tree_clf_feature_sorted, orient='index')\n",
        "\n",
        "# sort the dataframe \n",
        "# decreasing order w.r.t. coeff value\n",
        "# decreasing order w.r.t. permut_importance\n",
        "# increasing order w.r.t. permut_std\n",
        "\n",
        "tree_clf_feature_sorted  = tree_clf_feature_sorted.sort_values([0, 1, 2], ascending = [False, False, True])\n",
        "tree_clf_feature_sorted.columns = ['Importance', 'P.I. Mean', 'P.I. std']\n",
        "print(tree_clf_feature_sorted)"
      ]
    },
    {
      "cell_type": "markdown",
      "metadata": {
        "id": "xAyk-A2H1tf3"
      },
      "source": [
        "Now extract the relevant features by considering the predictors corresponding to the 20% highest values for Feature Importance and P.I. Mean."
      ]
    },
    {
      "cell_type": "code",
      "execution_count": null,
      "metadata": {
        "colab": {
          "base_uri": "https://localhost:8080/"
        },
        "id": "qOyXU1I4qRNh",
        "outputId": "e7b99cde-82c6-44ee-a341-82b30840e96d"
      },
      "outputs": [
        {
          "name": "stdout",
          "output_type": "stream",
          "text": [
            "Features selected via Decision Tree: ['Psycho5 H', 'Psycho2 ', 'Mach7 ', 'Mach9 ', 'Psycho9 ']\n"
          ]
        }
      ],
      "source": [
        "k = 20/100*len(tree_clf.feature_importances_)\n",
        "tree_features = tree_clf_feature_sorted.iloc[:int(k), :].index\n",
        "\n",
        "features_selected = [predictors[i] for i in tree_features]\n",
        "print('Features selected via Decision Tree:', features_selected)"
      ]
    },
    {
      "cell_type": "code",
      "execution_count": null,
      "metadata": {
        "colab": {
          "base_uri": "https://localhost:8080/"
        },
        "id": "HSLM8yf5lJZa",
        "outputId": "d1d89f4b-3686-49c6-b94b-4c3288bffbdc"
      },
      "outputs": [
        {
          "data": {
            "text/plain": [
              "57"
            ]
          },
          "execution_count": 106,
          "metadata": {},
          "output_type": "execute_result"
        }
      ],
      "source": [
        "file.write('\\n\\nDecision Tree')\n",
        "file.write('\\nAccuracy on Train: ')\n",
        "file.write(str(acc_tree_train))\n",
        "file.write('\\nAccuracy on Test: ')\n",
        "file.write(str(acc_tree_test))\n",
        "file.write('\\nFeatures selected: ')\n",
        "file.write(str(features_selected))"
      ]
    },
    {
      "cell_type": "markdown",
      "metadata": {
        "id": "ohBhTAgwGyi-"
      },
      "source": [
        "### Random Forest "
      ]
    },
    {
      "cell_type": "markdown",
      "metadata": {
        "id": "2oYUGwFCAORS"
      },
      "source": [
        "Now we implement the Random Forest algorithm:"
      ]
    },
    {
      "cell_type": "code",
      "execution_count": null,
      "metadata": {
        "colab": {
          "base_uri": "https://localhost:8080/"
        },
        "id": "CwLDyOn_G0bh",
        "outputId": "e39ba7fa-c2bd-4bc2-f3eb-38db60a862d6"
      },
      "outputs": [
        {
          "name": "stdout",
          "output_type": "stream",
          "text": [
            "Accuracy on train: 1.0\n",
            "Accuracy on test: 0.7525773195876289\n"
          ]
        }
      ],
      "source": [
        "n_ests = 100\n",
        "forest_clf = RandomForestClassifier(n_estimators=n_ests, random_state=39)\n",
        "forest_clf = forest_clf.fit(X_train_val, y_train_val)\n",
        "y_train_val_pred = forest_clf.predict(X_train_val)\n",
        "y_test_pred = forest_clf.predict(X_test)\n",
        "\n",
        "acc_forest_train = np.mean(y_train_val==y_train_val_pred)\n",
        "acc_forest_test =  np.mean(y_test==y_test_pred)\n",
        "\n",
        "print('Accuracy on train:', acc_forest_train)\n",
        "print('Accuracy on test:', acc_forest_test)"
      ]
    },
    {
      "cell_type": "code",
      "execution_count": null,
      "metadata": {
        "colab": {
          "base_uri": "https://localhost:8080/"
        },
        "id": "Ehu1vArDHMir",
        "outputId": "4f9ff015-98f9-4328-9db9-186273a250cf"
      },
      "outputs": [
        {
          "name": "stdout",
          "output_type": "stream",
          "text": [
            "Feature importances:\n",
            "\n",
            " [0.02149673 0.03656445 0.02534062 0.02663169 0.03770705 0.02859735\n",
            " 0.0521874  0.03306426 0.05898397 0.07950793 0.07428217 0.01974619\n",
            " 0.03369223 0.10900287 0.02857716 0.02823967 0.04383128 0.02648002\n",
            " 0.02733947 0.0283854  0.01981386 0.02515009 0.02429577 0.0233797\n",
            " 0.02924096 0.034079   0.02438266]\n"
          ]
        }
      ],
      "source": [
        "print('Feature importances:\\n\\n', forest_clf.feature_importances_)"
      ]
    },
    {
      "cell_type": "code",
      "execution_count": null,
      "metadata": {
        "id": "xcMiedsyzEju"
      },
      "outputs": [],
      "source": [
        "forest_clf_permut = permutation_importance(forest_clf, X_train_val, y_train_val, n_repeats=10, random_state=0)"
      ]
    },
    {
      "cell_type": "code",
      "execution_count": null,
      "metadata": {
        "colab": {
          "base_uri": "https://localhost:8080/"
        },
        "id": "_qq6G2VvqRPB",
        "outputId": "c15ab069-ccdd-4af1-987d-95120f4611d8"
      },
      "outputs": [
        {
          "name": "stdout",
          "output_type": "stream",
          "text": [
            "    Importance  P.I. Mean  P.I. std\n",
            "13    0.109003   0.050649  0.012252\n",
            "9     0.079508   0.021558  0.006152\n",
            "10    0.074282   0.017662  0.005424\n",
            "8     0.058984   0.019221  0.005221\n",
            "6     0.052187   0.008312  0.003990\n",
            "16    0.043831   0.005714  0.003029\n",
            "4     0.037707   0.001039  0.001272\n",
            "1     0.036564   0.001039  0.001272\n",
            "25    0.034079   0.005974  0.003084\n",
            "12    0.033692   0.008312  0.002545\n",
            "7     0.033064   0.001299  0.001742\n",
            "24    0.029241   0.001299  0.001742\n",
            "5     0.028597   0.002078  0.001558\n",
            "14    0.028577   0.000000  0.000000\n",
            "19    0.028385   0.004675  0.001558\n",
            "15    0.028240   0.008571  0.003682\n",
            "18    0.027339   0.010390  0.003073\n",
            "3     0.026632   0.001299  0.001299\n",
            "17    0.026480   0.000519  0.001039\n",
            "2     0.025341   0.000000  0.000000\n",
            "21    0.025150   0.002597  0.000000\n",
            "26    0.024383   0.000000  0.000000\n",
            "22    0.024296   0.000519  0.001039\n",
            "23    0.023380   0.004156  0.001272\n",
            "0     0.021497   0.001558  0.001723\n",
            "20    0.019814   0.000779  0.001190\n",
            "11    0.019746   0.000000  0.000000\n"
          ]
        }
      ],
      "source": [
        "forest_clf_feature_sorted = {}\n",
        "\n",
        "for i in range(len(forest_clf.feature_importances_)):\n",
        "  forest_clf_feature_sorted[i] = [forest_clf.feature_importances_[i], forest_clf_permut.importances_mean[i], forest_clf_permut.importances_std[i]]\n",
        "\n",
        "# convert dictionary to dataframe \n",
        "forest_clf_feature_sorted = pd.DataFrame.from_dict(forest_clf_feature_sorted, orient='index')\n",
        "\n",
        "# sort the dataframe \n",
        "# decreasing order w.r.t. coeff value\n",
        "# decreasing order w.r.t. permut_importance\n",
        "# increasing order w.r.t. permut_std\n",
        "\n",
        "forest_clf_feature_sorted  = forest_clf_feature_sorted.sort_values([0, 1, 2], ascending = [False, False, True])\n",
        "forest_clf_feature_sorted.columns = ['Importance', 'P.I. Mean', 'P.I. std']\n",
        "print(forest_clf_feature_sorted)"
      ]
    },
    {
      "cell_type": "markdown",
      "metadata": {
        "id": "-P_wHsFS3UbL"
      },
      "source": [
        "Now extract the relevant features by considering the predictors corresponding to the 20% highest values for Feature Importance and P.I. Mean."
      ]
    },
    {
      "cell_type": "code",
      "execution_count": null,
      "metadata": {
        "colab": {
          "base_uri": "https://localhost:8080/"
        },
        "id": "f1bFFo8ZqRPD",
        "outputId": "fd6c774b-3c67-4187-ff09-7faf37880b9f"
      },
      "outputs": [
        {
          "name": "stdout",
          "output_type": "stream",
          "text": [
            "Features selected via Random Forest: ['Psycho5 H', 'Psycho1 ', 'Psycho2 ', 'Mach9 ', 'Mach7 ']\n"
          ]
        }
      ],
      "source": [
        "k = 20/100*len(forest_clf.feature_importances_)\n",
        "forest_features = forest_clf_feature_sorted.iloc[:int(k), :].index\n",
        "\n",
        "features_selected = [predictors[i] for i in forest_features]\n",
        "print('Features selected via Random Forest:', features_selected)"
      ]
    },
    {
      "cell_type": "code",
      "execution_count": null,
      "metadata": {
        "colab": {
          "base_uri": "https://localhost:8080/"
        },
        "id": "mfS39TwNlJZi",
        "outputId": "88a3f5d8-5880-425e-90c1-dd73300bd1e5"
      },
      "outputs": [
        {
          "data": {
            "text/plain": [
              "57"
            ]
          },
          "execution_count": 112,
          "metadata": {},
          "output_type": "execute_result"
        }
      ],
      "source": [
        "file.write('\\n\\nRandom Forest')\n",
        "file.write('\\nAccuracy on Train: ')\n",
        "file.write(str(acc_forest_train))\n",
        "file.write('\\nAccuracy on Test: ')\n",
        "file.write(str(acc_forest_test))\n",
        "file.write('\\nFeatures selected: ')\n",
        "file.write(str(features_selected))"
      ]
    },
    {
      "cell_type": "markdown",
      "metadata": {
        "id": "o7gNNGgbHxBQ"
      },
      "source": [
        "### Gradient Boosting "
      ]
    },
    {
      "cell_type": "markdown",
      "metadata": {
        "id": "SnfmferpAORZ"
      },
      "source": [
        "Finally we implement the Gradient Boosting model:"
      ]
    },
    {
      "cell_type": "code",
      "execution_count": null,
      "metadata": {
        "colab": {
          "base_uri": "https://localhost:8080/"
        },
        "id": "e3hCQjvoIAJd",
        "outputId": "e3021fc1-d499-4c6f-ab40-23a26b368911"
      },
      "outputs": [
        {
          "name": "stdout",
          "output_type": "stream",
          "text": [
            "Accuracy on train: 0.8961038961038961\n",
            "Accuracy on test: 0.7319587628865979\n"
          ]
        }
      ],
      "source": [
        "n_ests = 100\n",
        "GB_clf = GradientBoostingClassifier(n_estimators=n_ests, validation_fraction=0.2, n_iter_no_change=5, random_state=39)\n",
        "GB_clf = GB_clf.fit(X_train_val_scaled, y_train_val)\n",
        "y_train_val_pred = GB_clf.predict(X_train_val_scaled)\n",
        "y_test_pred = GB_clf.predict(X_test_scaled)\n",
        "\n",
        "acc_GB_train = np.mean(y_train_val==y_train_val_pred)\n",
        "acc_GB_test =  np.mean(y_test==y_test_pred)\n",
        "\n",
        "print('Accuracy on train:', acc_GB_train)\n",
        "print('Accuracy on test:', acc_GB_test)"
      ]
    },
    {
      "cell_type": "code",
      "execution_count": null,
      "metadata": {
        "colab": {
          "base_uri": "https://localhost:8080/"
        },
        "id": "Fcnm4DuIIAJh",
        "outputId": "014dbd41-63b7-4504-8961-c97e3e6f3417"
      },
      "outputs": [
        {
          "name": "stdout",
          "output_type": "stream",
          "text": [
            "Feature importances:\n",
            "\n",
            " [0.01370417 0.01417561 0.00706628 0.03115331 0.01038519 0.0303529\n",
            " 0.08415486 0.01532503 0.06642577 0.08511344 0.10972526 0.00285227\n",
            " 0.01323478 0.25290574 0.01438189 0.02473646 0.02113426 0.03396761\n",
            " 0.00598095 0.0163687  0.0122781  0.01047678 0.00466132 0.02787492\n",
            " 0.04659498 0.03033153 0.01463789]\n"
          ]
        }
      ],
      "source": [
        "print('Feature importances:\\n\\n', GB_clf.feature_importances_)"
      ]
    },
    {
      "cell_type": "markdown",
      "metadata": {
        "id": "7sDKtxiEl4L8"
      },
      "source": [
        "Again, let's also apply Permutation Importance to assess the stability of the coefficients found by the model."
      ]
    },
    {
      "cell_type": "code",
      "execution_count": null,
      "metadata": {
        "id": "Y3K5sYFZzbcs"
      },
      "outputs": [],
      "source": [
        "GB_clf_permut = permutation_importance(GB_clf, X_train_val, y_train_val, n_repeats=100, random_state=0)"
      ]
    },
    {
      "cell_type": "code",
      "execution_count": null,
      "metadata": {
        "colab": {
          "base_uri": "https://localhost:8080/"
        },
        "id": "SfANeqUDqRPM",
        "outputId": "fd216108-ea3e-4b02-bbff-3f2928fbddd6"
      },
      "outputs": [
        {
          "name": "stdout",
          "output_type": "stream",
          "text": [
            "    Importance  P.I. Mean  P.I. std\n",
            "13    0.252906   0.000000  0.000000\n",
            "10    0.109725   0.000000  0.000000\n",
            "9     0.085113   0.000000  0.000000\n",
            "6     0.084155   0.000000  0.000000\n",
            "8     0.066426   0.000000  0.000000\n",
            "24    0.046595   0.000000  0.000000\n",
            "17    0.033968  -0.107403  0.028223\n",
            "3     0.031153   0.000000  0.000000\n",
            "5     0.030353  -0.000597  0.001552\n",
            "25    0.030332  -0.000416  0.001085\n",
            "23    0.027875   0.000000  0.000000\n",
            "15    0.024736  -0.000338  0.000874\n",
            "16    0.021134  -0.004831  0.002013\n",
            "19    0.016369   0.000000  0.000000\n",
            "7     0.015325  -0.002468  0.002246\n",
            "26    0.014638   0.000000  0.000000\n",
            "14    0.014382  -0.001091  0.001282\n",
            "1     0.014176  -0.001584  0.001267\n",
            "0     0.013704   0.000000  0.000000\n",
            "12    0.013235  -0.003532  0.003150\n",
            "20    0.012278   0.000961  0.002067\n",
            "21    0.010477   0.000000  0.000000\n",
            "4     0.010385   0.000000  0.000000\n",
            "2     0.007066  -0.000909  0.001239\n",
            "18    0.005981   0.000000  0.000000\n",
            "22    0.004661   0.000000  0.000000\n",
            "11    0.002852  -0.000701  0.001153\n"
          ]
        }
      ],
      "source": [
        "GB_clf_feature_sorted = {}\n",
        "\n",
        "for i in range(len(GB_clf.feature_importances_)):\n",
        "  GB_clf_feature_sorted[i] = [GB_clf.feature_importances_[i], GB_clf_permut.importances_mean[i], GB_clf_permut.importances_std[i]]\n",
        "\n",
        "# convert dictionary to dataframe \n",
        "GB_clf_feature_sorted = pd.DataFrame.from_dict(GB_clf_feature_sorted, orient='index')\n",
        "\n",
        "# sort the dataframe \n",
        "# decreasing order w.r.t. coeff value\n",
        "# decreasing order w.r.t. permut_importance\n",
        "# increasing order w.r.t. permut_std\n",
        "\n",
        "GB_clf_feature_sorted  = GB_clf_feature_sorted.sort_values([0, 1, 2], ascending = [False, False, True])\n",
        "GB_clf_feature_sorted.columns = ['Importance', 'P.I. Mean', 'P.I. std']\n",
        "print(GB_clf_feature_sorted)"
      ]
    },
    {
      "cell_type": "markdown",
      "metadata": {
        "id": "LBkh4xGN51es"
      },
      "source": [
        "Once again we extract the relevant features by considering the predictors corresponding to the 20% highest values for Feature Importance and P.I. Mean."
      ]
    },
    {
      "cell_type": "code",
      "execution_count": null,
      "metadata": {
        "colab": {
          "base_uri": "https://localhost:8080/"
        },
        "id": "hlnlUPTNqRPO",
        "outputId": "fec6ddee-b539-4b37-c948-973f41ea3f0a"
      },
      "outputs": [
        {
          "name": "stdout",
          "output_type": "stream",
          "text": [
            "Features selected via Gradient Boosting: ['Psycho5 H', 'Psycho2 ', 'Psycho1 ', 'Mach7 ', 'Mach9 ']\n"
          ]
        }
      ],
      "source": [
        "k = 20/100*len(GB_clf.feature_importances_)\n",
        "GB_features = GB_clf_feature_sorted.iloc[:int(k), :].index\n",
        "\n",
        "features_selected = [predictors[i] for i in GB_features]\n",
        "print('Features selected via Gradient Boosting:', features_selected)"
      ]
    },
    {
      "cell_type": "code",
      "execution_count": null,
      "metadata": {
        "colab": {
          "base_uri": "https://localhost:8080/"
        },
        "id": "LcYhVlUilJZp",
        "outputId": "c05fb86a-1135-4f82-eb93-f6aacae4b788"
      },
      "outputs": [
        {
          "data": {
            "text/plain": [
              "57"
            ]
          },
          "execution_count": 118,
          "metadata": {},
          "output_type": "execute_result"
        }
      ],
      "source": [
        "file.write('\\n\\nGradient Boosting')\n",
        "file.write('\\nAccuracy on Train: ')\n",
        "file.write(str(acc_GB_train))\n",
        "file.write('\\nAccuracy on Test: ')\n",
        "file.write(str(acc_GB_test))\n",
        "file.write('\\nFeatures selected: ')\n",
        "file.write(str(features_selected))"
      ]
    },
    {
      "cell_type": "markdown",
      "metadata": {
        "id": "eVs_ZYnFqRPR"
      },
      "source": [
        "### Union to find best subset of features"
      ]
    },
    {
      "cell_type": "markdown",
      "metadata": {
        "id": "mVR_wPGDlJZq"
      },
      "source": [
        "Now that we have a set of relevant predictors for each one of the model we tried, we need to somehow combine these features. \n",
        "\n",
        "First of all, in the cell below we compare the different Supervised algorithms we trained before. In particular we take a look at the Test accuracies achieved by each model."
      ]
    },
    {
      "cell_type": "code",
      "execution_count": null,
      "metadata": {
        "colab": {
          "base_uri": "https://localhost:8080/",
          "height": 337
        },
        "id": "tV0wlerXO3m9",
        "outputId": "db739d34-b4d2-4baa-cff4-28873d9e519d"
      },
      "outputs": [
        {
          "data": {
            "image/png": "[encoded data removed]",
            "text/plain": [
              "<Figure size 648x360 with 1 Axes>"
            ]
          },
          "metadata": {
            "needs_background": "light"
          },
          "output_type": "display_data"
        }
      ],
      "source": [
        "plt.figure(figsize=(9, 5))\n",
        "acc_df = pd.DataFrame([acc_logreg_test, acc_svm_test, acc_tree_test, acc_forest_test, acc_GB_test],\n",
        "                      columns = ['accuracy'],\n",
        "                      index = ['LogReg', 'SVM', 'Tree', 'Forest', 'GB'])\n",
        "acc_df['accuracy'].plot(kind='bar', rot=30)\n",
        "plt.show()"
      ]
    },
    {
      "cell_type": "markdown",
      "metadata": {
        "id": "7XADRF_PAORl"
      },
      "source": [
        "Then, we consider as relevant features the ones got by taking the union of the feature sets obtained by the \n",
        "supervised models implemented above."
      ]
    },
    {
      "cell_type": "code",
      "execution_count": null,
      "metadata": {
        "colab": {
          "base_uri": "https://localhost:8080/"
        },
        "id": "ci7D_D06qRPb",
        "outputId": "6388f46b-f8c0-4df5-e666-f3811a9f4a48"
      },
      "outputs": [
        {
          "name": "stdout",
          "output_type": "stream",
          "text": [
            "Final set of features from Supervised Algorithms:\n",
            "\n",
            " ['Mach7 ', 'Mach9 ', 'Psycho1 ', 'Psycho2 ', 'Psycho5 H', 'Psycho8 ', 'Psycho9 ']\n"
          ]
        }
      ],
      "source": [
        "# find the union among all the best features sets\n",
        "# found through the different supervised learning models we trained\n",
        "features = (set(logreg_features)\n",
        "                      | set(svm_features)\n",
        "                      | set(tree_features)\n",
        "                      | set(forest_features)\n",
        "                      | set(GB_features))\n",
        "features = list(features)\n",
        "\n",
        "features_selected = [predictors[i] for i in features]\n",
        "print('Final set of features from Supervised Algorithms:\\n\\n', features_selected)"
      ]
    },
    {
      "cell_type": "markdown",
      "metadata": {
        "id": "OF9yTG8Vm87u"
      },
      "source": [
        "Let's check how this set of features behaves implementing a standard Logistic Regression."
      ]
    },
    {
      "cell_type": "code",
      "execution_count": null,
      "metadata": {
        "id": "WKVfNu9gqRPn"
      },
      "outputs": [],
      "source": [
        "# redefine Training and Test set using only the set of features extracted by the previous phase \n",
        "Train_val_set = X_train_val_scaled[:, features] \n",
        "Test_set = X_test_scaled[:, features]\n",
        "\n",
        "# before moving forward we need to redefine also y_train and y_test\n",
        "# Indeed, both y_train and y_test are made of H's and D's, but to apply\n",
        "# some of the Greedy Feature Selection strategies we are going to define \n",
        "# we need H's and D's to be 1's and 0's\n",
        "\n",
        "y_training_validation = np.zeros(y_train_val.shape)\n",
        "y_training_validation[y_train_val=='H']=1\n",
        "\n",
        "y_testing = np.zeros(y_test.shape)\n",
        "y_testing[y_test=='H']=1"
      ]
    },
    {
      "cell_type": "code",
      "execution_count": null,
      "metadata": {
        "colab": {
          "base_uri": "https://localhost:8080/"
        },
        "id": "EVVTlXliqRPo",
        "outputId": "5efbce30-4502-4b2f-8bf5-b230f32c649a"
      },
      "outputs": [
        {
          "name": "stdout",
          "output_type": "stream",
          "text": [
            "0.7506493506493507\n",
            "0.7010309278350515\n"
          ]
        }
      ],
      "source": [
        "# implement a classic Logistic Regression to check how the set of extracted features behaves\n",
        "final_logreg_clf = LogisticRegression()\n",
        "final_logreg_clf = final_logreg_clf.fit(Train_val_set, y_training_validation)\n",
        "\n",
        "# save accuracy on train_val test\n",
        "y_train_val_pred = final_logreg_clf.predict(Train_val_set)\n",
        "accuracy = np.mean(y_training_validation==y_train_val_pred)\n",
        "print(accuracy)\n",
        "\n",
        "# accuracy on test test\n",
        "y_test_pred = final_logreg_clf.predict(Test_set)\n",
        "test_accuracy = np.mean(y_testing==y_test_pred)\n",
        "print(test_accuracy)"
      ]
    },
    {
      "cell_type": "code",
      "execution_count": null,
      "metadata": {
        "colab": {
          "base_uri": "https://localhost:8080/"
        },
        "id": "B09Db3XFlJZv",
        "outputId": "68ce7b13-acc9-474e-c3e8-2e64a8b21b8a"
      },
      "outputs": [
        {
          "data": {
            "text/plain": [
              "27"
            ]
          },
          "execution_count": 123,
          "metadata": {},
          "output_type": "execute_result"
        }
      ],
      "source": [
        "file.write('\\n\\nFinal set of features from Supervised Algorithms: ')\n",
        "file.write(str(features_selected))\n",
        "file.write('\\nLogistic Regression Accuracy on Train: ')\n",
        "file.write(str(accuracy))\n",
        "file.write('\\nLogistic Regression Accuracy on Test: ')\n",
        "file.write(str(test_accuracy))\n",
        "\n",
        "file.write('\\n\\n\\n')\n",
        "file.write('_'*50)\n",
        "file.write('\\n\\n\\nGreedy Feature Selection')"
      ]
    },
    {
      "cell_type": "markdown",
      "metadata": {
        "id": "DhQhFLXMlJZt"
      },
      "source": [
        "To conclude, in the remaining part of the notebook we will implement and apply some Greedy Backward and Forward Feature Selection strategies, in order to further reduce the set of relevant features."
      ]
    },
    {
      "cell_type": "markdown",
      "metadata": {
        "id": "tZlJDZzKqRPf"
      },
      "source": [
        "#### Greedy Backward Selection using Logistic Regression and AIC"
      ]
    },
    {
      "cell_type": "code",
      "execution_count": null,
      "metadata": {
        "id": "Gux5IC88qRPp"
      },
      "outputs": [],
      "source": [
        "# define a custom function to implement stepwise backward feature selection using Information Criterion (default is AIC)\n",
        "\n",
        "def SBFS_IC(X_train_val_scaled, y_training_validation, max_accuracy_reduction=0.1, num_features_to_keep=1, Ic='AIC'):\n",
        "\n",
        "  # fit a Logistic Regression Model on the entire dataset\n",
        "  final_logreg_clf = LogisticRegression()\n",
        "  final_logreg_clf = final_logreg_clf.fit(X_train_val_scaled, y_training_validation)\n",
        "\n",
        "  # save accuracy\n",
        "  y_train_val_pred = final_logreg_clf.predict(X_train_val_scaled)\n",
        "  accuracy = np.mean(y_training_validation==y_train_val_pred)\n",
        "\n",
        "  acc_reduced_model = accuracy\n",
        "  features_to_keep = np.arange(X_train_val_scaled.shape[1])\n",
        "\n",
        "  while accuracy-acc_reduced_model<max_accuracy_reduction and len(features_to_keep)>num_features_to_keep:\n",
        "    IC = {}\n",
        "    acc = {}\n",
        "    for i in features_to_keep:\n",
        "      variables = [j for j in features_to_keep if j!=i]\n",
        "      Train_val_set = X_train_val_scaled[:, variables]       \n",
        "      final_logreg_clf = LogisticRegression()\n",
        "      final_logreg_clf = final_logreg_clf.fit(Train_val_set, y_training_validation)\n",
        "      y_pred_probs = final_logreg_clf.predict_proba(Train_val_set)\n",
        "\n",
        "      # save accuracy\n",
        "      y_train_val_pred = final_logreg_clf.predict(Train_val_set)\n",
        "      acc[tuple(variables)] = np.mean(y_training_validation==y_train_val_pred)      \n",
        "\n",
        "      if accuracy-acc[tuple(variables)]<max_accuracy_reduction:                \n",
        "\n",
        "        # compute log-likelyhood\n",
        "        log_likelihood = np.sum(y_training_validation*np.log(y_pred_probs[:, 1])+(1-y_training_validation)*np.log(1-y_pred_probs[:, 0]))\n",
        "\n",
        "        # compute Information Criterion\n",
        "        if Ic == 'AIC': # compute Akaike IC\n",
        "          inf_criterion = 2*(len(variables)+2)-2*log_likelihood          \n",
        "      \n",
        "        elif Ic == 'BIC': # compute Bayes IC\n",
        "          inf_criterion = len(variables)*np.log(Train_val_set.shape[0])-2*log_likelihood\n",
        "        \n",
        "        IC[tuple(variables)] = inf_criterion\n",
        "\n",
        "    if len(IC)!=0:       \n",
        "      features_to_keep = min(IC, key=IC.get)      \n",
        "      acc_reduced_model = acc[features_to_keep]\n",
        "    else:      \n",
        "      return (features_to_keep, acc_reduced_model)\n",
        "  return (features_to_keep, acc_reduced_model)"
      ]
    },
    {
      "cell_type": "code",
      "execution_count": null,
      "metadata": {
        "colab": {
          "base_uri": "https://localhost:8080/"
        },
        "id": "0rAVd47yqRPr",
        "outputId": "128fa95f-3652-46f0-c0fd-72b94296736c"
      },
      "outputs": [
        {
          "name": "stdout",
          "output_type": "stream",
          "text": [
            "['Mach9 ', 'Psycho1 ', 'Psycho2 ', 'Psycho8 ', 'Psycho9 '] 0.7324675324675325\n"
          ]
        }
      ],
      "source": [
        "num_features_to_keep = int(20/100*X_train_val.shape[1])\n",
        "features_to_keep, acc = SBFS_IC(X_train_val_scaled[:, features], y_training_validation, 0.05, num_features_to_keep=num_features_to_keep)\n",
        "final_features_AIC = [features[index] for index in features_to_keep]\n",
        "\n",
        "features_selected = [predictors[i] for i in final_features_AIC]\n",
        "\n",
        "print(features_selected, acc)"
      ]
    },
    {
      "cell_type": "markdown",
      "metadata": {
        "id": "vLEigO-k-SAR"
      },
      "source": [
        "Check how this set of features behaves implementing a standard Logistic Regression"
      ]
    },
    {
      "cell_type": "code",
      "execution_count": null,
      "metadata": {
        "colab": {
          "base_uri": "https://localhost:8080/"
        },
        "id": "3oEX5De9qRPs",
        "outputId": "83e5d3cd-87fe-48d9-8fd8-ca1fecbc0cc8"
      },
      "outputs": [
        {
          "name": "stdout",
          "output_type": "stream",
          "text": [
            "Train_val accuracy:\t 0.7324675324675325\n",
            "Test set accuracy:\t 0.711340206185567\n"
          ]
        }
      ],
      "source": [
        "final_logreg_clf = LogisticRegression()\n",
        "final_logreg_clf = final_logreg_clf.fit(X_train_val_scaled[:, final_features_AIC], y_training_validation)\n",
        "\n",
        "# save accuracy\n",
        "y_train_val_pred = final_logreg_clf.predict(X_train_val_scaled[:, final_features_AIC])\n",
        "train_accuracy_IC = np.mean(y_training_validation==y_train_val_pred)\n",
        "print('Train_val accuracy:\\t',train_accuracy_IC)\n",
        "\n",
        "# accuracy on test test\n",
        "y_test_pred = final_logreg_clf.predict(X_test_scaled[:, final_features_AIC])\n",
        "test_accuracy_IC = np.mean(y_testing==y_test_pred)\n",
        "print('Test set accuracy:\\t',test_accuracy_IC)"
      ]
    },
    {
      "cell_type": "code",
      "execution_count": null,
      "metadata": {
        "colab": {
          "base_uri": "https://localhost:8080/"
        },
        "id": "wRbiNCoolJZz",
        "outputId": "8642e539-0d29-41ee-d9ec-1286f4e9976d"
      },
      "outputs": [
        {
          "data": {
            "text/plain": [
              "17"
            ]
          },
          "execution_count": 127,
          "metadata": {},
          "output_type": "execute_result"
        }
      ],
      "source": [
        "file.write('\\n\\nFinal set of features using Logistic Regression and AIC: ')\n",
        "file.write(str(features_selected))\n",
        "file.write('\\nAccuracy on Train: ')\n",
        "file.write(str(train_accuracy_IC))\n",
        "file.write('\\nAccuracy on Test: ')\n",
        "file.write(str(test_accuracy_IC))"
      ]
    },
    {
      "cell_type": "markdown",
      "metadata": {
        "id": "9UO4tWTIfN3z"
      },
      "source": [
        "#### Greedy Backward Selection using Logistic Regression and p-values"
      ]
    },
    {
      "cell_type": "code",
      "execution_count": null,
      "metadata": {
        "id": "NNhz_XnLqRPu"
      },
      "outputs": [],
      "source": [
        "from scipy.stats import norm\n",
        "\n",
        "def SBFS_pvalues(X_train_val_scaled, y_training_validation, max_accuracy_reduction=0.1, num_features_to_keep=1, alpha=0.05):\n",
        "\n",
        "  # fit a Logistic Regression Model on the entire dataset\n",
        "  final_logreg_clf = LogisticRegression()\n",
        "  final_logreg_clf = final_logreg_clf.fit(X_train_val_scaled, y_training_validation)\n",
        "\n",
        "  # save accuracy\n",
        "  y_train_val_pred = final_logreg_clf.predict(X_train_val_scaled)\n",
        "  accuracy = np.mean(y_training_validation==y_train_val_pred)\n",
        "\n",
        "  acc_reduced_model = accuracy\n",
        "  features_to_keep = list(range(X_train_val_scaled.shape[1]))\n",
        "\n",
        "  while accuracy-acc_reduced_model<max_accuracy_reduction and len(features_to_keep)>num_features_to_keep:\n",
        "    p_values = {}    \n",
        "    \n",
        "    Train_val_set = X_train_val_scaled[:, features_to_keep]\n",
        "    final_logreg_clf = LogisticRegression()\n",
        "    final_logreg_clf = final_logreg_clf.fit(Train_val_set, y_training_validation)\n",
        "    y_pred_probs = final_logreg_clf.predict_proba(Train_val_set)\n",
        "\n",
        "    # save accuracy\n",
        "    y_train_val_pred = final_logreg_clf.predict(Train_val_set)\n",
        "    acc_reduced_model = np.mean(y_training_validation==y_train_val_pred)      \n",
        "\n",
        "    if accuracy-acc_reduced_model<max_accuracy_reduction: \n",
        "\n",
        "      for j in range(Train_val_set.shape[1]):                \n",
        "\n",
        "        I_j = np.sum((y_pred_probs[:, 1])*(1-y_pred_probs[:, 0])*np.square(Train_val_set[:, j]))           \n",
        "\n",
        "        test_statistic = (final_logreg_clf.coef_[0][j]-0)*np.sqrt(I_j)\n",
        "        p_values[j] = 2*(1-norm.cdf(np.abs(test_statistic)))\n",
        "        \n",
        "      feature_to_delete = max(p_values, key=p_values.get)\n",
        "      \n",
        "      if p_values[feature_to_delete]>=alpha:      \n",
        "        del features_to_keep[feature_to_delete]\n",
        "      else:        \n",
        "        return features_to_keep\n",
        "\n",
        "  return features_to_keep"
      ]
    },
    {
      "cell_type": "code",
      "execution_count": null,
      "metadata": {
        "colab": {
          "base_uri": "https://localhost:8080/"
        },
        "id": "QfnWbcouqRPv",
        "outputId": "06b3aa13-02d8-4643-c120-6a0d2b3e5a9c"
      },
      "outputs": [
        {
          "name": "stdout",
          "output_type": "stream",
          "text": [
            "['Mach7 ', 'Mach9 ', 'Psycho1 ', 'Psycho2 ', 'Psycho5 H', 'Psycho8 ', 'Psycho9 ']\n"
          ]
        }
      ],
      "source": [
        "num_features_to_keep = int(20/100*X_train_val.shape[1])\n",
        "features_to_keep = SBFS_pvalues(X_train_val_scaled[:, features], y_training_validation, 0.20, num_features_to_keep=num_features_to_keep)\n",
        "final_features_pvalues = [features[index] for index in features_to_keep]\n",
        "\n",
        "features_selected = [predictors[i] for i in final_features_pvalues]\n",
        "print(features_selected)"
      ]
    },
    {
      "cell_type": "code",
      "execution_count": null,
      "metadata": {
        "colab": {
          "base_uri": "https://localhost:8080/"
        },
        "id": "Pvyqt0e0qRPw",
        "outputId": "18379472-8578-42ec-8274-2cd833365312"
      },
      "outputs": [
        {
          "name": "stdout",
          "output_type": "stream",
          "text": [
            "Train_val accuracy:\t 0.7506493506493507\n",
            "Test set accuracy:\t 0.7010309278350515\n"
          ]
        }
      ],
      "source": [
        "final_logreg_clf = LogisticRegression()\n",
        "final_logreg_clf = final_logreg_clf.fit(X_train_val_scaled[:, final_features_pvalues], y_training_validation)\n",
        "\n",
        "# save accuracy\n",
        "y_train_val_pred = final_logreg_clf.predict(X_train_val_scaled[:, final_features_pvalues])\n",
        "train_accuracy_pvalue = np.mean(y_training_validation==y_train_val_pred)\n",
        "print('Train_val accuracy:\\t', train_accuracy_pvalue)\n",
        "\n",
        "# accuracy on test test\n",
        "y_test_pred = final_logreg_clf.predict(X_test_scaled[:, final_features_pvalues])\n",
        "test_accuracy_pvalue = np.mean(y_testing==y_test_pred)\n",
        "print('Test set accuracy:\\t', test_accuracy_pvalue)"
      ]
    },
    {
      "cell_type": "code",
      "execution_count": null,
      "metadata": {
        "colab": {
          "base_uri": "https://localhost:8080/"
        },
        "id": "ySifvU8ylJZ4",
        "outputId": "f262a27d-e68b-42d9-f6b4-95481c614c69"
      },
      "outputs": [
        {
          "data": {
            "text/plain": [
              "18"
            ]
          },
          "execution_count": 131,
          "metadata": {},
          "output_type": "execute_result"
        }
      ],
      "source": [
        "file.write('\\n\\nFinal set of features using Logistic Regression and p-values: ')\n",
        "file.write(str(features_selected))\n",
        "file.write('\\nAccuracy on Train: ')\n",
        "file.write(str(train_accuracy_pvalue))\n",
        "file.write('\\nAccuracy on Test: ')\n",
        "file.write(str(test_accuracy_pvalue))"
      ]
    },
    {
      "cell_type": "markdown",
      "metadata": {
        "id": "zqDNQ_3wfcZO"
      },
      "source": [
        "#### Greedy Forward Selection using Logistic Regression and accuracy"
      ]
    },
    {
      "cell_type": "code",
      "execution_count": null,
      "metadata": {
        "colab": {
          "base_uri": "https://localhost:8080/"
        },
        "id": "kEdh9O54PRHn",
        "outputId": "a64b521d-7327-4e20-a56e-6ed79cacd4c7"
      },
      "outputs": [
        {
          "name": "stdout",
          "output_type": "stream",
          "text": [
            "Final features after greedy forward selection:  ['Mach9 ', 'Psycho1 ', 'Psycho5 H', 'Psycho8 ', 'Psycho9 ']\n",
            "Accuracy on train: 0.7480519480519481\n",
            "Accuracy on test: 0.6804123711340206\n"
          ]
        }
      ],
      "source": [
        "final_logreg_clf = LogisticRegression()\n",
        "\n",
        "# apply Forward selection\n",
        "sfs = SequentialFeatureSelector(final_logreg_clf, direction='forward', n_features_to_select=int(20/100*X_train_val.shape[1]))\n",
        "sfs.fit(X_train_val_scaled[:, features], y_train_val)\n",
        "final_features_forward = [features[i] for i in range(len(features)) if sfs.get_support()[i]>0]\n",
        "\n",
        "features_selected = [predictors[i] for i in final_features_forward]\n",
        "print('Final features after greedy forward selection: ', features_selected)\n",
        "\n",
        "# fit the model once again\n",
        "logreg_clf = final_logreg_clf.fit(X_train_val_scaled[:, final_features_forward], y_train_val)\n",
        "y_train_val_pred = final_logreg_clf.predict(X_train_val_scaled[:, final_features_forward])\n",
        "y_test_pred = final_logreg_clf.predict(X_test_scaled[:, final_features_forward])\n",
        "\n",
        "train_accuracy_forward = np.mean(y_train_val==y_train_val_pred)\n",
        "test_accuracy_forward = np.mean(y_test==y_test_pred)\n",
        "\n",
        "print('Accuracy on train:', train_accuracy_forward)\n",
        "print('Accuracy on test:', test_accuracy_forward)"
      ]
    },
    {
      "cell_type": "code",
      "execution_count": null,
      "metadata": {
        "colab": {
          "base_uri": "https://localhost:8080/"
        },
        "id": "L7OqQ5TMlJZ6",
        "outputId": "adf22494-cc65-4677-c785-45b234a0c33b"
      },
      "outputs": [
        {
          "data": {
            "text/plain": [
              "18"
            ]
          },
          "execution_count": 133,
          "metadata": {},
          "output_type": "execute_result"
        }
      ],
      "source": [
        "file.write('\\n\\nFinal set of features using Greedy Forward Selection with Logistic Regression: ')\n",
        "file.write(str(features_selected))\n",
        "file.write('\\nAccuracy on Train: ')\n",
        "file.write(str(train_accuracy_forward))\n",
        "file.write('\\nAccuracy on Test: ')\n",
        "file.write(str(test_accuracy_forward))"
      ]
    },
    {
      "cell_type": "markdown",
      "metadata": {
        "id": "C39sNfb5fkOV"
      },
      "source": [
        "#### Greedy Backward Selection using Logistic Regression and accuracy"
      ]
    },
    {
      "cell_type": "code",
      "execution_count": null,
      "metadata": {
        "colab": {
          "base_uri": "https://localhost:8080/"
        },
        "id": "WaeQ-qtFfzQL",
        "outputId": "1fa164ee-c9ee-4d7c-89f7-27204266dbb7"
      },
      "outputs": [
        {
          "name": "stdout",
          "output_type": "stream",
          "text": [
            "Final features after greedy backward selection:  ['Mach9 ', 'Psycho1 ', 'Psycho2 ', 'Psycho5 H', 'Psycho8 ']\n",
            "Accuracy on train: 0.7714285714285715\n",
            "Accuracy on test: 0.7216494845360825\n"
          ]
        }
      ],
      "source": [
        "# apply Backward selection\n",
        "sfs = SequentialFeatureSelector(final_logreg_clf, direction='backward', n_features_to_select=int(20/100*X_train_val.shape[1]))\n",
        "sfs.fit(X_train_val_scaled[:, features], y_train_val)\n",
        "final_features_backward = [features[i] for i in range(len(features)) if sfs.get_support()[i]>0]\n",
        "\n",
        "features_selected = [predictors[i] for i in final_features_backward]\n",
        "print('Final features after greedy backward selection: ', features_selected)\n",
        "\n",
        "# fit the model once again\n",
        "logreg_clf = logreg_clf.fit(X_train_val_scaled[:, final_features_backward], y_train_val)\n",
        "y_train_val_pred = logreg_clf.predict(X_train_val_scaled[:, final_features_backward])\n",
        "y_test_pred = logreg_clf.predict(X_test_scaled[:, final_features_backward])\n",
        "\n",
        "train_accuracy_backward = np.mean(y_train_val==y_train_val_pred)\n",
        "test_accuracy_backward = np.mean(y_test==y_test_pred)\n",
        "\n",
        "print('Accuracy on train:', train_accuracy_backward)\n",
        "print('Accuracy on test:', test_accuracy_backward)"
      ]
    },
    {
      "cell_type": "code",
      "execution_count": null,
      "metadata": {
        "id": "9WqXd6sWlJZ9"
      },
      "outputs": [],
      "source": [
        "file.write('\\n\\nFinal set of features using Greedy Backward Selection with Logistic Regression: ')\n",
        "file.write(str(features_selected))\n",
        "file.write('\\nAccuracy on Train: ')\n",
        "file.write(str(train_accuracy_backward))\n",
        "file.write('\\nAccuracy on Test: ')\n",
        "file.write(str(test_accuracy_backward))\n",
        "file.close()"
      ]
    },
    {
      "cell_type": "markdown",
      "metadata": {
        "id": "GoMRGTwVlJZ-"
      },
      "source": [
        "Finally, we compare the different Greedy Feature Selections we applied, by considering both the achieved test accuracies and the number of features selected by each model:"
      ]
    },
    {
      "cell_type": "code",
      "execution_count": null,
      "metadata": {
        "colab": {
          "base_uri": "https://localhost:8080/",
          "height": 351
        },
        "id": "R11CBii2VNYi",
        "outputId": "7693b4df-bfbc-4751-c617-48c77066ebe8"
      },
      "outputs": [
        {
          "data": {
            "image/png": "[encoded data removed]",
            "text/plain": [
              "<Figure size 1080x360 with 2 Axes>"
            ]
          },
          "metadata": {
            "needs_background": "light"
          },
          "output_type": "display_data"
        }
      ],
      "source": [
        "fig, axes = plt.subplots(1,2, figsize=(15, 5))\n",
        "\n",
        "acc_df = pd.DataFrame([test_accuracy_IC, test_accuracy_pvalue, test_accuracy_forward, test_accuracy_backward],\n",
        "                      columns = ['test_accuracy'],\n",
        "                      index = ['IC', 'pvalue', 'GFFS', 'GBFS'])\n",
        "acc_df['test_accuracy'].plot(kind='bar', rot=30, ax=axes[0], title ='test accuracy')\n",
        "\n",
        "\n",
        "feats_df = pd.DataFrame([len(final_features_AIC), len(final_features_pvalues), len(final_features_forward), len(final_features_backward)],\n",
        "                      columns = ['num selected features'],\n",
        "                      index = ['IC', 'pvalue', 'GFFS', 'GBFS'])\n",
        "\n",
        "feats_df['num selected features'].plot(kind='bar', rot=30, ax=axes[1], title ='number of selected features')\n",
        "\n",
        "plt.show()"
      ]
    },
    {
      "cell_type": "markdown",
      "metadata": {
        "id": "quBLwZgjzdOY"
      },
      "source": [
        "### Venn Diagram"
      ]
    },
    {
      "cell_type": "markdown",
      "metadata": {
        "id": "MPR6q1LFlJaA"
      },
      "source": [
        "As a last step, let's check whether there are some features that tend to be selected as relevant across the different feature selection strategies.\n",
        "To check this we plot a Venn Diagram."
      ]
    },
    {
      "cell_type": "code",
      "execution_count": null,
      "metadata": {
        "colab": {
          "base_uri": "https://localhost:8080/",
          "height": 499
        },
        "id": "OqqRURlrzdOa",
        "outputId": "7e26981f-26da-4e6b-da31-68a168b8e0fb"
      },
      "outputs": [
        {
          "data": {
            "text/plain": [
              "<Figure size 504x504 with 0 Axes>"
            ]
          },
          "metadata": {},
          "output_type": "display_data"
        },
        {
          "data": {
            "image/png": "[encoded data removed]",
            "text/plain": [
              "<Figure size 576x576 with 1 Axes>"
            ]
          },
          "metadata": {},
          "output_type": "display_data"
        }
      ],
      "source": [
        "venn_dict = {'AIC': set(final_features_AIC),\n",
        "             'pvalues': set(final_features_pvalues),\n",
        "             'forward': set(final_features_forward),\n",
        "             'backward': set(final_features_backward)}\n",
        "\n",
        "plt.figure(figsize=(7, 7))\n",
        "venn(venn_dict)\n",
        "plt.title('Venn Diagram for selected features')\n",
        "plt.show()"
      ]
    },
    {
      "cell_type": "markdown",
      "metadata": {
        "id": "Vc41LbtTlJaB"
      },
      "source": [
        "## 5. Conclusions "
      ]
    },
    {
      "cell_type": "markdown",
      "metadata": {
        "id": "IhNn_5yDZ8cT"
      },
      "source": [
        "With this project we focused on machine learning tasks related to psychological tests.  Specifically, each of the datasets provided relates to a binary classification problem in which we are asked to distinguish between honest and dishonest responses. \n",
        "\n",
        "Our goal was to identify the most relevant features for prediction purposes, i.e., the features most useful for detecting malingering behaviors.\n",
        " \n",
        "We implemented both unsupervised and supervised feature selection strategies.\n",
        "\n",
        "Unsupervised feature extractions are based on PCA, sparse PCA and Variance Thresholding, while supervised feature extraction strategies are based on Logistic Regression, Support Vector Machine, Decision Tree, Random Forest and Gradient Boosting.\n",
        "\n",
        "Ad hoc feature selections were implemented for each model.\n",
        "\n",
        "The results obtained on each of the datasets are reported in the txt files created and updated while running the notebook.\n",
        "\n",
        "From what we could see, in general, our feature selection strategies seem to behave quite well, managing in some cases to determine a group of predictors that constitutes about 95% of the accuracy on the Test set.\n",
        "\n",
        "Other datasets on the other hand proved to be a bit more problematic, nonetheless our feature extraction strategy still manages to determine small sets of predictors that contribute up to 75% - 80% of the accuracy on Test set.\n",
        "\n",
        "Without any doubt the ideas we implemented can be improved, perhaps considering some ensemble models and also different Component Analysing strategies.\n",
        "\n",
        "It would also be interesting to focus more on each one of the dataset and implement some feature extraction strategies specific to faking good and faking bad separately.\n",
        "\n",
        "To conclude, this notebook represents just a starting point and there's a lot of space for improvement and new ideas."
      ]
    }
  ],
  "metadata": {
    "accelerator": "GPU",
    "colab": {
      "provenance": []
    },
    "gpuClass": "standard",
    "kernelspec": {
      "display_name": "Python 3 (ipykernel)",
      "language": "python",
      "name": "python3"
    },
    "language_info": {
      "codemirror_mode": {
        "name": "ipython",
        "version": 3
      },
      "file_extension": ".py",
      "mimetype": "text/x-python",
      "name": "python",
      "nbconvert_exporter": "python",
      "pygments_lexer": "ipython3",
      "version": "3.10.6"
    }
  },
  "nbformat": 4,
  "nbformat_minor": 0
}