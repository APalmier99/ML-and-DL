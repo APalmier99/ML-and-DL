{
  "cells": [
    {
      "cell_type": "markdown",
      "metadata": {
        "id": "HEb6XkElnow7"
      },
      "source": [
        "# Fashion-MNIST"
      ]
    },
    {
      "cell_type": "markdown",
      "metadata": {
        "id": "54gjJIAKmAIJ"
      },
      "source": [
        "The object of study is the Fashion-Mnist dataset released\n",
        "by Zalando Research.\n",
        "Fashion-Mnist is a dataset of Zalando’s article images, consisting of a training set of 60000 examples and a test set of\n",
        "10000 examples. Each example is a 28 × 28 grayscale image, to which a label from 0 to 9 is associated.\n",
        "In fact we have 10 classes, specifically: t-shirt, top, trousers,\n",
        "pullover, dress, coat, shirt, sneaker, bag and ankle boot.\n",
        "\n",
        "So we're dealing with a multi-class image classification problem.\n",
        "The objective is to find a classification algorithm capable to\n",
        "reach a reasonable accuracy level."
      ]
    },
    {
      "cell_type": "markdown",
      "metadata": {
        "id": "uRo3JUiHnhNQ"
      },
      "source": [
        "First of all let's import some of the needed libraries, and also load the dataset."
      ]
    },
    {
      "cell_type": "markdown",
      "metadata": {
        "id": "rWJoMor8RNwh"
      },
      "source": [
        "# Import the needed libraries"
      ]
    },
    {
      "cell_type": "code",
      "execution_count": 1,
      "metadata": {
        "id": "8gOYNrb4xBLA"
      },
      "outputs": [],
      "source": [
        "import numpy as np\n",
        "import matplotlib.pyplot as plt\n",
        "from sklearn import datasets\n",
        "\n",
        "from sklearn.model_selection import train_test_split\n",
        "from sklearn.model_selection import GridSearchCV\n",
        "\n",
        "from sklearn.metrics import accuracy_score\n",
        "from sklearn.metrics import f1_score\n",
        "from sklearn.metrics import confusion_matrix, ConfusionMatrixDisplay"
      ]
    },
    {
      "cell_type": "code",
      "execution_count": 2,
      "metadata": {
        "id": "q-rKQ9zs0j19"
      },
      "outputs": [],
      "source": [
        "# Feature scaling\n",
        "from sklearn.preprocessing import StandardScaler, MinMaxScaler\n",
        "\n",
        "# Decision Tree\n",
        "from sklearn import tree\n",
        "import graphviz\n",
        "\n",
        "# Random Forest\n",
        "from sklearn.ensemble import RandomForestClassifier\n",
        "\n",
        "# k-Nearest-Neighbors\n",
        "from sklearn.neighbors import KNeighborsClassifier\n",
        "\n",
        "# Logistic Regression\n",
        "from sklearn.linear_model import LogisticRegression\n",
        "\n",
        "# Support Vector Machine\n",
        "from sklearn.svm import SVC\n",
        "\n",
        "# PCA dimensionality reduction\n",
        "from sklearn.decomposition import PCA"
      ]
    },
    {
      "cell_type": "code",
      "execution_count": 3,
      "metadata": {
        "id": "k_hAWzqk057V"
      },
      "outputs": [],
      "source": [
        "# Neural Networks\n",
        "\n",
        "import tensorflow #the backend used by Keras (there are different beckend)\n",
        "from tensorflow.keras.models import Sequential #import the type of mpdel: sequential (e.g., MLP)\n",
        "from tensorflow.keras.layers import Input, Dense #simple linear layer\n",
        "from tensorflow.keras.utils import to_categorical # transformation for classification labels\n",
        "from keras.utils.vis_utils import plot_model\n",
        "from tensorflow.python.framework.random_seed import set_random_seed\n",
        "import matplotlib.pyplot as plt\n",
        "from keras.callbacks import EarlyStopping"
      ]
    },
    {
      "cell_type": "markdown",
      "metadata": {
        "id": "vxsJvj6uszgC"
      },
      "source": [
        "# Loading the Dataset and Flattening the images"
      ]
    },
    {
      "cell_type": "markdown",
      "metadata": {
        "id": "bPhccr2bn62V"
      },
      "source": [
        "The following cell loads the dataset from the given urls, and also flattens the images so to transform them from $28\\times28$ matrices into numpy arrays of lenght $28\\cdot28$.\n",
        "Flattening is achieved by using the reshape() method."
      ]
    },
    {
      "cell_type": "code",
      "execution_count": 4,
      "metadata": {
        "id": "490C2OoPs4PX"
      },
      "outputs": [],
      "source": [
        "from urllib.request import urlopen\n",
        "\n",
        "def load_fashion_mnist():\n",
        "\n",
        "    url_base = \"https://www.math.unipd.it/~dasan/\"\n",
        "    y_train_val = np.frombuffer(urlopen(url_base + \"train-labels-idx1-ubyte\").read(), dtype=np.uint8, offset=8)\n",
        "    X_train_val = np.frombuffer(urlopen(url_base + \"train-images-idx3-ubyte\").read(), dtype=np.uint8, offset=16).reshape(len(y_train_val), 784) # besides loadng \n",
        "                                                                                            #the data, I already flatten it into a vector\n",
        "    y_test = np.frombuffer(urlopen(url_base + \"t10k-labels-idx1-ubyte\").read(), dtype=np.uint8, offset=8)\n",
        "    X_test = np.frombuffer(urlopen(url_base + \"t10k-images-idx3-ubyte\").read(), dtype=np.uint8, offset=16).reshape(len(y_test), 784)\n",
        "\n",
        "    return X_train_val, y_train_val, X_test, y_test\n"
      ]
    },
    {
      "cell_type": "markdown",
      "metadata": {
        "id": "VOG50n1MtK2n"
      },
      "source": [
        "##Splitting the Dataset into training, validation and test sets\n",
        "\n",
        "Let's split the dataset into training, validation and test set."
      ]
    },
    {
      "cell_type": "code",
      "execution_count": 5,
      "metadata": {
        "colab": {
          "base_uri": "https://localhost:8080/"
        },
        "id": "CPzMfoAKxhxQ",
        "outputId": "a001ddff-719b-4f91-bd1d-3dad327925b7"
      },
      "outputs": [
        {
          "output_type": "stream",
          "name": "stdout",
          "text": [
            "Training-Validation Set dimension: (60000, 784),\n",
            "Test Set dimension (10000, 784)\n",
            "\n",
            "Splitting now train-val into 80% training and 20% validation:\n",
            "Training Set dimension: (48000, 784),\n",
            "Validation Set dimension (12000, 784)\n"
          ]
        }
      ],
      "source": [
        "X_train_val, y_train_val, X_test, y_test = load_fashion_mnist()\n",
        "print(f'Training-Validation Set dimension: {X_train_val.shape},\\nTest Set dimension {X_test.shape}')\n",
        "\n",
        "print('\\nSplitting now train-val into 80% training and 20% validation:')\n",
        "\n",
        "X_train, X_val, y_train, y_val = train_test_split(X_train_val, y_train_val, train_size=0.8, random_state=123)\n",
        "print(f'Training Set dimension: {X_train.shape},\\nValidation Set dimension {X_val.shape}')"
      ]
    },
    {
      "cell_type": "markdown",
      "source": [
        "# Preliminary Operations - exploring the dataset"
      ],
      "metadata": {
        "id": "1lEipGj8ZfpN"
      }
    },
    {
      "cell_type": "markdown",
      "metadata": {
        "id": "M70sNLn4xtoo"
      },
      "source": [
        "Let's have a look at some istances from the Training Set"
      ]
    },
    {
      "cell_type": "code",
      "execution_count": 25,
      "metadata": {
        "colab": {
          "base_uri": "https://localhost:8080/",
          "height": 339
        },
        "id": "oEMa7-uexd6d",
        "outputId": "4955561a-0531-4090-dbed-c4ef7e2a6b5e"
      },
      "outputs": [
        {
          "output_type": "stream",
          "name": "stdout",
          "text": [
            "Classes: [0 1 2 3 4 5 6 7 8 9]\n",
            "\n",
            "class \t label\n",
            "0 \t T-shirt/top\n",
            "1 \t Trouser\n",
            "2 \t Pullover\n",
            "3 \t Dress\n",
            "4 \t Coat\n",
            "5 \t Sandal\n",
            "6 \t Shirt\n",
            "7 \t Sneaker\n",
            "8 \t Bag\n",
            "9 \t Ankle boot\n",
            "\n"
          ]
        },
        {
          "output_type": "display_data",
          "data": {
            "image/png": "[encoded data removed]",
            "text/plain": [
              "<Figure size 1800x360 with 20 Axes>"
            ]
          },
          "metadata": {
            "needs_background": "light"
          }
        }
      ],
      "source": [
        "# number of features\n",
        "num_features = X_train.shape[1]\n",
        "\n",
        "#classes\n",
        "classes = np.unique(y_train)\n",
        "# number of classes\n",
        "num_classes = len(classes)\n",
        "\n",
        "# first thing we do, we check the nature of the labels: (string? int?)\n",
        "print(f'Classes: {classes}\\n')\n",
        "\n",
        "# Classes are already expressed in terms of numbers, however we also want to correlate these numbers to the actual items they refer to,\n",
        "# in order to do this we define the following\n",
        "y_labels = ['T-shirt/top', 'Trouser', 'Pullover', 'Dress', 'Coat', 'Sandal', 'Shirt', 'Sneaker', 'Bag', 'Ankle boot']\n",
        "\n",
        "# in particular we have the correspondance\n",
        "print('class \\t label')\n",
        "for i in range(num_classes):\n",
        "  print(f'{classes[i]} \\t {y_labels[i]}')\n",
        "print('')\n",
        "\n",
        "# Plot random images of different classes\n",
        "plt.figure(figsize=(25, 5))\n",
        "for idx in range(20):\n",
        "    plt.subplot(1, 20, idx + 1)\n",
        "    img = X_train[idx].reshape(28, 28)\n",
        "    plt.title(f'{y_labels[y_train[idx]]}')\n",
        "    plt.imshow(img, cmap='gray')\n",
        "    plt.axis('off')\n",
        "plt.show()"
      ]
    },
    {
      "cell_type": "markdown",
      "metadata": {
        "id": "S7EphKreb8hP"
      },
      "source": [
        "Before starting deploying our machine learning algorithms, let's check for classes unbalance."
      ]
    },
    {
      "cell_type": "code",
      "execution_count": null,
      "metadata": {
        "colab": {
          "base_uri": "https://localhost:8080/"
        },
        "id": "YRQxvFCqbTYL",
        "outputId": "3efcb9c9-07bd-445f-abad-4f330223a543"
      },
      "outputs": [
        {
          "output_type": "stream",
          "name": "stdout",
          "text": [
            "class 0: \t 4811 istances\n",
            "class 1: \t 4846 istances\n",
            "class 2: \t 4802 istances\n",
            "class 3: \t 4818 istances\n",
            "class 4: \t 4772 istances\n",
            "class 5: \t 4790 istances\n",
            "class 6: \t 4830 istances\n",
            "class 7: \t 4798 istances\n",
            "class 8: \t 4772 istances\n",
            "class 9: \t 4761 istances\n"
          ]
        }
      ],
      "source": [
        "# Let's check for classes unbalance\n",
        "for i in range(len(classes)):\n",
        "  print(f'class {classes[i]}: \\t {sum(y_train==classes[i])} istances')"
      ]
    },
    {
      "cell_type": "markdown",
      "metadata": {
        "id": "tJcd9HKOdyM9"
      },
      "source": [
        "Classes are perfectly balanced, so there's no need to implement Over-sampling/Under-sampling techniques.\n",
        "\n",
        "Given that the classes are perfectly balanced and equally important, accuracy can be considered a good metric for the problem."
      ]
    },
    {
      "cell_type": "markdown",
      "metadata": {
        "id": "h1Li44L_sjmr"
      },
      "source": [
        "We now start testing some of the main machine learning algorithms. In the following:\n",
        "\n",
        "1. Decision Tree\n",
        "2. Random Forest\n",
        "3. Nearest Neighbors\n",
        "4. Multiclass Logistic Regression \n",
        "5. Support Vector Machine\n",
        "6. Neural Network\n",
        "\n",
        "In particular, Support Vector Machines and Multiclass Logistic Regression were only applied after dimensionality reduction, since applying them on the original dataset resulted in excessive run times.\n",
        "\n",
        "Moreover, due to the large size of the dataset, for each algorithm we indicated \n",
        "* running time for explicit classifier \n",
        "* running time for GridSearch \n",
        "\n",
        "In fact we used GridSearch on the classifiers in order to find optimal values for the parameters, and then we used these optimal values to build an explicit classifier. \n",
        "\n",
        "(Running times refers to the running times of an Asus 2-core, RAM 8gb)"
      ]
    },
    {
      "cell_type": "markdown",
      "metadata": {
        "id": "K69V1q1PstU9"
      },
      "source": [
        "#Decision Tree \n",
        "* Running time ~ 30 seconds\n",
        "* Running time gridsearch ~ 16 minutes\n",
        "\n"
      ]
    },
    {
      "cell_type": "markdown",
      "metadata": {
        "id": "DV8e9hV-KI9Q"
      },
      "source": [
        "Decision Tree is a Supervised learning technique that can be used for both classification and Regression problems, but mostly it is preferred for solving Classification problems. \n",
        "\n",
        "It is a tree-structured classifier, where internal nodes represent the features of a dataset, branches represent the decision rules and each leaf node represents the outcome.\n",
        "\n",
        "The decisions are performed on the basis of features of the given dataset.\n",
        "\n",
        "A decision tree simply asks a question, and based on the answer (Yes/No), it further split the tree into subtrees.\n",
        "\n",
        "Additional information can be found [here](https://scikit-learn.org/stable/modules/tree.html)."
      ]
    },
    {
      "cell_type": "code",
      "execution_count": null,
      "metadata": {
        "colab": {
          "base_uri": "https://localhost:8080/"
        },
        "id": "xL_ygXfYsqiU",
        "outputId": "19a55dc9-a9eb-477a-9304-695eec5dbbb5"
      },
      "outputs": [
        {
          "output_type": "stream",
          "name": "stdout",
          "text": [
            "\n",
            "ACC on training set: 0.8869583333333333\n",
            "ACC on validation set: 0.8191666666666667\n",
            "ACC on test set: 0.8123\n"
          ]
        }
      ],
      "source": [
        "# To use GridSearch un-comment the following 3 lines and comment \"tree = tree.Dec...\":\n",
        "\n",
        "# param_grid = {'max_depth': [6, 12, 60, 100], 'min_samples_leaf':[2, 3]}\n",
        "# tree_clf = tree.DecisionTreeClassifier(criterion='entropy', random_state=123)\n",
        "# tree = GridSearchCV(tree_clf, param_grid=param_grid, scoring='accuracy', cv=5, verbose=2)\n",
        "\n",
        "tree = tree.DecisionTreeClassifier(criterion='entropy', max_depth=12, min_samples_leaf=3, random_state=123)\n",
        "\n",
        "tree.fit(X_train, y_train)\n",
        "\n",
        "y_train_pred = tree.predict(X_train)\n",
        "y_val_pred = tree.predict(X_val)\n",
        "y_test_pred = tree.predict(X_test)\n",
        "\n",
        "print(f'\\nACC on training set: {accuracy_score(y_train, y_train_pred)}\\nACC on validation set: {accuracy_score(y_val, y_val_pred)}\\nACC on test set: {accuracy_score(y_test, y_test_pred)}')"
      ]
    },
    {
      "cell_type": "markdown",
      "metadata": {
        "id": "u_ZaQqYQKXb6"
      },
      "source": [
        "#Random Forest\n",
        "\n",
        "*   Running time ~ 50 seconds\n",
        "*   Running time gridsearch ~ 50 minutes"
      ]
    },
    {
      "cell_type": "markdown",
      "metadata": {
        "id": "AGCj6z6DOuvC"
      },
      "source": [
        "A random forest is a meta estimator that fits a number of decision tree classifiers on various sub-samples of the dataset and uses averaging to improve the predictive accuracy and control over-fitting.\n",
        "In random forests, each tree in the ensemble is built from a sample drawn with replacement from the training set.\n",
        "\n",
        "Additional information can be found [here](https://scikit-learn.org/stable/modules/ensemble.html#forests-of-randomized-trees)."
      ]
    },
    {
      "cell_type": "code",
      "execution_count": null,
      "metadata": {
        "colab": {
          "base_uri": "https://localhost:8080/"
        },
        "id": "IUhSS1yqKcdZ",
        "outputId": "1a1cedf3-0e46-4fe8-851e-f2f815d62ebf"
      },
      "outputs": [
        {
          "output_type": "stream",
          "name": "stdout",
          "text": [
            "\n",
            "ACC on training set: 0.9972291666666667\n",
            "ACC on validation set: 0.8823333333333333\n",
            "ACC on test set: 0.8712\n"
          ]
        }
      ],
      "source": [
        "# To use GridSearch un-comment the following 3 lines and comment \"RF = RandomForestClass...\":\n",
        "\n",
        "# param_grid = {'n_estimators':[10, 50, 100], 'max_depth':[8, 20, 50], 'min_samples_leaf':[2,3]}\n",
        "# RF_clf = RandomForestClassifier(criterion='entropy', random_state=123)\n",
        "# RF = GridSearchCV(RF_clf, param_grid=param_grid, scoring='accuracy', cv=5, verbose=2)\n",
        "\n",
        "RF = RandomForestClassifier(criterion='entropy', n_estimators=50, max_depth=20, min_samples_leaf=2, random_state=123)\n",
        "\n",
        "RF.fit(X_train, y_train)\n",
        "\n",
        "y_train_pred = RF.predict(X_train)\n",
        "y_val_pred = RF.predict(X_val)\n",
        "y_test_pred = RF.predict(X_test)\n",
        "\n",
        "print(f'\\nACC on training set: {accuracy_score(y_train, y_train_pred)}\\nACC on validation set: {accuracy_score(y_val, y_val_pred)}\\nACC on test set: {accuracy_score(y_test, y_test_pred)}')"
      ]
    },
    {
      "cell_type": "markdown",
      "metadata": {
        "id": "-7mwxbzcweN4"
      },
      "source": [
        "# k-Nearest-Neighbors\n",
        "\n",
        "*   Running time ~ 5 minutes\n",
        "*   Running time gridsearch ~ 25 minutes"
      ]
    },
    {
      "cell_type": "markdown",
      "metadata": {
        "id": "VDIXiTm6Shj-"
      },
      "source": [
        "Neighbors-based classification is a type of instance-based learning, since it simply “remember” all of its training data, rather than attempting to construct a general internal model.\n",
        "\n",
        "The principle behind nearest neighbor methods is to find a predefined number of training samples closest in distance to the new point, and predict the label from these. The number of samples can be a user-defined constant (k-nearest neighbor learning), or vary based on the local density of points (radius-based neighbor learning). The distance can, in general, be any metric measure.\n",
        "\n",
        "Additional information can be found [here](https://scikit-learn.org/stable/modules/neighbors.html#nearest-neighbors-classification)."
      ]
    },
    {
      "cell_type": "code",
      "execution_count": null,
      "metadata": {
        "colab": {
          "base_uri": "https://localhost:8080/"
        },
        "id": "Qag8G3waj1G3",
        "outputId": "9cd27a02-b7e9-4f76-d324-a144e396f553"
      },
      "outputs": [
        {
          "output_type": "stream",
          "name": "stdout",
          "text": [
            "\n",
            "ACC on training set: 1.0\n",
            "ACC on validation set: 0.85875\n",
            "ACC on test set: 0.8543\n"
          ]
        }
      ],
      "source": [
        "# To use GridSearch un-comment the following 3 lines and comment \"KNN = KNeighborsClass...\":\n",
        "\n",
        "# param_grid = {'n_neighbors' : [5, 10, 20, 50], 'weights' : ['uniform', 'distance']}\n",
        "# KNN_clf = KNeighborsClassifier(algorithm='auto', p=2, metric='minkowski', n_jobs=-1)\n",
        "# KNN = GridSearchCV(KNN_clf, param_grid=param_grid, scoring='accuracy', cv=5, verbose=2)\n",
        "\n",
        "KNN = KNeighborsClassifier(n_neighbors=5, weights='distance', algorithm='auto', p=2, metric='minkowski', n_jobs=-1)\n",
        "\n",
        "KNN.fit(X_train, y_train)\n",
        "\n",
        "y_train_pred = KNN.predict(X_train)\n",
        "y_val_pred = KNN.predict(X_val)\n",
        "y_test_pred = KNN.predict(X_test)\n",
        "\n",
        "print(f'\\nACC on training set: {accuracy_score(y_train, y_train_pred)}\\nACC on validation set: {accuracy_score(y_val, y_val_pred)}\\nACC on test set: {accuracy_score(y_test, y_test_pred)}')"
      ]
    },
    {
      "cell_type": "markdown",
      "metadata": {
        "id": "DeEd8KbS9OkL"
      },
      "source": [
        "Let's standardize the dataset and reapply the algorithm to see if there are any improvements."
      ]
    },
    {
      "cell_type": "code",
      "execution_count": 23,
      "metadata": {
        "id": "OdahiwSmJkQ-"
      },
      "outputs": [],
      "source": [
        "# We tested with both a MinMaxScaler and a StandardScaler, the latter yielded better results\n",
        "scaler = StandardScaler()\n",
        "#scaler = MinMaxScaler()\n",
        "\n",
        "scaler.fit(X_train)\n",
        "X_train_scaled = scaler.transform(X_train)\n",
        "X_val_scaled = scaler.transform(X_val)\n",
        "X_test_scaled = scaler.transform(X_test)"
      ]
    },
    {
      "cell_type": "code",
      "execution_count": null,
      "metadata": {
        "colab": {
          "base_uri": "https://localhost:8080/"
        },
        "id": "Mv8zJxW_-Duj",
        "outputId": "4ec12367-e186-4117-b521-7cae0cd220d2"
      },
      "outputs": [
        {
          "output_type": "stream",
          "name": "stdout",
          "text": [
            "\n",
            "ACC on training set: 1.0\n",
            "ACC on validation set: 0.8603333333333333\n",
            "ACC on test set: 0.852\n"
          ]
        }
      ],
      "source": [
        "# To use GridSearch un-comment the following 3 lines and comment \"KNN = KNeighborsClass...\":\n",
        "\n",
        "# param_grid = {'n_neighbors' : [5, 10, 20, 50], 'weights' : ['uniform', 'distance']}\n",
        "# KNN_clf = KNeighborsClassifier(algorithm='auto', p=2, metric='minkowski', n_jobs=-1)\n",
        "# KNN = GridSearchCV(KNN_clf, param_grid=param_grid, scoring='accuracy', cv=5, verbose=2)\n",
        "\n",
        "KNN = KNeighborsClassifier(n_neighbors=5, weights='distance', algorithm='auto', p=2, metric='minkowski', n_jobs=-1)\n",
        "\n",
        "KNN.fit(X_train_scaled, y_train)\n",
        "\n",
        "y_train_pred = KNN.predict(X_train_scaled)\n",
        "y_val_pred = KNN.predict(X_val_scaled)\n",
        "y_test_pred = KNN.predict(X_test_scaled)\n",
        "\n",
        "print(f'\\nACC on training set: {accuracy_score(y_train, y_train_pred)}\\nACC on validation set: {accuracy_score(y_val, y_val_pred)}\\nACC on test set: {accuracy_score(y_test, y_test_pred)}')"
      ]
    },
    {
      "cell_type": "markdown",
      "source": [
        "Interestingly, we note that for the kNN the training phase is quite fast whereas the prediction phase takes much longer.\n",
        "This is an inherent issue of the model, due to the fact that for each sample we want to predict the label, we have to calculate the distances from all the other 48000 samples of the training set."
      ],
      "metadata": {
        "id": "T4FVcgBArdhs"
      }
    },
    {
      "cell_type": "markdown",
      "metadata": {
        "id": "OkR5JEKRK46U"
      },
      "source": [
        "#Neural Networks\n",
        "\n",
        "*   Running time ~ 3 minutes\n",
        "*   Running time gridsearch ~ 42 minutes"
      ]
    },
    {
      "cell_type": "markdown",
      "metadata": {
        "id": "z15jzHAmbTJ7"
      },
      "source": [
        "Neural networks are a subset of machine learning algorithms, loosely inspired by the human brain, mimicking the way that biological neurons signal to one another.\n",
        "\n",
        "The network consists of an input layer, one or more hidden layers, and an output layer. In each layer there are several nodes, or neurons, and the nodes in each layer use the outputs of all nodes in the previous layer as inputs, such that all neurons interconnect with each other through the different layers. Each neuron typically is assigned a weight that is adjusted during the learning process and decreases or increases in the weight change the strength of that neuron’s signal.\n",
        "\n",
        "Additional information can be found [here](https://scikit-learn.org/stable/modules/neural_networks_supervised.html#multi-layer-perceptron)."
      ]
    },
    {
      "cell_type": "markdown",
      "metadata": {
        "id": "eh7yM3yExERQ"
      },
      "source": [
        "For Neural Networks in particular, feature scaling turned out to be game-changing. To convince yourself just reapply the algorithm with the original dataset."
      ]
    },
    {
      "cell_type": "code",
      "execution_count": 13,
      "metadata": {
        "id": "sOob84aTMal7"
      },
      "outputs": [],
      "source": [
        "# Let's define an appropriate function which we'll use to implement a GridSearch over the Neural Networks parameters\n",
        "\n",
        "def MLP_definer(input_size, n_classes, n_layers, n_units, activation_hid='relu', activation_out='softmax'):\n",
        "\n",
        "  #set the random seed\n",
        "  np.random.seed(123)\n",
        "  set_random_seed(2)\n",
        "\n",
        "  model=Sequential()\n",
        "  model.add(Dense(input_dim = input_size, units = input_size, activation = activation_hid))\n",
        "  for i in range(n_layers):\n",
        "    model.add(Dense(units = n_units, activation = activation_hid))\n",
        "  model.add(Dense(n_classes, activation = activation_out))\n",
        "\n",
        "  # compile\n",
        "  model.compile(loss='categorical_crossentropy', optimizer='sgd', metrics='accuracy')\n",
        "\n",
        "  return model"
      ]
    },
    {
      "cell_type": "code",
      "execution_count": 14,
      "metadata": {
        "id": "40z6GsX2q5b8"
      },
      "outputs": [],
      "source": [
        "# let's also implement a simple early stopping mechanism\n",
        "es = EarlyStopping(monitor='val_loss', #quantity to be monitored\n",
        "                   mode='min', #we look for decreasing patterns stop \n",
        "                   patience = 5, #number of epochs with no improvement\n",
        "                   verbose=1)\n",
        "\n",
        "# transforming y to categorical\n",
        "y_train_cat = to_categorical(y_train, num_classes)\n",
        "y_val_cat = to_categorical(y_val, num_classes)\n",
        "y_test_cat = to_categorical(y_test, num_classes)"
      ]
    },
    {
      "cell_type": "code",
      "execution_count": null,
      "metadata": {
        "colab": {
          "base_uri": "https://localhost:8080/"
        },
        "id": "9D-8favTMxfq",
        "outputId": "34546a34-345c-4d17-a0ef-741ac7ef6f6a"
      },
      "outputs": [
        {
          "output_type": "stream",
          "name": "stdout",
          "text": [
            "num layers del NN= 3\n",
            "n_units per hidden layer = 25\n",
            "Epoch 1/30\n",
            "2550/2550 - 9s - loss: 0.5454 - accuracy: 0.8198 - val_loss: 0.4326 - val_accuracy: 0.8503 - 9s/epoch - 3ms/step\n",
            "Epoch 2/30\n",
            "2550/2550 - 8s - loss: 0.3884 - accuracy: 0.8645 - val_loss: 0.3890 - val_accuracy: 0.8618 - 8s/epoch - 3ms/step\n",
            "Epoch 3/30\n",
            "2550/2550 - 8s - loss: 0.3428 - accuracy: 0.8779 - val_loss: 0.3688 - val_accuracy: 0.8683 - 8s/epoch - 3ms/step\n",
            "Epoch 4/30\n",
            "2550/2550 - 8s - loss: 0.3132 - accuracy: 0.8891 - val_loss: 0.3603 - val_accuracy: 0.8725 - 8s/epoch - 3ms/step\n",
            "Epoch 5/30\n",
            "2550/2550 - 8s - loss: 0.2886 - accuracy: 0.8993 - val_loss: 0.3727 - val_accuracy: 0.8640 - 8s/epoch - 3ms/step\n",
            "Epoch 6/30\n",
            "2550/2550 - 8s - loss: 0.2687 - accuracy: 0.9046 - val_loss: 0.3493 - val_accuracy: 0.8747 - 8s/epoch - 3ms/step\n",
            "Epoch 7/30\n",
            "2550/2550 - 8s - loss: 0.2505 - accuracy: 0.9114 - val_loss: 0.3487 - val_accuracy: 0.8758 - 8s/epoch - 3ms/step\n",
            "Epoch 8/30\n",
            "2550/2550 - 8s - loss: 0.2353 - accuracy: 0.9170 - val_loss: 0.3487 - val_accuracy: 0.8781 - 8s/epoch - 3ms/step\n",
            "Epoch 9/30\n",
            "2550/2550 - 8s - loss: 0.2212 - accuracy: 0.9222 - val_loss: 0.3438 - val_accuracy: 0.8803 - 8s/epoch - 3ms/step\n",
            "Epoch 10/30\n",
            "2550/2550 - 8s - loss: 0.2085 - accuracy: 0.9273 - val_loss: 0.3517 - val_accuracy: 0.8793 - 8s/epoch - 3ms/step\n",
            "Epoch 11/30\n",
            "2550/2550 - 8s - loss: 0.1939 - accuracy: 0.9326 - val_loss: 0.3418 - val_accuracy: 0.8804 - 8s/epoch - 3ms/step\n",
            "Epoch 12/30\n",
            "2550/2550 - 8s - loss: 0.1833 - accuracy: 0.9370 - val_loss: 0.3355 - val_accuracy: 0.8829 - 8s/epoch - 3ms/step\n",
            "Epoch 13/30\n",
            "2550/2550 - 8s - loss: 0.1722 - accuracy: 0.9412 - val_loss: 0.3392 - val_accuracy: 0.8826 - 8s/epoch - 3ms/step\n",
            "Epoch 14/30\n",
            "2550/2550 - 8s - loss: 0.1624 - accuracy: 0.9450 - val_loss: 0.3357 - val_accuracy: 0.8861 - 8s/epoch - 3ms/step\n",
            "Epoch 15/30\n",
            "2550/2550 - 8s - loss: 0.1523 - accuracy: 0.9496 - val_loss: 0.3373 - val_accuracy: 0.8878 - 8s/epoch - 3ms/step\n",
            "Epoch 16/30\n",
            "2550/2550 - 8s - loss: 0.1426 - accuracy: 0.9518 - val_loss: 0.3429 - val_accuracy: 0.8840 - 8s/epoch - 3ms/step\n",
            "Epoch 17/30\n",
            "2550/2550 - 8s - loss: 0.1333 - accuracy: 0.9560 - val_loss: 0.3415 - val_accuracy: 0.8872 - 8s/epoch - 3ms/step\n",
            "Epoch 00017: early stopping\n",
            "training ACC: 0.9559558629989624\tvalidaton ACC :0.8872222304344177\n",
            "\n",
            "n_units per hidden layer = 50\n",
            "Epoch 1/30\n",
            "2550/2550 - 9s - loss: 0.4944 - accuracy: 0.8286 - val_loss: 0.4058 - val_accuracy: 0.8582 - 9s/epoch - 3ms/step\n",
            "Epoch 2/30\n",
            "2550/2550 - 8s - loss: 0.3676 - accuracy: 0.8703 - val_loss: 0.3745 - val_accuracy: 0.8653 - 8s/epoch - 3ms/step\n",
            "Epoch 3/30\n",
            "2550/2550 - 8s - loss: 0.3271 - accuracy: 0.8848 - val_loss: 0.3592 - val_accuracy: 0.8721 - 8s/epoch - 3ms/step\n",
            "Epoch 4/30\n",
            "2550/2550 - 8s - loss: 0.2995 - accuracy: 0.8932 - val_loss: 0.3473 - val_accuracy: 0.8757 - 8s/epoch - 3ms/step\n",
            "Epoch 5/30\n",
            "2550/2550 - 8s - loss: 0.2761 - accuracy: 0.9029 - val_loss: 0.3504 - val_accuracy: 0.8733 - 8s/epoch - 3ms/step\n",
            "Epoch 6/30\n",
            "2550/2550 - 8s - loss: 0.2569 - accuracy: 0.9091 - val_loss: 0.3421 - val_accuracy: 0.8736 - 8s/epoch - 3ms/step\n",
            "Epoch 7/30\n",
            "2550/2550 - 8s - loss: 0.2384 - accuracy: 0.9158 - val_loss: 0.3395 - val_accuracy: 0.8779 - 8s/epoch - 3ms/step\n",
            "Epoch 8/30\n",
            "2550/2550 - 8s - loss: 0.2237 - accuracy: 0.9214 - val_loss: 0.3432 - val_accuracy: 0.8797 - 8s/epoch - 3ms/step\n",
            "Epoch 9/30\n",
            "2550/2550 - 8s - loss: 0.2091 - accuracy: 0.9273 - val_loss: 0.3428 - val_accuracy: 0.8806 - 8s/epoch - 3ms/step\n",
            "Epoch 10/30\n",
            "2550/2550 - 8s - loss: 0.1968 - accuracy: 0.9316 - val_loss: 0.3414 - val_accuracy: 0.8792 - 8s/epoch - 3ms/step\n",
            "Epoch 11/30\n",
            "2550/2550 - 8s - loss: 0.1824 - accuracy: 0.9365 - val_loss: 0.3338 - val_accuracy: 0.8839 - 8s/epoch - 3ms/step\n",
            "Epoch 12/30\n",
            "2550/2550 - 8s - loss: 0.1703 - accuracy: 0.9428 - val_loss: 0.3313 - val_accuracy: 0.8850 - 8s/epoch - 3ms/step\n",
            "Epoch 13/30\n",
            "2550/2550 - 8s - loss: 0.1599 - accuracy: 0.9459 - val_loss: 0.3464 - val_accuracy: 0.8829 - 8s/epoch - 3ms/step\n",
            "Epoch 14/30\n",
            "2550/2550 - 8s - loss: 0.1502 - accuracy: 0.9491 - val_loss: 0.3494 - val_accuracy: 0.8803 - 8s/epoch - 3ms/step\n",
            "Epoch 15/30\n",
            "2550/2550 - 8s - loss: 0.1386 - accuracy: 0.9541 - val_loss: 0.3448 - val_accuracy: 0.8851 - 8s/epoch - 3ms/step\n",
            "Epoch 16/30\n",
            "2550/2550 - 8s - loss: 0.1290 - accuracy: 0.9572 - val_loss: 0.3444 - val_accuracy: 0.8844 - 8s/epoch - 3ms/step\n",
            "Epoch 17/30\n",
            "2550/2550 - 8s - loss: 0.1203 - accuracy: 0.9606 - val_loss: 0.3417 - val_accuracy: 0.8857 - 8s/epoch - 3ms/step\n",
            "Epoch 00017: early stopping\n",
            "training ACC: 0.9606372714042664\tvalidaton ACC :0.8856944441795349\n",
            "\n",
            "n_units per hidden layer = 100\n",
            "Epoch 1/30\n",
            "2550/2550 - 9s - loss: 0.4751 - accuracy: 0.8331 - val_loss: 0.3956 - val_accuracy: 0.8587 - 9s/epoch - 3ms/step\n",
            "Epoch 2/30\n",
            "2550/2550 - 8s - loss: 0.3571 - accuracy: 0.8741 - val_loss: 0.3654 - val_accuracy: 0.8662 - 8s/epoch - 3ms/step\n",
            "Epoch 3/30\n",
            "2550/2550 - 8s - loss: 0.3163 - accuracy: 0.8884 - val_loss: 0.3497 - val_accuracy: 0.8758 - 8s/epoch - 3ms/step\n",
            "Epoch 4/30\n",
            "2550/2550 - 8s - loss: 0.2888 - accuracy: 0.8983 - val_loss: 0.3350 - val_accuracy: 0.8799 - 8s/epoch - 3ms/step\n",
            "Epoch 5/30\n",
            "2550/2550 - 8s - loss: 0.2657 - accuracy: 0.9059 - val_loss: 0.3444 - val_accuracy: 0.8753 - 8s/epoch - 3ms/step\n",
            "Epoch 6/30\n",
            "2550/2550 - 8s - loss: 0.2462 - accuracy: 0.9132 - val_loss: 0.3319 - val_accuracy: 0.8804 - 8s/epoch - 3ms/step\n",
            "Epoch 7/30\n",
            "2550/2550 - 8s - loss: 0.2278 - accuracy: 0.9198 - val_loss: 0.3298 - val_accuracy: 0.8819 - 8s/epoch - 3ms/step\n",
            "Epoch 8/30\n",
            "2550/2550 - 8s - loss: 0.2124 - accuracy: 0.9252 - val_loss: 0.3359 - val_accuracy: 0.8828 - 8s/epoch - 3ms/step\n",
            "Epoch 9/30\n",
            "2550/2550 - 8s - loss: 0.1980 - accuracy: 0.9315 - val_loss: 0.3335 - val_accuracy: 0.8818 - 8s/epoch - 3ms/step\n",
            "Epoch 10/30\n",
            "2550/2550 - 8s - loss: 0.1847 - accuracy: 0.9361 - val_loss: 0.3368 - val_accuracy: 0.8807 - 8s/epoch - 3ms/step\n",
            "Epoch 11/30\n",
            "2550/2550 - 8s - loss: 0.1706 - accuracy: 0.9418 - val_loss: 0.3292 - val_accuracy: 0.8843 - 8s/epoch - 3ms/step\n",
            "Epoch 12/30\n",
            "2550/2550 - 8s - loss: 0.1591 - accuracy: 0.9463 - val_loss: 0.3256 - val_accuracy: 0.8861 - 8s/epoch - 3ms/step\n",
            "Epoch 13/30\n",
            "2550/2550 - 8s - loss: 0.1486 - accuracy: 0.9500 - val_loss: 0.3303 - val_accuracy: 0.8861 - 8s/epoch - 3ms/step\n",
            "Epoch 14/30\n",
            "2550/2550 - 8s - loss: 0.1380 - accuracy: 0.9540 - val_loss: 0.3315 - val_accuracy: 0.8846 - 8s/epoch - 3ms/step\n",
            "Epoch 15/30\n",
            "2550/2550 - 8s - loss: 0.1276 - accuracy: 0.9570 - val_loss: 0.3317 - val_accuracy: 0.8867 - 8s/epoch - 3ms/step\n",
            "Epoch 16/30\n",
            "2550/2550 - 8s - loss: 0.1176 - accuracy: 0.9620 - val_loss: 0.3309 - val_accuracy: 0.8881 - 8s/epoch - 3ms/step\n",
            "Epoch 17/30\n",
            "2550/2550 - 8s - loss: 0.1097 - accuracy: 0.9646 - val_loss: 0.3272 - val_accuracy: 0.8915 - 8s/epoch - 3ms/step\n",
            "Epoch 00017: early stopping\n",
            "training ACC: 0.964607834815979\tvalidaton ACC :0.8915277719497681\n",
            "\n",
            "n_units per hidden layer = 150\n",
            "Epoch 1/30\n",
            "2550/2550 - 9s - loss: 0.4762 - accuracy: 0.8318 - val_loss: 0.3976 - val_accuracy: 0.8565 - 9s/epoch - 3ms/step\n",
            "Epoch 2/30\n",
            "2550/2550 - 8s - loss: 0.3573 - accuracy: 0.8740 - val_loss: 0.3683 - val_accuracy: 0.8667 - 8s/epoch - 3ms/step\n",
            "Epoch 3/30\n",
            "2550/2550 - 8s - loss: 0.3162 - accuracy: 0.8884 - val_loss: 0.3502 - val_accuracy: 0.8747 - 8s/epoch - 3ms/step\n",
            "Epoch 4/30\n",
            "2550/2550 - 8s - loss: 0.2879 - accuracy: 0.8986 - val_loss: 0.3382 - val_accuracy: 0.8785 - 8s/epoch - 3ms/step\n",
            "Epoch 5/30\n",
            "2550/2550 - 8s - loss: 0.2639 - accuracy: 0.9077 - val_loss: 0.3440 - val_accuracy: 0.8761 - 8s/epoch - 3ms/step\n",
            "Epoch 6/30\n",
            "2550/2550 - 8s - loss: 0.2441 - accuracy: 0.9135 - val_loss: 0.3322 - val_accuracy: 0.8813 - 8s/epoch - 3ms/step\n",
            "Epoch 7/30\n",
            "2550/2550 - 8s - loss: 0.2254 - accuracy: 0.9209 - val_loss: 0.3323 - val_accuracy: 0.8813 - 8s/epoch - 3ms/step\n",
            "Epoch 8/30\n",
            "2550/2550 - 8s - loss: 0.2098 - accuracy: 0.9268 - val_loss: 0.3342 - val_accuracy: 0.8831 - 8s/epoch - 3ms/step\n",
            "Epoch 9/30\n",
            "2550/2550 - 8s - loss: 0.1949 - accuracy: 0.9321 - val_loss: 0.3290 - val_accuracy: 0.8860 - 8s/epoch - 3ms/step\n",
            "Epoch 10/30\n",
            "2550/2550 - 8s - loss: 0.1816 - accuracy: 0.9361 - val_loss: 0.3403 - val_accuracy: 0.8793 - 8s/epoch - 3ms/step\n",
            "Epoch 11/30\n",
            "2550/2550 - 8s - loss: 0.1665 - accuracy: 0.9434 - val_loss: 0.3284 - val_accuracy: 0.8868 - 8s/epoch - 3ms/step\n",
            "Epoch 12/30\n",
            "2550/2550 - 8s - loss: 0.1550 - accuracy: 0.9486 - val_loss: 0.3204 - val_accuracy: 0.8903 - 8s/epoch - 3ms/step\n",
            "Epoch 13/30\n",
            "2550/2550 - 8s - loss: 0.1442 - accuracy: 0.9527 - val_loss: 0.3333 - val_accuracy: 0.8824 - 8s/epoch - 3ms/step\n",
            "Epoch 14/30\n",
            "2550/2550 - 8s - loss: 0.1338 - accuracy: 0.9555 - val_loss: 0.3337 - val_accuracy: 0.8839 - 8s/epoch - 3ms/step\n",
            "Epoch 15/30\n",
            "2550/2550 - 8s - loss: 0.1230 - accuracy: 0.9602 - val_loss: 0.3314 - val_accuracy: 0.8886 - 8s/epoch - 3ms/step\n",
            "Epoch 16/30\n",
            "2550/2550 - 8s - loss: 0.1132 - accuracy: 0.9631 - val_loss: 0.3310 - val_accuracy: 0.8897 - 8s/epoch - 3ms/step\n",
            "Epoch 17/30\n",
            "2550/2550 - 8s - loss: 0.1049 - accuracy: 0.9668 - val_loss: 0.3283 - val_accuracy: 0.8929 - 8s/epoch - 3ms/step\n",
            "Epoch 00017: early stopping\n",
            "training ACC: 0.9668137431144714\tvalidaton ACC :0.8929166793823242\n",
            "\n",
            "n_units per hidden layer = 300\n",
            "Epoch 1/30\n",
            "2550/2550 - 9s - loss: 0.4747 - accuracy: 0.8308 - val_loss: 0.4002 - val_accuracy: 0.8590 - 9s/epoch - 4ms/step\n",
            "Epoch 2/30\n",
            "2550/2550 - 8s - loss: 0.3577 - accuracy: 0.8738 - val_loss: 0.3773 - val_accuracy: 0.8635 - 8s/epoch - 3ms/step\n",
            "Epoch 3/30\n",
            "2550/2550 - 8s - loss: 0.3161 - accuracy: 0.8882 - val_loss: 0.3541 - val_accuracy: 0.8751 - 8s/epoch - 3ms/step\n",
            "Epoch 4/30\n",
            "2550/2550 - 8s - loss: 0.2866 - accuracy: 0.8984 - val_loss: 0.3413 - val_accuracy: 0.8778 - 8s/epoch - 3ms/step\n",
            "Epoch 5/30\n",
            "2550/2550 - 8s - loss: 0.2624 - accuracy: 0.9074 - val_loss: 0.3488 - val_accuracy: 0.8715 - 8s/epoch - 3ms/step\n",
            "Epoch 6/30\n",
            "2550/2550 - 8s - loss: 0.2415 - accuracy: 0.9151 - val_loss: 0.3372 - val_accuracy: 0.8796 - 8s/epoch - 3ms/step\n",
            "Epoch 7/30\n",
            "2550/2550 - 8s - loss: 0.2219 - accuracy: 0.9212 - val_loss: 0.3337 - val_accuracy: 0.8803 - 8s/epoch - 3ms/step\n",
            "Epoch 8/30\n",
            "2550/2550 - 9s - loss: 0.2065 - accuracy: 0.9265 - val_loss: 0.3402 - val_accuracy: 0.8833 - 9s/epoch - 3ms/step\n",
            "Epoch 9/30\n",
            "2550/2550 - 8s - loss: 0.1905 - accuracy: 0.9324 - val_loss: 0.3452 - val_accuracy: 0.8790 - 8s/epoch - 3ms/step\n",
            "Epoch 10/30\n",
            "2550/2550 - 8s - loss: 0.1775 - accuracy: 0.9378 - val_loss: 0.3505 - val_accuracy: 0.8778 - 8s/epoch - 3ms/step\n",
            "Epoch 11/30\n",
            "2550/2550 - 8s - loss: 0.1624 - accuracy: 0.9443 - val_loss: 0.3363 - val_accuracy: 0.8828 - 8s/epoch - 3ms/step\n",
            "Epoch 12/30\n",
            "2550/2550 - 8s - loss: 0.1501 - accuracy: 0.9488 - val_loss: 0.3270 - val_accuracy: 0.8854 - 8s/epoch - 3ms/step\n",
            "Epoch 13/30\n",
            "2550/2550 - 8s - loss: 0.1392 - accuracy: 0.9523 - val_loss: 0.3430 - val_accuracy: 0.8831 - 8s/epoch - 3ms/step\n",
            "Epoch 14/30\n",
            "2550/2550 - 8s - loss: 0.1290 - accuracy: 0.9559 - val_loss: 0.3416 - val_accuracy: 0.8822 - 8s/epoch - 3ms/step\n",
            "Epoch 15/30\n",
            "2550/2550 - 8s - loss: 0.1183 - accuracy: 0.9606 - val_loss: 0.3449 - val_accuracy: 0.8871 - 8s/epoch - 3ms/step\n",
            "Epoch 16/30\n",
            "2550/2550 - 8s - loss: 0.1090 - accuracy: 0.9652 - val_loss: 0.3403 - val_accuracy: 0.8854 - 8s/epoch - 3ms/step\n",
            "Epoch 17/30\n",
            "2550/2550 - 8s - loss: 0.0997 - accuracy: 0.9691 - val_loss: 0.3384 - val_accuracy: 0.8901 - 8s/epoch - 3ms/step\n",
            "Epoch 00017: early stopping\n",
            "training ACC: 0.9690931439399719\tvalidaton ACC :0.8901388645172119\n",
            "\n",
            "num layers del NN= 4\n",
            "n_units per hidden layer = 25\n",
            "Epoch 1/30\n",
            "2550/2550 - 9s - loss: 0.5886 - accuracy: 0.8132 - val_loss: 0.4298 - val_accuracy: 0.8531 - 9s/epoch - 3ms/step\n",
            "Epoch 2/30\n",
            "2550/2550 - 8s - loss: 0.3908 - accuracy: 0.8649 - val_loss: 0.3856 - val_accuracy: 0.8624 - 8s/epoch - 3ms/step\n",
            "Epoch 3/30\n",
            "2550/2550 - 9s - loss: 0.3432 - accuracy: 0.8800 - val_loss: 0.3725 - val_accuracy: 0.8649 - 9s/epoch - 3ms/step\n",
            "Epoch 4/30\n",
            "2550/2550 - 8s - loss: 0.3134 - accuracy: 0.8888 - val_loss: 0.3565 - val_accuracy: 0.8708 - 8s/epoch - 3ms/step\n",
            "Epoch 5/30\n",
            "2550/2550 - 8s - loss: 0.2887 - accuracy: 0.8982 - val_loss: 0.3764 - val_accuracy: 0.8656 - 8s/epoch - 3ms/step\n",
            "Epoch 6/30\n",
            "2550/2550 - 8s - loss: 0.2681 - accuracy: 0.9047 - val_loss: 0.3565 - val_accuracy: 0.8744 - 8s/epoch - 3ms/step\n",
            "Epoch 7/30\n",
            "2550/2550 - 8s - loss: 0.2486 - accuracy: 0.9121 - val_loss: 0.3481 - val_accuracy: 0.8749 - 8s/epoch - 3ms/step\n",
            "Epoch 8/30\n",
            "2550/2550 - 9s - loss: 0.2323 - accuracy: 0.9190 - val_loss: 0.3620 - val_accuracy: 0.8758 - 9s/epoch - 3ms/step\n",
            "Epoch 9/30\n",
            "2550/2550 - 8s - loss: 0.2174 - accuracy: 0.9239 - val_loss: 0.3492 - val_accuracy: 0.8758 - 8s/epoch - 3ms/step\n",
            "Epoch 10/30\n",
            "2550/2550 - 8s - loss: 0.2056 - accuracy: 0.9278 - val_loss: 0.3650 - val_accuracy: 0.8697 - 8s/epoch - 3ms/step\n",
            "Epoch 11/30\n",
            "2550/2550 - 9s - loss: 0.1892 - accuracy: 0.9342 - val_loss: 0.3552 - val_accuracy: 0.8729 - 9s/epoch - 3ms/step\n",
            "Epoch 12/30\n",
            "2550/2550 - 8s - loss: 0.1796 - accuracy: 0.9379 - val_loss: 0.3478 - val_accuracy: 0.8843 - 8s/epoch - 3ms/step\n",
            "Epoch 13/30\n",
            "2550/2550 - 8s - loss: 0.1683 - accuracy: 0.9414 - val_loss: 0.3707 - val_accuracy: 0.8753 - 8s/epoch - 3ms/step\n",
            "Epoch 14/30\n",
            "2550/2550 - 8s - loss: 0.1591 - accuracy: 0.9446 - val_loss: 0.3618 - val_accuracy: 0.8753 - 8s/epoch - 3ms/step\n",
            "Epoch 15/30\n",
            "2550/2550 - 8s - loss: 0.1474 - accuracy: 0.9494 - val_loss: 0.3588 - val_accuracy: 0.8818 - 8s/epoch - 3ms/step\n",
            "Epoch 16/30\n",
            "2550/2550 - 9s - loss: 0.1379 - accuracy: 0.9531 - val_loss: 0.3567 - val_accuracy: 0.8811 - 9s/epoch - 3ms/step\n",
            "Epoch 17/30\n",
            "2550/2550 - 8s - loss: 0.1292 - accuracy: 0.9565 - val_loss: 0.3593 - val_accuracy: 0.8829 - 8s/epoch - 3ms/step\n",
            "Epoch 00017: early stopping\n",
            "training ACC: 0.9564706087112427\tvalidaton ACC :0.8829166889190674\n",
            "\n",
            "n_units per hidden layer = 50\n",
            "Epoch 1/30\n",
            "2550/2550 - 9s - loss: 0.5207 - accuracy: 0.8242 - val_loss: 0.4046 - val_accuracy: 0.8557 - 9s/epoch - 4ms/step\n",
            "Epoch 2/30\n",
            "2550/2550 - 9s - loss: 0.3675 - accuracy: 0.8709 - val_loss: 0.3728 - val_accuracy: 0.8639 - 9s/epoch - 3ms/step\n",
            "Epoch 3/30\n",
            "2550/2550 - 8s - loss: 0.3213 - accuracy: 0.8855 - val_loss: 0.3503 - val_accuracy: 0.8744 - 8s/epoch - 3ms/step\n",
            "Epoch 4/30\n",
            "2550/2550 - 9s - loss: 0.2915 - accuracy: 0.8971 - val_loss: 0.3392 - val_accuracy: 0.8763 - 9s/epoch - 3ms/step\n",
            "Epoch 5/30\n",
            "2550/2550 - 8s - loss: 0.2655 - accuracy: 0.9050 - val_loss: 0.3511 - val_accuracy: 0.8728 - 8s/epoch - 3ms/step\n",
            "Epoch 6/30\n",
            "2550/2550 - 8s - loss: 0.2452 - accuracy: 0.9128 - val_loss: 0.3325 - val_accuracy: 0.8813 - 8s/epoch - 3ms/step\n",
            "Epoch 7/30\n",
            "2550/2550 - 9s - loss: 0.2260 - accuracy: 0.9186 - val_loss: 0.3380 - val_accuracy: 0.8781 - 9s/epoch - 3ms/step\n",
            "Epoch 8/30\n",
            "2550/2550 - 8s - loss: 0.2105 - accuracy: 0.9247 - val_loss: 0.3368 - val_accuracy: 0.8807 - 8s/epoch - 3ms/step\n",
            "Epoch 9/30\n",
            "2550/2550 - 8s - loss: 0.1956 - accuracy: 0.9312 - val_loss: 0.3389 - val_accuracy: 0.8836 - 8s/epoch - 3ms/step\n",
            "Epoch 10/30\n",
            "2550/2550 - 9s - loss: 0.1820 - accuracy: 0.9369 - val_loss: 0.3458 - val_accuracy: 0.8786 - 9s/epoch - 3ms/step\n",
            "Epoch 11/30\n",
            "2550/2550 - 8s - loss: 0.1669 - accuracy: 0.9410 - val_loss: 0.3403 - val_accuracy: 0.8826 - 8s/epoch - 3ms/step\n",
            "Epoch 00011: early stopping\n",
            "training ACC: 0.9410048723220825\tvalidaton ACC :0.8826388716697693\n",
            "\n",
            "n_units per hidden layer = 100\n",
            "Epoch 1/30\n",
            "2550/2550 - 9s - loss: 0.4878 - accuracy: 0.8325 - val_loss: 0.3965 - val_accuracy: 0.8599 - 9s/epoch - 4ms/step\n",
            "Epoch 2/30\n",
            "2550/2550 - 9s - loss: 0.3566 - accuracy: 0.8739 - val_loss: 0.3621 - val_accuracy: 0.8661 - 9s/epoch - 3ms/step\n",
            "Epoch 3/30\n",
            "2550/2550 - 8s - loss: 0.3133 - accuracy: 0.8875 - val_loss: 0.3450 - val_accuracy: 0.8775 - 8s/epoch - 3ms/step\n",
            "Epoch 4/30\n",
            "2550/2550 - 8s - loss: 0.2833 - accuracy: 0.8992 - val_loss: 0.3321 - val_accuracy: 0.8789 - 8s/epoch - 3ms/step\n",
            "Epoch 5/30\n",
            "2550/2550 - 9s - loss: 0.2580 - accuracy: 0.9079 - val_loss: 0.3428 - val_accuracy: 0.8756 - 9s/epoch - 3ms/step\n",
            "Epoch 6/30\n",
            "2550/2550 - 9s - loss: 0.2371 - accuracy: 0.9154 - val_loss: 0.3327 - val_accuracy: 0.8813 - 9s/epoch - 3ms/step\n",
            "Epoch 7/30\n",
            "2550/2550 - 9s - loss: 0.2172 - accuracy: 0.9211 - val_loss: 0.3314 - val_accuracy: 0.8821 - 9s/epoch - 3ms/step\n",
            "Epoch 8/30\n",
            "2550/2550 - 9s - loss: 0.1998 - accuracy: 0.9285 - val_loss: 0.3390 - val_accuracy: 0.8839 - 9s/epoch - 3ms/step\n",
            "Epoch 9/30\n",
            "2550/2550 - 9s - loss: 0.1841 - accuracy: 0.9349 - val_loss: 0.3504 - val_accuracy: 0.8819 - 9s/epoch - 3ms/step\n",
            "Epoch 10/30\n",
            "2550/2550 - 9s - loss: 0.1708 - accuracy: 0.9395 - val_loss: 0.3551 - val_accuracy: 0.8796 - 9s/epoch - 3ms/step\n",
            "Epoch 11/30\n",
            "2550/2550 - 9s - loss: 0.1531 - accuracy: 0.9470 - val_loss: 0.3433 - val_accuracy: 0.8825 - 9s/epoch - 3ms/step\n",
            "Epoch 12/30\n",
            "2550/2550 - 8s - loss: 0.1420 - accuracy: 0.9516 - val_loss: 0.3430 - val_accuracy: 0.8860 - 8s/epoch - 3ms/step\n",
            "Epoch 00012: early stopping\n",
            "training ACC: 0.951568603515625\tvalidaton ACC :0.8859722018241882\n",
            "\n",
            "n_units per hidden layer = 150\n",
            "Epoch 1/30\n",
            "2550/2550 - 9s - loss: 0.4828 - accuracy: 0.8300 - val_loss: 0.3945 - val_accuracy: 0.8596 - 9s/epoch - 4ms/step\n",
            "Epoch 2/30\n",
            "2550/2550 - 9s - loss: 0.3564 - accuracy: 0.8735 - val_loss: 0.3665 - val_accuracy: 0.8651 - 9s/epoch - 3ms/step\n",
            "Epoch 3/30\n",
            "2550/2550 - 9s - loss: 0.3126 - accuracy: 0.8890 - val_loss: 0.3501 - val_accuracy: 0.8732 - 9s/epoch - 3ms/step\n",
            "Epoch 4/30\n",
            "2550/2550 - 9s - loss: 0.2826 - accuracy: 0.8990 - val_loss: 0.3371 - val_accuracy: 0.8774 - 9s/epoch - 3ms/step\n",
            "Epoch 5/30\n",
            "2550/2550 - 8s - loss: 0.2575 - accuracy: 0.9080 - val_loss: 0.3444 - val_accuracy: 0.8746 - 8s/epoch - 3ms/step\n",
            "Epoch 6/30\n",
            "2550/2550 - 9s - loss: 0.2358 - accuracy: 0.9154 - val_loss: 0.3301 - val_accuracy: 0.8833 - 9s/epoch - 3ms/step\n",
            "Epoch 7/30\n",
            "2550/2550 - 9s - loss: 0.2150 - accuracy: 0.9229 - val_loss: 0.3350 - val_accuracy: 0.8801 - 9s/epoch - 3ms/step\n",
            "Epoch 8/30\n",
            "2550/2550 - 9s - loss: 0.1983 - accuracy: 0.9303 - val_loss: 0.3385 - val_accuracy: 0.8829 - 9s/epoch - 3ms/step\n",
            "Epoch 9/30\n",
            "2550/2550 - 9s - loss: 0.1819 - accuracy: 0.9359 - val_loss: 0.3502 - val_accuracy: 0.8783 - 9s/epoch - 3ms/step\n",
            "Epoch 10/30\n",
            "2550/2550 - 9s - loss: 0.1685 - accuracy: 0.9407 - val_loss: 0.3580 - val_accuracy: 0.8781 - 9s/epoch - 3ms/step\n",
            "Epoch 11/30\n",
            "2550/2550 - 9s - loss: 0.1512 - accuracy: 0.9473 - val_loss: 0.3424 - val_accuracy: 0.8861 - 9s/epoch - 3ms/step\n",
            "Epoch 00011: early stopping\n",
            "training ACC: 0.9472793936729431\tvalidaton ACC :0.8861111402511597\n",
            "\n",
            "n_units per hidden layer = 300\n",
            "Epoch 1/30\n",
            "2550/2550 - 10s - loss: 0.4752 - accuracy: 0.8311 - val_loss: 0.3947 - val_accuracy: 0.8572 - 10s/epoch - 4ms/step\n",
            "Epoch 2/30\n",
            "2550/2550 - 9s - loss: 0.3544 - accuracy: 0.8743 - val_loss: 0.3689 - val_accuracy: 0.8678 - 9s/epoch - 4ms/step\n",
            "Epoch 3/30\n",
            "2550/2550 - 9s - loss: 0.3110 - accuracy: 0.8882 - val_loss: 0.3486 - val_accuracy: 0.8757 - 9s/epoch - 3ms/step\n",
            "Epoch 4/30\n",
            "2550/2550 - 9s - loss: 0.2805 - accuracy: 0.8989 - val_loss: 0.3370 - val_accuracy: 0.8775 - 9s/epoch - 4ms/step\n",
            "Epoch 5/30\n",
            "2550/2550 - 9s - loss: 0.2550 - accuracy: 0.9095 - val_loss: 0.3485 - val_accuracy: 0.8719 - 9s/epoch - 4ms/step\n",
            "Epoch 6/30\n",
            "2550/2550 - 9s - loss: 0.2327 - accuracy: 0.9174 - val_loss: 0.3335 - val_accuracy: 0.8829 - 9s/epoch - 3ms/step\n",
            "Epoch 7/30\n",
            "2550/2550 - 9s - loss: 0.2124 - accuracy: 0.9236 - val_loss: 0.3297 - val_accuracy: 0.8817 - 9s/epoch - 3ms/step\n",
            "Epoch 8/30\n",
            "2550/2550 - 9s - loss: 0.1960 - accuracy: 0.9304 - val_loss: 0.3432 - val_accuracy: 0.8831 - 9s/epoch - 3ms/step\n",
            "Epoch 9/30\n",
            "2550/2550 - 9s - loss: 0.1793 - accuracy: 0.9367 - val_loss: 0.3483 - val_accuracy: 0.8786 - 9s/epoch - 4ms/step\n",
            "Epoch 10/30\n",
            "2550/2550 - 9s - loss: 0.1656 - accuracy: 0.9406 - val_loss: 0.3540 - val_accuracy: 0.8788 - 9s/epoch - 3ms/step\n",
            "Epoch 11/30\n",
            "2550/2550 - 9s - loss: 0.1483 - accuracy: 0.9481 - val_loss: 0.3488 - val_accuracy: 0.8833 - 9s/epoch - 3ms/step\n",
            "Epoch 12/30\n",
            "2550/2550 - 9s - loss: 0.1351 - accuracy: 0.9529 - val_loss: 0.3379 - val_accuracy: 0.8878 - 9s/epoch - 3ms/step\n",
            "Epoch 00012: early stopping\n",
            "training ACC: 0.9529411792755127\tvalidaton ACC :0.8877778053283691\n",
            "\n",
            "num layers del NN= 5\n",
            "n_units per hidden layer = 25\n",
            "Epoch 1/30\n",
            "2550/2550 - 9s - loss: 0.6334 - accuracy: 0.8038 - val_loss: 0.4350 - val_accuracy: 0.8490 - 9s/epoch - 4ms/step\n",
            "Epoch 2/30\n",
            "2550/2550 - 9s - loss: 0.3943 - accuracy: 0.8647 - val_loss: 0.3873 - val_accuracy: 0.8596 - 9s/epoch - 4ms/step\n",
            "Epoch 3/30\n",
            "2550/2550 - 9s - loss: 0.3402 - accuracy: 0.8817 - val_loss: 0.3657 - val_accuracy: 0.8678 - 9s/epoch - 4ms/step\n",
            "Epoch 4/30\n",
            "2550/2550 - 9s - loss: 0.3066 - accuracy: 0.8915 - val_loss: 0.3586 - val_accuracy: 0.8703 - 9s/epoch - 4ms/step\n",
            "Epoch 5/30\n",
            "2550/2550 - 9s - loss: 0.2822 - accuracy: 0.9010 - val_loss: 0.3663 - val_accuracy: 0.8643 - 9s/epoch - 3ms/step\n",
            "Epoch 6/30\n",
            "2550/2550 - 9s - loss: 0.2615 - accuracy: 0.9083 - val_loss: 0.3535 - val_accuracy: 0.8757 - 9s/epoch - 3ms/step\n",
            "Epoch 7/30\n",
            "2550/2550 - 9s - loss: 0.2402 - accuracy: 0.9157 - val_loss: 0.3766 - val_accuracy: 0.8650 - 9s/epoch - 3ms/step\n",
            "Epoch 8/30\n",
            "2550/2550 - 9s - loss: 0.2265 - accuracy: 0.9210 - val_loss: 0.3583 - val_accuracy: 0.8781 - 9s/epoch - 4ms/step\n",
            "Epoch 9/30\n",
            "2550/2550 - 9s - loss: 0.2122 - accuracy: 0.9259 - val_loss: 0.3634 - val_accuracy: 0.8737 - 9s/epoch - 3ms/step\n",
            "Epoch 10/30\n",
            "2550/2550 - 9s - loss: 0.1997 - accuracy: 0.9307 - val_loss: 0.3790 - val_accuracy: 0.8703 - 9s/epoch - 3ms/step\n",
            "Epoch 11/30\n",
            "2550/2550 - 9s - loss: 0.1855 - accuracy: 0.9358 - val_loss: 0.3639 - val_accuracy: 0.8756 - 9s/epoch - 4ms/step\n",
            "Epoch 00011: early stopping\n",
            "training ACC: 0.9357843399047852\tvalidaton ACC :0.8755555748939514\n",
            "\n",
            "n_units per hidden layer = 50\n",
            "Epoch 1/30\n",
            "2550/2550 - 9s - loss: 0.5353 - accuracy: 0.8231 - val_loss: 0.4029 - val_accuracy: 0.8581 - 9s/epoch - 4ms/step\n",
            "Epoch 2/30\n",
            "2550/2550 - 9s - loss: 0.3631 - accuracy: 0.8734 - val_loss: 0.3768 - val_accuracy: 0.8651 - 9s/epoch - 4ms/step\n",
            "Epoch 3/30\n",
            "2550/2550 - 9s - loss: 0.3161 - accuracy: 0.8875 - val_loss: 0.3558 - val_accuracy: 0.8718 - 9s/epoch - 4ms/step\n",
            "Epoch 4/30\n",
            "2550/2550 - 9s - loss: 0.2854 - accuracy: 0.8985 - val_loss: 0.3458 - val_accuracy: 0.8750 - 9s/epoch - 4ms/step\n",
            "Epoch 5/30\n",
            "2550/2550 - 9s - loss: 0.2605 - accuracy: 0.9079 - val_loss: 0.3547 - val_accuracy: 0.8692 - 9s/epoch - 4ms/step\n",
            "Epoch 6/30\n",
            "2550/2550 - 9s - loss: 0.2387 - accuracy: 0.9150 - val_loss: 0.3374 - val_accuracy: 0.8788 - 9s/epoch - 4ms/step\n",
            "Epoch 7/30\n",
            "2550/2550 - 9s - loss: 0.2194 - accuracy: 0.9213 - val_loss: 0.3494 - val_accuracy: 0.8732 - 9s/epoch - 4ms/step\n",
            "Epoch 8/30\n",
            "2550/2550 - 9s - loss: 0.2053 - accuracy: 0.9268 - val_loss: 0.3566 - val_accuracy: 0.8783 - 9s/epoch - 3ms/step\n",
            "Epoch 9/30\n",
            "2550/2550 - 9s - loss: 0.1882 - accuracy: 0.9330 - val_loss: 0.3607 - val_accuracy: 0.8728 - 9s/epoch - 4ms/step\n",
            "Epoch 10/30\n",
            "2550/2550 - 9s - loss: 0.1764 - accuracy: 0.9373 - val_loss: 0.3825 - val_accuracy: 0.8711 - 9s/epoch - 3ms/step\n",
            "Epoch 11/30\n",
            "2550/2550 - 9s - loss: 0.1619 - accuracy: 0.9422 - val_loss: 0.3594 - val_accuracy: 0.8814 - 9s/epoch - 4ms/step\n",
            "Epoch 00011: early stopping\n",
            "training ACC: 0.9422059059143066\tvalidaton ACC :0.8813889026641846\n",
            "\n",
            "n_units per hidden layer = 100\n",
            "Epoch 1/30\n",
            "2550/2550 - 10s - loss: 0.4975 - accuracy: 0.8270 - val_loss: 0.3972 - val_accuracy: 0.8571 - 10s/epoch - 4ms/step\n",
            "Epoch 2/30\n",
            "2550/2550 - 9s - loss: 0.3543 - accuracy: 0.8752 - val_loss: 0.3672 - val_accuracy: 0.8661 - 9s/epoch - 3ms/step\n",
            "Epoch 3/30\n",
            "2550/2550 - 9s - loss: 0.3103 - accuracy: 0.8892 - val_loss: 0.3446 - val_accuracy: 0.8754 - 9s/epoch - 4ms/step\n",
            "Epoch 4/30\n",
            "2550/2550 - 9s - loss: 0.2793 - accuracy: 0.9004 - val_loss: 0.3341 - val_accuracy: 0.8794 - 9s/epoch - 4ms/step\n",
            "Epoch 5/30\n",
            "2550/2550 - 9s - loss: 0.2529 - accuracy: 0.9096 - val_loss: 0.3383 - val_accuracy: 0.8775 - 9s/epoch - 4ms/step\n",
            "Epoch 6/30\n",
            "2550/2550 - 9s - loss: 0.2302 - accuracy: 0.9175 - val_loss: 0.3343 - val_accuracy: 0.8831 - 9s/epoch - 4ms/step\n",
            "Epoch 7/30\n",
            "2550/2550 - 9s - loss: 0.2102 - accuracy: 0.9247 - val_loss: 0.3403 - val_accuracy: 0.8813 - 9s/epoch - 4ms/step\n",
            "Epoch 8/30\n",
            "2550/2550 - 9s - loss: 0.1920 - accuracy: 0.9305 - val_loss: 0.3389 - val_accuracy: 0.8840 - 9s/epoch - 4ms/step\n",
            "Epoch 9/30\n",
            "2550/2550 - 9s - loss: 0.1741 - accuracy: 0.9382 - val_loss: 0.3433 - val_accuracy: 0.8819 - 9s/epoch - 4ms/step\n",
            "Epoch 00009: early stopping\n",
            "training ACC: 0.9382107853889465\tvalidaton ACC :0.8819444179534912\n",
            "\n",
            "n_units per hidden layer = 150\n",
            "Epoch 1/30\n",
            "2550/2550 - 10s - loss: 0.4868 - accuracy: 0.8297 - val_loss: 0.3937 - val_accuracy: 0.8556 - 10s/epoch - 4ms/step\n",
            "Epoch 2/30\n",
            "2550/2550 - 9s - loss: 0.3518 - accuracy: 0.8737 - val_loss: 0.3657 - val_accuracy: 0.8650 - 9s/epoch - 4ms/step\n",
            "Epoch 3/30\n",
            "2550/2550 - 9s - loss: 0.3061 - accuracy: 0.8912 - val_loss: 0.3457 - val_accuracy: 0.8769 - 9s/epoch - 4ms/step\n",
            "Epoch 4/30\n",
            "2550/2550 - 9s - loss: 0.2744 - accuracy: 0.9008 - val_loss: 0.3339 - val_accuracy: 0.8771 - 9s/epoch - 4ms/step\n",
            "Epoch 5/30\n",
            "2550/2550 - 9s - loss: 0.2478 - accuracy: 0.9114 - val_loss: 0.3496 - val_accuracy: 0.8726 - 9s/epoch - 4ms/step\n",
            "Epoch 6/30\n",
            "2550/2550 - 9s - loss: 0.2263 - accuracy: 0.9191 - val_loss: 0.3386 - val_accuracy: 0.8790 - 9s/epoch - 4ms/step\n",
            "Epoch 7/30\n",
            "2550/2550 - 9s - loss: 0.2047 - accuracy: 0.9253 - val_loss: 0.3327 - val_accuracy: 0.8810 - 9s/epoch - 4ms/step\n",
            "Epoch 8/30\n",
            "2550/2550 - 9s - loss: 0.1866 - accuracy: 0.9340 - val_loss: 0.3525 - val_accuracy: 0.8796 - 9s/epoch - 4ms/step\n",
            "Epoch 9/30\n",
            "2550/2550 - 9s - loss: 0.1697 - accuracy: 0.9399 - val_loss: 0.3632 - val_accuracy: 0.8737 - 9s/epoch - 4ms/step\n",
            "Epoch 10/30\n",
            "2550/2550 - 9s - loss: 0.1572 - accuracy: 0.9437 - val_loss: 0.3766 - val_accuracy: 0.8704 - 9s/epoch - 4ms/step\n",
            "Epoch 11/30\n",
            "2550/2550 - 9s - loss: 0.1380 - accuracy: 0.9515 - val_loss: 0.3608 - val_accuracy: 0.8821 - 9s/epoch - 4ms/step\n",
            "Epoch 12/30\n",
            "2550/2550 - 9s - loss: 0.1258 - accuracy: 0.9560 - val_loss: 0.3573 - val_accuracy: 0.8849 - 9s/epoch - 4ms/step\n",
            "Epoch 00012: early stopping\n",
            "training ACC: 0.9559804201126099\tvalidaton ACC :0.8848611116409302\n",
            "\n",
            "n_units per hidden layer = 300\n",
            "Epoch 1/30\n",
            "2550/2550 - 10s - loss: 0.4733 - accuracy: 0.8318 - val_loss: 0.3876 - val_accuracy: 0.8597 - 10s/epoch - 4ms/step\n",
            "Epoch 2/30\n",
            "2550/2550 - 10s - loss: 0.3503 - accuracy: 0.8739 - val_loss: 0.3678 - val_accuracy: 0.8674 - 10s/epoch - 4ms/step\n",
            "Epoch 3/30\n",
            "2550/2550 - 10s - loss: 0.3068 - accuracy: 0.8890 - val_loss: 0.3425 - val_accuracy: 0.8765 - 10s/epoch - 4ms/step\n",
            "Epoch 4/30\n",
            "2550/2550 - 10s - loss: 0.2754 - accuracy: 0.9005 - val_loss: 0.3368 - val_accuracy: 0.8776 - 10s/epoch - 4ms/step\n",
            "Epoch 5/30\n",
            "2550/2550 - 10s - loss: 0.2499 - accuracy: 0.9091 - val_loss: 0.3469 - val_accuracy: 0.8742 - 10s/epoch - 4ms/step\n",
            "Epoch 6/30\n",
            "2550/2550 - 10s - loss: 0.2275 - accuracy: 0.9177 - val_loss: 0.3355 - val_accuracy: 0.8832 - 10s/epoch - 4ms/step\n",
            "Epoch 7/30\n",
            "2550/2550 - 10s - loss: 0.2062 - accuracy: 0.9251 - val_loss: 0.3299 - val_accuracy: 0.8821 - 10s/epoch - 4ms/step\n",
            "Epoch 8/30\n",
            "2550/2550 - 10s - loss: 0.1895 - accuracy: 0.9305 - val_loss: 0.3462 - val_accuracy: 0.8846 - 10s/epoch - 4ms/step\n",
            "Epoch 9/30\n",
            "2550/2550 - 10s - loss: 0.1719 - accuracy: 0.9383 - val_loss: 0.3541 - val_accuracy: 0.8792 - 10s/epoch - 4ms/step\n",
            "Epoch 10/30\n",
            "2550/2550 - 10s - loss: 0.1589 - accuracy: 0.9423 - val_loss: 0.3728 - val_accuracy: 0.8725 - 10s/epoch - 4ms/step\n",
            "Epoch 11/30\n",
            "2550/2550 - 10s - loss: 0.1417 - accuracy: 0.9504 - val_loss: 0.3509 - val_accuracy: 0.8868 - 10s/epoch - 4ms/step\n",
            "Epoch 12/30\n",
            "2550/2550 - 10s - loss: 0.1287 - accuracy: 0.9542 - val_loss: 0.3514 - val_accuracy: 0.8869 - 10s/epoch - 4ms/step\n",
            "Epoch 00012: early stopping\n",
            "training ACC: 0.9541666507720947\tvalidaton ACC :0.8869444727897644\n",
            "\n",
            "num layers del NN= 6\n",
            "n_units per hidden layer = 25\n",
            "Epoch 1/30\n",
            "2550/2550 - 10s - loss: 0.6287 - accuracy: 0.8019 - val_loss: 0.4427 - val_accuracy: 0.8485 - 10s/epoch - 4ms/step\n",
            "Epoch 2/30\n",
            "2550/2550 - 9s - loss: 0.3941 - accuracy: 0.8646 - val_loss: 0.3961 - val_accuracy: 0.8601 - 9s/epoch - 4ms/step\n",
            "Epoch 3/30\n",
            "2550/2550 - 9s - loss: 0.3409 - accuracy: 0.8807 - val_loss: 0.3830 - val_accuracy: 0.8644 - 9s/epoch - 4ms/step\n",
            "Epoch 4/30\n",
            "2550/2550 - 9s - loss: 0.3064 - accuracy: 0.8911 - val_loss: 0.3746 - val_accuracy: 0.8653 - 9s/epoch - 4ms/step\n",
            "Epoch 5/30\n",
            "2550/2550 - 9s - loss: 0.2804 - accuracy: 0.9017 - val_loss: 0.3880 - val_accuracy: 0.8610 - 9s/epoch - 4ms/step\n",
            "Epoch 6/30\n",
            "2550/2550 - 9s - loss: 0.2595 - accuracy: 0.9093 - val_loss: 0.3748 - val_accuracy: 0.8682 - 9s/epoch - 4ms/step\n",
            "Epoch 7/30\n",
            "2550/2550 - 9s - loss: 0.2405 - accuracy: 0.9150 - val_loss: 0.3650 - val_accuracy: 0.8724 - 9s/epoch - 4ms/step\n",
            "Epoch 8/30\n",
            "2550/2550 - 9s - loss: 0.2251 - accuracy: 0.9214 - val_loss: 0.3850 - val_accuracy: 0.8701 - 9s/epoch - 4ms/step\n",
            "Epoch 9/30\n",
            "2550/2550 - 9s - loss: 0.2109 - accuracy: 0.9268 - val_loss: 0.3814 - val_accuracy: 0.8693 - 9s/epoch - 4ms/step\n",
            "Epoch 10/30\n",
            "2550/2550 - 9s - loss: 0.2006 - accuracy: 0.9301 - val_loss: 0.3806 - val_accuracy: 0.8719 - 9s/epoch - 4ms/step\n",
            "Epoch 11/30\n",
            "2550/2550 - 9s - loss: 0.1856 - accuracy: 0.9351 - val_loss: 0.3699 - val_accuracy: 0.8776 - 9s/epoch - 4ms/step\n",
            "Epoch 12/30\n",
            "2550/2550 - 9s - loss: 0.1774 - accuracy: 0.9385 - val_loss: 0.3640 - val_accuracy: 0.8792 - 9s/epoch - 3ms/step\n",
            "Epoch 13/30\n",
            "2550/2550 - 9s - loss: 0.1672 - accuracy: 0.9428 - val_loss: 0.3920 - val_accuracy: 0.8763 - 9s/epoch - 4ms/step\n",
            "Epoch 14/30\n",
            "2550/2550 - 9s - loss: 0.1568 - accuracy: 0.9458 - val_loss: 0.4755 - val_accuracy: 0.8519 - 9s/epoch - 4ms/step\n",
            "Epoch 15/30\n",
            "2550/2550 - 9s - loss: 0.1473 - accuracy: 0.9491 - val_loss: 0.3908 - val_accuracy: 0.8808 - 9s/epoch - 4ms/step\n",
            "Epoch 16/30\n",
            "2550/2550 - 9s - loss: 0.1395 - accuracy: 0.9526 - val_loss: 0.4060 - val_accuracy: 0.8796 - 9s/epoch - 3ms/step\n",
            "Epoch 17/30\n",
            "2550/2550 - 9s - loss: 0.1318 - accuracy: 0.9555 - val_loss: 0.3990 - val_accuracy: 0.8810 - 9s/epoch - 4ms/step\n",
            "Epoch 00017: early stopping\n",
            "training ACC: 0.9554656744003296\tvalidaton ACC :0.8809722065925598\n",
            "\n",
            "n_units per hidden layer = 50\n",
            "Epoch 1/30\n",
            "2550/2550 - 10s - loss: 0.5482 - accuracy: 0.8186 - val_loss: 0.4053 - val_accuracy: 0.8571 - 10s/epoch - 4ms/step\n",
            "Epoch 2/30\n",
            "2550/2550 - 10s - loss: 0.3647 - accuracy: 0.8711 - val_loss: 0.3759 - val_accuracy: 0.8624 - 10s/epoch - 4ms/step\n",
            "Epoch 3/30\n",
            "2550/2550 - 10s - loss: 0.3179 - accuracy: 0.8870 - val_loss: 0.3569 - val_accuracy: 0.8703 - 10s/epoch - 4ms/step\n",
            "Epoch 4/30\n",
            "2550/2550 - 9s - loss: 0.2859 - accuracy: 0.8985 - val_loss: 0.3478 - val_accuracy: 0.8746 - 9s/epoch - 4ms/step\n",
            "Epoch 5/30\n",
            "2550/2550 - 9s - loss: 0.2612 - accuracy: 0.9057 - val_loss: 0.3630 - val_accuracy: 0.8692 - 9s/epoch - 4ms/step\n",
            "Epoch 6/30\n",
            "2550/2550 - 9s - loss: 0.2393 - accuracy: 0.9152 - val_loss: 0.3502 - val_accuracy: 0.8751 - 9s/epoch - 4ms/step\n",
            "Epoch 7/30\n",
            "2550/2550 - 9s - loss: 0.2201 - accuracy: 0.9208 - val_loss: 0.3406 - val_accuracy: 0.8768 - 9s/epoch - 4ms/step\n",
            "Epoch 8/30\n",
            "2550/2550 - 9s - loss: 0.2046 - accuracy: 0.9267 - val_loss: 0.3612 - val_accuracy: 0.8771 - 9s/epoch - 4ms/step\n",
            "Epoch 9/30\n",
            "2550/2550 - 9s - loss: 0.1888 - accuracy: 0.9328 - val_loss: 0.3858 - val_accuracy: 0.8667 - 9s/epoch - 4ms/step\n",
            "Epoch 10/30\n",
            "2550/2550 - 9s - loss: 0.1761 - accuracy: 0.9378 - val_loss: 0.3712 - val_accuracy: 0.8729 - 9s/epoch - 4ms/step\n",
            "Epoch 11/30\n",
            "2550/2550 - 9s - loss: 0.1603 - accuracy: 0.9437 - val_loss: 0.3716 - val_accuracy: 0.8769 - 9s/epoch - 4ms/step\n",
            "Epoch 12/30\n",
            "2550/2550 - 9s - loss: 0.1494 - accuracy: 0.9472 - val_loss: 0.3614 - val_accuracy: 0.8844 - 9s/epoch - 4ms/step\n",
            "Epoch 00012: early stopping\n",
            "training ACC: 0.9471813440322876\tvalidaton ACC :0.8844444155693054\n",
            "\n",
            "n_units per hidden layer = 100\n",
            "Epoch 1/30\n",
            "2550/2550 - 10s - loss: 0.5029 - accuracy: 0.8267 - val_loss: 0.3969 - val_accuracy: 0.8556 - 10s/epoch - 4ms/step\n",
            "Epoch 2/30\n",
            "2550/2550 - 10s - loss: 0.3534 - accuracy: 0.8734 - val_loss: 0.3660 - val_accuracy: 0.8635 - 10s/epoch - 4ms/step\n",
            "Epoch 3/30\n",
            "2550/2550 - 9s - loss: 0.3076 - accuracy: 0.8892 - val_loss: 0.3437 - val_accuracy: 0.8771 - 9s/epoch - 4ms/step\n",
            "Epoch 4/30\n",
            "Epoch 5/30\n",
            "2550/2550 - 10s - loss: 0.2481 - accuracy: 0.9112 - val_loss: 0.3477 - val_accuracy: 0.8747 - 10s/epoch - 4ms/step\n",
            "Epoch 6/30\n",
            "2550/2550 - 10s - loss: 0.2259 - accuracy: 0.9185 - val_loss: 0.3399 - val_accuracy: 0.8797 - 10s/epoch - 4ms/step\n",
            "Epoch 7/30\n",
            "2550/2550 - 9s - loss: 0.2050 - accuracy: 0.9250 - val_loss: 0.3432 - val_accuracy: 0.8744 - 9s/epoch - 4ms/step\n",
            "Epoch 8/30\n",
            "2550/2550 - 10s - loss: 0.1888 - accuracy: 0.9318 - val_loss: 0.3477 - val_accuracy: 0.8813 - 10s/epoch - 4ms/step\n",
            "Epoch 9/30\n",
            "2550/2550 - 9s - loss: 0.1706 - accuracy: 0.9391 - val_loss: 0.3727 - val_accuracy: 0.8757 - 9s/epoch - 4ms/step\n",
            "Epoch 00009: early stopping\n",
            "training ACC: 0.9391176700592041\tvalidaton ACC :0.8756944537162781\n",
            "\n",
            "n_units per hidden layer = 150\n",
            "Epoch 1/30\n",
            "2550/2550 - 10s - loss: 0.4884 - accuracy: 0.8299 - val_loss: 0.3912 - val_accuracy: 0.8572 - 10s/epoch - 4ms/step\n",
            "Epoch 2/30\n",
            "2550/2550 - 10s - loss: 0.3481 - accuracy: 0.8759 - val_loss: 0.3709 - val_accuracy: 0.8649 - 10s/epoch - 4ms/step\n",
            "Epoch 3/30\n",
            "2550/2550 - 10s - loss: 0.3028 - accuracy: 0.8912 - val_loss: 0.3444 - val_accuracy: 0.8746 - 10s/epoch - 4ms/step\n",
            "Epoch 4/30\n",
            "2550/2550 - 10s - loss: 0.2701 - accuracy: 0.9021 - val_loss: 0.3365 - val_accuracy: 0.8754 - 10s/epoch - 4ms/step\n",
            "Epoch 5/30\n",
            "2550/2550 - 10s - loss: 0.2443 - accuracy: 0.9115 - val_loss: 0.3504 - val_accuracy: 0.8731 - 10s/epoch - 4ms/step\n",
            "Epoch 6/30\n",
            "2550/2550 - 10s - loss: 0.2205 - accuracy: 0.9197 - val_loss: 0.3360 - val_accuracy: 0.8822 - 10s/epoch - 4ms/step\n",
            "Epoch 7/30\n",
            "2550/2550 - 10s - loss: 0.2001 - accuracy: 0.9268 - val_loss: 0.3395 - val_accuracy: 0.8804 - 10s/epoch - 4ms/step\n",
            "Epoch 8/30\n",
            "2550/2550 - 10s - loss: 0.1818 - accuracy: 0.9342 - val_loss: 0.3494 - val_accuracy: 0.8843 - 10s/epoch - 4ms/step\n",
            "Epoch 9/30\n",
            "2550/2550 - 10s - loss: 0.1642 - accuracy: 0.9407 - val_loss: 0.3767 - val_accuracy: 0.8719 - 10s/epoch - 4ms/step\n",
            "Epoch 10/30\n",
            "2550/2550 - 10s - loss: 0.1522 - accuracy: 0.9460 - val_loss: 0.3885 - val_accuracy: 0.8694 - 10s/epoch - 4ms/step\n",
            "Epoch 11/30\n",
            "2550/2550 - 10s - loss: 0.1340 - accuracy: 0.9512 - val_loss: 0.3623 - val_accuracy: 0.8842 - 10s/epoch - 4ms/step\n",
            "Epoch 00011: early stopping\n",
            "training ACC: 0.951151967048645\tvalidaton ACC :0.8841666579246521\n",
            "\n",
            "n_units per hidden layer = 300\n",
            "Epoch 1/30\n",
            "2550/2550 - 11s - loss: 0.4758 - accuracy: 0.8321 - val_loss: 0.3851 - val_accuracy: 0.8629 - 11s/epoch - 4ms/step\n",
            "Epoch 2/30\n",
            "2550/2550 - 10s - loss: 0.3478 - accuracy: 0.8761 - val_loss: 0.3674 - val_accuracy: 0.8633 - 10s/epoch - 4ms/step\n",
            "Epoch 3/30\n",
            "2550/2550 - 11s - loss: 0.3029 - accuracy: 0.8896 - val_loss: 0.3391 - val_accuracy: 0.8779 - 11s/epoch - 4ms/step\n",
            "Epoch 4/30\n",
            "2550/2550 - 10s - loss: 0.2712 - accuracy: 0.9017 - val_loss: 0.3314 - val_accuracy: 0.8772 - 10s/epoch - 4ms/step\n",
            "Epoch 5/30\n",
            "2550/2550 - 10s - loss: 0.2446 - accuracy: 0.9114 - val_loss: 0.3419 - val_accuracy: 0.8750 - 10s/epoch - 4ms/step\n",
            "Epoch 6/30\n",
            "2550/2550 - 10s - loss: 0.2224 - accuracy: 0.9187 - val_loss: 0.3327 - val_accuracy: 0.8804 - 10s/epoch - 4ms/step\n",
            "Epoch 7/30\n",
            "2550/2550 - 10s - loss: 0.2016 - accuracy: 0.9250 - val_loss: 0.3323 - val_accuracy: 0.8806 - 10s/epoch - 4ms/step\n",
            "Epoch 8/30\n",
            "2550/2550 - 11s - loss: 0.1835 - accuracy: 0.9324 - val_loss: 0.3513 - val_accuracy: 0.8814 - 11s/epoch - 4ms/step\n",
            "Epoch 9/30\n",
            "2550/2550 - 11s - loss: 0.1670 - accuracy: 0.9398 - val_loss: 0.3594 - val_accuracy: 0.8746 - 11s/epoch - 4ms/step\n",
            "Epoch 00009: early stopping\n",
            "training ACC: 0.9397794008255005\tvalidaton ACC :0.8745833039283752\n",
            "\n"
          ]
        }
      ],
      "source": [
        "# GridSearch over number of hidden layers and number of units per hidden layer\n",
        "\n",
        "n_layers = range(1, 5) # number of hidden layers\n",
        "n_units = [25, 50, 100, 150, 300] # number of neurons per hidden layer\n",
        "\n",
        "for n_l in n_layers:\n",
        "  print(f'num layers del NN= {n_l+2}') # input layer, n_l hidden layers, output layer\n",
        "  for n_u in n_units:\n",
        "    print('n_units per hidden layer =',n_u)\n",
        "    model = MLP_definer(num_features, num_classes, n_l, n_u, 'tanh', 'softmax')\n",
        "    hst = model.fit(X_train_scaled, y_train_cat, epochs=30, batch_size=16, validation_split=0.15, callbacks=es, verbose=2)\n",
        "    print(f'training ACC: {hst.history[\"accuracy\"][-1]}\\tvalidaton ACC :{hst.history[\"val_accuracy\"][-1]}\\n')"
      ]
    },
    {
      "cell_type": "code",
      "execution_count": 27,
      "metadata": {
        "colab": {
          "base_uri": "https://localhost:8080/"
        },
        "id": "4_41_nXcK-34",
        "outputId": "2db29239-5530-4784-bb15-9e30f326756a"
      },
      "outputs": [
        {
          "output_type": "stream",
          "name": "stdout",
          "text": [
            "Epoch 1/30\n",
            "2550/2550 - 10s - loss: 0.4751 - accuracy: 0.8331 - val_loss: 0.3956 - val_accuracy: 0.8587 - 10s/epoch - 4ms/step\n",
            "Epoch 2/30\n",
            "2550/2550 - 9s - loss: 0.3571 - accuracy: 0.8741 - val_loss: 0.3654 - val_accuracy: 0.8662 - 9s/epoch - 3ms/step\n",
            "Epoch 3/30\n",
            "2550/2550 - 9s - loss: 0.3163 - accuracy: 0.8884 - val_loss: 0.3497 - val_accuracy: 0.8758 - 9s/epoch - 3ms/step\n",
            "Epoch 4/30\n",
            "2550/2550 - 9s - loss: 0.2888 - accuracy: 0.8983 - val_loss: 0.3350 - val_accuracy: 0.8799 - 9s/epoch - 4ms/step\n",
            "Epoch 5/30\n",
            "2550/2550 - 9s - loss: 0.2657 - accuracy: 0.9059 - val_loss: 0.3444 - val_accuracy: 0.8753 - 9s/epoch - 3ms/step\n",
            "Epoch 6/30\n",
            "2550/2550 - 9s - loss: 0.2462 - accuracy: 0.9132 - val_loss: 0.3319 - val_accuracy: 0.8804 - 9s/epoch - 3ms/step\n",
            "Epoch 7/30\n",
            "2550/2550 - 9s - loss: 0.2278 - accuracy: 0.9198 - val_loss: 0.3298 - val_accuracy: 0.8819 - 9s/epoch - 4ms/step\n",
            "Epoch 8/30\n",
            "2550/2550 - 9s - loss: 0.2124 - accuracy: 0.9252 - val_loss: 0.3359 - val_accuracy: 0.8828 - 9s/epoch - 3ms/step\n",
            "Epoch 9/30\n",
            "2550/2550 - 9s - loss: 0.1980 - accuracy: 0.9315 - val_loss: 0.3335 - val_accuracy: 0.8818 - 9s/epoch - 4ms/step\n",
            "Epoch 10/30\n",
            "2550/2550 - 9s - loss: 0.1847 - accuracy: 0.9361 - val_loss: 0.3368 - val_accuracy: 0.8807 - 9s/epoch - 4ms/step\n",
            "Epoch 11/30\n",
            "2550/2550 - 9s - loss: 0.1706 - accuracy: 0.9418 - val_loss: 0.3292 - val_accuracy: 0.8843 - 9s/epoch - 3ms/step\n",
            "Epoch 12/30\n",
            "2550/2550 - 9s - loss: 0.1591 - accuracy: 0.9463 - val_loss: 0.3256 - val_accuracy: 0.8861 - 9s/epoch - 3ms/step\n",
            "Epoch 13/30\n",
            "2550/2550 - 9s - loss: 0.1486 - accuracy: 0.9500 - val_loss: 0.3303 - val_accuracy: 0.8861 - 9s/epoch - 3ms/step\n",
            "Epoch 14/30\n",
            "2550/2550 - 9s - loss: 0.1380 - accuracy: 0.9540 - val_loss: 0.3315 - val_accuracy: 0.8846 - 9s/epoch - 4ms/step\n",
            "Epoch 15/30\n",
            "2550/2550 - 9s - loss: 0.1276 - accuracy: 0.9570 - val_loss: 0.3317 - val_accuracy: 0.8867 - 9s/epoch - 4ms/step\n",
            "Epoch 16/30\n",
            "2550/2550 - 10s - loss: 0.1176 - accuracy: 0.9620 - val_loss: 0.3309 - val_accuracy: 0.8881 - 10s/epoch - 4ms/step\n",
            "Epoch 17/30\n",
            "2550/2550 - 9s - loss: 0.1097 - accuracy: 0.9646 - val_loss: 0.3272 - val_accuracy: 0.8915 - 9s/epoch - 4ms/step\n",
            "Epoch 00017: early stopping\n",
            "\n",
            "ACC on training set: 0.9645\n",
            "ACC on validation set: 0.8936666666666667\n",
            "ACC on test set: 0.884\n"
          ]
        }
      ],
      "source": [
        "# best model as shown by the GridSearch\n",
        "model = MLP_definer(num_features, num_classes, 1, 100, 'tanh', 'softmax')\n",
        "\n",
        "# fitting the model\n",
        "hst = model.fit(X_train_scaled, y_train_cat, epochs=30, batch_size=16, verbose=2, validation_split=0.15, callbacks=es)\n",
        "\n",
        "# let's evaluate performances on test set\n",
        "#test_results = model.evaluate(X_test_scaled, y_test_cat, verbose=1)\n",
        "#print(f'Test results - Loss: {test_results[0]} - Accuracy: {test_results[1]}%')\n",
        "\n",
        "y_train_pred = model.predict(X_train_scaled).argmax(axis = 1) \n",
        "y_val_pred = model.predict(X_val_scaled).argmax(axis = 1)\n",
        "y_test_pred = model.predict(X_test_scaled).argmax(axis = 1) \n",
        "\n",
        "print(f'\\nACC on training set: {accuracy_score(y_train, y_train_pred)}\\nACC on validation set: {accuracy_score(y_val, y_val_pred)}\\nACC on test set: {accuracy_score(y_test, y_test_pred)}')"
      ]
    },
    {
      "cell_type": "markdown",
      "metadata": {
        "id": "2GNuVrmK-l32"
      },
      "source": [
        "Turns out Neural Network is the best model so far, let's have a look at the related Confusion Matrix."
      ]
    },
    {
      "cell_type": "code",
      "execution_count": null,
      "metadata": {
        "colab": {
          "base_uri": "https://localhost:8080/",
          "height": 279
        },
        "id": "4nzlepDPuRXr",
        "outputId": "be32e971-88db-45a0-c6e0-4ec509d68e42"
      },
      "outputs": [
        {
          "output_type": "display_data",
          "data": {
            "image/png": "[encoded data removed]",
            "text/plain": [
              "<Figure size 432x288 with 2 Axes>"
            ]
          },
          "metadata": {
            "needs_background": "light"
          }
        }
      ],
      "source": [
        "y_test_pred = model.predict(X_test_scaled).argmax(axis = 1)\n",
        "cm = confusion_matrix(y_test, y_test_pred, labels=range(10))\n",
        "disp = ConfusionMatrixDisplay(confusion_matrix=cm, display_labels=range(10))\n",
        "disp.plot()\n",
        "plt.show()"
      ]
    },
    {
      "cell_type": "markdown",
      "metadata": {
        "id": "FnlUP564-1Aj"
      },
      "source": [
        "Let's also have a look at some of the misclassified examples."
      ]
    },
    {
      "cell_type": "code",
      "execution_count": null,
      "metadata": {
        "colab": {
          "base_uri": "https://localhost:8080/",
          "height": 169
        },
        "id": "BABd1tU2usO-",
        "outputId": "df32e568-38d0-4d8c-e98f-0ac8ee1f369a"
      },
      "outputs": [
        {
          "output_type": "display_data",
          "data": {
            "image/png": "[encoded data removed]",
            "text/plain": [
              "<Figure size 2016x360 with 9 Axes>"
            ]
          },
          "metadata": {
            "needs_background": "light"
          }
        }
      ],
      "source": [
        "indices = np.all([ (y_test==5), (y_test_pred==7) ], axis=0)\n",
        "_, axes = plt.subplots(nrows=1, ncols=9, figsize=(28, 5))\n",
        "for ax, image, label, pred_label in zip(axes, X_test[indices], y_test[indices], y_test_pred[indices]):\n",
        "    ax.set_axis_off()\n",
        "    ax.imshow(image.reshape(28,28), cmap=plt.cm.gray_r, interpolation=\"nearest\")\n",
        "    ax.set_title(f\"Test: {y_labels[label]}\\nPred: {y_labels[pred_label]}\")"
      ]
    },
    {
      "cell_type": "markdown",
      "metadata": {
        "id": "L3_-zBdt6Xe6"
      },
      "source": [
        "These errors I'd say are quite questionable, some of those sandals actually seem sneakers. These are errors we can tolerate.\n",
        "Let's have a look at the graphs for Accuracy and Loss of the model."
      ]
    },
    {
      "cell_type": "code",
      "execution_count": null,
      "metadata": {
        "colab": {
          "base_uri": "https://localhost:8080/",
          "height": 350
        },
        "id": "_mBWqsPsiz6b",
        "outputId": "d5cc537b-f596-47f1-8c00-fa2969fda3c1"
      },
      "outputs": [
        {
          "output_type": "display_data",
          "data": {
            "image/png": "[encoded data removed]",
            "text/plain": [
              "<Figure size 1440x360 with 2 Axes>"
            ]
          },
          "metadata": {
            "needs_background": "light"
          }
        }
      ],
      "source": [
        "plt.figure(figsize=(20, 5))\n",
        "\n",
        "# summarize history for accuracy\n",
        "plt.subplot(1,2,1)\n",
        "plt.plot(hst.history['accuracy'])\n",
        "plt.plot(hst.history['val_accuracy'])\n",
        "plt.title('model accuracy')\n",
        "plt.ylabel('accuracy')\n",
        "plt.xlabel('epoch')\n",
        "plt.legend(['train', 'val'], loc='upper left')\n",
        "\n",
        "# summarize history for loss\n",
        "plt.subplot(1,2,2)\n",
        "plt.plot(hst.history['loss'])\n",
        "plt.plot(hst.history['val_loss'])\n",
        "plt.title('model loss')\n",
        "plt.ylabel('loss')\n",
        "plt.xlabel('epoch')\n",
        "plt.legend(['train', 'val'], loc='upper left')\n",
        "\n",
        "plt.show()"
      ]
    },
    {
      "cell_type": "markdown",
      "metadata": {
        "id": "f7hSZi6-6FPh"
      },
      "source": [
        "Experimenting with even a larger number of epochs we see that Validation Accuracy keeps swinging around the same tresholds, whereas Validation Loss starts increasing after a while. Remove the Early Stopping to check it for yourself."
      ]
    },
    {
      "cell_type": "markdown",
      "metadata": {
        "id": "P6bJp3l_Ujri"
      },
      "source": [
        "# Dimensionality Reduction"
      ]
    },
    {
      "cell_type": "markdown",
      "metadata": {
        "id": "bnGtlidGxlt8"
      },
      "source": [
        "Let's try to get better scores via feature reduction. In particular we experimented with:\n",
        "\n",
        "1.   Principal Component Analysis\n",
        "2.   Histogram of Oriented Gradients"
      ]
    },
    {
      "cell_type": "markdown",
      "metadata": {
        "id": "YIHmJnPMXA2Y"
      },
      "source": [
        "# Principal Component Analysis\n",
        "\n",
        "Principal Component Analysis is a dimensionality reduction technique which uses Singular Value Decomposition of the training set matrix to reduce the number of features. We can specify how many components we want to keep.\n",
        "\n",
        "Additional information can be found [here](https://scikit-learn.org/stable/modules/decomposition.html#principal-component-analysis-pca)."
      ]
    },
    {
      "cell_type": "code",
      "execution_count": 18,
      "metadata": {
        "colab": {
          "base_uri": "https://localhost:8080/"
        },
        "id": "FPjJjGitTjMB",
        "outputId": "b88ee49c-1f3b-4025-a58e-ace9b1ec1880"
      },
      "outputs": [
        {
          "output_type": "stream",
          "name": "stdout",
          "text": [
            "number of features after PCA: 784 -> 150\n"
          ]
        }
      ],
      "source": [
        "n_feats = 150 # number of features after dimensionality reduction\n",
        "pca = PCA(n_components=n_feats, random_state=123)\n",
        "pca.fit(X_train)\n",
        "X_train_pca  = pca.transform(X_train)\n",
        "X_val_pca = pca.transform(X_val)\n",
        "X_test_pca = pca.transform(X_test)\n",
        "\n",
        "print(f'number of features after PCA: {X_train.shape[1]} -> {X_train_pca.shape[1]}')"
      ]
    },
    {
      "cell_type": "markdown",
      "metadata": {
        "id": "BYicldlRgUNd"
      },
      "source": [
        "Let's test again the previous models after having applied PCA."
      ]
    },
    {
      "cell_type": "markdown",
      "metadata": {
        "id": "aWUQUfecAzWR"
      },
      "source": [
        "## Decision Tree\n",
        "* running time ~ 1 minutes\n",
        "* running time gridsearch ~ 15 minutes"
      ]
    },
    {
      "cell_type": "code",
      "execution_count": null,
      "metadata": {
        "colab": {
          "base_uri": "https://localhost:8080/"
        },
        "id": "YJk7wcdXA0Wt",
        "outputId": "32301cd1-5bf3-45a0-d9c0-946405b721f2"
      },
      "outputs": [
        {
          "output_type": "stream",
          "name": "stdout",
          "text": [
            "\n",
            "ACC on training set: 0.8762291666666666\n",
            "ACC on validation set: 0.7879166666666667\n",
            "ACC on test set: 0.7853\n"
          ]
        }
      ],
      "source": [
        "from sklearn import tree\n",
        "\n",
        "# To use GridSearch un-comment the following 3 lines and comment \"tree = tree.Dec...\":\n",
        "\n",
        "# param_grid = {'max_depth': [6, 12, 60, 100], 'min_samples_leaf':[2, 3]}\n",
        "# tree_clf = tree.DecisionTreeClassifier(criterion='entropy', random_state=123)\n",
        "# tree = GridSearchCV(tree_clf, param_grid=param_grid, scoring='accuracy', cv=5, verbose=2)\n",
        "\n",
        "tree = tree.DecisionTreeClassifier(criterion='entropy', max_depth=12, min_samples_leaf=3, random_state=123)\n",
        "\n",
        "tree.fit(X_train_pca, y_train)\n",
        "\n",
        "y_train_pred = tree.predict(X_train_pca)\n",
        "y_val_pred = tree.predict(X_val_pca)\n",
        "y_test_pred = tree.predict(X_test_pca)\n",
        "\n",
        "print(f'\\nACC on training set: {accuracy_score(y_train, y_train_pred)}\\nACC on validation set: {accuracy_score(y_val, y_val_pred)}\\nACC on test set: {accuracy_score(y_test, y_test_pred)}')"
      ]
    },
    {
      "cell_type": "markdown",
      "metadata": {
        "id": "pw9Rny5fBH7l"
      },
      "source": [
        "## Random Forest\n",
        "* running time ~ 3 minutes\n",
        "* running time gridsearch ~ 20 minutes"
      ]
    },
    {
      "cell_type": "code",
      "execution_count": null,
      "metadata": {
        "colab": {
          "base_uri": "https://localhost:8080/"
        },
        "id": "9xuJlzEyBJV9",
        "outputId": "77df94a1-9341-4239-a36c-28b57826aa9f"
      },
      "outputs": [
        {
          "output_type": "stream",
          "name": "stdout",
          "text": [
            "\n",
            "ACC on training set: 0.9986458333333333\n",
            "ACC on validation set: 0.8645833333333334\n",
            "ACC on test set: 0.855\n"
          ]
        }
      ],
      "source": [
        "# To use GridSearch un-comment the following 3 lines and comment \"RF = RandomForestClass...\":\n",
        "\n",
        "# param_grid = {'n_estimators':[10, 50, 100], 'max_depth':[8, 20, 50], 'min_samples_leaf':[2,3]}\n",
        "# RF_clf = RandomForestClassifier(criterion='entropy', random_state=123)\n",
        "# RF = GridSearchCV(RF_clf, param_grid=param_grid, scoring='accuracy', cv=5, verbose=2)\n",
        "\n",
        "RF = RandomForestClassifier(criterion='entropy', n_estimators=50, max_depth=20, min_samples_leaf=2, random_state=123)\n",
        "\n",
        "RF.fit(X_train_pca, y_train)\n",
        "\n",
        "y_train_pred = RF.predict(X_train_pca)\n",
        "y_val_pred = RF.predict(X_val_pca)\n",
        "y_test_pred = RF.predict(X_test_pca)\n",
        "\n",
        "print(f'\\nACC on training set: {accuracy_score(y_train, y_train_pred)}\\nACC on validation set: {accuracy_score(y_val, y_val_pred)}\\nACC on test set: {accuracy_score(y_test, y_test_pred)}')"
      ]
    },
    {
      "cell_type": "markdown",
      "metadata": {
        "id": "LY2qDXYIrIFL"
      },
      "source": [
        "## k-Nearest-Neighbors\n",
        "* running time ~ 3 minutes\n",
        "* running time gridsearch ~ 11 minutes"
      ]
    },
    {
      "cell_type": "code",
      "execution_count": null,
      "metadata": {
        "colab": {
          "base_uri": "https://localhost:8080/"
        },
        "id": "BRdvNMUqrIal",
        "outputId": "5af0bdfd-e11f-485a-a651-de0434b159b4"
      },
      "outputs": [
        {
          "output_type": "stream",
          "name": "stdout",
          "text": [
            "\n",
            "ACC on training set: 1.0\n",
            "ACC on validation set: 0.86225\n",
            "ACC on test set: 0.8609\n"
          ]
        }
      ],
      "source": [
        "# To use GridSearch un-comment the following 3 lines and comment \"KNN = KNeighborsClass...\":\n",
        "\n",
        "# param_grid = {'n_neighbors' : [5, 10, 20, 50], 'weights' : ['uniform', 'distance']}\n",
        "# KNN_clf = KNeighborsClassifier(algorithm='auto', p=2, metric='minkowski', n_jobs=-1)\n",
        "# KNN = GridSearchCV(KNN_clf, param_grid=param_grid, scoring='accuracy', cv=5, verbose=2)\n",
        "\n",
        "KNN = KNeighborsClassifier(n_neighbors=5, weights='distance', algorithm='auto', p=2, metric='minkowski', n_jobs=-1)\n",
        "\n",
        "KNN.fit(X_train_pca, y_train)\n",
        "\n",
        "y_train_pred = KNN.predict(X_train_pca)\n",
        "y_val_pred = KNN.predict(X_val_pca)\n",
        "y_test_pred = KNN.predict(X_test_pca)\n",
        "\n",
        "print(f'\\nACC on training set: {accuracy_score(y_train, y_train_pred)}\\nACC on validation set: {accuracy_score(y_val, y_val_pred)}\\nACC on test set: {accuracy_score(y_test, y_test_pred)}')"
      ]
    },
    {
      "cell_type": "markdown",
      "metadata": {
        "id": "I4mG0H8tBdLD"
      },
      "source": [
        "Again, let us scale the data. We'll use a StandardScaler since it provides better results."
      ]
    },
    {
      "cell_type": "code",
      "execution_count": 19,
      "metadata": {
        "id": "abgmZ-2jWWyY"
      },
      "outputs": [],
      "source": [
        "#scaler_minmax = MinMaxScaler()\n",
        "scaler = StandardScaler()\n",
        "\n",
        "scaler.fit(X_train_pca)\n",
        "X_train_pca_scaled = scaler.transform(X_train_pca)\n",
        "X_val_pca_scaled = scaler.transform(X_val_pca)\n",
        "X_test_pca_scaled = scaler.transform(X_test_pca)"
      ]
    },
    {
      "cell_type": "markdown",
      "source": [
        "## Multinomial Logistic Regression\n",
        "* running time ~ 3 minutes\n",
        "* running time gridsearch ~ 1h and 10 minutes"
      ],
      "metadata": {
        "id": "wBC1IFsI2iwP"
      }
    },
    {
      "cell_type": "code",
      "source": [
        "# To use GridSearch un-comment the following 3 lines and comment \"LR = LogisticRegression...\":\n",
        "\n",
        "# param_grid = {'solver' : ['liblinear', 'saga'], 'C' : [0.1, 1, 10], 'penalty' : ['l1', 'l2']}\n",
        "# LR_clf = LogisticRegression(tol=0.001, fit_intercept=True, random_state=123, max_iter=100, multi_class='auto')\n",
        "# LR = GridSearchCV(LR_clf, param_grid=param_grid, scoring='accuracy', cv=5, verbose=2)\n",
        "\n",
        "LR = LogisticRegression(penalty='l2', C=10 ,tol=0.001, fit_intercept=True, random_state=123, solver='saga', max_iter=2000, multi_class='auto', verbose=3, n_jobs=-1)\n",
        "\n",
        "LR.fit(X_train_pca_scaled, y_train)\n",
        "\n",
        "y_train_pred = LR.predict(X_train_pca_scaled)\n",
        "y_val_pred = LR.predict(X_val_pca_scaled)\n",
        "y_test_pred = LR.predict(X_test_pca_scaled)\n",
        "\n",
        "print(f'\\nACC on training set: {accuracy_score(y_train, y_train_pred)}\\nACC on validation set: {accuracy_score(y_val, y_val_pred)}\\nACC on test set: {accuracy_score(y_test, y_test_pred)}')"
      ],
      "metadata": {
        "colab": {
          "base_uri": "https://localhost:8080/"
        },
        "id": "Nw6V0jh42jCm",
        "outputId": "c86d80aa-a963-4670-a2a5-a6ef47854a6f"
      },
      "execution_count": null,
      "outputs": [
        {
          "output_type": "stream",
          "name": "stderr",
          "text": [
            "[Parallel(n_jobs=-1)]: Using backend ThreadingBackend with 2 concurrent workers.\n"
          ]
        },
        {
          "output_type": "stream",
          "name": "stdout",
          "text": [
            "convergence after 284 epochs took 205 seconds\n",
            "\n",
            "ACC on training set: 0.8634583333333333\n",
            "ACC on validation set: 0.8578333333333333\n",
            "ACC on test set: 0.8428\n"
          ]
        },
        {
          "output_type": "stream",
          "name": "stderr",
          "text": [
            "[Parallel(n_jobs=-1)]: Done   1 out of   1 | elapsed:  3.4min finished\n"
          ]
        }
      ]
    },
    {
      "cell_type": "markdown",
      "metadata": {
        "id": "7_NPEKX7BQIO"
      },
      "source": [
        "## Support Vector Machine\n",
        "* running time ~ 7 minutes\n",
        "* running time gridsearch ~ longer than 2 hours. Aborted."
      ]
    },
    {
      "cell_type": "code",
      "execution_count": null,
      "metadata": {
        "id": "1zC5X8IyBRsO",
        "colab": {
          "base_uri": "https://localhost:8080/"
        },
        "outputId": "1d94b7a0-f063-435b-d647-94bea1880e4e"
      },
      "outputs": [
        {
          "output_type": "stream",
          "name": "stdout",
          "text": [
            "\n",
            "ACC on training set: 0.9988125\n",
            "ACC on validation set: 0.8995833333333333\n",
            "ACC on test set: 0.8957\n"
          ]
        }
      ],
      "source": [
        "# We tried GridSearch with the following parameters grid, but we had to stop because it was taking longer than 2 hours\n",
        "# param_grid = {'C':[0.1, 1, 10], 'kernel':['linear', 'poly', 'rbf'], 'degree':[2,3]}\n",
        "# svm_clf = SVC(tol=0.001, cache_size=2000, random_state=123)\n",
        "# svm = GridSearchCV(svm_clf, param_grid=param_grid, scoring='accuracy', cv=5, verbose=2)\n",
        "\n",
        "svm = SVC(C=10, kernel='rbf', tol=0.001, cache_size=4000, random_state=123)\n",
        "\n",
        "svm.fit(X_train_pca_scaled, y_train)\n",
        "\n",
        "y_train_pred = svm.predict(X_train_pca_scaled)\n",
        "y_val_pred = svm.predict(X_val_pca_scaled)\n",
        "y_test_pred = svm.predict(X_test_pca_scaled)\n",
        "\n",
        "print(f'\\nACC on training set: {accuracy_score(y_train, y_train_pred)}\\nACC on validation set: {accuracy_score(y_val, y_val_pred)}\\nACC on test set: {accuracy_score(y_test, y_test_pred)}')"
      ]
    },
    {
      "cell_type": "markdown",
      "source": [
        "These are the best scores we obtained so far! SVM outperformed Neural Networks.\n",
        "Let's have a look at the confusion matrix of the model."
      ],
      "metadata": {
        "id": "CAYNFr51ZkS9"
      }
    },
    {
      "cell_type": "code",
      "source": [
        "cm = confusion_matrix(y_test, y_test_pred, labels=range(10))\n",
        "disp = ConfusionMatrixDisplay(confusion_matrix=cm, display_labels=range(10))\n",
        "disp.plot()\n",
        "plt.show()"
      ],
      "metadata": {
        "colab": {
          "base_uri": "https://localhost:8080/",
          "height": 279
        },
        "id": "oQ4gl7-NIB2K",
        "outputId": "c45072ba-aeae-4698-d18c-31fcf8c3b4c2"
      },
      "execution_count": null,
      "outputs": [
        {
          "output_type": "display_data",
          "data": {
            "image/png": "[encoded data removed]",
            "text/plain": [
              "<Figure size 432x288 with 2 Axes>"
            ]
          },
          "metadata": {
            "needs_background": "light"
          }
        }
      ]
    },
    {
      "cell_type": "markdown",
      "source": [
        "Let's also have a look at some of the misclassified examples."
      ],
      "metadata": {
        "id": "3QBokruUskMX"
      }
    },
    {
      "cell_type": "code",
      "source": [
        "indices = np.all([ (y_test==5), (y_test_pred==7) ], axis=0)\n",
        "_, axes = plt.subplots(nrows=1, ncols=9, figsize=(28, 5))\n",
        "for ax, image, label, pred_label in zip(axes, X_test[indices], y_test[indices], y_test_pred[indices]):\n",
        "    ax.set_axis_off()\n",
        "    ax.imshow(image.reshape(28,28), cmap=plt.cm.gray_r, interpolation=\"nearest\")\n",
        "    ax.set_title(f\"Test: {y_labels[label]}\\nPred: {y_labels[pred_label]}\")"
      ],
      "metadata": {
        "colab": {
          "base_uri": "https://localhost:8080/",
          "height": 169
        },
        "id": "19bjcu3FsivW",
        "outputId": "7b3953f4-4933-4b40-a3f6-56d94e15f897"
      },
      "execution_count": null,
      "outputs": [
        {
          "output_type": "display_data",
          "data": {
            "image/png": "[encoded data removed]",
            "text/plain": [
              "<Figure size 2016x360 with 9 Axes>"
            ]
          },
          "metadata": {
            "needs_background": "light"
          }
        }
      ]
    },
    {
      "cell_type": "markdown",
      "source": [
        "Again, these errors are quite questionable. These are errors we can tolerate."
      ],
      "metadata": {
        "id": "QS5EDUGnZ2p3"
      }
    },
    {
      "cell_type": "markdown",
      "metadata": {
        "id": "YqxvLeXWBfcJ"
      },
      "source": [
        "## Neural Network\n",
        "* running time ~ 4 minutes\n",
        "* running time gridsearch ~ 40 minutes"
      ]
    },
    {
      "cell_type": "code",
      "source": [
        "#needed parameter for the model\n",
        "num_features = X_train_pca.shape[1]"
      ],
      "metadata": {
        "id": "fYrZbjtTxfsC"
      },
      "execution_count": 20,
      "outputs": []
    },
    {
      "cell_type": "code",
      "execution_count": null,
      "metadata": {
        "colab": {
          "base_uri": "https://localhost:8080/"
        },
        "id": "xXMqZd9OUAZy",
        "outputId": "1cfbb8c8-9c9d-4945-b59e-9afc056a7f50"
      },
      "outputs": [
        {
          "output_type": "stream",
          "name": "stdout",
          "text": [
            "num layers del NN= 3\n",
            "n_units per hidden layer = 25\n",
            "Epoch 1/30\n",
            "2550/2550 - 8s - loss: 0.8716 - accuracy: 0.7409 - val_loss: 0.5103 - val_accuracy: 0.8335 - 8s/epoch - 3ms/step\n",
            "Epoch 2/30\n",
            "2550/2550 - 7s - loss: 0.4591 - accuracy: 0.8454 - val_loss: 0.4473 - val_accuracy: 0.8467 - 7s/epoch - 3ms/step\n",
            "Epoch 3/30\n",
            "2550/2550 - 7s - loss: 0.4104 - accuracy: 0.8578 - val_loss: 0.4251 - val_accuracy: 0.8515 - 7s/epoch - 3ms/step\n",
            "Epoch 4/30\n",
            "2550/2550 - 7s - loss: 0.3814 - accuracy: 0.8666 - val_loss: 0.4119 - val_accuracy: 0.8519 - 7s/epoch - 3ms/step\n",
            "Epoch 5/30\n",
            "2550/2550 - 7s - loss: 0.3596 - accuracy: 0.8741 - val_loss: 0.4019 - val_accuracy: 0.8546 - 7s/epoch - 3ms/step\n",
            "Epoch 6/30\n",
            "2550/2550 - 7s - loss: 0.3408 - accuracy: 0.8808 - val_loss: 0.3948 - val_accuracy: 0.8576 - 7s/epoch - 3ms/step\n",
            "Epoch 7/30\n",
            "2550/2550 - 7s - loss: 0.3248 - accuracy: 0.8861 - val_loss: 0.3886 - val_accuracy: 0.8600 - 7s/epoch - 3ms/step\n",
            "Epoch 8/30\n",
            "2550/2550 - 7s - loss: 0.3103 - accuracy: 0.8909 - val_loss: 0.3830 - val_accuracy: 0.8626 - 7s/epoch - 3ms/step\n",
            "Epoch 9/30\n",
            "2550/2550 - 7s - loss: 0.2968 - accuracy: 0.8971 - val_loss: 0.3827 - val_accuracy: 0.8647 - 7s/epoch - 3ms/step\n",
            "Epoch 10/30\n",
            "2550/2550 - 7s - loss: 0.2838 - accuracy: 0.9015 - val_loss: 0.3830 - val_accuracy: 0.8636 - 7s/epoch - 3ms/step\n",
            "Epoch 11/30\n",
            "2550/2550 - 7s - loss: 0.2722 - accuracy: 0.9057 - val_loss: 0.3769 - val_accuracy: 0.8637 - 7s/epoch - 3ms/step\n",
            "Epoch 12/30\n",
            "2550/2550 - 7s - loss: 0.2604 - accuracy: 0.9108 - val_loss: 0.3763 - val_accuracy: 0.8676 - 7s/epoch - 3ms/step\n",
            "Epoch 13/30\n",
            "2550/2550 - 7s - loss: 0.2500 - accuracy: 0.9142 - val_loss: 0.3726 - val_accuracy: 0.8664 - 7s/epoch - 3ms/step\n",
            "Epoch 14/30\n",
            "2550/2550 - 7s - loss: 0.2392 - accuracy: 0.9182 - val_loss: 0.3762 - val_accuracy: 0.8664 - 7s/epoch - 3ms/step\n",
            "Epoch 15/30\n",
            "2550/2550 - 7s - loss: 0.2290 - accuracy: 0.9218 - val_loss: 0.3775 - val_accuracy: 0.8690 - 7s/epoch - 3ms/step\n",
            "Epoch 16/30\n",
            "2550/2550 - 7s - loss: 0.2193 - accuracy: 0.9274 - val_loss: 0.3771 - val_accuracy: 0.8656 - 7s/epoch - 3ms/step\n",
            "Epoch 17/30\n",
            "2550/2550 - 7s - loss: 0.2097 - accuracy: 0.9300 - val_loss: 0.3795 - val_accuracy: 0.8668 - 7s/epoch - 3ms/step\n",
            "Epoch 18/30\n",
            "2550/2550 - 7s - loss: 0.1999 - accuracy: 0.9344 - val_loss: 0.3823 - val_accuracy: 0.8692 - 7s/epoch - 3ms/step\n",
            "Epoch 00018: early stopping\n",
            "training ACC: 0.9344362616539001\tvalidaton ACC :0.8691666722297668\n",
            "\n",
            "n_units per hidden layer = 50\n",
            "Epoch 1/30\n",
            "2550/2550 - 8s - loss: 0.7993 - accuracy: 0.7549 - val_loss: 0.4851 - val_accuracy: 0.8371 - 8s/epoch - 3ms/step\n",
            "Epoch 2/30\n",
            "2550/2550 - 7s - loss: 0.4428 - accuracy: 0.8474 - val_loss: 0.4342 - val_accuracy: 0.8490 - 7s/epoch - 3ms/step\n",
            "Epoch 3/30\n",
            "2550/2550 - 7s - loss: 0.4012 - accuracy: 0.8597 - val_loss: 0.4158 - val_accuracy: 0.8528 - 7s/epoch - 3ms/step\n",
            "Epoch 4/30\n",
            "2550/2550 - 7s - loss: 0.3748 - accuracy: 0.8689 - val_loss: 0.4054 - val_accuracy: 0.8550 - 7s/epoch - 3ms/step\n",
            "Epoch 5/30\n",
            "2550/2550 - 7s - loss: 0.3536 - accuracy: 0.8750 - val_loss: 0.3968 - val_accuracy: 0.8585 - 7s/epoch - 3ms/step\n",
            "Epoch 6/30\n",
            "2550/2550 - 7s - loss: 0.3349 - accuracy: 0.8829 - val_loss: 0.3896 - val_accuracy: 0.8604 - 7s/epoch - 3ms/step\n",
            "Epoch 7/30\n",
            "2550/2550 - 7s - loss: 0.3175 - accuracy: 0.8891 - val_loss: 0.3819 - val_accuracy: 0.8651 - 7s/epoch - 3ms/step\n",
            "Epoch 8/30\n",
            "2550/2550 - 7s - loss: 0.3021 - accuracy: 0.8934 - val_loss: 0.3780 - val_accuracy: 0.8647 - 7s/epoch - 3ms/step\n",
            "Epoch 9/30\n",
            "2550/2550 - 7s - loss: 0.2875 - accuracy: 0.8994 - val_loss: 0.3754 - val_accuracy: 0.8683 - 7s/epoch - 3ms/step\n",
            "Epoch 10/30\n",
            "2550/2550 - 7s - loss: 0.2736 - accuracy: 0.9051 - val_loss: 0.3727 - val_accuracy: 0.8660 - 7s/epoch - 3ms/step\n",
            "Epoch 11/30\n",
            "2550/2550 - 7s - loss: 0.2608 - accuracy: 0.9097 - val_loss: 0.3685 - val_accuracy: 0.8690 - 7s/epoch - 3ms/step\n",
            "Epoch 12/30\n",
            "2550/2550 - 7s - loss: 0.2481 - accuracy: 0.9154 - val_loss: 0.3673 - val_accuracy: 0.8697 - 7s/epoch - 3ms/step\n",
            "Epoch 13/30\n",
            "2550/2550 - 7s - loss: 0.2367 - accuracy: 0.9198 - val_loss: 0.3634 - val_accuracy: 0.8697 - 7s/epoch - 3ms/step\n",
            "Epoch 14/30\n",
            "2550/2550 - 7s - loss: 0.2251 - accuracy: 0.9237 - val_loss: 0.3648 - val_accuracy: 0.8700 - 7s/epoch - 3ms/step\n",
            "Epoch 15/30\n",
            "2550/2550 - 7s - loss: 0.2143 - accuracy: 0.9273 - val_loss: 0.3656 - val_accuracy: 0.8721 - 7s/epoch - 3ms/step\n",
            "Epoch 16/30\n",
            "2550/2550 - 7s - loss: 0.2040 - accuracy: 0.9323 - val_loss: 0.3690 - val_accuracy: 0.8707 - 7s/epoch - 3ms/step\n",
            "Epoch 17/30\n",
            "2550/2550 - 7s - loss: 0.1939 - accuracy: 0.9362 - val_loss: 0.3703 - val_accuracy: 0.8689 - 7s/epoch - 3ms/step\n",
            "Epoch 18/30\n",
            "2550/2550 - 7s - loss: 0.1837 - accuracy: 0.9409 - val_loss: 0.3700 - val_accuracy: 0.8726 - 7s/epoch - 3ms/step\n",
            "Epoch 00018: early stopping\n",
            "training ACC: 0.9408823251724243\tvalidaton ACC :0.8726388812065125\n",
            "\n",
            "n_units per hidden layer = 100\n",
            "Epoch 1/30\n",
            "2550/2550 - 8s - loss: 0.7781 - accuracy: 0.7615 - val_loss: 0.4809 - val_accuracy: 0.8379 - 8s/epoch - 3ms/step\n",
            "Epoch 2/30\n",
            "2550/2550 - 7s - loss: 0.4376 - accuracy: 0.8493 - val_loss: 0.4336 - val_accuracy: 0.8518 - 7s/epoch - 3ms/step\n",
            "Epoch 3/30\n",
            "2550/2550 - 7s - loss: 0.3978 - accuracy: 0.8614 - val_loss: 0.4160 - val_accuracy: 0.8579 - 7s/epoch - 3ms/step\n",
            "Epoch 4/30\n",
            "2550/2550 - 7s - loss: 0.3719 - accuracy: 0.8702 - val_loss: 0.4042 - val_accuracy: 0.8586 - 7s/epoch - 3ms/step\n",
            "Epoch 5/30\n",
            "2550/2550 - 8s - loss: 0.3507 - accuracy: 0.8765 - val_loss: 0.3973 - val_accuracy: 0.8618 - 8s/epoch - 3ms/step\n",
            "Epoch 6/30\n",
            "2550/2550 - 8s - loss: 0.3321 - accuracy: 0.8833 - val_loss: 0.3880 - val_accuracy: 0.8656 - 8s/epoch - 3ms/step\n",
            "Epoch 7/30\n",
            "2550/2550 - 7s - loss: 0.3147 - accuracy: 0.8897 - val_loss: 0.3810 - val_accuracy: 0.8679 - 7s/epoch - 3ms/step\n",
            "Epoch 8/30\n",
            "2550/2550 - 7s - loss: 0.2992 - accuracy: 0.8950 - val_loss: 0.3762 - val_accuracy: 0.8696 - 7s/epoch - 3ms/step\n",
            "Epoch 9/30\n",
            "2550/2550 - 7s - loss: 0.2842 - accuracy: 0.9004 - val_loss: 0.3737 - val_accuracy: 0.8703 - 7s/epoch - 3ms/step\n",
            "Epoch 10/30\n",
            "2550/2550 - 7s - loss: 0.2695 - accuracy: 0.9061 - val_loss: 0.3706 - val_accuracy: 0.8715 - 7s/epoch - 3ms/step\n",
            "Epoch 11/30\n",
            "2550/2550 - 7s - loss: 0.2559 - accuracy: 0.9114 - val_loss: 0.3638 - val_accuracy: 0.8726 - 7s/epoch - 3ms/step\n",
            "Epoch 12/30\n",
            "2550/2550 - 7s - loss: 0.2426 - accuracy: 0.9171 - val_loss: 0.3633 - val_accuracy: 0.8714 - 7s/epoch - 3ms/step\n",
            "Epoch 13/30\n",
            "2550/2550 - 7s - loss: 0.2300 - accuracy: 0.9224 - val_loss: 0.3600 - val_accuracy: 0.8726 - 7s/epoch - 3ms/step\n",
            "Epoch 14/30\n",
            "2550/2550 - 7s - loss: 0.2172 - accuracy: 0.9270 - val_loss: 0.3598 - val_accuracy: 0.8750 - 7s/epoch - 3ms/step\n",
            "Epoch 15/30\n",
            "2550/2550 - 7s - loss: 0.2053 - accuracy: 0.9316 - val_loss: 0.3627 - val_accuracy: 0.8744 - 7s/epoch - 3ms/step\n",
            "Epoch 16/30\n",
            "2550/2550 - 7s - loss: 0.1942 - accuracy: 0.9364 - val_loss: 0.3629 - val_accuracy: 0.8732 - 7s/epoch - 3ms/step\n",
            "Epoch 17/30\n",
            "2550/2550 - 7s - loss: 0.1829 - accuracy: 0.9397 - val_loss: 0.3654 - val_accuracy: 0.8735 - 7s/epoch - 3ms/step\n",
            "Epoch 18/30\n",
            "2550/2550 - 7s - loss: 0.1722 - accuracy: 0.9452 - val_loss: 0.3660 - val_accuracy: 0.8724 - 7s/epoch - 3ms/step\n",
            "Epoch 19/30\n",
            "2550/2550 - 7s - loss: 0.1618 - accuracy: 0.9485 - val_loss: 0.3739 - val_accuracy: 0.8710 - 7s/epoch - 3ms/step\n",
            "Epoch 00019: early stopping\n",
            "training ACC: 0.9485294222831726\tvalidaton ACC :0.870972216129303\n",
            "\n",
            "n_units per hidden layer = 150\n",
            "Epoch 1/30\n",
            "2550/2550 - 8s - loss: 0.7537 - accuracy: 0.7671 - val_loss: 0.4721 - val_accuracy: 0.8411 - 8s/epoch - 3ms/step\n",
            "Epoch 2/30\n",
            "2550/2550 - 7s - loss: 0.4353 - accuracy: 0.8486 - val_loss: 0.4286 - val_accuracy: 0.8525 - 7s/epoch - 3ms/step\n",
            "Epoch 3/30\n",
            "2550/2550 - 7s - loss: 0.3979 - accuracy: 0.8608 - val_loss: 0.4131 - val_accuracy: 0.8569 - 7s/epoch - 3ms/step\n",
            "Epoch 4/30\n",
            "2550/2550 - 7s - loss: 0.3732 - accuracy: 0.8681 - val_loss: 0.4042 - val_accuracy: 0.8571 - 7s/epoch - 3ms/step\n",
            "Epoch 5/30\n",
            "2550/2550 - 7s - loss: 0.3524 - accuracy: 0.8758 - val_loss: 0.3956 - val_accuracy: 0.8597 - 7s/epoch - 3ms/step\n",
            "Epoch 6/30\n",
            "2550/2550 - 7s - loss: 0.3340 - accuracy: 0.8822 - val_loss: 0.3863 - val_accuracy: 0.8637 - 7s/epoch - 3ms/step\n",
            "Epoch 7/30\n",
            "2550/2550 - 7s - loss: 0.3166 - accuracy: 0.8878 - val_loss: 0.3811 - val_accuracy: 0.8675 - 7s/epoch - 3ms/step\n",
            "Epoch 8/30\n",
            "2550/2550 - 7s - loss: 0.3008 - accuracy: 0.8942 - val_loss: 0.3755 - val_accuracy: 0.8676 - 7s/epoch - 3ms/step\n",
            "Epoch 9/30\n",
            "2550/2550 - 7s - loss: 0.2852 - accuracy: 0.8995 - val_loss: 0.3725 - val_accuracy: 0.8707 - 7s/epoch - 3ms/step\n",
            "Epoch 10/30\n",
            "2550/2550 - 7s - loss: 0.2702 - accuracy: 0.9063 - val_loss: 0.3689 - val_accuracy: 0.8699 - 7s/epoch - 3ms/step\n",
            "Epoch 11/30\n",
            "2550/2550 - 7s - loss: 0.2564 - accuracy: 0.9111 - val_loss: 0.3616 - val_accuracy: 0.8714 - 7s/epoch - 3ms/step\n",
            "Epoch 12/30\n",
            "2550/2550 - 7s - loss: 0.2423 - accuracy: 0.9173 - val_loss: 0.3601 - val_accuracy: 0.8756 - 7s/epoch - 3ms/step\n",
            "Epoch 13/30\n",
            "2550/2550 - 7s - loss: 0.2297 - accuracy: 0.9208 - val_loss: 0.3563 - val_accuracy: 0.8733 - 7s/epoch - 3ms/step\n",
            "Epoch 14/30\n",
            "2550/2550 - 7s - loss: 0.2165 - accuracy: 0.9268 - val_loss: 0.3590 - val_accuracy: 0.8735 - 7s/epoch - 3ms/step\n",
            "Epoch 15/30\n",
            "2550/2550 - 7s - loss: 0.2047 - accuracy: 0.9306 - val_loss: 0.3616 - val_accuracy: 0.8747 - 7s/epoch - 3ms/step\n",
            "Epoch 16/30\n",
            "2550/2550 - 7s - loss: 0.1930 - accuracy: 0.9356 - val_loss: 0.3599 - val_accuracy: 0.8774 - 7s/epoch - 3ms/step\n",
            "Epoch 17/30\n",
            "2550/2550 - 7s - loss: 0.1823 - accuracy: 0.9391 - val_loss: 0.3610 - val_accuracy: 0.8758 - 7s/epoch - 3ms/step\n",
            "Epoch 18/30\n",
            "2550/2550 - 7s - loss: 0.1715 - accuracy: 0.9438 - val_loss: 0.3626 - val_accuracy: 0.8756 - 7s/epoch - 3ms/step\n",
            "Epoch 00018: early stopping\n",
            "training ACC: 0.943823516368866\tvalidaton ACC :0.8755555748939514\n",
            "\n",
            "n_units per hidden layer = 300\n",
            "Epoch 1/30\n",
            "2550/2550 - 8s - loss: 0.7349 - accuracy: 0.7719 - val_loss: 0.4712 - val_accuracy: 0.8410 - 8s/epoch - 3ms/step\n",
            "Epoch 2/30\n",
            "2550/2550 - 7s - loss: 0.4333 - accuracy: 0.8475 - val_loss: 0.4300 - val_accuracy: 0.8496 - 7s/epoch - 3ms/step\n",
            "Epoch 3/30\n",
            "2550/2550 - 7s - loss: 0.3994 - accuracy: 0.8584 - val_loss: 0.4151 - val_accuracy: 0.8572 - 7s/epoch - 3ms/step\n",
            "Epoch 4/30\n",
            "2550/2550 - 7s - loss: 0.3762 - accuracy: 0.8664 - val_loss: 0.4065 - val_accuracy: 0.8557 - 7s/epoch - 3ms/step\n",
            "Epoch 5/30\n",
            "2550/2550 - 7s - loss: 0.3568 - accuracy: 0.8734 - val_loss: 0.3988 - val_accuracy: 0.8587 - 7s/epoch - 3ms/step\n",
            "Epoch 6/30\n",
            "2550/2550 - 7s - loss: 0.3386 - accuracy: 0.8798 - val_loss: 0.3928 - val_accuracy: 0.8614 - 7s/epoch - 3ms/step\n",
            "Epoch 7/30\n",
            "2550/2550 - 7s - loss: 0.3214 - accuracy: 0.8856 - val_loss: 0.3857 - val_accuracy: 0.8669 - 7s/epoch - 3ms/step\n",
            "Epoch 8/30\n",
            "2550/2550 - 7s - loss: 0.3056 - accuracy: 0.8913 - val_loss: 0.3825 - val_accuracy: 0.8669 - 7s/epoch - 3ms/step\n",
            "Epoch 9/30\n",
            "2550/2550 - 8s - loss: 0.2897 - accuracy: 0.8974 - val_loss: 0.3808 - val_accuracy: 0.8678 - 8s/epoch - 3ms/step\n",
            "Epoch 10/30\n",
            "2550/2550 - 7s - loss: 0.2744 - accuracy: 0.9044 - val_loss: 0.3810 - val_accuracy: 0.8682 - 7s/epoch - 3ms/step\n",
            "Epoch 11/30\n",
            "2550/2550 - 7s - loss: 0.2606 - accuracy: 0.9088 - val_loss: 0.3744 - val_accuracy: 0.8668 - 7s/epoch - 3ms/step\n",
            "Epoch 12/30\n",
            "2550/2550 - 7s - loss: 0.2460 - accuracy: 0.9136 - val_loss: 0.3753 - val_accuracy: 0.8703 - 7s/epoch - 3ms/step\n",
            "Epoch 13/30\n",
            "2550/2550 - 7s - loss: 0.2334 - accuracy: 0.9189 - val_loss: 0.3721 - val_accuracy: 0.8718 - 7s/epoch - 3ms/step\n",
            "Epoch 14/30\n",
            "2550/2550 - 7s - loss: 0.2195 - accuracy: 0.9243 - val_loss: 0.3758 - val_accuracy: 0.8686 - 7s/epoch - 3ms/step\n",
            "Epoch 15/30\n",
            "2550/2550 - 7s - loss: 0.2075 - accuracy: 0.9289 - val_loss: 0.3783 - val_accuracy: 0.8696 - 7s/epoch - 3ms/step\n",
            "Epoch 16/30\n",
            "2550/2550 - 7s - loss: 0.1954 - accuracy: 0.9341 - val_loss: 0.3823 - val_accuracy: 0.8696 - 7s/epoch - 3ms/step\n",
            "Epoch 17/30\n",
            "2550/2550 - 7s - loss: 0.1840 - accuracy: 0.9380 - val_loss: 0.3843 - val_accuracy: 0.8679 - 7s/epoch - 3ms/step\n",
            "Epoch 18/30\n",
            "2550/2550 - 7s - loss: 0.1724 - accuracy: 0.9432 - val_loss: 0.3889 - val_accuracy: 0.8696 - 7s/epoch - 3ms/step\n",
            "Epoch 00018: early stopping\n",
            "training ACC: 0.9431617856025696\tvalidaton ACC :0.8695833086967468\n",
            "\n",
            "num layers del NN= 4\n",
            "n_units per hidden layer = 25\n",
            "Epoch 1/30\n",
            "2550/2550 - 8s - loss: 0.9142 - accuracy: 0.7287 - val_loss: 0.5134 - val_accuracy: 0.8293 - 8s/epoch - 3ms/step\n",
            "Epoch 2/30\n",
            "2550/2550 - 7s - loss: 0.4615 - accuracy: 0.8429 - val_loss: 0.4420 - val_accuracy: 0.8432 - 7s/epoch - 3ms/step\n",
            "Epoch 3/30\n",
            "2550/2550 - 7s - loss: 0.4075 - accuracy: 0.8579 - val_loss: 0.4193 - val_accuracy: 0.8499 - 7s/epoch - 3ms/step\n",
            "Epoch 4/30\n",
            "2550/2550 - 7s - loss: 0.3742 - accuracy: 0.8692 - val_loss: 0.4048 - val_accuracy: 0.8547 - 7s/epoch - 3ms/step\n",
            "Epoch 5/30\n",
            "2550/2550 - 7s - loss: 0.3489 - accuracy: 0.8767 - val_loss: 0.3973 - val_accuracy: 0.8567 - 7s/epoch - 3ms/step\n",
            "Epoch 6/30\n",
            "2550/2550 - 7s - loss: 0.3274 - accuracy: 0.8865 - val_loss: 0.3907 - val_accuracy: 0.8590 - 7s/epoch - 3ms/step\n",
            "Epoch 7/30\n",
            "2550/2550 - 7s - loss: 0.3081 - accuracy: 0.8926 - val_loss: 0.3879 - val_accuracy: 0.8586 - 7s/epoch - 3ms/step\n",
            "Epoch 8/30\n",
            "2550/2550 - 7s - loss: 0.2921 - accuracy: 0.8971 - val_loss: 0.3822 - val_accuracy: 0.8644 - 7s/epoch - 3ms/step\n",
            "Epoch 9/30\n",
            "2550/2550 - 8s - loss: 0.2764 - accuracy: 0.9033 - val_loss: 0.3848 - val_accuracy: 0.8654 - 8s/epoch - 3ms/step\n",
            "Epoch 10/30\n",
            "2550/2550 - 8s - loss: 0.2616 - accuracy: 0.9080 - val_loss: 0.3873 - val_accuracy: 0.8639 - 8s/epoch - 3ms/step\n",
            "Epoch 11/30\n",
            "2550/2550 - 7s - loss: 0.2485 - accuracy: 0.9132 - val_loss: 0.3828 - val_accuracy: 0.8640 - 7s/epoch - 3ms/step\n",
            "Epoch 12/30\n",
            "2550/2550 - 7s - loss: 0.2351 - accuracy: 0.9192 - val_loss: 0.3891 - val_accuracy: 0.8668 - 7s/epoch - 3ms/step\n",
            "Epoch 13/30\n",
            "2550/2550 - 8s - loss: 0.2231 - accuracy: 0.9234 - val_loss: 0.3881 - val_accuracy: 0.8671 - 8s/epoch - 3ms/step\n",
            "Epoch 00013: early stopping\n",
            "training ACC: 0.923431396484375\tvalidaton ACC :0.8670833110809326\n",
            "\n",
            "n_units per hidden layer = 50\n",
            "Epoch 1/30\n",
            "2550/2550 - 8s - loss: 0.8269 - accuracy: 0.7431 - val_loss: 0.4760 - val_accuracy: 0.8383 - 8s/epoch - 3ms/step\n",
            "Epoch 2/30\n",
            "2550/2550 - 8s - loss: 0.4320 - accuracy: 0.8497 - val_loss: 0.4241 - val_accuracy: 0.8510 - 8s/epoch - 3ms/step\n",
            "Epoch 3/30\n",
            "2550/2550 - 7s - loss: 0.3861 - accuracy: 0.8637 - val_loss: 0.4048 - val_accuracy: 0.8560 - 7s/epoch - 3ms/step\n",
            "Epoch 4/30\n",
            "2550/2550 - 7s - loss: 0.3557 - accuracy: 0.8745 - val_loss: 0.3944 - val_accuracy: 0.8583 - 7s/epoch - 3ms/step\n",
            "Epoch 5/30\n",
            "2550/2550 - 7s - loss: 0.3314 - accuracy: 0.8834 - val_loss: 0.3858 - val_accuracy: 0.8624 - 7s/epoch - 3ms/step\n",
            "Epoch 6/30\n",
            "2550/2550 - 8s - loss: 0.3106 - accuracy: 0.8898 - val_loss: 0.3792 - val_accuracy: 0.8654 - 8s/epoch - 3ms/step\n",
            "Epoch 7/30\n",
            "2550/2550 - 7s - loss: 0.2913 - accuracy: 0.8964 - val_loss: 0.3754 - val_accuracy: 0.8665 - 7s/epoch - 3ms/step\n",
            "Epoch 8/30\n",
            "2550/2550 - 8s - loss: 0.2749 - accuracy: 0.9027 - val_loss: 0.3747 - val_accuracy: 0.8657 - 8s/epoch - 3ms/step\n",
            "Epoch 9/30\n",
            "2550/2550 - 8s - loss: 0.2589 - accuracy: 0.9087 - val_loss: 0.3720 - val_accuracy: 0.8699 - 8s/epoch - 3ms/step\n",
            "Epoch 10/30\n",
            "2550/2550 - 7s - loss: 0.2430 - accuracy: 0.9153 - val_loss: 0.3743 - val_accuracy: 0.8685 - 7s/epoch - 3ms/step\n",
            "Epoch 11/30\n",
            "2550/2550 - 8s - loss: 0.2292 - accuracy: 0.9209 - val_loss: 0.3732 - val_accuracy: 0.8687 - 8s/epoch - 3ms/step\n",
            "Epoch 12/30\n",
            "2550/2550 - 8s - loss: 0.2154 - accuracy: 0.9262 - val_loss: 0.3763 - val_accuracy: 0.8696 - 8s/epoch - 3ms/step\n",
            "Epoch 13/30\n",
            "2550/2550 - 8s - loss: 0.2031 - accuracy: 0.9304 - val_loss: 0.3779 - val_accuracy: 0.8700 - 8s/epoch - 3ms/step\n",
            "Epoch 14/30\n",
            "2550/2550 - 8s - loss: 0.1891 - accuracy: 0.9368 - val_loss: 0.3832 - val_accuracy: 0.8692 - 8s/epoch - 3ms/step\n",
            "Epoch 00014: early stopping\n",
            "training ACC: 0.9368137121200562\tvalidaton ACC :0.8691666722297668\n",
            "\n",
            "n_units per hidden layer = 100\n",
            "Epoch 1/30\n",
            "2550/2550 - 8s - loss: 0.7583 - accuracy: 0.7601 - val_loss: 0.4658 - val_accuracy: 0.8424 - 8s/epoch - 3ms/step\n",
            "Epoch 2/30\n",
            "2550/2550 - 8s - loss: 0.4264 - accuracy: 0.8497 - val_loss: 0.4218 - val_accuracy: 0.8531 - 8s/epoch - 3ms/step\n",
            "Epoch 3/30\n",
            "2550/2550 - 8s - loss: 0.3847 - accuracy: 0.8633 - val_loss: 0.4042 - val_accuracy: 0.8610 - 8s/epoch - 3ms/step\n",
            "Epoch 4/30\n",
            "2550/2550 - 8s - loss: 0.3553 - accuracy: 0.8736 - val_loss: 0.3919 - val_accuracy: 0.8619 - 8s/epoch - 3ms/step\n",
            "Epoch 5/30\n",
            "2550/2550 - 7s - loss: 0.3310 - accuracy: 0.8811 - val_loss: 0.3873 - val_accuracy: 0.8649 - 7s/epoch - 3ms/step\n",
            "Epoch 6/30\n",
            "2550/2550 - 8s - loss: 0.3095 - accuracy: 0.8897 - val_loss: 0.3795 - val_accuracy: 0.8665 - 8s/epoch - 3ms/step\n",
            "Epoch 7/30\n",
            "2550/2550 - 8s - loss: 0.2896 - accuracy: 0.8963 - val_loss: 0.3734 - val_accuracy: 0.8693 - 8s/epoch - 3ms/step\n",
            "Epoch 8/30\n",
            "2550/2550 - 7s - loss: 0.2722 - accuracy: 0.9035 - val_loss: 0.3743 - val_accuracy: 0.8710 - 7s/epoch - 3ms/step\n",
            "Epoch 9/30\n",
            "2550/2550 - 7s - loss: 0.2551 - accuracy: 0.9095 - val_loss: 0.3712 - val_accuracy: 0.8706 - 7s/epoch - 3ms/step\n",
            "Epoch 10/30\n",
            "2550/2550 - 7s - loss: 0.2387 - accuracy: 0.9156 - val_loss: 0.3762 - val_accuracy: 0.8685 - 7s/epoch - 3ms/step\n",
            "Epoch 11/30\n",
            "2550/2550 - 7s - loss: 0.2238 - accuracy: 0.9220 - val_loss: 0.3713 - val_accuracy: 0.8728 - 7s/epoch - 3ms/step\n",
            "Epoch 12/30\n",
            "2550/2550 - 8s - loss: 0.2082 - accuracy: 0.9282 - val_loss: 0.3763 - val_accuracy: 0.8722 - 8s/epoch - 3ms/step\n",
            "Epoch 13/30\n",
            "2550/2550 - 8s - loss: 0.1944 - accuracy: 0.9343 - val_loss: 0.3764 - val_accuracy: 0.8710 - 8s/epoch - 3ms/step\n",
            "Epoch 14/30\n",
            "2550/2550 - 7s - loss: 0.1805 - accuracy: 0.9399 - val_loss: 0.3804 - val_accuracy: 0.8731 - 7s/epoch - 3ms/step\n",
            "Epoch 00014: early stopping\n",
            "training ACC: 0.9398529529571533\tvalidaton ACC :0.8730555772781372\n",
            "\n",
            "n_units per hidden layer = 150\n",
            "Epoch 1/30\n",
            "2550/2550 - 8s - loss: 0.7291 - accuracy: 0.7653 - val_loss: 0.4671 - val_accuracy: 0.8404 - 8s/epoch - 3ms/step\n",
            "Epoch 2/30\n",
            "2550/2550 - 7s - loss: 0.4266 - accuracy: 0.8506 - val_loss: 0.4245 - val_accuracy: 0.8524 - 7s/epoch - 3ms/step\n",
            "Epoch 3/30\n",
            "2550/2550 - 8s - loss: 0.3871 - accuracy: 0.8628 - val_loss: 0.4087 - val_accuracy: 0.8576 - 8s/epoch - 3ms/step\n",
            "Epoch 4/30\n",
            "2550/2550 - 7s - loss: 0.3585 - accuracy: 0.8736 - val_loss: 0.3979 - val_accuracy: 0.8587 - 7s/epoch - 3ms/step\n",
            "Epoch 5/30\n",
            "2550/2550 - 7s - loss: 0.3346 - accuracy: 0.8818 - val_loss: 0.3898 - val_accuracy: 0.8601 - 7s/epoch - 3ms/step\n",
            "Epoch 6/30\n",
            "2550/2550 - 8s - loss: 0.3124 - accuracy: 0.8897 - val_loss: 0.3808 - val_accuracy: 0.8654 - 8s/epoch - 3ms/step\n",
            "Epoch 7/30\n",
            "2550/2550 - 7s - loss: 0.2923 - accuracy: 0.8965 - val_loss: 0.3745 - val_accuracy: 0.8682 - 7s/epoch - 3ms/step\n",
            "Epoch 8/30\n",
            "2550/2550 - 8s - loss: 0.2746 - accuracy: 0.9026 - val_loss: 0.3710 - val_accuracy: 0.8674 - 8s/epoch - 3ms/step\n",
            "Epoch 9/30\n",
            "2550/2550 - 8s - loss: 0.2571 - accuracy: 0.9101 - val_loss: 0.3686 - val_accuracy: 0.8715 - 8s/epoch - 3ms/step\n",
            "Epoch 10/30\n",
            "2550/2550 - 8s - loss: 0.2403 - accuracy: 0.9168 - val_loss: 0.3705 - val_accuracy: 0.8700 - 8s/epoch - 3ms/step\n",
            "Epoch 11/30\n",
            "2550/2550 - 8s - loss: 0.2251 - accuracy: 0.9219 - val_loss: 0.3666 - val_accuracy: 0.8712 - 8s/epoch - 3ms/step\n",
            "Epoch 12/30\n",
            "2550/2550 - 8s - loss: 0.2093 - accuracy: 0.9280 - val_loss: 0.3657 - val_accuracy: 0.8742 - 8s/epoch - 3ms/step\n",
            "Epoch 13/30\n",
            "2550/2550 - 8s - loss: 0.1957 - accuracy: 0.9324 - val_loss: 0.3673 - val_accuracy: 0.8728 - 8s/epoch - 3ms/step\n",
            "Epoch 14/30\n",
            "2550/2550 - 8s - loss: 0.1812 - accuracy: 0.9389 - val_loss: 0.3725 - val_accuracy: 0.8744 - 8s/epoch - 3ms/step\n",
            "Epoch 15/30\n",
            "2550/2550 - 8s - loss: 0.1683 - accuracy: 0.9436 - val_loss: 0.3815 - val_accuracy: 0.8731 - 8s/epoch - 3ms/step\n",
            "Epoch 16/30\n",
            "2550/2550 - 8s - loss: 0.1552 - accuracy: 0.9484 - val_loss: 0.3826 - val_accuracy: 0.8735 - 8s/epoch - 3ms/step\n",
            "Epoch 17/30\n",
            "2550/2550 - 7s - loss: 0.1431 - accuracy: 0.9534 - val_loss: 0.3926 - val_accuracy: 0.8733 - 7s/epoch - 3ms/step\n",
            "Epoch 00017: early stopping\n",
            "training ACC: 0.9533578157424927\tvalidaton ACC :0.8733333349227905\n",
            "\n",
            "n_units per hidden layer = 300\n",
            "Epoch 1/30\n",
            "2550/2550 - 8s - loss: 0.6772 - accuracy: 0.7850 - val_loss: 0.4615 - val_accuracy: 0.8385 - 8s/epoch - 3ms/step\n",
            "Epoch 2/30\n",
            "2550/2550 - 7s - loss: 0.4261 - accuracy: 0.8500 - val_loss: 0.4231 - val_accuracy: 0.8500 - 7s/epoch - 3ms/step\n",
            "Epoch 3/30\n",
            "2550/2550 - 8s - loss: 0.3897 - accuracy: 0.8618 - val_loss: 0.4088 - val_accuracy: 0.8574 - 8s/epoch - 3ms/step\n",
            "Epoch 4/30\n",
            "2550/2550 - 8s - loss: 0.3629 - accuracy: 0.8723 - val_loss: 0.3987 - val_accuracy: 0.8578 - 8s/epoch - 3ms/step\n",
            "Epoch 5/30\n",
            "2550/2550 - 8s - loss: 0.3398 - accuracy: 0.8801 - val_loss: 0.3921 - val_accuracy: 0.8640 - 8s/epoch - 3ms/step\n",
            "Epoch 6/30\n",
            "2550/2550 - 7s - loss: 0.3185 - accuracy: 0.8865 - val_loss: 0.3841 - val_accuracy: 0.8667 - 7s/epoch - 3ms/step\n",
            "Epoch 7/30\n",
            "2550/2550 - 8s - loss: 0.2983 - accuracy: 0.8942 - val_loss: 0.3778 - val_accuracy: 0.8662 - 8s/epoch - 3ms/step\n",
            "Epoch 8/30\n",
            "2550/2550 - 7s - loss: 0.2802 - accuracy: 0.8999 - val_loss: 0.3779 - val_accuracy: 0.8693 - 7s/epoch - 3ms/step\n",
            "Epoch 9/30\n",
            "2550/2550 - 8s - loss: 0.2618 - accuracy: 0.9074 - val_loss: 0.3753 - val_accuracy: 0.8703 - 8s/epoch - 3ms/step\n",
            "Epoch 10/30\n",
            "2550/2550 - 7s - loss: 0.2446 - accuracy: 0.9132 - val_loss: 0.3768 - val_accuracy: 0.8699 - 7s/epoch - 3ms/step\n",
            "Epoch 11/30\n",
            "2550/2550 - 7s - loss: 0.2287 - accuracy: 0.9190 - val_loss: 0.3714 - val_accuracy: 0.8718 - 7s/epoch - 3ms/step\n",
            "Epoch 12/30\n",
            "2550/2550 - 7s - loss: 0.2123 - accuracy: 0.9256 - val_loss: 0.3762 - val_accuracy: 0.8696 - 7s/epoch - 3ms/step\n",
            "Epoch 13/30\n",
            "2550/2550 - 7s - loss: 0.1981 - accuracy: 0.9305 - val_loss: 0.3776 - val_accuracy: 0.8703 - 7s/epoch - 3ms/step\n",
            "Epoch 14/30\n",
            "2550/2550 - 8s - loss: 0.1825 - accuracy: 0.9372 - val_loss: 0.3825 - val_accuracy: 0.8704 - 8s/epoch - 3ms/step\n",
            "Epoch 15/30\n",
            "2550/2550 - 7s - loss: 0.1686 - accuracy: 0.9428 - val_loss: 0.3937 - val_accuracy: 0.8704 - 7s/epoch - 3ms/step\n",
            "Epoch 16/30\n",
            "2550/2550 - 8s - loss: 0.1554 - accuracy: 0.9480 - val_loss: 0.3991 - val_accuracy: 0.8724 - 8s/epoch - 3ms/step\n",
            "Epoch 00016: early stopping\n",
            "training ACC: 0.9480146765708923\tvalidaton ACC :0.8723611235618591\n",
            "\n",
            "num layers del NN= 5\n",
            "n_units per hidden layer = 25\n",
            "Epoch 1/30\n",
            "2550/2550 - 8s - loss: 1.0127 - accuracy: 0.6933 - val_loss: 0.5541 - val_accuracy: 0.8206 - 8s/epoch - 3ms/step\n",
            "Epoch 2/30\n",
            "2550/2550 - 7s - loss: 0.4896 - accuracy: 0.8366 - val_loss: 0.4558 - val_accuracy: 0.8426 - 7s/epoch - 3ms/step\n",
            "Epoch 3/30\n",
            "2550/2550 - 8s - loss: 0.4140 - accuracy: 0.8564 - val_loss: 0.4241 - val_accuracy: 0.8518 - 8s/epoch - 3ms/step\n",
            "Epoch 4/30\n",
            "2550/2550 - 7s - loss: 0.3725 - accuracy: 0.8712 - val_loss: 0.4077 - val_accuracy: 0.8539 - 7s/epoch - 3ms/step\n",
            "Epoch 5/30\n",
            "2550/2550 - 8s - loss: 0.3424 - accuracy: 0.8809 - val_loss: 0.3957 - val_accuracy: 0.8572 - 8s/epoch - 3ms/step\n",
            "Epoch 6/30\n",
            "2550/2550 - 8s - loss: 0.3177 - accuracy: 0.8902 - val_loss: 0.3908 - val_accuracy: 0.8583 - 8s/epoch - 3ms/step\n",
            "Epoch 7/30\n",
            "2550/2550 - 8s - loss: 0.2974 - accuracy: 0.8958 - val_loss: 0.3842 - val_accuracy: 0.8629 - 8s/epoch - 3ms/step\n",
            "Epoch 8/30\n",
            "2550/2550 - 8s - loss: 0.2807 - accuracy: 0.9023 - val_loss: 0.3870 - val_accuracy: 0.8642 - 8s/epoch - 3ms/step\n",
            "Epoch 9/30\n",
            "2550/2550 - 8s - loss: 0.2641 - accuracy: 0.9078 - val_loss: 0.3860 - val_accuracy: 0.8625 - 8s/epoch - 3ms/step\n",
            "Epoch 10/30\n",
            "2550/2550 - 8s - loss: 0.2496 - accuracy: 0.9138 - val_loss: 0.3923 - val_accuracy: 0.8599 - 8s/epoch - 3ms/step\n",
            "Epoch 11/30\n",
            "2550/2550 - 8s - loss: 0.2352 - accuracy: 0.9193 - val_loss: 0.3944 - val_accuracy: 0.8606 - 8s/epoch - 3ms/step\n",
            "Epoch 12/30\n",
            "2550/2550 - 8s - loss: 0.2218 - accuracy: 0.9230 - val_loss: 0.3971 - val_accuracy: 0.8607 - 8s/epoch - 3ms/step\n",
            "Epoch 00012: early stopping\n",
            "training ACC: 0.9229902029037476\tvalidaton ACC :0.8606944680213928\n",
            "\n",
            "n_units per hidden layer = 50\n",
            "Epoch 1/30\n",
            "2550/2550 - 9s - loss: 0.8185 - accuracy: 0.7473 - val_loss: 0.4806 - val_accuracy: 0.8324 - 9s/epoch - 3ms/step\n",
            "Epoch 2/30\n",
            "2550/2550 - 8s - loss: 0.4337 - accuracy: 0.8499 - val_loss: 0.4238 - val_accuracy: 0.8483 - 8s/epoch - 3ms/step\n",
            "Epoch 3/30\n",
            "2550/2550 - 8s - loss: 0.3836 - accuracy: 0.8657 - val_loss: 0.4035 - val_accuracy: 0.8561 - 8s/epoch - 3ms/step\n",
            "Epoch 4/30\n",
            "2550/2550 - 7s - loss: 0.3498 - accuracy: 0.8765 - val_loss: 0.3887 - val_accuracy: 0.8576 - 7s/epoch - 3ms/step\n",
            "Epoch 5/30\n",
            "2550/2550 - 7s - loss: 0.3231 - accuracy: 0.8869 - val_loss: 0.3808 - val_accuracy: 0.8619 - 7s/epoch - 3ms/step\n",
            "Epoch 6/30\n",
            "2550/2550 - 8s - loss: 0.2993 - accuracy: 0.8949 - val_loss: 0.3763 - val_accuracy: 0.8637 - 8s/epoch - 3ms/step\n",
            "Epoch 7/30\n",
            "2550/2550 - 8s - loss: 0.2789 - accuracy: 0.9018 - val_loss: 0.3728 - val_accuracy: 0.8676 - 8s/epoch - 3ms/step\n",
            "Epoch 8/30\n",
            "2550/2550 - 8s - loss: 0.2601 - accuracy: 0.9085 - val_loss: 0.3750 - val_accuracy: 0.8631 - 8s/epoch - 3ms/step\n",
            "Epoch 9/30\n",
            "2550/2550 - 8s - loss: 0.2428 - accuracy: 0.9137 - val_loss: 0.3779 - val_accuracy: 0.8654 - 8s/epoch - 3ms/step\n",
            "Epoch 10/30\n",
            "2550/2550 - 8s - loss: 0.2265 - accuracy: 0.9212 - val_loss: 0.3843 - val_accuracy: 0.8639 - 8s/epoch - 3ms/step\n",
            "Epoch 11/30\n",
            "2550/2550 - 8s - loss: 0.2121 - accuracy: 0.9260 - val_loss: 0.3862 - val_accuracy: 0.8664 - 8s/epoch - 3ms/step\n",
            "Epoch 12/30\n",
            "2550/2550 - 8s - loss: 0.1977 - accuracy: 0.9316 - val_loss: 0.3905 - val_accuracy: 0.8689 - 8s/epoch - 3ms/step\n",
            "Epoch 00012: early stopping\n",
            "training ACC: 0.9316176176071167\tvalidaton ACC :0.8688889145851135\n",
            "\n",
            "n_units per hidden layer = 100\n",
            "Epoch 1/30\n",
            "2550/2550 - 8s - loss: 0.7091 - accuracy: 0.7734 - val_loss: 0.4577 - val_accuracy: 0.8428 - 8s/epoch - 3ms/step\n",
            "Epoch 2/30\n",
            "2550/2550 - 8s - loss: 0.4153 - accuracy: 0.8539 - val_loss: 0.4125 - val_accuracy: 0.8546 - 8s/epoch - 3ms/step\n",
            "Epoch 3/30\n",
            "2550/2550 - 8s - loss: 0.3713 - accuracy: 0.8690 - val_loss: 0.3946 - val_accuracy: 0.8622 - 8s/epoch - 3ms/step\n",
            "Epoch 4/30\n",
            "2550/2550 - 7s - loss: 0.3392 - accuracy: 0.8806 - val_loss: 0.3825 - val_accuracy: 0.8621 - 7s/epoch - 3ms/step\n",
            "Epoch 5/30\n",
            "2550/2550 - 8s - loss: 0.3132 - accuracy: 0.8896 - val_loss: 0.3760 - val_accuracy: 0.8657 - 8s/epoch - 3ms/step\n",
            "Epoch 6/30\n",
            "2550/2550 - 8s - loss: 0.2902 - accuracy: 0.8981 - val_loss: 0.3692 - val_accuracy: 0.8685 - 8s/epoch - 3ms/step\n",
            "Epoch 7/30\n",
            "2550/2550 - 8s - loss: 0.2695 - accuracy: 0.9039 - val_loss: 0.3676 - val_accuracy: 0.8725 - 8s/epoch - 3ms/step\n",
            "Epoch 8/30\n",
            "2550/2550 - 8s - loss: 0.2512 - accuracy: 0.9115 - val_loss: 0.3687 - val_accuracy: 0.8700 - 8s/epoch - 3ms/step\n",
            "Epoch 9/30\n",
            "2550/2550 - 8s - loss: 0.2329 - accuracy: 0.9173 - val_loss: 0.3690 - val_accuracy: 0.8700 - 8s/epoch - 3ms/step\n",
            "Epoch 10/30\n",
            "2550/2550 - 8s - loss: 0.2156 - accuracy: 0.9252 - val_loss: 0.3748 - val_accuracy: 0.8689 - 8s/epoch - 3ms/step\n",
            "Epoch 11/30\n",
            "2550/2550 - 8s - loss: 0.1994 - accuracy: 0.9305 - val_loss: 0.3782 - val_accuracy: 0.8692 - 8s/epoch - 3ms/step\n",
            "Epoch 12/30\n",
            "2550/2550 - 8s - loss: 0.1829 - accuracy: 0.9373 - val_loss: 0.3809 - val_accuracy: 0.8703 - 8s/epoch - 3ms/step\n",
            "Epoch 00012: early stopping\n",
            "training ACC: 0.937303900718689\tvalidaton ACC :0.8702777624130249\n",
            "\n",
            "n_units per hidden layer = 150\n",
            "Epoch 1/30\n",
            "2550/2550 - 8s - loss: 0.7104 - accuracy: 0.7684 - val_loss: 0.4607 - val_accuracy: 0.8374 - 8s/epoch - 3ms/step\n",
            "Epoch 2/30\n",
            "2550/2550 - 8s - loss: 0.4207 - accuracy: 0.8508 - val_loss: 0.4181 - val_accuracy: 0.8489 - 8s/epoch - 3ms/step\n",
            "Epoch 3/30\n",
            "2550/2550 - 8s - loss: 0.3783 - accuracy: 0.8636 - val_loss: 0.4012 - val_accuracy: 0.8574 - 8s/epoch - 3ms/step\n",
            "Epoch 4/30\n",
            "2550/2550 - 8s - loss: 0.3469 - accuracy: 0.8751 - val_loss: 0.3887 - val_accuracy: 0.8594 - 8s/epoch - 3ms/step\n",
            "Epoch 5/30\n",
            "2550/2550 - 8s - loss: 0.3207 - accuracy: 0.8845 - val_loss: 0.3817 - val_accuracy: 0.8636 - 8s/epoch - 3ms/step\n",
            "Epoch 6/30\n",
            "2550/2550 - 8s - loss: 0.2969 - accuracy: 0.8925 - val_loss: 0.3756 - val_accuracy: 0.8675 - 8s/epoch - 3ms/step\n",
            "Epoch 7/30\n",
            "2550/2550 - 8s - loss: 0.2757 - accuracy: 0.9001 - val_loss: 0.3709 - val_accuracy: 0.8696 - 8s/epoch - 3ms/step\n",
            "Epoch 8/30\n",
            "2550/2550 - 8s - loss: 0.2571 - accuracy: 0.9072 - val_loss: 0.3771 - val_accuracy: 0.8706 - 8s/epoch - 3ms/step\n",
            "Epoch 9/30\n",
            "2550/2550 - 8s - loss: 0.2389 - accuracy: 0.9140 - val_loss: 0.3745 - val_accuracy: 0.8742 - 8s/epoch - 3ms/step\n",
            "Epoch 10/30\n",
            "2550/2550 - 8s - loss: 0.2215 - accuracy: 0.9222 - val_loss: 0.3752 - val_accuracy: 0.8714 - 8s/epoch - 3ms/step\n",
            "Epoch 11/30\n",
            "2550/2550 - 8s - loss: 0.2053 - accuracy: 0.9279 - val_loss: 0.3749 - val_accuracy: 0.8712 - 8s/epoch - 3ms/step\n",
            "Epoch 12/30\n",
            "2550/2550 - 7s - loss: 0.1894 - accuracy: 0.9336 - val_loss: 0.3726 - val_accuracy: 0.8756 - 7s/epoch - 3ms/step\n",
            "Epoch 00012: early stopping\n",
            "training ACC: 0.9336029291152954\tvalidaton ACC :0.8755555748939514\n",
            "\n",
            "n_units per hidden layer = 300\n",
            "Epoch 1/30\n",
            "2550/2550 - 8s - loss: 0.6475 - accuracy: 0.7886 - val_loss: 0.4594 - val_accuracy: 0.8392 - 8s/epoch - 3ms/step\n",
            "Epoch 2/30\n",
            "2550/2550 - 8s - loss: 0.4181 - accuracy: 0.8518 - val_loss: 0.4205 - val_accuracy: 0.8493 - 8s/epoch - 3ms/step\n",
            "Epoch 3/30\n",
            "2550/2550 - 8s - loss: 0.3779 - accuracy: 0.8652 - val_loss: 0.4029 - val_accuracy: 0.8581 - 8s/epoch - 3ms/step\n",
            "Epoch 4/30\n",
            "2550/2550 - 8s - loss: 0.3465 - accuracy: 0.8754 - val_loss: 0.3897 - val_accuracy: 0.8619 - 8s/epoch - 3ms/step\n",
            "Epoch 5/30\n",
            "2550/2550 - 8s - loss: 0.3205 - accuracy: 0.8849 - val_loss: 0.3841 - val_accuracy: 0.8601 - 8s/epoch - 3ms/step\n",
            "Epoch 6/30\n",
            "2550/2550 - 8s - loss: 0.2979 - accuracy: 0.8927 - val_loss: 0.3769 - val_accuracy: 0.8660 - 8s/epoch - 3ms/step\n",
            "Epoch 7/30\n",
            "2550/2550 - 8s - loss: 0.2767 - accuracy: 0.9003 - val_loss: 0.3708 - val_accuracy: 0.8675 - 8s/epoch - 3ms/step\n",
            "Epoch 8/30\n",
            "2550/2550 - 8s - loss: 0.2580 - accuracy: 0.9078 - val_loss: 0.3772 - val_accuracy: 0.8672 - 8s/epoch - 3ms/step\n",
            "Epoch 9/30\n",
            "2550/2550 - 8s - loss: 0.2394 - accuracy: 0.9150 - val_loss: 0.3721 - val_accuracy: 0.8718 - 8s/epoch - 3ms/step\n",
            "Epoch 10/30\n",
            "2550/2550 - 8s - loss: 0.2225 - accuracy: 0.9206 - val_loss: 0.3744 - val_accuracy: 0.8704 - 8s/epoch - 3ms/step\n",
            "Epoch 11/30\n",
            "2550/2550 - 8s - loss: 0.2061 - accuracy: 0.9260 - val_loss: 0.3712 - val_accuracy: 0.8703 - 8s/epoch - 3ms/step\n",
            "Epoch 12/30\n",
            "2550/2550 - 8s - loss: 0.1900 - accuracy: 0.9324 - val_loss: 0.3758 - val_accuracy: 0.8736 - 8s/epoch - 3ms/step\n",
            "Epoch 00012: early stopping\n",
            "training ACC: 0.9324264526367188\tvalidaton ACC :0.8736110925674438\n",
            "\n",
            "num layers del NN= 6\n",
            "n_units per hidden layer = 25\n",
            "Epoch 1/30\n",
            "2550/2550 - 9s - loss: 0.9365 - accuracy: 0.7046 - val_loss: 0.5361 - val_accuracy: 0.8243 - 9s/epoch - 3ms/step\n",
            "Epoch 2/30\n",
            "2550/2550 - 8s - loss: 0.4737 - accuracy: 0.8397 - val_loss: 0.4527 - val_accuracy: 0.8454 - 8s/epoch - 3ms/step\n",
            "Epoch 3/30\n",
            "2550/2550 - 8s - loss: 0.4092 - accuracy: 0.8590 - val_loss: 0.4294 - val_accuracy: 0.8547 - 8s/epoch - 3ms/step\n",
            "Epoch 4/30\n",
            "2550/2550 - 8s - loss: 0.3692 - accuracy: 0.8702 - val_loss: 0.4129 - val_accuracy: 0.8572 - 8s/epoch - 3ms/step\n",
            "Epoch 5/30\n",
            "2550/2550 - 8s - loss: 0.3397 - accuracy: 0.8813 - val_loss: 0.4043 - val_accuracy: 0.8590 - 8s/epoch - 3ms/step\n",
            "Epoch 6/30\n",
            "2550/2550 - 8s - loss: 0.3140 - accuracy: 0.8900 - val_loss: 0.4035 - val_accuracy: 0.8601 - 8s/epoch - 3ms/step\n",
            "Epoch 7/30\n",
            "2550/2550 - 8s - loss: 0.2940 - accuracy: 0.8972 - val_loss: 0.3972 - val_accuracy: 0.8610 - 8s/epoch - 3ms/step\n",
            "Epoch 8/30\n",
            "2550/2550 - 8s - loss: 0.2765 - accuracy: 0.9043 - val_loss: 0.4042 - val_accuracy: 0.8617 - 8s/epoch - 3ms/step\n",
            "Epoch 9/30\n",
            "2550/2550 - 8s - loss: 0.2599 - accuracy: 0.9098 - val_loss: 0.4045 - val_accuracy: 0.8635 - 8s/epoch - 3ms/step\n",
            "Epoch 10/30\n",
            "2550/2550 - 8s - loss: 0.2448 - accuracy: 0.9153 - val_loss: 0.4127 - val_accuracy: 0.8590 - 8s/epoch - 3ms/step\n",
            "Epoch 11/30\n",
            "2550/2550 - 8s - loss: 0.2318 - accuracy: 0.9205 - val_loss: 0.4077 - val_accuracy: 0.8637 - 8s/epoch - 3ms/step\n",
            "Epoch 12/30\n",
            "2550/2550 - 8s - loss: 0.2188 - accuracy: 0.9251 - val_loss: 0.4108 - val_accuracy: 0.8647 - 8s/epoch - 3ms/step\n",
            "Epoch 00012: early stopping\n",
            "training ACC: 0.9250980615615845\tvalidaton ACC :0.8647222518920898\n",
            "\n",
            "n_units per hidden layer = 50\n",
            "Epoch 1/30\n",
            "2550/2550 - 9s - loss: 0.8493 - accuracy: 0.7308 - val_loss: 0.4923 - val_accuracy: 0.8338 - 9s/epoch - 3ms/step\n",
            "Epoch 2/30\n",
            "2550/2550 - 8s - loss: 0.4403 - accuracy: 0.8455 - val_loss: 0.4259 - val_accuracy: 0.8468 - 8s/epoch - 3ms/step\n",
            "Epoch 3/30\n",
            "2550/2550 - 8s - loss: 0.3830 - accuracy: 0.8629 - val_loss: 0.4048 - val_accuracy: 0.8565 - 8s/epoch - 3ms/step\n",
            "Epoch 4/30\n",
            "2550/2550 - 8s - loss: 0.3472 - accuracy: 0.8771 - val_loss: 0.3924 - val_accuracy: 0.8589 - 8s/epoch - 3ms/step\n",
            "Epoch 5/30\n",
            "2550/2550 - 8s - loss: 0.3196 - accuracy: 0.8874 - val_loss: 0.3881 - val_accuracy: 0.8596 - 8s/epoch - 3ms/step\n",
            "Epoch 6/30\n",
            "2550/2550 - 8s - loss: 0.2971 - accuracy: 0.8936 - val_loss: 0.3832 - val_accuracy: 0.8665 - 8s/epoch - 3ms/step\n",
            "Epoch 7/30\n",
            "2550/2550 - 8s - loss: 0.2758 - accuracy: 0.9025 - val_loss: 0.3808 - val_accuracy: 0.8679 - 8s/epoch - 3ms/step\n",
            "Epoch 8/30\n",
            "2550/2550 - 8s - loss: 0.2574 - accuracy: 0.9093 - val_loss: 0.3903 - val_accuracy: 0.8667 - 8s/epoch - 3ms/step\n",
            "Epoch 9/30\n",
            "2550/2550 - 8s - loss: 0.2403 - accuracy: 0.9155 - val_loss: 0.3862 - val_accuracy: 0.8681 - 8s/epoch - 3ms/step\n",
            "Epoch 10/30\n",
            "2550/2550 - 8s - loss: 0.2232 - accuracy: 0.9212 - val_loss: 0.3938 - val_accuracy: 0.8704 - 8s/epoch - 3ms/step\n",
            "Epoch 11/30\n",
            "2550/2550 - 8s - loss: 0.2081 - accuracy: 0.9279 - val_loss: 0.3949 - val_accuracy: 0.8671 - 8s/epoch - 3ms/step\n",
            "Epoch 12/30\n",
            "2550/2550 - 8s - loss: 0.1929 - accuracy: 0.9332 - val_loss: 0.4048 - val_accuracy: 0.8708 - 8s/epoch - 3ms/step\n",
            "Epoch 00012: early stopping\n",
            "training ACC: 0.9332352876663208\tvalidaton ACC :0.8708333373069763\n",
            "\n",
            "n_units per hidden layer = 100\n",
            "Epoch 1/30\n",
            "2550/2550 - 9s - loss: 0.7294 - accuracy: 0.7638 - val_loss: 0.4626 - val_accuracy: 0.8388 - 9s/epoch - 4ms/step\n",
            "Epoch 2/30\n",
            "2550/2550 - 8s - loss: 0.4202 - accuracy: 0.8516 - val_loss: 0.4160 - val_accuracy: 0.8504 - 8s/epoch - 3ms/step\n",
            "Epoch 3/30\n",
            "2550/2550 - 8s - loss: 0.3720 - accuracy: 0.8671 - val_loss: 0.4005 - val_accuracy: 0.8601 - 8s/epoch - 3ms/step\n",
            "Epoch 4/30\n",
            "2550/2550 - 8s - loss: 0.3378 - accuracy: 0.8800 - val_loss: 0.3883 - val_accuracy: 0.8590 - 8s/epoch - 3ms/step\n",
            "Epoch 5/30\n",
            "2550/2550 - 8s - loss: 0.3097 - accuracy: 0.8898 - val_loss: 0.3817 - val_accuracy: 0.8635 - 8s/epoch - 3ms/step\n",
            "Epoch 6/30\n",
            "2550/2550 - 8s - loss: 0.2857 - accuracy: 0.8973 - val_loss: 0.3783 - val_accuracy: 0.8657 - 8s/epoch - 3ms/step\n",
            "Epoch 7/30\n",
            "2550/2550 - 8s - loss: 0.2641 - accuracy: 0.9054 - val_loss: 0.3757 - val_accuracy: 0.8664 - 8s/epoch - 3ms/step\n",
            "Epoch 8/30\n",
            "2550/2550 - 8s - loss: 0.2443 - accuracy: 0.9138 - val_loss: 0.3824 - val_accuracy: 0.8657 - 8s/epoch - 3ms/step\n",
            "Epoch 9/30\n",
            "2550/2550 - 8s - loss: 0.2250 - accuracy: 0.9203 - val_loss: 0.3838 - val_accuracy: 0.8689 - 8s/epoch - 3ms/step\n",
            "Epoch 10/30\n",
            "2550/2550 - 8s - loss: 0.2076 - accuracy: 0.9273 - val_loss: 0.3929 - val_accuracy: 0.8660 - 8s/epoch - 3ms/step\n",
            "Epoch 11/30\n",
            "2550/2550 - 8s - loss: 0.1909 - accuracy: 0.9340 - val_loss: 0.3910 - val_accuracy: 0.8657 - 8s/epoch - 3ms/step\n",
            "Epoch 12/30\n",
            "2550/2550 - 8s - loss: 0.1747 - accuracy: 0.9390 - val_loss: 0.3993 - val_accuracy: 0.8682 - 8s/epoch - 3ms/step\n",
            "Epoch 00012: early stopping\n",
            "training ACC: 0.9390196204185486\tvalidaton ACC :0.8681944608688354\n",
            "\n",
            "n_units per hidden layer = 150\n",
            "Epoch 1/30\n",
            "2550/2550 - 9s - loss: 0.6957 - accuracy: 0.7713 - val_loss: 0.4615 - val_accuracy: 0.8364 - 9s/epoch - 3ms/step\n",
            "Epoch 2/30\n",
            "2550/2550 - 8s - loss: 0.4149 - accuracy: 0.8533 - val_loss: 0.4134 - val_accuracy: 0.8508 - 8s/epoch - 3ms/step\n",
            "Epoch 3/30\n",
            "2550/2550 - 8s - loss: 0.3683 - accuracy: 0.8679 - val_loss: 0.3976 - val_accuracy: 0.8544 - 8s/epoch - 3ms/step\n",
            "Epoch 4/30\n",
            "2550/2550 - 8s - loss: 0.3345 - accuracy: 0.8799 - val_loss: 0.3836 - val_accuracy: 0.8607 - 8s/epoch - 3ms/step\n",
            "Epoch 5/30\n",
            "2550/2550 - 8s - loss: 0.3065 - accuracy: 0.8898 - val_loss: 0.3800 - val_accuracy: 0.8656 - 8s/epoch - 3ms/step\n",
            "Epoch 6/30\n",
            "2550/2550 - 8s - loss: 0.2823 - accuracy: 0.8988 - val_loss: 0.3736 - val_accuracy: 0.8678 - 8s/epoch - 3ms/step\n",
            "Epoch 7/30\n",
            "2550/2550 - 8s - loss: 0.2607 - accuracy: 0.9053 - val_loss: 0.3698 - val_accuracy: 0.8690 - 8s/epoch - 3ms/step\n",
            "Epoch 8/30\n",
            "2550/2550 - 8s - loss: 0.2414 - accuracy: 0.9136 - val_loss: 0.3772 - val_accuracy: 0.8710 - 8s/epoch - 3ms/step\n",
            "Epoch 9/30\n",
            "2550/2550 - 8s - loss: 0.2215 - accuracy: 0.9208 - val_loss: 0.3771 - val_accuracy: 0.8671 - 8s/epoch - 3ms/step\n",
            "Epoch 10/30\n",
            "2550/2550 - 8s - loss: 0.2037 - accuracy: 0.9281 - val_loss: 0.3793 - val_accuracy: 0.8710 - 8s/epoch - 3ms/step\n",
            "Epoch 11/30\n",
            "2550/2550 - 8s - loss: 0.1857 - accuracy: 0.9349 - val_loss: 0.3893 - val_accuracy: 0.8667 - 8s/epoch - 3ms/step\n",
            "Epoch 12/30\n",
            "2550/2550 - 8s - loss: 0.1698 - accuracy: 0.9407 - val_loss: 0.3926 - val_accuracy: 0.8715 - 8s/epoch - 3ms/step\n",
            "Epoch 00012: early stopping\n",
            "training ACC: 0.9407352805137634\tvalidaton ACC :0.8715277910232544\n",
            "\n",
            "n_units per hidden layer = 300\n",
            "Epoch 1/30\n",
            "2550/2550 - 9s - loss: 0.6460 - accuracy: 0.7857 - val_loss: 0.4594 - val_accuracy: 0.8399 - 9s/epoch - 4ms/step\n",
            "Epoch 2/30\n",
            "2550/2550 - 8s - loss: 0.4165 - accuracy: 0.8522 - val_loss: 0.4187 - val_accuracy: 0.8515 - 8s/epoch - 3ms/step\n",
            "Epoch 3/30\n",
            "2550/2550 - 8s - loss: 0.3721 - accuracy: 0.8669 - val_loss: 0.3994 - val_accuracy: 0.8611 - 8s/epoch - 3ms/step\n",
            "Epoch 4/30\n",
            "2550/2550 - 8s - loss: 0.3386 - accuracy: 0.8775 - val_loss: 0.3873 - val_accuracy: 0.8635 - 8s/epoch - 3ms/step\n",
            "Epoch 5/30\n",
            "2550/2550 - 9s - loss: 0.3117 - accuracy: 0.8877 - val_loss: 0.3809 - val_accuracy: 0.8653 - 9s/epoch - 3ms/step\n",
            "Epoch 6/30\n",
            "2550/2550 - 8s - loss: 0.2881 - accuracy: 0.8955 - val_loss: 0.3696 - val_accuracy: 0.8700 - 8s/epoch - 3ms/step\n",
            "Epoch 7/30\n",
            "2550/2550 - 9s - loss: 0.2661 - accuracy: 0.9029 - val_loss: 0.3677 - val_accuracy: 0.8736 - 9s/epoch - 3ms/step\n",
            "Epoch 8/30\n",
            "2550/2550 - 8s - loss: 0.2471 - accuracy: 0.9111 - val_loss: 0.3756 - val_accuracy: 0.8707 - 8s/epoch - 3ms/step\n",
            "Epoch 9/30\n",
            "2550/2550 - 8s - loss: 0.2280 - accuracy: 0.9177 - val_loss: 0.3696 - val_accuracy: 0.8735 - 8s/epoch - 3ms/step\n",
            "Epoch 10/30\n",
            "2550/2550 - 8s - loss: 0.2107 - accuracy: 0.9230 - val_loss: 0.3725 - val_accuracy: 0.8737 - 8s/epoch - 3ms/step\n",
            "Epoch 11/30\n",
            "2550/2550 - 9s - loss: 0.1935 - accuracy: 0.9309 - val_loss: 0.3784 - val_accuracy: 0.8721 - 9s/epoch - 3ms/step\n",
            "Epoch 12/30\n",
            "2550/2550 - 9s - loss: 0.1768 - accuracy: 0.9374 - val_loss: 0.3783 - val_accuracy: 0.8781 - 9s/epoch - 3ms/step\n",
            "Epoch 00012: early stopping\n",
            "training ACC: 0.9374019503593445\tvalidaton ACC :0.8780555725097656\n",
            "\n"
          ]
        }
      ],
      "source": [
        "# GridSearch over number of hidden layers and number of units per layer\n",
        "\n",
        "n_layers = range(1, 5) # number hidden layers\n",
        "n_units = [25, 50, 100, 150, 300] # number of neurons per hidden layer\n",
        "\n",
        "for n_l in n_layers:\n",
        "  print(f'num layers del NN= {n_l+2}')\n",
        "  for n_u in n_units:\n",
        "    print('n_units per hidden layer =',n_u)\n",
        "    model = MLP_definer(num_features, num_classes, n_l, n_u, 'tanh', 'softmax')\n",
        "    hst = model.fit(X_train_pca_scaled, y_train_cat, epochs=30, batch_size=16, validation_split=0.15, callbacks=es, verbose=2)\n",
        "    print(f'training ACC: {hst.history[\"accuracy\"][-1]}\\tvalidaton ACC :{hst.history[\"val_accuracy\"][-1]}\\n')"
      ]
    },
    {
      "cell_type": "code",
      "execution_count": 22,
      "metadata": {
        "id": "-GPvsj5AUwa_",
        "colab": {
          "base_uri": "https://localhost:8080/"
        },
        "outputId": "d39146a0-c97b-476d-c1ef-8c4a4d4b52a8"
      },
      "outputs": [
        {
          "output_type": "stream",
          "name": "stdout",
          "text": [
            "Epoch 1/30\n",
            "2550/2550 - 4s - loss: 0.7537 - accuracy: 0.7671 - val_loss: 0.4721 - val_accuracy: 0.8411 - 4s/epoch - 2ms/step\n",
            "Epoch 2/30\n",
            "2550/2550 - 4s - loss: 0.4353 - accuracy: 0.8486 - val_loss: 0.4286 - val_accuracy: 0.8525 - 4s/epoch - 1ms/step\n",
            "Epoch 3/30\n",
            "2550/2550 - 4s - loss: 0.3979 - accuracy: 0.8608 - val_loss: 0.4131 - val_accuracy: 0.8569 - 4s/epoch - 2ms/step\n",
            "Epoch 4/30\n",
            "2550/2550 - 4s - loss: 0.3732 - accuracy: 0.8681 - val_loss: 0.4042 - val_accuracy: 0.8571 - 4s/epoch - 2ms/step\n",
            "Epoch 5/30\n",
            "2550/2550 - 4s - loss: 0.3524 - accuracy: 0.8758 - val_loss: 0.3956 - val_accuracy: 0.8597 - 4s/epoch - 2ms/step\n",
            "Epoch 6/30\n",
            "2550/2550 - 4s - loss: 0.3340 - accuracy: 0.8822 - val_loss: 0.3863 - val_accuracy: 0.8637 - 4s/epoch - 2ms/step\n",
            "Epoch 7/30\n",
            "2550/2550 - 4s - loss: 0.3166 - accuracy: 0.8878 - val_loss: 0.3811 - val_accuracy: 0.8675 - 4s/epoch - 1ms/step\n",
            "Epoch 8/30\n",
            "2550/2550 - 4s - loss: 0.3008 - accuracy: 0.8942 - val_loss: 0.3755 - val_accuracy: 0.8676 - 4s/epoch - 2ms/step\n",
            "Epoch 9/30\n",
            "2550/2550 - 4s - loss: 0.2852 - accuracy: 0.8995 - val_loss: 0.3725 - val_accuracy: 0.8707 - 4s/epoch - 2ms/step\n",
            "Epoch 10/30\n",
            "2550/2550 - 4s - loss: 0.2702 - accuracy: 0.9063 - val_loss: 0.3689 - val_accuracy: 0.8699 - 4s/epoch - 1ms/step\n",
            "Epoch 11/30\n",
            "2550/2550 - 4s - loss: 0.2564 - accuracy: 0.9111 - val_loss: 0.3616 - val_accuracy: 0.8714 - 4s/epoch - 1ms/step\n",
            "Epoch 12/30\n",
            "2550/2550 - 4s - loss: 0.2423 - accuracy: 0.9173 - val_loss: 0.3601 - val_accuracy: 0.8756 - 4s/epoch - 1ms/step\n",
            "Epoch 13/30\n",
            "2550/2550 - 4s - loss: 0.2297 - accuracy: 0.9208 - val_loss: 0.3563 - val_accuracy: 0.8733 - 4s/epoch - 2ms/step\n",
            "Epoch 14/30\n",
            "2550/2550 - 4s - loss: 0.2165 - accuracy: 0.9268 - val_loss: 0.3590 - val_accuracy: 0.8735 - 4s/epoch - 2ms/step\n",
            "Epoch 15/30\n",
            "2550/2550 - 4s - loss: 0.2047 - accuracy: 0.9306 - val_loss: 0.3616 - val_accuracy: 0.8747 - 4s/epoch - 2ms/step\n",
            "Epoch 16/30\n",
            "2550/2550 - 4s - loss: 0.1930 - accuracy: 0.9356 - val_loss: 0.3599 - val_accuracy: 0.8774 - 4s/epoch - 2ms/step\n",
            "Epoch 17/30\n",
            "2550/2550 - 4s - loss: 0.1823 - accuracy: 0.9391 - val_loss: 0.3610 - val_accuracy: 0.8758 - 4s/epoch - 1ms/step\n",
            "Epoch 18/30\n",
            "2550/2550 - 4s - loss: 0.1715 - accuracy: 0.9438 - val_loss: 0.3626 - val_accuracy: 0.8756 - 4s/epoch - 2ms/step\n",
            "Epoch 00018: early stopping\n",
            "\n",
            "ACC on training set: 0.9419791666666667\n",
            "ACC on validation set: 0.8753333333333333\n",
            "ACC on test set: 0.8688\n"
          ]
        }
      ],
      "source": [
        "# best model as shown by the GridSearch\n",
        "model = MLP_definer(num_features, num_classes, 1, 150, 'tanh', 'softmax')\n",
        "\n",
        "# fitting the model\n",
        "hst = model.fit(X_train_pca_scaled, y_train_cat, epochs=30, batch_size=16, verbose=2, validation_split=0.15, callbacks=[es])\n",
        "\n",
        "# let's evaluate performances on test set\n",
        "#test_results = model.evaluate(X_test_pca_scaled, y_test_cat, verbose=1)\n",
        "#print(f'Test results - Loss: {test_results[0]} - Accuracy: {test_results[1]}%')\n",
        "\n",
        "y_train_pred = model.predict(X_train_pca_scaled).argmax(axis = 1) \n",
        "y_val_pred = model.predict(X_val_pca_scaled).argmax(axis = 1)\n",
        "y_test_pred = model.predict(X_test_pca_scaled).argmax(axis = 1) \n",
        "\n",
        "print(f'\\nACC on training set: {accuracy_score(y_train, y_train_pred)}\\nACC on validation set: {accuracy_score(y_val, y_val_pred)}\\nACC on test set: {accuracy_score(y_test, y_test_pred)}')"
      ]
    },
    {
      "cell_type": "markdown",
      "source": [
        "So after applying PCA, SVM resulted in the best model, achieving the best scores so far!\n",
        "\n",
        "Let's move on and apply HOG to see if we can do any better."
      ],
      "metadata": {
        "id": "BAoictowaHI6"
      }
    },
    {
      "cell_type": "markdown",
      "metadata": {
        "id": "8aqLogYq7yvO"
      },
      "source": [
        "#Histogram of Oriented Gradients"
      ]
    },
    {
      "cell_type": "markdown",
      "metadata": {
        "id": "vhyO-EQeiPuu"
      },
      "source": [
        "HOG, or Histogram of Oriented Gradients, is a feature descriptor that is often used to extract features from image data. It is widely used in computer vision tasks for object detection. In our case we used it as a mean of dimensionality reduction.\n",
        "\n",
        "Additional information can be found [here](https://www.analyticsvidhya.com/blog/2019/09/feature-engineering-images-introduction-hog-feature-descriptor/)."
      ]
    },
    {
      "cell_type": "code",
      "execution_count": 7,
      "metadata": {
        "id": "r0W5AzsF76xi"
      },
      "outputs": [],
      "source": [
        "from sklearn.pipeline import Pipeline\n",
        "from sklearn.base import BaseEstimator, TransformerMixin\n",
        "from skimage.feature import hog\n",
        "\n",
        "\n",
        "class Flatter(BaseEstimator, TransformerMixin):\n",
        "    \"\"\"\n",
        "    Flat an image from 3D to 2D\n",
        "    \"\"\"\n",
        " \n",
        "    def __init__(self):\n",
        "        pass\n",
        " \n",
        "    def fit(self, X, y=None):\n",
        "        \"\"\"returns itself\"\"\"\n",
        "        return self\n",
        " \n",
        "    def transform(self, X, y=None):\n",
        "        \"\"\"perform the transformation and return an array\"\"\"\n",
        "        return np.array(X).reshape(len(X), -1)\n",
        "\n",
        "class HogTransformer(BaseEstimator, TransformerMixin):\n",
        "    \"\"\"\n",
        "    Expects an array of 2d arrays (1 channel images)\n",
        "    Calculates hog features for each img\n",
        "    \"\"\"\n",
        " \n",
        "    def __init__(self, y=None, orientations=9,\n",
        "                 pixels_per_cell=(8, 8),\n",
        "                 cells_per_block=(3, 3), block_norm='L2-Hys'):\n",
        "        self.y = y\n",
        "        self.orientations = orientations\n",
        "        self.pixels_per_cell = pixels_per_cell\n",
        "        self.cells_per_block = cells_per_block\n",
        "        self.block_norm = block_norm\n",
        " \n",
        "    def fit(self, X, y=None):\n",
        "        return self\n",
        " \n",
        "    def transform(self, X, y=None):\n",
        " \n",
        "        def local_hog(X):\n",
        "            return hog(X,\n",
        "                       orientations=self.orientations,\n",
        "                       pixels_per_cell=self.pixels_per_cell,\n",
        "                       cells_per_block=self.cells_per_block,\n",
        "                       block_norm=self.block_norm)\n",
        " \n",
        "        try: # parallel\n",
        "            return np.array([local_hog(img) for img in X])\n",
        "        except:\n",
        "            return np.array([local_hog(img) for img in X])\n"
      ]
    },
    {
      "cell_type": "code",
      "execution_count": 8,
      "metadata": {
        "id": "Kjspddk0AtOj"
      },
      "outputs": [],
      "source": [
        "# #define a pipeline for the preprocessing\n",
        "preprocessing = Pipeline([\n",
        "    ('hog', HogTransformer()),\n",
        "    ('flatter', Flatter()) \n",
        "])"
      ]
    },
    {
      "cell_type": "code",
      "execution_count": 9,
      "metadata": {
        "id": "xZ7fX3Y4AwTT"
      },
      "outputs": [],
      "source": [
        "X_train_prep = preprocessing.fit_transform(X_train.reshape(X_train.shape[0],28,28))\n",
        "X_val_prep = preprocessing.fit_transform(X_val.reshape(X_val.shape[0],28,28))\n",
        "X_test_prep = preprocessing.fit_transform(X_test.reshape(X_test.shape[0],28,28))"
      ]
    },
    {
      "cell_type": "code",
      "execution_count": null,
      "metadata": {
        "id": "GwCBg7ggDawD",
        "colab": {
          "base_uri": "https://localhost:8080/"
        },
        "outputId": "457474a5-9554-4a76-bab5-04568f5811a8"
      },
      "outputs": [
        {
          "output_type": "stream",
          "name": "stdout",
          "text": [
            "number of features after HOG: 784 -> 81\n"
          ]
        }
      ],
      "source": [
        "print(f'number of features after HOG: {X_train.shape[1]} -> {X_train_prep.shape[1]}')"
      ]
    },
    {
      "cell_type": "markdown",
      "metadata": {
        "id": "YJ26GAsHj8Zg"
      },
      "source": [
        "Let's test again the previous models after having applied HOG."
      ]
    },
    {
      "cell_type": "markdown",
      "metadata": {
        "id": "S91mITFHJD9V"
      },
      "source": [
        "## Decision Tree\n",
        "* running time ~ 30 seconds\n",
        "* running time gridsearch ~ 8 minutes"
      ]
    },
    {
      "cell_type": "code",
      "execution_count": null,
      "metadata": {
        "id": "LlfaWchdCVja",
        "colab": {
          "base_uri": "https://localhost:8080/"
        },
        "outputId": "5d729882-85a9-4d6b-e225-de02051f444d"
      },
      "outputs": [
        {
          "output_type": "stream",
          "name": "stdout",
          "text": [
            "\n",
            "ACC on training set: 0.8368125\n",
            "ACC on validation set: 0.7469166666666667\n",
            "ACC on test set: 0.7373\n"
          ]
        }
      ],
      "source": [
        "from sklearn import tree\n",
        "\n",
        "# To use GridSearch un-comment the following 3 lines and comment \"tree = tree.Dec...\":\n",
        "\n",
        "# param_grid = {'max_depth': [6, 12, 60, 100], 'min_samples_leaf':[2, 3]}\n",
        "# tree_clf = tree.DecisionTreeClassifier(criterion='entropy', random_state=123)\n",
        "# tree = GridSearchCV(tree_clf, param_grid=param_grid, scoring='accuracy', cv=5, verbose=2)\n",
        "\n",
        "tree = tree.DecisionTreeClassifier(criterion='entropy', max_depth=12, min_samples_leaf=3, random_state=123)\n",
        "\n",
        "tree.fit(X_train_prep, y_train)\n",
        "\n",
        "y_train_pred = tree.predict(X_train_prep)\n",
        "y_val_pred = tree.predict(X_val_prep)\n",
        "y_test_pred = tree.predict(X_test_prep)\n",
        "\n",
        "print(f'\\nACC on training set: {accuracy_score(y_train, y_train_pred)}\\nACC on validation set: {accuracy_score(y_val, y_val_pred)}\\nACC on test set: {accuracy_score(y_test, y_test_pred)}')"
      ]
    },
    {
      "cell_type": "markdown",
      "metadata": {
        "id": "U4nNIkg_JIpZ"
      },
      "source": [
        "## Random Forest\n",
        "* running time ~ 3 minutes\n",
        "* running time gridsearch ~ 55 minutes"
      ]
    },
    {
      "cell_type": "code",
      "execution_count": null,
      "metadata": {
        "id": "B3ROC0SOCgvp",
        "colab": {
          "base_uri": "https://localhost:8080/"
        },
        "outputId": "882164d2-2665-4454-80b3-47ef1ae207f0"
      },
      "outputs": [
        {
          "output_type": "stream",
          "name": "stdout",
          "text": [
            "\n",
            "ACC on training set: 0.9989166666666667\n",
            "ACC on validation set: 0.8415\n",
            "ACC on test set: 0.8272\n"
          ]
        }
      ],
      "source": [
        "# To use GridSearch un-comment the following 3 lines and comment \"RF = RandomForestClass...\":\n",
        "\n",
        "# param_grid = {'n_estimators':[10, 50, 100], 'max_depth':[8, 20, 50], 'min_samples_leaf':[2,3]}\n",
        "# RF_clf = RandomForestClassifier(criterion='entropy', random_state=123)\n",
        "# RF = GridSearchCV(RF_clf, param_grid=param_grid, scoring='accuracy', cv=5, verbose=2)\n",
        "\n",
        "RF = RandomForestClassifier(criterion='entropy', n_estimators=100, max_depth=50, min_samples_leaf=2, random_state=123)\n",
        "\n",
        "RF.fit(X_train_prep, y_train)\n",
        "\n",
        "y_train_pred = RF.predict(X_train_prep)\n",
        "y_val_pred = RF.predict(X_val_prep)\n",
        "y_test_pred = RF.predict(X_test_prep)\n",
        "\n",
        "print(f'\\nACC on training set: {accuracy_score(y_train, y_train_pred)}\\nACC on validation set: {accuracy_score(y_val, y_val_pred)}\\nACC on test set: {accuracy_score(y_test, y_test_pred)}')"
      ]
    },
    {
      "cell_type": "markdown",
      "metadata": {
        "id": "ep_v3Sy8rrwK"
      },
      "source": [
        "## k-Nearest-Neighbors\n",
        "* running time ~ 2 minutes\n",
        "* running time gridsearch ~ 11 minutes"
      ]
    },
    {
      "cell_type": "code",
      "execution_count": null,
      "metadata": {
        "id": "Aha-OC1srsCy",
        "colab": {
          "base_uri": "https://localhost:8080/"
        },
        "outputId": "79234dc2-d238-4c3e-f390-08c32c109cfb"
      },
      "outputs": [
        {
          "output_type": "stream",
          "name": "stdout",
          "text": [
            "\n",
            "ACC on training set: 1.0\n",
            "ACC on validation set: 0.84625\n",
            "ACC on test set: 0.8324\n"
          ]
        }
      ],
      "source": [
        "# To use GridSearch un-comment the following 3 lines and comment \"KNN = KNeighborsClass...\":\n",
        "\n",
        "# param_grid = {'n_neighbors' : [5, 10, 20, 50], 'weights' : ['uniform', 'distance']}\n",
        "# KNN_clf = KNeighborsClassifier(algorithm='auto', p=2, metric='minkowski', n_jobs=-1)\n",
        "# KNN = GridSearchCV(KNN_clf, param_grid=param_grid, scoring='accuracy', cv=5, verbose=2)\n",
        "\n",
        "KNN = KNeighborsClassifier(n_neighbors=10, weights='distance', algorithm='auto', p=2, metric='minkowski', n_jobs=-1)\n",
        "\n",
        "KNN.fit(X_train_prep, y_train)\n",
        "\n",
        "y_train_pred = KNN.predict(X_train_prep)\n",
        "y_val_pred = KNN.predict(X_val_prep)\n",
        "y_test_pred = KNN.predict(X_test_prep)\n",
        "\n",
        "print(f'\\nACC on training set: {accuracy_score(y_train, y_train_pred)}\\nACC on validation set: {accuracy_score(y_val, y_val_pred)}\\nACC on test set: {accuracy_score(y_test, y_test_pred)}')"
      ]
    },
    {
      "cell_type": "markdown",
      "source": [
        "Just as we did before, let's standardize the data."
      ],
      "metadata": {
        "id": "8vCkcQY7EPB9"
      }
    },
    {
      "cell_type": "code",
      "execution_count": 10,
      "metadata": {
        "id": "iM6oO7ANJy7i"
      },
      "outputs": [],
      "source": [
        "scaler = StandardScaler()\n",
        "scaler.fit(X_train_prep)\n",
        "X_train_prep_scaled = scaler.transform(X_train_prep)\n",
        "X_val_prep_scaled = scaler.transform(X_val_prep)\n",
        "X_test_prep_scaled = scaler.transform(X_test_prep)"
      ]
    },
    {
      "cell_type": "markdown",
      "metadata": {
        "id": "lp02Howpqh7b"
      },
      "source": [
        "## Multinomial Logistic Regression\n",
        "* running time ~ 1 minutes\n",
        "* running time gridsearch ~ 24 minutes"
      ]
    },
    {
      "cell_type": "code",
      "execution_count": null,
      "metadata": {
        "id": "xwJT9JSxqiOV",
        "colab": {
          "base_uri": "https://localhost:8080/"
        },
        "outputId": "7487c6a0-f010-4ad7-c15b-4736333afda8"
      },
      "outputs": [
        {
          "output_type": "stream",
          "name": "stderr",
          "text": [
            "[Parallel(n_jobs=-1)]: Using backend ThreadingBackend with 2 concurrent workers.\n"
          ]
        },
        {
          "output_type": "stream",
          "name": "stdout",
          "text": [
            "convergence after 152 epochs took 40 seconds\n",
            "\n",
            "ACC on training set: 0.8238541666666667\n",
            "ACC on validation set: 0.8293333333333334\n",
            "ACC on test set: 0.8154\n"
          ]
        },
        {
          "output_type": "stream",
          "name": "stderr",
          "text": [
            "[Parallel(n_jobs=-1)]: Done   1 out of   1 | elapsed:   39.4s finished\n"
          ]
        }
      ],
      "source": [
        "# To use GridSearch un-comment the following 3 lines and comment \"LR = LogisticRegression...\":\n",
        "\n",
        "# param_grid = {'solver' : ['liblinear', 'saga'], 'C' : [0.1, 1, 10], 'penalty' : ['l1', 'l2']}\n",
        "# LR_clf = LogisticRegression(tol=0.001, fit_intercept=True, random_state=123, max_iter=100, multi_class='auto')\n",
        "# LR = GridSearchCV(LR_clf, param_grid=param_grid, scoring='accuracy', cv=5, verbose=2)\n",
        "\n",
        "LR = LogisticRegression(penalty='l2', C=1 ,tol=0.001, fit_intercept=True, random_state=123, solver='saga', max_iter=2000, multi_class='auto', verbose=3, n_jobs=-1)\n",
        "\n",
        "LR.fit(X_train_prep_scaled, y_train)\n",
        "\n",
        "y_train_pred = LR.predict(X_train_prep_scaled)\n",
        "y_val_pred = LR.predict(X_val_prep_scaled)\n",
        "y_test_pred = LR.predict(X_test_prep_scaled)\n",
        "\n",
        "print(f'\\nACC on training set: {accuracy_score(y_train, y_train_pred)}\\nACC on validation set: {accuracy_score(y_val, y_val_pred)}\\nACC on test set: {accuracy_score(y_test, y_test_pred)}')"
      ]
    },
    {
      "cell_type": "markdown",
      "source": [
        "## Support Vector Machine\n",
        "* running time ~ 4 minutes\n",
        "* running time gridsearch ~ 2h"
      ],
      "metadata": {
        "id": "qheaeoGQOsWw"
      }
    },
    {
      "cell_type": "code",
      "source": [
        "# We tried GridSearch with the following parameters grid\n",
        "# param_grid = {'C':[0.1, 1, 10], 'kernel':['linear', 'poly', 'rbf'], 'degree':[2,3]}\n",
        "# svm_clf = SVC(tol=0.001, cache_size=2000, random_state=123)\n",
        "# svm = GridSearchCV(svm_clf, param_grid=param_grid, scoring='accuracy', cv=5, verbose=2)\n",
        "\n",
        "svm = SVC(C=10, kernel='rbf', tol=0.001, cache_size=4000, random_state=123)\n",
        "\n",
        "svm.fit(X_train_prep_scaled, y_train)\n",
        "\n",
        "y_train_pred = svm.predict(X_train_prep_scaled)\n",
        "y_val_pred = svm.predict(X_val_prep_scaled)\n",
        "y_test_pred = svm.predict(X_test_prep_scaled)\n",
        "\n",
        "print(f'\\nACC on training set: {accuracy_score(y_train, y_train_pred)}\\nACC on validation set: {accuracy_score(y_val, y_val_pred)}\\nACC on test set: {accuracy_score(y_test, y_test_pred)}')"
      ],
      "metadata": {
        "id": "OtIR6NDlOwxb",
        "colab": {
          "base_uri": "https://localhost:8080/"
        },
        "outputId": "7450048d-cd16-4a3d-f8ef-6678399e41e8"
      },
      "execution_count": null,
      "outputs": [
        {
          "output_type": "stream",
          "name": "stdout",
          "text": [
            "\n",
            "ACC on training set: 0.9730833333333333\n",
            "ACC on validation set: 0.8685833333333334\n",
            "ACC on test set: 0.8557\n"
          ]
        }
      ]
    },
    {
      "cell_type": "markdown",
      "metadata": {
        "id": "7tHZ1JfHJU8A"
      },
      "source": [
        "## Neural Networks\n",
        "* running time ~ 4 minutes\n",
        "* running time gridsearch ~ 40 minutes"
      ]
    },
    {
      "cell_type": "code",
      "source": [
        "#needed parameter for the model\n",
        "num_features = X_train_prep.shape[1]"
      ],
      "metadata": {
        "id": "ESju2iYd2Ga5"
      },
      "execution_count": 11,
      "outputs": []
    },
    {
      "cell_type": "code",
      "source": [
        "# GridSearch over number of hidden layers and number of units per layer\n",
        "\n",
        "n_layers = range(1, 5) # number hidden layers\n",
        "n_units = [25, 50, 100, 150, 300] # number of neurons per hidden layer\n",
        "\n",
        "for n_l in n_layers:\n",
        "  print(f'num layers del NN= {n_l+2}')\n",
        "  for n_u in n_units:\n",
        "    print('n_units per hidden layer =',n_u)\n",
        "    model = MLP_definer(num_features, num_classes, n_l, n_u, 'tanh', 'softmax')\n",
        "    hst = model.fit(X_train_prep_scaled, y_train_cat, epochs=30, batch_size=16, validation_split=0.15, callbacks=es, verbose=2)\n",
        "    print(f'training ACC: {hst.history[\"accuracy\"][-1]}\\tvalidaton ACC :{hst.history[\"val_accuracy\"][-1]}\\n')"
      ],
      "metadata": {
        "id": "TWTGPqkJdfJ8",
        "colab": {
          "base_uri": "https://localhost:8080/"
        },
        "outputId": "0cf27949-d84d-4c1b-d72f-168ef1a4589a"
      },
      "execution_count": null,
      "outputs": [
        {
          "output_type": "stream",
          "name": "stdout",
          "text": [
            "num layers del NN= 3\n",
            "n_units per hidden layer = 25\n",
            "Epoch 1/30\n",
            "2550/2550 - 4s - loss: 0.7894 - accuracy: 0.7324 - val_loss: 0.5915 - val_accuracy: 0.7856 - 4s/epoch - 2ms/step\n",
            "Epoch 2/30\n",
            "2550/2550 - 3s - loss: 0.5478 - accuracy: 0.8018 - val_loss: 0.5332 - val_accuracy: 0.8015 - 3s/epoch - 1ms/step\n",
            "Epoch 3/30\n",
            "2550/2550 - 3s - loss: 0.5040 - accuracy: 0.8165 - val_loss: 0.5057 - val_accuracy: 0.8108 - 3s/epoch - 1ms/step\n",
            "Epoch 4/30\n",
            "2550/2550 - 3s - loss: 0.4788 - accuracy: 0.8249 - val_loss: 0.4930 - val_accuracy: 0.8161 - 3s/epoch - 1ms/step\n",
            "Epoch 5/30\n",
            "2550/2550 - 3s - loss: 0.4607 - accuracy: 0.8302 - val_loss: 0.4806 - val_accuracy: 0.8210 - 3s/epoch - 1ms/step\n",
            "Epoch 6/30\n",
            "2550/2550 - 3s - loss: 0.4468 - accuracy: 0.8354 - val_loss: 0.4692 - val_accuracy: 0.8304 - 3s/epoch - 1ms/step\n",
            "Epoch 7/30\n",
            "2550/2550 - 3s - loss: 0.4345 - accuracy: 0.8397 - val_loss: 0.4634 - val_accuracy: 0.8310 - 3s/epoch - 1ms/step\n",
            "Epoch 8/30\n",
            "2550/2550 - 3s - loss: 0.4246 - accuracy: 0.8425 - val_loss: 0.4576 - val_accuracy: 0.8315 - 3s/epoch - 1ms/step\n",
            "Epoch 9/30\n",
            "2550/2550 - 3s - loss: 0.4154 - accuracy: 0.8464 - val_loss: 0.4499 - val_accuracy: 0.8361 - 3s/epoch - 1ms/step\n",
            "Epoch 10/30\n",
            "2550/2550 - 3s - loss: 0.4063 - accuracy: 0.8508 - val_loss: 0.4526 - val_accuracy: 0.8336 - 3s/epoch - 1ms/step\n",
            "Epoch 11/30\n",
            "2550/2550 - 3s - loss: 0.3992 - accuracy: 0.8530 - val_loss: 0.4397 - val_accuracy: 0.8406 - 3s/epoch - 1ms/step\n",
            "Epoch 12/30\n",
            "2550/2550 - 3s - loss: 0.3917 - accuracy: 0.8558 - val_loss: 0.4372 - val_accuracy: 0.8404 - 3s/epoch - 1ms/step\n",
            "Epoch 13/30\n",
            "2550/2550 - 3s - loss: 0.3858 - accuracy: 0.8574 - val_loss: 0.4347 - val_accuracy: 0.8417 - 3s/epoch - 1ms/step\n",
            "Epoch 14/30\n",
            "2550/2550 - 3s - loss: 0.3795 - accuracy: 0.8607 - val_loss: 0.4329 - val_accuracy: 0.8426 - 3s/epoch - 1ms/step\n",
            "Epoch 15/30\n",
            "2550/2550 - 3s - loss: 0.3733 - accuracy: 0.8628 - val_loss: 0.4324 - val_accuracy: 0.8438 - 3s/epoch - 1ms/step\n",
            "Epoch 16/30\n",
            "2550/2550 - 3s - loss: 0.3677 - accuracy: 0.8638 - val_loss: 0.4295 - val_accuracy: 0.8428 - 3s/epoch - 1ms/step\n",
            "Epoch 17/30\n",
            "2550/2550 - 3s - loss: 0.3620 - accuracy: 0.8664 - val_loss: 0.4304 - val_accuracy: 0.8438 - 3s/epoch - 1ms/step\n",
            "Epoch 18/30\n",
            "2550/2550 - 3s - loss: 0.3570 - accuracy: 0.8684 - val_loss: 0.4298 - val_accuracy: 0.8414 - 3s/epoch - 1ms/step\n",
            "Epoch 19/30\n",
            "2550/2550 - 3s - loss: 0.3524 - accuracy: 0.8699 - val_loss: 0.4254 - val_accuracy: 0.8451 - 3s/epoch - 1ms/step\n",
            "Epoch 20/30\n",
            "2550/2550 - 3s - loss: 0.3474 - accuracy: 0.8721 - val_loss: 0.4249 - val_accuracy: 0.8451 - 3s/epoch - 1ms/step\n",
            "Epoch 21/30\n",
            "2550/2550 - 3s - loss: 0.3433 - accuracy: 0.8732 - val_loss: 0.4226 - val_accuracy: 0.8453 - 3s/epoch - 1ms/step\n",
            "Epoch 22/30\n",
            "2550/2550 - 3s - loss: 0.3390 - accuracy: 0.8760 - val_loss: 0.4243 - val_accuracy: 0.8444 - 3s/epoch - 1ms/step\n",
            "Epoch 23/30\n",
            "2550/2550 - 3s - loss: 0.3348 - accuracy: 0.8760 - val_loss: 0.4275 - val_accuracy: 0.8432 - 3s/epoch - 1ms/step\n",
            "Epoch 24/30\n",
            "2550/2550 - 3s - loss: 0.3305 - accuracy: 0.8775 - val_loss: 0.4271 - val_accuracy: 0.8414 - 3s/epoch - 1ms/step\n",
            "Epoch 25/30\n",
            "2550/2550 - 3s - loss: 0.3267 - accuracy: 0.8797 - val_loss: 0.4226 - val_accuracy: 0.8447 - 3s/epoch - 1ms/step\n",
            "Epoch 26/30\n",
            "2550/2550 - 3s - loss: 0.3232 - accuracy: 0.8805 - val_loss: 0.4294 - val_accuracy: 0.8453 - 3s/epoch - 1ms/step\n",
            "Epoch 00026: early stopping\n",
            "training ACC: 0.8804656863212585\tvalidaton ACC :0.8452777862548828\n",
            "\n",
            "n_units per hidden layer = 50\n",
            "Epoch 1/30\n",
            "2550/2550 - 4s - loss: 0.7106 - accuracy: 0.7548 - val_loss: 0.5632 - val_accuracy: 0.7936 - 4s/epoch - 2ms/step\n",
            "Epoch 2/30\n",
            "2550/2550 - 3s - loss: 0.5251 - accuracy: 0.8082 - val_loss: 0.5204 - val_accuracy: 0.8094 - 3s/epoch - 1ms/step\n",
            "Epoch 3/30\n",
            "2550/2550 - 4s - loss: 0.4908 - accuracy: 0.8199 - val_loss: 0.4980 - val_accuracy: 0.8133 - 4s/epoch - 1ms/step\n",
            "Epoch 4/30\n",
            "2550/2550 - 4s - loss: 0.4694 - accuracy: 0.8283 - val_loss: 0.4879 - val_accuracy: 0.8186 - 4s/epoch - 1ms/step\n",
            "Epoch 5/30\n",
            "2550/2550 - 3s - loss: 0.4531 - accuracy: 0.8319 - val_loss: 0.4785 - val_accuracy: 0.8190 - 3s/epoch - 1ms/step\n",
            "Epoch 6/30\n",
            "2550/2550 - 4s - loss: 0.4399 - accuracy: 0.8377 - val_loss: 0.4665 - val_accuracy: 0.8275 - 4s/epoch - 1ms/step\n",
            "Epoch 7/30\n",
            "2550/2550 - 4s - loss: 0.4278 - accuracy: 0.8422 - val_loss: 0.4608 - val_accuracy: 0.8271 - 4s/epoch - 1ms/step\n",
            "Epoch 8/30\n",
            "2550/2550 - 3s - loss: 0.4182 - accuracy: 0.8437 - val_loss: 0.4566 - val_accuracy: 0.8306 - 3s/epoch - 1ms/step\n",
            "Epoch 9/30\n",
            "2550/2550 - 4s - loss: 0.4093 - accuracy: 0.8481 - val_loss: 0.4496 - val_accuracy: 0.8343 - 4s/epoch - 1ms/step\n",
            "Epoch 10/30\n",
            "2550/2550 - 4s - loss: 0.4003 - accuracy: 0.8520 - val_loss: 0.4518 - val_accuracy: 0.8322 - 4s/epoch - 1ms/step\n",
            "Epoch 11/30\n",
            "2550/2550 - 4s - loss: 0.3931 - accuracy: 0.8538 - val_loss: 0.4413 - val_accuracy: 0.8364 - 4s/epoch - 1ms/step\n",
            "Epoch 12/30\n",
            "2550/2550 - 3s - loss: 0.3860 - accuracy: 0.8578 - val_loss: 0.4370 - val_accuracy: 0.8399 - 3s/epoch - 1ms/step\n",
            "Epoch 13/30\n",
            "2550/2550 - 3s - loss: 0.3798 - accuracy: 0.8591 - val_loss: 0.4366 - val_accuracy: 0.8389 - 3s/epoch - 1ms/step\n",
            "Epoch 14/30\n",
            "2550/2550 - 3s - loss: 0.3735 - accuracy: 0.8615 - val_loss: 0.4329 - val_accuracy: 0.8406 - 3s/epoch - 1ms/step\n",
            "Epoch 15/30\n",
            "2550/2550 - 4s - loss: 0.3674 - accuracy: 0.8639 - val_loss: 0.4354 - val_accuracy: 0.8369 - 4s/epoch - 1ms/step\n",
            "Epoch 16/30\n",
            "2550/2550 - 3s - loss: 0.3618 - accuracy: 0.8660 - val_loss: 0.4316 - val_accuracy: 0.8385 - 3s/epoch - 1ms/step\n",
            "Epoch 17/30\n",
            "2550/2550 - 3s - loss: 0.3563 - accuracy: 0.8676 - val_loss: 0.4350 - val_accuracy: 0.8372 - 3s/epoch - 1ms/step\n",
            "Epoch 18/30\n",
            "2550/2550 - 4s - loss: 0.3512 - accuracy: 0.8704 - val_loss: 0.4294 - val_accuracy: 0.8429 - 4s/epoch - 1ms/step\n",
            "Epoch 19/30\n",
            "2550/2550 - 4s - loss: 0.3468 - accuracy: 0.8719 - val_loss: 0.4265 - val_accuracy: 0.8411 - 4s/epoch - 1ms/step\n",
            "Epoch 20/30\n",
            "2550/2550 - 3s - loss: 0.3417 - accuracy: 0.8733 - val_loss: 0.4239 - val_accuracy: 0.8450 - 3s/epoch - 1ms/step\n",
            "Epoch 21/30\n",
            "2550/2550 - 3s - loss: 0.3372 - accuracy: 0.8753 - val_loss: 0.4220 - val_accuracy: 0.8432 - 3s/epoch - 1ms/step\n",
            "Epoch 22/30\n",
            "2550/2550 - 4s - loss: 0.3330 - accuracy: 0.8772 - val_loss: 0.4274 - val_accuracy: 0.8419 - 4s/epoch - 1ms/step\n",
            "Epoch 23/30\n",
            "2550/2550 - 3s - loss: 0.3290 - accuracy: 0.8769 - val_loss: 0.4245 - val_accuracy: 0.8418 - 3s/epoch - 1ms/step\n",
            "Epoch 24/30\n",
            "2550/2550 - 4s - loss: 0.3242 - accuracy: 0.8801 - val_loss: 0.4248 - val_accuracy: 0.8456 - 4s/epoch - 1ms/step\n",
            "Epoch 25/30\n",
            "2550/2550 - 3s - loss: 0.3207 - accuracy: 0.8819 - val_loss: 0.4231 - val_accuracy: 0.8483 - 3s/epoch - 1ms/step\n",
            "Epoch 26/30\n",
            "2550/2550 - 3s - loss: 0.3167 - accuracy: 0.8832 - val_loss: 0.4304 - val_accuracy: 0.8447 - 3s/epoch - 1ms/step\n",
            "Epoch 00026: early stopping\n",
            "training ACC: 0.8831862807273865\tvalidaton ACC :0.8447222113609314\n",
            "\n",
            "n_units per hidden layer = 100\n",
            "Epoch 1/30\n",
            "2550/2550 - 4s - loss: 0.6854 - accuracy: 0.7604 - val_loss: 0.5506 - val_accuracy: 0.7960 - 4s/epoch - 2ms/step\n",
            "Epoch 2/30\n",
            "2550/2550 - 4s - loss: 0.5152 - accuracy: 0.8117 - val_loss: 0.5119 - val_accuracy: 0.8136 - 4s/epoch - 1ms/step\n",
            "Epoch 3/30\n",
            "2550/2550 - 3s - loss: 0.4823 - accuracy: 0.8209 - val_loss: 0.4885 - val_accuracy: 0.8207 - 3s/epoch - 1ms/step\n",
            "Epoch 4/30\n",
            "2550/2550 - 3s - loss: 0.4614 - accuracy: 0.8297 - val_loss: 0.4797 - val_accuracy: 0.8231 - 3s/epoch - 1ms/step\n",
            "Epoch 5/30\n",
            "2550/2550 - 3s - loss: 0.4454 - accuracy: 0.8342 - val_loss: 0.4688 - val_accuracy: 0.8264 - 3s/epoch - 1ms/step\n",
            "Epoch 6/30\n",
            "2550/2550 - 4s - loss: 0.4321 - accuracy: 0.8411 - val_loss: 0.4570 - val_accuracy: 0.8310 - 4s/epoch - 1ms/step\n",
            "Epoch 7/30\n",
            "2550/2550 - 4s - loss: 0.4198 - accuracy: 0.8448 - val_loss: 0.4523 - val_accuracy: 0.8328 - 4s/epoch - 1ms/step\n",
            "Epoch 8/30\n",
            "2550/2550 - 3s - loss: 0.4099 - accuracy: 0.8480 - val_loss: 0.4491 - val_accuracy: 0.8368 - 3s/epoch - 1ms/step\n",
            "Epoch 9/30\n",
            "2550/2550 - 3s - loss: 0.4005 - accuracy: 0.8524 - val_loss: 0.4417 - val_accuracy: 0.8397 - 3s/epoch - 1ms/step\n",
            "Epoch 10/30\n",
            "2550/2550 - 3s - loss: 0.3909 - accuracy: 0.8543 - val_loss: 0.4451 - val_accuracy: 0.8388 - 3s/epoch - 1ms/step\n",
            "Epoch 11/30\n",
            "2550/2550 - 3s - loss: 0.3839 - accuracy: 0.8583 - val_loss: 0.4320 - val_accuracy: 0.8411 - 3s/epoch - 1ms/step\n",
            "Epoch 12/30\n",
            "2550/2550 - 4s - loss: 0.3764 - accuracy: 0.8609 - val_loss: 0.4279 - val_accuracy: 0.8438 - 4s/epoch - 1ms/step\n",
            "Epoch 13/30\n",
            "2550/2550 - 3s - loss: 0.3702 - accuracy: 0.8629 - val_loss: 0.4293 - val_accuracy: 0.8415 - 3s/epoch - 1ms/step\n",
            "Epoch 14/30\n",
            "2550/2550 - 3s - loss: 0.3637 - accuracy: 0.8648 - val_loss: 0.4279 - val_accuracy: 0.8433 - 3s/epoch - 1ms/step\n",
            "Epoch 15/30\n",
            "2550/2550 - 3s - loss: 0.3576 - accuracy: 0.8674 - val_loss: 0.4306 - val_accuracy: 0.8429 - 3s/epoch - 1ms/step\n",
            "Epoch 16/30\n",
            "2550/2550 - 3s - loss: 0.3520 - accuracy: 0.8692 - val_loss: 0.4249 - val_accuracy: 0.8443 - 3s/epoch - 1ms/step\n",
            "Epoch 17/30\n",
            "2550/2550 - 3s - loss: 0.3462 - accuracy: 0.8713 - val_loss: 0.4275 - val_accuracy: 0.8429 - 3s/epoch - 1ms/step\n",
            "Epoch 18/30\n",
            "2550/2550 - 3s - loss: 0.3413 - accuracy: 0.8747 - val_loss: 0.4244 - val_accuracy: 0.8458 - 3s/epoch - 1ms/step\n",
            "Epoch 19/30\n",
            "2550/2550 - 3s - loss: 0.3365 - accuracy: 0.8757 - val_loss: 0.4230 - val_accuracy: 0.8449 - 3s/epoch - 1ms/step\n",
            "Epoch 20/30\n",
            "2550/2550 - 4s - loss: 0.3313 - accuracy: 0.8772 - val_loss: 0.4228 - val_accuracy: 0.8451 - 4s/epoch - 1ms/step\n",
            "Epoch 21/30\n",
            "2550/2550 - 3s - loss: 0.3269 - accuracy: 0.8798 - val_loss: 0.4171 - val_accuracy: 0.8476 - 3s/epoch - 1ms/step\n",
            "Epoch 22/30\n",
            "2550/2550 - 3s - loss: 0.3228 - accuracy: 0.8806 - val_loss: 0.4219 - val_accuracy: 0.8433 - 3s/epoch - 1ms/step\n",
            "Epoch 23/30\n",
            "2550/2550 - 3s - loss: 0.3185 - accuracy: 0.8820 - val_loss: 0.4203 - val_accuracy: 0.8467 - 3s/epoch - 1ms/step\n",
            "Epoch 24/30\n",
            "2550/2550 - 4s - loss: 0.3137 - accuracy: 0.8843 - val_loss: 0.4229 - val_accuracy: 0.8467 - 4s/epoch - 1ms/step\n",
            "Epoch 25/30\n",
            "2550/2550 - 4s - loss: 0.3106 - accuracy: 0.8858 - val_loss: 0.4212 - val_accuracy: 0.8467 - 4s/epoch - 1ms/step\n",
            "Epoch 26/30\n",
            "2550/2550 - 3s - loss: 0.3061 - accuracy: 0.8877 - val_loss: 0.4261 - val_accuracy: 0.8447 - 3s/epoch - 1ms/step\n",
            "Epoch 00026: early stopping\n",
            "training ACC: 0.8877205848693848\tvalidaton ACC :0.8447222113609314\n",
            "\n",
            "n_units per hidden layer = 150\n",
            "Epoch 1/30\n",
            "2550/2550 - 4s - loss: 0.6864 - accuracy: 0.7576 - val_loss: 0.5569 - val_accuracy: 0.7892 - 4s/epoch - 2ms/step\n",
            "Epoch 2/30\n",
            "2550/2550 - 3s - loss: 0.5195 - accuracy: 0.8081 - val_loss: 0.5188 - val_accuracy: 0.8069 - 3s/epoch - 1ms/step\n",
            "Epoch 3/30\n",
            "2550/2550 - 3s - loss: 0.4872 - accuracy: 0.8181 - val_loss: 0.4965 - val_accuracy: 0.8129 - 3s/epoch - 1ms/step\n",
            "Epoch 4/30\n",
            "2550/2550 - 3s - loss: 0.4665 - accuracy: 0.8276 - val_loss: 0.4870 - val_accuracy: 0.8156 - 3s/epoch - 1ms/step\n",
            "Epoch 5/30\n",
            "2550/2550 - 3s - loss: 0.4504 - accuracy: 0.8323 - val_loss: 0.4753 - val_accuracy: 0.8218 - 3s/epoch - 1ms/step\n",
            "Epoch 6/30\n",
            "2550/2550 - 4s - loss: 0.4371 - accuracy: 0.8382 - val_loss: 0.4630 - val_accuracy: 0.8286 - 4s/epoch - 1ms/step\n",
            "Epoch 7/30\n",
            "2550/2550 - 3s - loss: 0.4249 - accuracy: 0.8422 - val_loss: 0.4571 - val_accuracy: 0.8297 - 3s/epoch - 1ms/step\n",
            "Epoch 8/30\n",
            "2550/2550 - 3s - loss: 0.4151 - accuracy: 0.8464 - val_loss: 0.4525 - val_accuracy: 0.8308 - 3s/epoch - 1ms/step\n",
            "Epoch 9/30\n",
            "2550/2550 - 4s - loss: 0.4058 - accuracy: 0.8484 - val_loss: 0.4456 - val_accuracy: 0.8372 - 4s/epoch - 1ms/step\n",
            "Epoch 10/30\n",
            "2550/2550 - 3s - loss: 0.3965 - accuracy: 0.8533 - val_loss: 0.4469 - val_accuracy: 0.8326 - 3s/epoch - 1ms/step\n",
            "Epoch 11/30\n",
            "2550/2550 - 3s - loss: 0.3894 - accuracy: 0.8560 - val_loss: 0.4338 - val_accuracy: 0.8383 - 3s/epoch - 1ms/step\n",
            "Epoch 12/30\n",
            "2550/2550 - 3s - loss: 0.3821 - accuracy: 0.8577 - val_loss: 0.4288 - val_accuracy: 0.8419 - 3s/epoch - 1ms/step\n",
            "Epoch 13/30\n",
            "2550/2550 - 4s - loss: 0.3759 - accuracy: 0.8605 - val_loss: 0.4310 - val_accuracy: 0.8414 - 4s/epoch - 1ms/step\n",
            "Epoch 14/30\n",
            "2550/2550 - 3s - loss: 0.3691 - accuracy: 0.8640 - val_loss: 0.4277 - val_accuracy: 0.8424 - 3s/epoch - 1ms/step\n",
            "Epoch 15/30\n",
            "2550/2550 - 4s - loss: 0.3634 - accuracy: 0.8644 - val_loss: 0.4266 - val_accuracy: 0.8426 - 4s/epoch - 1ms/step\n",
            "Epoch 16/30\n",
            "2550/2550 - 4s - loss: 0.3574 - accuracy: 0.8675 - val_loss: 0.4256 - val_accuracy: 0.8413 - 4s/epoch - 1ms/step\n",
            "Epoch 17/30\n",
            "2550/2550 - 4s - loss: 0.3514 - accuracy: 0.8689 - val_loss: 0.4282 - val_accuracy: 0.8400 - 4s/epoch - 1ms/step\n",
            "Epoch 18/30\n",
            "2550/2550 - 4s - loss: 0.3462 - accuracy: 0.8720 - val_loss: 0.4233 - val_accuracy: 0.8435 - 4s/epoch - 1ms/step\n",
            "Epoch 19/30\n",
            "2550/2550 - 4s - loss: 0.3412 - accuracy: 0.8734 - val_loss: 0.4200 - val_accuracy: 0.8440 - 4s/epoch - 1ms/step\n",
            "Epoch 20/30\n",
            "2550/2550 - 4s - loss: 0.3360 - accuracy: 0.8756 - val_loss: 0.4163 - val_accuracy: 0.8457 - 4s/epoch - 1ms/step\n",
            "Epoch 21/30\n",
            "2550/2550 - 4s - loss: 0.3314 - accuracy: 0.8774 - val_loss: 0.4123 - val_accuracy: 0.8493 - 4s/epoch - 1ms/step\n",
            "Epoch 22/30\n",
            "2550/2550 - 4s - loss: 0.3268 - accuracy: 0.8787 - val_loss: 0.4173 - val_accuracy: 0.8460 - 4s/epoch - 1ms/step\n",
            "Epoch 23/30\n",
            "2550/2550 - 4s - loss: 0.3221 - accuracy: 0.8807 - val_loss: 0.4169 - val_accuracy: 0.8450 - 4s/epoch - 1ms/step\n",
            "Epoch 24/30\n",
            "2550/2550 - 4s - loss: 0.3176 - accuracy: 0.8819 - val_loss: 0.4164 - val_accuracy: 0.8468 - 4s/epoch - 1ms/step\n",
            "Epoch 25/30\n",
            "2550/2550 - 4s - loss: 0.3136 - accuracy: 0.8845 - val_loss: 0.4168 - val_accuracy: 0.8453 - 4s/epoch - 1ms/step\n",
            "Epoch 26/30\n",
            "2550/2550 - 3s - loss: 0.3095 - accuracy: 0.8858 - val_loss: 0.4218 - val_accuracy: 0.8424 - 3s/epoch - 1ms/step\n",
            "Epoch 00026: early stopping\n",
            "training ACC: 0.8857598304748535\tvalidaton ACC :0.8423610925674438\n",
            "\n",
            "n_units per hidden layer = 300\n",
            "Epoch 1/30\n",
            "2550/2550 - 4s - loss: 0.6695 - accuracy: 0.7652 - val_loss: 0.5481 - val_accuracy: 0.7968 - 4s/epoch - 2ms/step\n",
            "Epoch 2/30\n",
            "2550/2550 - 4s - loss: 0.5164 - accuracy: 0.8097 - val_loss: 0.5143 - val_accuracy: 0.8107 - 4s/epoch - 1ms/step\n",
            "Epoch 3/30\n",
            "2550/2550 - 4s - loss: 0.4868 - accuracy: 0.8183 - val_loss: 0.4916 - val_accuracy: 0.8171 - 4s/epoch - 1ms/step\n",
            "Epoch 4/30\n",
            "2550/2550 - 4s - loss: 0.4674 - accuracy: 0.8269 - val_loss: 0.4834 - val_accuracy: 0.8194 - 4s/epoch - 1ms/step\n",
            "Epoch 5/30\n",
            "2550/2550 - 4s - loss: 0.4521 - accuracy: 0.8312 - val_loss: 0.4723 - val_accuracy: 0.8233 - 4s/epoch - 1ms/step\n",
            "Epoch 6/30\n",
            "2550/2550 - 4s - loss: 0.4396 - accuracy: 0.8375 - val_loss: 0.4599 - val_accuracy: 0.8329 - 4s/epoch - 1ms/step\n",
            "Epoch 7/30\n",
            "2550/2550 - 4s - loss: 0.4278 - accuracy: 0.8418 - val_loss: 0.4560 - val_accuracy: 0.8311 - 4s/epoch - 1ms/step\n",
            "Epoch 8/30\n",
            "2550/2550 - 4s - loss: 0.4181 - accuracy: 0.8442 - val_loss: 0.4520 - val_accuracy: 0.8346 - 4s/epoch - 1ms/step\n",
            "Epoch 9/30\n",
            "2550/2550 - 4s - loss: 0.4090 - accuracy: 0.8480 - val_loss: 0.4438 - val_accuracy: 0.8358 - 4s/epoch - 1ms/step\n",
            "Epoch 10/30\n",
            "2550/2550 - 4s - loss: 0.3995 - accuracy: 0.8526 - val_loss: 0.4482 - val_accuracy: 0.8329 - 4s/epoch - 1ms/step\n",
            "Epoch 11/30\n",
            "2550/2550 - 4s - loss: 0.3927 - accuracy: 0.8545 - val_loss: 0.4348 - val_accuracy: 0.8347 - 4s/epoch - 1ms/step\n",
            "Epoch 12/30\n",
            "2550/2550 - 4s - loss: 0.3853 - accuracy: 0.8575 - val_loss: 0.4308 - val_accuracy: 0.8413 - 4s/epoch - 1ms/step\n",
            "Epoch 13/30\n",
            "2550/2550 - 4s - loss: 0.3794 - accuracy: 0.8588 - val_loss: 0.4329 - val_accuracy: 0.8429 - 4s/epoch - 2ms/step\n",
            "Epoch 14/30\n",
            "2550/2550 - 4s - loss: 0.3727 - accuracy: 0.8614 - val_loss: 0.4300 - val_accuracy: 0.8417 - 4s/epoch - 1ms/step\n",
            "Epoch 15/30\n",
            "2550/2550 - 4s - loss: 0.3669 - accuracy: 0.8647 - val_loss: 0.4326 - val_accuracy: 0.8379 - 4s/epoch - 1ms/step\n",
            "Epoch 16/30\n",
            "2550/2550 - 4s - loss: 0.3609 - accuracy: 0.8656 - val_loss: 0.4318 - val_accuracy: 0.8408 - 4s/epoch - 1ms/step\n",
            "Epoch 17/30\n",
            "2550/2550 - 4s - loss: 0.3550 - accuracy: 0.8674 - val_loss: 0.4310 - val_accuracy: 0.8421 - 4s/epoch - 1ms/step\n",
            "Epoch 18/30\n",
            "2550/2550 - 4s - loss: 0.3502 - accuracy: 0.8701 - val_loss: 0.4279 - val_accuracy: 0.8444 - 4s/epoch - 1ms/step\n",
            "Epoch 19/30\n",
            "2550/2550 - 4s - loss: 0.3454 - accuracy: 0.8714 - val_loss: 0.4261 - val_accuracy: 0.8424 - 4s/epoch - 1ms/step\n",
            "Epoch 20/30\n",
            "2550/2550 - 4s - loss: 0.3402 - accuracy: 0.8745 - val_loss: 0.4272 - val_accuracy: 0.8417 - 4s/epoch - 1ms/step\n",
            "Epoch 21/30\n",
            "2550/2550 - 4s - loss: 0.3359 - accuracy: 0.8752 - val_loss: 0.4188 - val_accuracy: 0.8457 - 4s/epoch - 1ms/step\n",
            "Epoch 22/30\n",
            "2550/2550 - 4s - loss: 0.3318 - accuracy: 0.8765 - val_loss: 0.4238 - val_accuracy: 0.8490 - 4s/epoch - 1ms/step\n",
            "Epoch 23/30\n",
            "2550/2550 - 4s - loss: 0.3276 - accuracy: 0.8772 - val_loss: 0.4229 - val_accuracy: 0.8440 - 4s/epoch - 1ms/step\n",
            "Epoch 24/30\n",
            "2550/2550 - 4s - loss: 0.3224 - accuracy: 0.8793 - val_loss: 0.4267 - val_accuracy: 0.8443 - 4s/epoch - 1ms/step\n",
            "Epoch 25/30\n",
            "2550/2550 - 4s - loss: 0.3197 - accuracy: 0.8811 - val_loss: 0.4234 - val_accuracy: 0.8489 - 4s/epoch - 1ms/step\n",
            "Epoch 26/30\n",
            "2550/2550 - 4s - loss: 0.3150 - accuracy: 0.8828 - val_loss: 0.4296 - val_accuracy: 0.8436 - 4s/epoch - 1ms/step\n",
            "Epoch 00026: early stopping\n",
            "training ACC: 0.8828186392784119\tvalidaton ACC :0.8436111211776733\n",
            "\n",
            "num layers del NN= 4\n",
            "n_units per hidden layer = 25\n",
            "Epoch 1/30\n",
            "2550/2550 - 4s - loss: 0.8228 - accuracy: 0.7275 - val_loss: 0.6010 - val_accuracy: 0.7833 - 4s/epoch - 2ms/step\n",
            "Epoch 2/30\n",
            "2550/2550 - 3s - loss: 0.5547 - accuracy: 0.7994 - val_loss: 0.5395 - val_accuracy: 0.7994 - 3s/epoch - 1ms/step\n",
            "Epoch 3/30\n",
            "2550/2550 - 3s - loss: 0.5073 - accuracy: 0.8150 - val_loss: 0.5100 - val_accuracy: 0.8089 - 3s/epoch - 1ms/step\n",
            "Epoch 4/30\n",
            "2550/2550 - 3s - loss: 0.4793 - accuracy: 0.8241 - val_loss: 0.4932 - val_accuracy: 0.8156 - 3s/epoch - 1ms/step\n",
            "Epoch 5/30\n",
            "2550/2550 - 3s - loss: 0.4589 - accuracy: 0.8323 - val_loss: 0.4849 - val_accuracy: 0.8197 - 3s/epoch - 1ms/step\n",
            "Epoch 6/30\n",
            "2550/2550 - 3s - loss: 0.4428 - accuracy: 0.8370 - val_loss: 0.4708 - val_accuracy: 0.8282 - 3s/epoch - 1ms/step\n",
            "Epoch 7/30\n",
            "2550/2550 - 3s - loss: 0.4285 - accuracy: 0.8417 - val_loss: 0.4671 - val_accuracy: 0.8279 - 3s/epoch - 1ms/step\n",
            "Epoch 8/30\n",
            "2550/2550 - 3s - loss: 0.4173 - accuracy: 0.8453 - val_loss: 0.4628 - val_accuracy: 0.8308 - 3s/epoch - 1ms/step\n",
            "Epoch 9/30\n",
            "2550/2550 - 3s - loss: 0.4070 - accuracy: 0.8489 - val_loss: 0.4542 - val_accuracy: 0.8322 - 3s/epoch - 1ms/step\n",
            "Epoch 10/30\n",
            "2550/2550 - 3s - loss: 0.3964 - accuracy: 0.8528 - val_loss: 0.4597 - val_accuracy: 0.8283 - 3s/epoch - 1ms/step\n",
            "Epoch 11/30\n",
            "2550/2550 - 3s - loss: 0.3884 - accuracy: 0.8565 - val_loss: 0.4466 - val_accuracy: 0.8336 - 3s/epoch - 1ms/step\n",
            "Epoch 12/30\n",
            "2550/2550 - 3s - loss: 0.3806 - accuracy: 0.8588 - val_loss: 0.4420 - val_accuracy: 0.8358 - 3s/epoch - 1ms/step\n",
            "Epoch 13/30\n",
            "2550/2550 - 3s - loss: 0.3732 - accuracy: 0.8627 - val_loss: 0.4437 - val_accuracy: 0.8354 - 3s/epoch - 1ms/step\n",
            "Epoch 14/30\n",
            "2550/2550 - 3s - loss: 0.3664 - accuracy: 0.8646 - val_loss: 0.4414 - val_accuracy: 0.8369 - 3s/epoch - 1ms/step\n",
            "Epoch 15/30\n",
            "2550/2550 - 3s - loss: 0.3597 - accuracy: 0.8666 - val_loss: 0.4479 - val_accuracy: 0.8343 - 3s/epoch - 1ms/step\n",
            "Epoch 16/30\n",
            "2550/2550 - 3s - loss: 0.3536 - accuracy: 0.8689 - val_loss: 0.4400 - val_accuracy: 0.8369 - 3s/epoch - 1ms/step\n",
            "Epoch 17/30\n",
            "2550/2550 - 3s - loss: 0.3484 - accuracy: 0.8721 - val_loss: 0.4391 - val_accuracy: 0.8351 - 3s/epoch - 1ms/step\n",
            "Epoch 18/30\n",
            "2550/2550 - 3s - loss: 0.3426 - accuracy: 0.8736 - val_loss: 0.4441 - val_accuracy: 0.8367 - 3s/epoch - 1ms/step\n",
            "Epoch 19/30\n",
            "2550/2550 - 3s - loss: 0.3371 - accuracy: 0.8759 - val_loss: 0.4396 - val_accuracy: 0.8411 - 3s/epoch - 1ms/step\n",
            "Epoch 20/30\n",
            "2550/2550 - 3s - loss: 0.3322 - accuracy: 0.8767 - val_loss: 0.4355 - val_accuracy: 0.8406 - 3s/epoch - 1ms/step\n",
            "Epoch 21/30\n",
            "2550/2550 - 3s - loss: 0.3281 - accuracy: 0.8788 - val_loss: 0.4324 - val_accuracy: 0.8417 - 3s/epoch - 1ms/step\n",
            "Epoch 22/30\n",
            "2550/2550 - 3s - loss: 0.3235 - accuracy: 0.8818 - val_loss: 0.4391 - val_accuracy: 0.8376 - 3s/epoch - 1ms/step\n",
            "Epoch 23/30\n",
            "2550/2550 - 3s - loss: 0.3190 - accuracy: 0.8808 - val_loss: 0.4353 - val_accuracy: 0.8431 - 3s/epoch - 1ms/step\n",
            "Epoch 24/30\n",
            "2550/2550 - 3s - loss: 0.3146 - accuracy: 0.8855 - val_loss: 0.4400 - val_accuracy: 0.8394 - 3s/epoch - 1ms/step\n",
            "Epoch 25/30\n",
            "2550/2550 - 3s - loss: 0.3109 - accuracy: 0.8844 - val_loss: 0.4358 - val_accuracy: 0.8417 - 3s/epoch - 1ms/step\n",
            "Epoch 26/30\n",
            "2550/2550 - 3s - loss: 0.3068 - accuracy: 0.8871 - val_loss: 0.4460 - val_accuracy: 0.8397 - 3s/epoch - 1ms/step\n",
            "Epoch 00026: early stopping\n",
            "training ACC: 0.8871323466300964\tvalidaton ACC :0.839722216129303\n",
            "\n",
            "n_units per hidden layer = 50\n",
            "Epoch 1/30\n",
            "2550/2550 - 4s - loss: 0.7183 - accuracy: 0.7507 - val_loss: 0.5611 - val_accuracy: 0.7932 - 4s/epoch - 2ms/step\n",
            "Epoch 2/30\n",
            "2550/2550 - 3s - loss: 0.5202 - accuracy: 0.8102 - val_loss: 0.5177 - val_accuracy: 0.8111 - 3s/epoch - 1ms/step\n",
            "Epoch 3/30\n",
            "2550/2550 - 3s - loss: 0.4834 - accuracy: 0.8217 - val_loss: 0.4909 - val_accuracy: 0.8192 - 3s/epoch - 1ms/step\n",
            "Epoch 4/30\n",
            "2550/2550 - 4s - loss: 0.4606 - accuracy: 0.8319 - val_loss: 0.4804 - val_accuracy: 0.8243 - 4s/epoch - 1ms/step\n",
            "Epoch 5/30\n",
            "2550/2550 - 3s - loss: 0.4430 - accuracy: 0.8381 - val_loss: 0.4684 - val_accuracy: 0.8264 - 3s/epoch - 1ms/step\n",
            "Epoch 6/30\n",
            "2550/2550 - 3s - loss: 0.4284 - accuracy: 0.8435 - val_loss: 0.4559 - val_accuracy: 0.8342 - 3s/epoch - 1ms/step\n",
            "Epoch 7/30\n",
            "2550/2550 - 3s - loss: 0.4150 - accuracy: 0.8476 - val_loss: 0.4520 - val_accuracy: 0.8319 - 3s/epoch - 1ms/step\n",
            "Epoch 8/30\n",
            "2550/2550 - 4s - loss: 0.4047 - accuracy: 0.8514 - val_loss: 0.4458 - val_accuracy: 0.8358 - 4s/epoch - 1ms/step\n",
            "Epoch 9/30\n",
            "2550/2550 - 3s - loss: 0.3950 - accuracy: 0.8545 - val_loss: 0.4388 - val_accuracy: 0.8422 - 3s/epoch - 1ms/step\n",
            "Epoch 10/30\n",
            "2550/2550 - 3s - loss: 0.3849 - accuracy: 0.8587 - val_loss: 0.4443 - val_accuracy: 0.8368 - 3s/epoch - 1ms/step\n",
            "Epoch 11/30\n",
            "2550/2550 - 3s - loss: 0.3770 - accuracy: 0.8600 - val_loss: 0.4291 - val_accuracy: 0.8417 - 3s/epoch - 1ms/step\n",
            "Epoch 12/30\n",
            "2550/2550 - 3s - loss: 0.3690 - accuracy: 0.8648 - val_loss: 0.4253 - val_accuracy: 0.8493 - 3s/epoch - 1ms/step\n",
            "Epoch 13/30\n",
            "2550/2550 - 4s - loss: 0.3625 - accuracy: 0.8659 - val_loss: 0.4297 - val_accuracy: 0.8453 - 4s/epoch - 1ms/step\n",
            "Epoch 14/30\n",
            "2550/2550 - 3s - loss: 0.3554 - accuracy: 0.8682 - val_loss: 0.4262 - val_accuracy: 0.8461 - 3s/epoch - 1ms/step\n",
            "Epoch 15/30\n",
            "2550/2550 - 3s - loss: 0.3492 - accuracy: 0.8711 - val_loss: 0.4276 - val_accuracy: 0.8444 - 3s/epoch - 1ms/step\n",
            "Epoch 16/30\n",
            "2550/2550 - 3s - loss: 0.3431 - accuracy: 0.8717 - val_loss: 0.4259 - val_accuracy: 0.8443 - 3s/epoch - 1ms/step\n",
            "Epoch 17/30\n",
            "2550/2550 - 4s - loss: 0.3367 - accuracy: 0.8754 - val_loss: 0.4249 - val_accuracy: 0.8449 - 4s/epoch - 1ms/step\n",
            "Epoch 18/30\n",
            "2550/2550 - 3s - loss: 0.3312 - accuracy: 0.8778 - val_loss: 0.4226 - val_accuracy: 0.8474 - 3s/epoch - 1ms/step\n",
            "Epoch 19/30\n",
            "2550/2550 - 3s - loss: 0.3263 - accuracy: 0.8795 - val_loss: 0.4243 - val_accuracy: 0.8499 - 3s/epoch - 1ms/step\n",
            "Epoch 20/30\n",
            "2550/2550 - 3s - loss: 0.3209 - accuracy: 0.8812 - val_loss: 0.4191 - val_accuracy: 0.8500 - 3s/epoch - 1ms/step\n",
            "Epoch 21/30\n",
            "2550/2550 - 3s - loss: 0.3163 - accuracy: 0.8822 - val_loss: 0.4168 - val_accuracy: 0.8506 - 3s/epoch - 1ms/step\n",
            "Epoch 22/30\n",
            "2550/2550 - 4s - loss: 0.3116 - accuracy: 0.8845 - val_loss: 0.4216 - val_accuracy: 0.8476 - 4s/epoch - 1ms/step\n",
            "Epoch 23/30\n",
            "2550/2550 - 3s - loss: 0.3074 - accuracy: 0.8848 - val_loss: 0.4229 - val_accuracy: 0.8460 - 3s/epoch - 1ms/step\n",
            "Epoch 24/30\n",
            "2550/2550 - 3s - loss: 0.3016 - accuracy: 0.8875 - val_loss: 0.4251 - val_accuracy: 0.8467 - 3s/epoch - 1ms/step\n",
            "Epoch 25/30\n",
            "2550/2550 - 3s - loss: 0.2985 - accuracy: 0.8885 - val_loss: 0.4218 - val_accuracy: 0.8497 - 3s/epoch - 1ms/step\n",
            "Epoch 26/30\n",
            "2550/2550 - 4s - loss: 0.2941 - accuracy: 0.8913 - val_loss: 0.4356 - val_accuracy: 0.8418 - 4s/epoch - 1ms/step\n",
            "Epoch 00026: early stopping\n",
            "training ACC: 0.8912990093231201\tvalidaton ACC :0.8418055772781372\n",
            "\n",
            "n_units per hidden layer = 100\n",
            "Epoch 1/30\n",
            "2550/2550 - 4s - loss: 0.6740 - accuracy: 0.7626 - val_loss: 0.5463 - val_accuracy: 0.7975 - 4s/epoch - 2ms/step\n",
            "Epoch 2/30\n",
            "2550/2550 - 4s - loss: 0.5085 - accuracy: 0.8122 - val_loss: 0.5073 - val_accuracy: 0.8135 - 4s/epoch - 1ms/step\n",
            "Epoch 3/30\n",
            "2550/2550 - 4s - loss: 0.4752 - accuracy: 0.8211 - val_loss: 0.4814 - val_accuracy: 0.8194 - 4s/epoch - 1ms/step\n",
            "Epoch 4/30\n",
            "2550/2550 - 4s - loss: 0.4528 - accuracy: 0.8318 - val_loss: 0.4696 - val_accuracy: 0.8239 - 4s/epoch - 1ms/step\n",
            "Epoch 5/30\n",
            "2550/2550 - 4s - loss: 0.4353 - accuracy: 0.8357 - val_loss: 0.4581 - val_accuracy: 0.8276 - 4s/epoch - 1ms/step\n",
            "Epoch 6/30\n",
            "2550/2550 - 4s - loss: 0.4208 - accuracy: 0.8431 - val_loss: 0.4459 - val_accuracy: 0.8338 - 4s/epoch - 1ms/step\n",
            "Epoch 7/30\n",
            "2550/2550 - 4s - loss: 0.4075 - accuracy: 0.8484 - val_loss: 0.4398 - val_accuracy: 0.8381 - 4s/epoch - 1ms/step\n",
            "Epoch 8/30\n",
            "2550/2550 - 4s - loss: 0.3968 - accuracy: 0.8502 - val_loss: 0.4369 - val_accuracy: 0.8364 - 4s/epoch - 1ms/step\n",
            "Epoch 9/30\n",
            "2550/2550 - 4s - loss: 0.3872 - accuracy: 0.8542 - val_loss: 0.4272 - val_accuracy: 0.8436 - 4s/epoch - 1ms/step\n",
            "Epoch 10/30\n",
            "2550/2550 - 4s - loss: 0.3771 - accuracy: 0.8591 - val_loss: 0.4366 - val_accuracy: 0.8351 - 4s/epoch - 1ms/step\n",
            "Epoch 11/30\n",
            "2550/2550 - 3s - loss: 0.3693 - accuracy: 0.8611 - val_loss: 0.4192 - val_accuracy: 0.8425 - 3s/epoch - 1ms/step\n",
            "Epoch 12/30\n",
            "2550/2550 - 4s - loss: 0.3613 - accuracy: 0.8637 - val_loss: 0.4143 - val_accuracy: 0.8468 - 4s/epoch - 1ms/step\n",
            "Epoch 13/30\n",
            "2550/2550 - 4s - loss: 0.3548 - accuracy: 0.8670 - val_loss: 0.4213 - val_accuracy: 0.8446 - 4s/epoch - 1ms/step\n",
            "Epoch 14/30\n",
            "2550/2550 - 4s - loss: 0.3472 - accuracy: 0.8712 - val_loss: 0.4214 - val_accuracy: 0.8449 - 4s/epoch - 1ms/step\n",
            "Epoch 15/30\n",
            "2550/2550 - 4s - loss: 0.3411 - accuracy: 0.8726 - val_loss: 0.4200 - val_accuracy: 0.8444 - 4s/epoch - 1ms/step\n",
            "Epoch 16/30\n",
            "2550/2550 - 4s - loss: 0.3347 - accuracy: 0.8747 - val_loss: 0.4204 - val_accuracy: 0.8435 - 4s/epoch - 1ms/step\n",
            "Epoch 17/30\n",
            "2550/2550 - 4s - loss: 0.3283 - accuracy: 0.8763 - val_loss: 0.4204 - val_accuracy: 0.8444 - 4s/epoch - 1ms/step\n",
            "Epoch 00017: early stopping\n",
            "training ACC: 0.8762500286102295\tvalidaton ACC :0.8444444537162781\n",
            "\n",
            "n_units per hidden layer = 150\n",
            "Epoch 1/30\n",
            "2550/2550 - 4s - loss: 0.6582 - accuracy: 0.7677 - val_loss: 0.5433 - val_accuracy: 0.7997 - 4s/epoch - 2ms/step\n",
            "Epoch 2/30\n",
            "2550/2550 - 4s - loss: 0.5075 - accuracy: 0.8120 - val_loss: 0.5103 - val_accuracy: 0.8104 - 4s/epoch - 2ms/step\n",
            "Epoch 3/30\n",
            "2550/2550 - 4s - loss: 0.4765 - accuracy: 0.8238 - val_loss: 0.4861 - val_accuracy: 0.8211 - 4s/epoch - 1ms/step\n",
            "Epoch 4/30\n",
            "2550/2550 - 4s - loss: 0.4550 - accuracy: 0.8299 - val_loss: 0.4750 - val_accuracy: 0.8238 - 4s/epoch - 2ms/step\n",
            "Epoch 5/30\n",
            "2550/2550 - 4s - loss: 0.4379 - accuracy: 0.8367 - val_loss: 0.4646 - val_accuracy: 0.8268 - 4s/epoch - 1ms/step\n",
            "Epoch 6/30\n",
            "2550/2550 - 4s - loss: 0.4235 - accuracy: 0.8431 - val_loss: 0.4495 - val_accuracy: 0.8338 - 4s/epoch - 1ms/step\n",
            "Epoch 7/30\n",
            "2550/2550 - 4s - loss: 0.4101 - accuracy: 0.8486 - val_loss: 0.4465 - val_accuracy: 0.8351 - 4s/epoch - 2ms/step\n",
            "Epoch 8/30\n",
            "2550/2550 - 4s - loss: 0.3996 - accuracy: 0.8520 - val_loss: 0.4396 - val_accuracy: 0.8394 - 4s/epoch - 2ms/step\n",
            "Epoch 9/30\n",
            "2550/2550 - 4s - loss: 0.3897 - accuracy: 0.8551 - val_loss: 0.4328 - val_accuracy: 0.8422 - 4s/epoch - 2ms/step\n",
            "Epoch 10/30\n",
            "2550/2550 - 4s - loss: 0.3792 - accuracy: 0.8599 - val_loss: 0.4419 - val_accuracy: 0.8365 - 4s/epoch - 2ms/step\n",
            "Epoch 11/30\n",
            "2550/2550 - 4s - loss: 0.3713 - accuracy: 0.8623 - val_loss: 0.4214 - val_accuracy: 0.8431 - 4s/epoch - 2ms/step\n",
            "Epoch 12/30\n",
            "2550/2550 - 4s - loss: 0.3629 - accuracy: 0.8648 - val_loss: 0.4195 - val_accuracy: 0.8471 - 4s/epoch - 1ms/step\n",
            "Epoch 13/30\n",
            "2550/2550 - 4s - loss: 0.3565 - accuracy: 0.8673 - val_loss: 0.4213 - val_accuracy: 0.8458 - 4s/epoch - 2ms/step\n",
            "Epoch 14/30\n",
            "2550/2550 - 4s - loss: 0.3487 - accuracy: 0.8694 - val_loss: 0.4183 - val_accuracy: 0.8476 - 4s/epoch - 1ms/step\n",
            "Epoch 15/30\n",
            "2550/2550 - 4s - loss: 0.3423 - accuracy: 0.8733 - val_loss: 0.4222 - val_accuracy: 0.8464 - 4s/epoch - 1ms/step\n",
            "Epoch 16/30\n",
            "2550/2550 - 4s - loss: 0.3356 - accuracy: 0.8743 - val_loss: 0.4208 - val_accuracy: 0.8458 - 4s/epoch - 2ms/step\n",
            "Epoch 17/30\n",
            "2550/2550 - 4s - loss: 0.3286 - accuracy: 0.8783 - val_loss: 0.4213 - val_accuracy: 0.8449 - 4s/epoch - 2ms/step\n",
            "Epoch 18/30\n",
            "2550/2550 - 4s - loss: 0.3233 - accuracy: 0.8801 - val_loss: 0.4166 - val_accuracy: 0.8454 - 4s/epoch - 2ms/step\n",
            "Epoch 19/30\n",
            "2550/2550 - 4s - loss: 0.3174 - accuracy: 0.8814 - val_loss: 0.4185 - val_accuracy: 0.8475 - 4s/epoch - 2ms/step\n",
            "Epoch 20/30\n",
            "2550/2550 - 4s - loss: 0.3111 - accuracy: 0.8845 - val_loss: 0.4126 - val_accuracy: 0.8493 - 4s/epoch - 1ms/step\n",
            "Epoch 21/30\n",
            "2550/2550 - 4s - loss: 0.3060 - accuracy: 0.8878 - val_loss: 0.4085 - val_accuracy: 0.8487 - 4s/epoch - 1ms/step\n",
            "Epoch 22/30\n",
            "2550/2550 - 4s - loss: 0.3009 - accuracy: 0.8880 - val_loss: 0.4192 - val_accuracy: 0.8472 - 4s/epoch - 1ms/step\n",
            "Epoch 23/30\n",
            "2550/2550 - 4s - loss: 0.2954 - accuracy: 0.8891 - val_loss: 0.4177 - val_accuracy: 0.8457 - 4s/epoch - 1ms/step\n",
            "Epoch 24/30\n",
            "2550/2550 - 4s - loss: 0.2888 - accuracy: 0.8920 - val_loss: 0.4243 - val_accuracy: 0.8443 - 4s/epoch - 2ms/step\n",
            "Epoch 25/30\n",
            "2550/2550 - 4s - loss: 0.2850 - accuracy: 0.8942 - val_loss: 0.4183 - val_accuracy: 0.8475 - 4s/epoch - 2ms/step\n",
            "Epoch 26/30\n",
            "2550/2550 - 4s - loss: 0.2798 - accuracy: 0.8950 - val_loss: 0.4298 - val_accuracy: 0.8453 - 4s/epoch - 1ms/step\n",
            "Epoch 00026: early stopping\n",
            "training ACC: 0.8950245380401611\tvalidaton ACC :0.8452777862548828\n",
            "\n",
            "n_units per hidden layer = 300\n",
            "Epoch 1/30\n",
            "2550/2550 - 6s - loss: 0.6349 - accuracy: 0.7735 - val_loss: 0.5334 - val_accuracy: 0.8024 - 6s/epoch - 2ms/step\n",
            "Epoch 2/30\n",
            "2550/2550 - 5s - loss: 0.5053 - accuracy: 0.8125 - val_loss: 0.5126 - val_accuracy: 0.8129 - 5s/epoch - 2ms/step\n",
            "Epoch 3/30\n",
            "2550/2550 - 5s - loss: 0.4770 - accuracy: 0.8217 - val_loss: 0.4840 - val_accuracy: 0.8182 - 5s/epoch - 2ms/step\n",
            "Epoch 4/30\n",
            "2550/2550 - 5s - loss: 0.4567 - accuracy: 0.8286 - val_loss: 0.4747 - val_accuracy: 0.8200 - 5s/epoch - 2ms/step\n",
            "Epoch 5/30\n",
            "2550/2550 - 5s - loss: 0.4401 - accuracy: 0.8353 - val_loss: 0.4632 - val_accuracy: 0.8290 - 5s/epoch - 2ms/step\n",
            "Epoch 6/30\n",
            "2550/2550 - 5s - loss: 0.4260 - accuracy: 0.8413 - val_loss: 0.4490 - val_accuracy: 0.8332 - 5s/epoch - 2ms/step\n",
            "Epoch 7/30\n",
            "2550/2550 - 5s - loss: 0.4126 - accuracy: 0.8459 - val_loss: 0.4463 - val_accuracy: 0.8343 - 5s/epoch - 2ms/step\n",
            "Epoch 8/30\n",
            "2550/2550 - 5s - loss: 0.4025 - accuracy: 0.8487 - val_loss: 0.4460 - val_accuracy: 0.8339 - 5s/epoch - 2ms/step\n",
            "Epoch 9/30\n",
            "2550/2550 - 5s - loss: 0.3928 - accuracy: 0.8534 - val_loss: 0.4340 - val_accuracy: 0.8401 - 5s/epoch - 2ms/step\n",
            "Epoch 10/30\n",
            "2550/2550 - 5s - loss: 0.3822 - accuracy: 0.8576 - val_loss: 0.4451 - val_accuracy: 0.8336 - 5s/epoch - 2ms/step\n",
            "Epoch 11/30\n",
            "2550/2550 - 5s - loss: 0.3744 - accuracy: 0.8598 - val_loss: 0.4250 - val_accuracy: 0.8401 - 5s/epoch - 2ms/step\n",
            "Epoch 12/30\n",
            "2550/2550 - 5s - loss: 0.3658 - accuracy: 0.8631 - val_loss: 0.4208 - val_accuracy: 0.8438 - 5s/epoch - 2ms/step\n",
            "Epoch 13/30\n",
            "2550/2550 - 5s - loss: 0.3601 - accuracy: 0.8658 - val_loss: 0.4315 - val_accuracy: 0.8417 - 5s/epoch - 2ms/step\n",
            "Epoch 14/30\n",
            "2550/2550 - 5s - loss: 0.3517 - accuracy: 0.8674 - val_loss: 0.4230 - val_accuracy: 0.8413 - 5s/epoch - 2ms/step\n",
            "Epoch 15/30\n",
            "2550/2550 - 5s - loss: 0.3452 - accuracy: 0.8714 - val_loss: 0.4207 - val_accuracy: 0.8438 - 5s/epoch - 2ms/step\n",
            "Epoch 16/30\n",
            "2550/2550 - 5s - loss: 0.3383 - accuracy: 0.8723 - val_loss: 0.4240 - val_accuracy: 0.8440 - 5s/epoch - 2ms/step\n",
            "Epoch 17/30\n",
            "2550/2550 - 5s - loss: 0.3314 - accuracy: 0.8752 - val_loss: 0.4224 - val_accuracy: 0.8457 - 5s/epoch - 2ms/step\n",
            "Epoch 18/30\n",
            "2550/2550 - 5s - loss: 0.3257 - accuracy: 0.8785 - val_loss: 0.4174 - val_accuracy: 0.8454 - 5s/epoch - 2ms/step\n",
            "Epoch 19/30\n",
            "2550/2550 - 5s - loss: 0.3199 - accuracy: 0.8799 - val_loss: 0.4225 - val_accuracy: 0.8461 - 5s/epoch - 2ms/step\n",
            "Epoch 20/30\n",
            "2550/2550 - 5s - loss: 0.3136 - accuracy: 0.8818 - val_loss: 0.4185 - val_accuracy: 0.8474 - 5s/epoch - 2ms/step\n",
            "Epoch 21/30\n",
            "2550/2550 - 5s - loss: 0.3082 - accuracy: 0.8838 - val_loss: 0.4137 - val_accuracy: 0.8506 - 5s/epoch - 2ms/step\n",
            "Epoch 22/30\n",
            "2550/2550 - 5s - loss: 0.3024 - accuracy: 0.8871 - val_loss: 0.4210 - val_accuracy: 0.8465 - 5s/epoch - 2ms/step\n",
            "Epoch 23/30\n",
            "2550/2550 - 5s - loss: 0.2971 - accuracy: 0.8885 - val_loss: 0.4184 - val_accuracy: 0.8469 - 5s/epoch - 2ms/step\n",
            "Epoch 24/30\n",
            "2550/2550 - 5s - loss: 0.2905 - accuracy: 0.8910 - val_loss: 0.4239 - val_accuracy: 0.8474 - 5s/epoch - 2ms/step\n",
            "Epoch 25/30\n",
            "2550/2550 - 5s - loss: 0.2869 - accuracy: 0.8909 - val_loss: 0.4195 - val_accuracy: 0.8519 - 5s/epoch - 2ms/step\n",
            "Epoch 26/30\n",
            "2550/2550 - 5s - loss: 0.2811 - accuracy: 0.8948 - val_loss: 0.4308 - val_accuracy: 0.8424 - 5s/epoch - 2ms/step\n",
            "Epoch 00026: early stopping\n",
            "training ACC: 0.8948284387588501\tvalidaton ACC :0.8423610925674438\n",
            "\n",
            "num layers del NN= 5\n",
            "n_units per hidden layer = 25\n",
            "Epoch 1/30\n",
            "2550/2550 - 4s - loss: 0.8412 - accuracy: 0.7219 - val_loss: 0.5956 - val_accuracy: 0.7840 - 4s/epoch - 2ms/step\n",
            "Epoch 2/30\n",
            "2550/2550 - 4s - loss: 0.5471 - accuracy: 0.8006 - val_loss: 0.5345 - val_accuracy: 0.8036 - 4s/epoch - 1ms/step\n",
            "Epoch 3/30\n",
            "2550/2550 - 4s - loss: 0.4973 - accuracy: 0.8173 - val_loss: 0.4969 - val_accuracy: 0.8161 - 4s/epoch - 1ms/step\n",
            "Epoch 4/30\n",
            "2550/2550 - 3s - loss: 0.4699 - accuracy: 0.8286 - val_loss: 0.4842 - val_accuracy: 0.8203 - 3s/epoch - 1ms/step\n",
            "Epoch 5/30\n",
            "2550/2550 - 4s - loss: 0.4495 - accuracy: 0.8353 - val_loss: 0.4725 - val_accuracy: 0.8296 - 4s/epoch - 1ms/step\n",
            "Epoch 6/30\n",
            "2550/2550 - 4s - loss: 0.4339 - accuracy: 0.8409 - val_loss: 0.4653 - val_accuracy: 0.8286 - 4s/epoch - 1ms/step\n",
            "Epoch 7/30\n",
            "2550/2550 - 3s - loss: 0.4201 - accuracy: 0.8449 - val_loss: 0.4590 - val_accuracy: 0.8321 - 3s/epoch - 1ms/step\n",
            "Epoch 8/30\n",
            "2550/2550 - 4s - loss: 0.4090 - accuracy: 0.8490 - val_loss: 0.4564 - val_accuracy: 0.8318 - 4s/epoch - 1ms/step\n",
            "Epoch 9/30\n",
            "2550/2550 - 4s - loss: 0.3992 - accuracy: 0.8534 - val_loss: 0.4452 - val_accuracy: 0.8364 - 4s/epoch - 1ms/step\n",
            "Epoch 10/30\n",
            "2550/2550 - 4s - loss: 0.3892 - accuracy: 0.8559 - val_loss: 0.4622 - val_accuracy: 0.8324 - 4s/epoch - 1ms/step\n",
            "Epoch 11/30\n",
            "2550/2550 - 3s - loss: 0.3818 - accuracy: 0.8582 - val_loss: 0.4380 - val_accuracy: 0.8388 - 3s/epoch - 1ms/step\n",
            "Epoch 12/30\n",
            "2550/2550 - 4s - loss: 0.3737 - accuracy: 0.8624 - val_loss: 0.4387 - val_accuracy: 0.8360 - 4s/epoch - 1ms/step\n",
            "Epoch 13/30\n",
            "2550/2550 - 4s - loss: 0.3667 - accuracy: 0.8648 - val_loss: 0.4404 - val_accuracy: 0.8375 - 4s/epoch - 1ms/step\n",
            "Epoch 14/30\n",
            "2550/2550 - 4s - loss: 0.3600 - accuracy: 0.8662 - val_loss: 0.4374 - val_accuracy: 0.8417 - 4s/epoch - 1ms/step\n",
            "Epoch 15/30\n",
            "2550/2550 - 3s - loss: 0.3532 - accuracy: 0.8700 - val_loss: 0.4369 - val_accuracy: 0.8411 - 3s/epoch - 1ms/step\n",
            "Epoch 16/30\n",
            "2550/2550 - 4s - loss: 0.3478 - accuracy: 0.8718 - val_loss: 0.4395 - val_accuracy: 0.8390 - 4s/epoch - 1ms/step\n",
            "Epoch 17/30\n",
            "2550/2550 - 3s - loss: 0.3412 - accuracy: 0.8739 - val_loss: 0.4429 - val_accuracy: 0.8368 - 3s/epoch - 1ms/step\n",
            "Epoch 18/30\n",
            "2550/2550 - 4s - loss: 0.3357 - accuracy: 0.8758 - val_loss: 0.4380 - val_accuracy: 0.8425 - 4s/epoch - 1ms/step\n",
            "Epoch 19/30\n",
            "2550/2550 - 3s - loss: 0.3301 - accuracy: 0.8758 - val_loss: 0.4410 - val_accuracy: 0.8424 - 3s/epoch - 1ms/step\n",
            "Epoch 20/30\n",
            "2550/2550 - 4s - loss: 0.3251 - accuracy: 0.8801 - val_loss: 0.4384 - val_accuracy: 0.8397 - 4s/epoch - 1ms/step\n",
            "Epoch 00020: early stopping\n",
            "training ACC: 0.8801470398902893\tvalidaton ACC :0.839722216129303\n",
            "\n",
            "n_units per hidden layer = 50\n",
            "Epoch 1/30\n",
            "2550/2550 - 4s - loss: 0.7443 - accuracy: 0.7411 - val_loss: 0.5631 - val_accuracy: 0.7903 - 4s/epoch - 2ms/step\n",
            "Epoch 2/30\n",
            "2550/2550 - 4s - loss: 0.5203 - accuracy: 0.8084 - val_loss: 0.5156 - val_accuracy: 0.8096 - 4s/epoch - 1ms/step\n",
            "Epoch 3/30\n",
            "2550/2550 - 3s - loss: 0.4794 - accuracy: 0.8223 - val_loss: 0.4850 - val_accuracy: 0.8178 - 3s/epoch - 1ms/step\n",
            "Epoch 4/30\n",
            "2550/2550 - 4s - loss: 0.4538 - accuracy: 0.8333 - val_loss: 0.4723 - val_accuracy: 0.8236 - 4s/epoch - 1ms/step\n",
            "Epoch 5/30\n",
            "2550/2550 - 4s - loss: 0.4348 - accuracy: 0.8392 - val_loss: 0.4609 - val_accuracy: 0.8283 - 4s/epoch - 1ms/step\n",
            "Epoch 6/30\n",
            "2550/2550 - 3s - loss: 0.4193 - accuracy: 0.8458 - val_loss: 0.4499 - val_accuracy: 0.8336 - 3s/epoch - 1ms/step\n",
            "Epoch 7/30\n",
            "2550/2550 - 4s - loss: 0.4053 - accuracy: 0.8500 - val_loss: 0.4475 - val_accuracy: 0.8300 - 4s/epoch - 1ms/step\n",
            "Epoch 8/30\n",
            "2550/2550 - 4s - loss: 0.3944 - accuracy: 0.8526 - val_loss: 0.4463 - val_accuracy: 0.8356 - 4s/epoch - 1ms/step\n",
            "Epoch 9/30\n",
            "2550/2550 - 4s - loss: 0.3845 - accuracy: 0.8568 - val_loss: 0.4342 - val_accuracy: 0.8421 - 4s/epoch - 1ms/step\n",
            "Epoch 10/30\n",
            "2550/2550 - 3s - loss: 0.3745 - accuracy: 0.8596 - val_loss: 0.4431 - val_accuracy: 0.8324 - 3s/epoch - 1ms/step\n",
            "Epoch 11/30\n",
            "2550/2550 - 4s - loss: 0.3663 - accuracy: 0.8626 - val_loss: 0.4265 - val_accuracy: 0.8401 - 4s/epoch - 1ms/step\n",
            "Epoch 12/30\n",
            "2550/2550 - 4s - loss: 0.3582 - accuracy: 0.8659 - val_loss: 0.4251 - val_accuracy: 0.8414 - 4s/epoch - 1ms/step\n",
            "Epoch 13/30\n",
            "2550/2550 - 3s - loss: 0.3512 - accuracy: 0.8694 - val_loss: 0.4388 - val_accuracy: 0.8394 - 3s/epoch - 1ms/step\n",
            "Epoch 14/30\n",
            "2550/2550 - 4s - loss: 0.3439 - accuracy: 0.8720 - val_loss: 0.4286 - val_accuracy: 0.8413 - 4s/epoch - 1ms/step\n",
            "Epoch 15/30\n",
            "2550/2550 - 3s - loss: 0.3372 - accuracy: 0.8739 - val_loss: 0.4345 - val_accuracy: 0.8367 - 3s/epoch - 1ms/step\n",
            "Epoch 16/30\n",
            "2550/2550 - 3s - loss: 0.3312 - accuracy: 0.8778 - val_loss: 0.4275 - val_accuracy: 0.8410 - 3s/epoch - 1ms/step\n",
            "Epoch 17/30\n",
            "2550/2550 - 4s - loss: 0.3239 - accuracy: 0.8795 - val_loss: 0.4336 - val_accuracy: 0.8379 - 4s/epoch - 1ms/step\n",
            "Epoch 00017: early stopping\n",
            "training ACC: 0.8794608116149902\tvalidaton ACC :0.8379166722297668\n",
            "\n",
            "n_units per hidden layer = 100\n",
            "Epoch 1/30\n",
            "2550/2550 - 4s - loss: 0.6665 - accuracy: 0.7644 - val_loss: 0.5421 - val_accuracy: 0.7986 - 4s/epoch - 2ms/step\n",
            "Epoch 2/30\n",
            "2550/2550 - 4s - loss: 0.5019 - accuracy: 0.8148 - val_loss: 0.5028 - val_accuracy: 0.8132 - 4s/epoch - 2ms/step\n",
            "Epoch 3/30\n",
            "2550/2550 - 4s - loss: 0.4653 - accuracy: 0.8263 - val_loss: 0.4756 - val_accuracy: 0.8242 - 4s/epoch - 2ms/step\n",
            "Epoch 4/30\n",
            "2550/2550 - 4s - loss: 0.4413 - accuracy: 0.8357 - val_loss: 0.4698 - val_accuracy: 0.8263 - 4s/epoch - 1ms/step\n",
            "Epoch 5/30\n",
            "2550/2550 - 4s - loss: 0.4232 - accuracy: 0.8408 - val_loss: 0.4522 - val_accuracy: 0.8318 - 4s/epoch - 2ms/step\n",
            "Epoch 6/30\n",
            "2550/2550 - 4s - loss: 0.4078 - accuracy: 0.8477 - val_loss: 0.4395 - val_accuracy: 0.8347 - 4s/epoch - 1ms/step\n",
            "Epoch 7/30\n",
            "2550/2550 - 4s - loss: 0.3943 - accuracy: 0.8539 - val_loss: 0.4369 - val_accuracy: 0.8360 - 4s/epoch - 2ms/step\n",
            "Epoch 8/30\n",
            "2550/2550 - 4s - loss: 0.3838 - accuracy: 0.8557 - val_loss: 0.4373 - val_accuracy: 0.8399 - 4s/epoch - 2ms/step\n",
            "Epoch 9/30\n",
            "2550/2550 - 4s - loss: 0.3739 - accuracy: 0.8596 - val_loss: 0.4288 - val_accuracy: 0.8422 - 4s/epoch - 2ms/step\n",
            "Epoch 10/30\n",
            "2550/2550 - 4s - loss: 0.3635 - accuracy: 0.8652 - val_loss: 0.4420 - val_accuracy: 0.8351 - 4s/epoch - 2ms/step\n",
            "Epoch 11/30\n",
            "2550/2550 - 4s - loss: 0.3557 - accuracy: 0.8655 - val_loss: 0.4188 - val_accuracy: 0.8443 - 4s/epoch - 2ms/step\n",
            "Epoch 12/30\n",
            "2550/2550 - 4s - loss: 0.3463 - accuracy: 0.8700 - val_loss: 0.4191 - val_accuracy: 0.8469 - 4s/epoch - 2ms/step\n",
            "Epoch 13/30\n",
            "2550/2550 - 4s - loss: 0.3404 - accuracy: 0.8722 - val_loss: 0.4276 - val_accuracy: 0.8442 - 4s/epoch - 1ms/step\n",
            "Epoch 14/30\n",
            "2550/2550 - 4s - loss: 0.3319 - accuracy: 0.8751 - val_loss: 0.4255 - val_accuracy: 0.8451 - 4s/epoch - 1ms/step\n",
            "Epoch 15/30\n",
            "2550/2550 - 4s - loss: 0.3246 - accuracy: 0.8776 - val_loss: 0.4269 - val_accuracy: 0.8435 - 4s/epoch - 1ms/step\n",
            "Epoch 16/30\n",
            "2550/2550 - 4s - loss: 0.3175 - accuracy: 0.8802 - val_loss: 0.4254 - val_accuracy: 0.8429 - 4s/epoch - 1ms/step\n",
            "Epoch 00016: early stopping\n",
            "training ACC: 0.8802205920219421\tvalidaton ACC :0.8429166674613953\n",
            "\n",
            "n_units per hidden layer = 150\n",
            "Epoch 1/30\n",
            "2550/2550 - 5s - loss: 0.6501 - accuracy: 0.7679 - val_loss: 0.5391 - val_accuracy: 0.7987 - 5s/epoch - 2ms/step\n",
            "Epoch 2/30\n",
            "2550/2550 - 4s - loss: 0.5008 - accuracy: 0.8139 - val_loss: 0.5042 - val_accuracy: 0.8140 - 4s/epoch - 2ms/step\n",
            "Epoch 3/30\n",
            "2550/2550 - 4s - loss: 0.4666 - accuracy: 0.8257 - val_loss: 0.4741 - val_accuracy: 0.8247 - 4s/epoch - 2ms/step\n",
            "Epoch 4/30\n",
            "2550/2550 - 4s - loss: 0.4434 - accuracy: 0.8354 - val_loss: 0.4649 - val_accuracy: 0.8253 - 4s/epoch - 2ms/step\n",
            "Epoch 5/30\n",
            "2550/2550 - 4s - loss: 0.4251 - accuracy: 0.8412 - val_loss: 0.4551 - val_accuracy: 0.8304 - 4s/epoch - 2ms/step\n",
            "Epoch 6/30\n",
            "2550/2550 - 4s - loss: 0.4100 - accuracy: 0.8484 - val_loss: 0.4406 - val_accuracy: 0.8378 - 4s/epoch - 2ms/step\n",
            "Epoch 7/30\n",
            "2550/2550 - 4s - loss: 0.3961 - accuracy: 0.8519 - val_loss: 0.4391 - val_accuracy: 0.8363 - 4s/epoch - 2ms/step\n",
            "Epoch 8/30\n",
            "2550/2550 - 4s - loss: 0.3857 - accuracy: 0.8555 - val_loss: 0.4376 - val_accuracy: 0.8401 - 4s/epoch - 2ms/step\n",
            "Epoch 9/30\n",
            "2550/2550 - 4s - loss: 0.3757 - accuracy: 0.8600 - val_loss: 0.4274 - val_accuracy: 0.8456 - 4s/epoch - 2ms/step\n",
            "Epoch 10/30\n",
            "2550/2550 - 4s - loss: 0.3652 - accuracy: 0.8635 - val_loss: 0.4437 - val_accuracy: 0.8340 - 4s/epoch - 2ms/step\n",
            "Epoch 11/30\n",
            "2550/2550 - 4s - loss: 0.3563 - accuracy: 0.8662 - val_loss: 0.4198 - val_accuracy: 0.8440 - 4s/epoch - 2ms/step\n",
            "Epoch 12/30\n",
            "2550/2550 - 4s - loss: 0.3474 - accuracy: 0.8710 - val_loss: 0.4178 - val_accuracy: 0.8462 - 4s/epoch - 2ms/step\n",
            "Epoch 13/30\n",
            "2550/2550 - 4s - loss: 0.3410 - accuracy: 0.8724 - val_loss: 0.4302 - val_accuracy: 0.8399 - 4s/epoch - 2ms/step\n",
            "Epoch 14/30\n",
            "2550/2550 - 4s - loss: 0.3322 - accuracy: 0.8756 - val_loss: 0.4234 - val_accuracy: 0.8444 - 4s/epoch - 2ms/step\n",
            "Epoch 15/30\n",
            "2550/2550 - 4s - loss: 0.3252 - accuracy: 0.8786 - val_loss: 0.4211 - val_accuracy: 0.8462 - 4s/epoch - 2ms/step\n",
            "Epoch 16/30\n",
            "2550/2550 - 4s - loss: 0.3175 - accuracy: 0.8810 - val_loss: 0.4245 - val_accuracy: 0.8433 - 4s/epoch - 2ms/step\n",
            "Epoch 17/30\n",
            "2550/2550 - 4s - loss: 0.3101 - accuracy: 0.8839 - val_loss: 0.4242 - val_accuracy: 0.8444 - 4s/epoch - 2ms/step\n",
            "Epoch 00017: early stopping\n",
            "training ACC: 0.883897066116333\tvalidaton ACC :0.8444444537162781\n",
            "\n",
            "n_units per hidden layer = 300\n",
            "Epoch 1/30\n",
            "2550/2550 - 7s - loss: 0.6211 - accuracy: 0.7764 - val_loss: 0.5279 - val_accuracy: 0.8047 - 7s/epoch - 3ms/step\n",
            "Epoch 2/30\n",
            "2550/2550 - 6s - loss: 0.4983 - accuracy: 0.8149 - val_loss: 0.5093 - val_accuracy: 0.8115 - 6s/epoch - 2ms/step\n",
            "Epoch 3/30\n",
            "2550/2550 - 6s - loss: 0.4685 - accuracy: 0.8251 - val_loss: 0.4776 - val_accuracy: 0.8193 - 6s/epoch - 3ms/step\n",
            "Epoch 4/30\n",
            "2550/2550 - 6s - loss: 0.4466 - accuracy: 0.8328 - val_loss: 0.4675 - val_accuracy: 0.8250 - 6s/epoch - 3ms/step\n",
            "Epoch 5/30\n",
            "2550/2550 - 6s - loss: 0.4291 - accuracy: 0.8382 - val_loss: 0.4577 - val_accuracy: 0.8319 - 6s/epoch - 3ms/step\n",
            "Epoch 6/30\n",
            "2550/2550 - 6s - loss: 0.4140 - accuracy: 0.8461 - val_loss: 0.4403 - val_accuracy: 0.8358 - 6s/epoch - 2ms/step\n",
            "Epoch 7/30\n",
            "2550/2550 - 6s - loss: 0.3999 - accuracy: 0.8500 - val_loss: 0.4410 - val_accuracy: 0.8326 - 6s/epoch - 3ms/step\n",
            "Epoch 8/30\n",
            "2550/2550 - 7s - loss: 0.3896 - accuracy: 0.8535 - val_loss: 0.4332 - val_accuracy: 0.8414 - 7s/epoch - 3ms/step\n",
            "Epoch 9/30\n",
            "2550/2550 - 7s - loss: 0.3792 - accuracy: 0.8578 - val_loss: 0.4218 - val_accuracy: 0.8447 - 7s/epoch - 3ms/step\n",
            "Epoch 10/30\n",
            "2550/2550 - 6s - loss: 0.3683 - accuracy: 0.8623 - val_loss: 0.4424 - val_accuracy: 0.8332 - 6s/epoch - 3ms/step\n",
            "Epoch 11/30\n",
            "2550/2550 - 7s - loss: 0.3600 - accuracy: 0.8642 - val_loss: 0.4144 - val_accuracy: 0.8426 - 7s/epoch - 3ms/step\n",
            "Epoch 12/30\n",
            "2550/2550 - 7s - loss: 0.3510 - accuracy: 0.8689 - val_loss: 0.4111 - val_accuracy: 0.8475 - 7s/epoch - 3ms/step\n",
            "Epoch 13/30\n",
            "2550/2550 - 7s - loss: 0.3448 - accuracy: 0.8717 - val_loss: 0.4264 - val_accuracy: 0.8422 - 7s/epoch - 3ms/step\n",
            "Epoch 14/30\n",
            "2550/2550 - 7s - loss: 0.3358 - accuracy: 0.8728 - val_loss: 0.4156 - val_accuracy: 0.8469 - 7s/epoch - 3ms/step\n",
            "Epoch 15/30\n",
            "2550/2550 - 7s - loss: 0.3292 - accuracy: 0.8772 - val_loss: 0.4215 - val_accuracy: 0.8443 - 7s/epoch - 3ms/step\n",
            "Epoch 16/30\n",
            "2550/2550 - 7s - loss: 0.3218 - accuracy: 0.8789 - val_loss: 0.4134 - val_accuracy: 0.8478 - 7s/epoch - 3ms/step\n",
            "Epoch 17/30\n",
            "2550/2550 - 7s - loss: 0.3141 - accuracy: 0.8819 - val_loss: 0.4131 - val_accuracy: 0.8515 - 7s/epoch - 3ms/step\n",
            "Epoch 00017: early stopping\n",
            "training ACC: 0.8818627595901489\tvalidaton ACC :0.851527750492096\n",
            "\n",
            "num layers del NN= 6\n",
            "n_units per hidden layer = 25\n",
            "Epoch 1/30\n",
            "2550/2550 - 4s - loss: 0.8443 - accuracy: 0.7113 - val_loss: 0.6076 - val_accuracy: 0.7836 - 4s/epoch - 2ms/step\n",
            "Epoch 2/30\n",
            "2550/2550 - 3s - loss: 0.5527 - accuracy: 0.8013 - val_loss: 0.5368 - val_accuracy: 0.8039 - 3s/epoch - 1ms/step\n",
            "Epoch 3/30\n",
            "2550/2550 - 3s - loss: 0.4982 - accuracy: 0.8189 - val_loss: 0.5025 - val_accuracy: 0.8165 - 3s/epoch - 1ms/step\n",
            "Epoch 4/30\n",
            "2550/2550 - 4s - loss: 0.4668 - accuracy: 0.8307 - val_loss: 0.4875 - val_accuracy: 0.8231 - 4s/epoch - 1ms/step\n",
            "Epoch 5/30\n",
            "2550/2550 - 4s - loss: 0.4457 - accuracy: 0.8368 - val_loss: 0.4767 - val_accuracy: 0.8286 - 4s/epoch - 1ms/step\n",
            "Epoch 6/30\n",
            "2550/2550 - 3s - loss: 0.4294 - accuracy: 0.8435 - val_loss: 0.4642 - val_accuracy: 0.8331 - 3s/epoch - 1ms/step\n",
            "Epoch 7/30\n",
            "2550/2550 - 3s - loss: 0.4151 - accuracy: 0.8485 - val_loss: 0.4619 - val_accuracy: 0.8331 - 3s/epoch - 1ms/step\n",
            "Epoch 8/30\n",
            "2550/2550 - 4s - loss: 0.4049 - accuracy: 0.8520 - val_loss: 0.4581 - val_accuracy: 0.8346 - 4s/epoch - 1ms/step\n",
            "Epoch 9/30\n",
            "2550/2550 - 4s - loss: 0.3946 - accuracy: 0.8550 - val_loss: 0.4489 - val_accuracy: 0.8382 - 4s/epoch - 1ms/step\n",
            "Epoch 10/30\n",
            "2550/2550 - 4s - loss: 0.3849 - accuracy: 0.8575 - val_loss: 0.4632 - val_accuracy: 0.8307 - 4s/epoch - 1ms/step\n",
            "Epoch 11/30\n",
            "2550/2550 - 4s - loss: 0.3767 - accuracy: 0.8612 - val_loss: 0.4417 - val_accuracy: 0.8425 - 4s/epoch - 1ms/step\n",
            "Epoch 12/30\n",
            "2550/2550 - 4s - loss: 0.3689 - accuracy: 0.8646 - val_loss: 0.4402 - val_accuracy: 0.8446 - 4s/epoch - 1ms/step\n",
            "Epoch 13/30\n",
            "2550/2550 - 4s - loss: 0.3628 - accuracy: 0.8672 - val_loss: 0.4493 - val_accuracy: 0.8365 - 4s/epoch - 1ms/step\n",
            "Epoch 14/30\n",
            "2550/2550 - 4s - loss: 0.3555 - accuracy: 0.8699 - val_loss: 0.4440 - val_accuracy: 0.8399 - 4s/epoch - 1ms/step\n",
            "Epoch 15/30\n",
            "2550/2550 - 4s - loss: 0.3493 - accuracy: 0.8722 - val_loss: 0.4456 - val_accuracy: 0.8403 - 4s/epoch - 1ms/step\n",
            "Epoch 16/30\n",
            "2550/2550 - 4s - loss: 0.3432 - accuracy: 0.8733 - val_loss: 0.4468 - val_accuracy: 0.8388 - 4s/epoch - 1ms/step\n",
            "Epoch 17/30\n",
            "2550/2550 - 4s - loss: 0.3367 - accuracy: 0.8765 - val_loss: 0.4533 - val_accuracy: 0.8410 - 4s/epoch - 1ms/step\n",
            "Epoch 00017: early stopping\n",
            "training ACC: 0.8764951229095459\tvalidaton ACC :0.8409722447395325\n",
            "\n",
            "n_units per hidden layer = 50\n",
            "Epoch 1/30\n",
            "2550/2550 - 4s - loss: 0.7371 - accuracy: 0.7442 - val_loss: 0.5590 - val_accuracy: 0.7949 - 4s/epoch - 2ms/step\n",
            "Epoch 2/30\n",
            "2550/2550 - 4s - loss: 0.5160 - accuracy: 0.8114 - val_loss: 0.5116 - val_accuracy: 0.8121 - 4s/epoch - 1ms/step\n",
            "Epoch 3/30\n",
            "2550/2550 - 4s - loss: 0.4727 - accuracy: 0.8252 - val_loss: 0.4806 - val_accuracy: 0.8233 - 4s/epoch - 1ms/step\n",
            "Epoch 4/30\n",
            "2550/2550 - 4s - loss: 0.4463 - accuracy: 0.8355 - val_loss: 0.4686 - val_accuracy: 0.8279 - 4s/epoch - 1ms/step\n",
            "Epoch 5/30\n",
            "2550/2550 - 4s - loss: 0.4274 - accuracy: 0.8424 - val_loss: 0.4568 - val_accuracy: 0.8308 - 4s/epoch - 1ms/step\n",
            "Epoch 6/30\n",
            "2550/2550 - 4s - loss: 0.4110 - accuracy: 0.8474 - val_loss: 0.4460 - val_accuracy: 0.8368 - 4s/epoch - 1ms/step\n",
            "Epoch 7/30\n",
            "2550/2550 - 4s - loss: 0.3965 - accuracy: 0.8530 - val_loss: 0.4422 - val_accuracy: 0.8372 - 4s/epoch - 1ms/step\n",
            "Epoch 8/30\n",
            "2550/2550 - 4s - loss: 0.3864 - accuracy: 0.8555 - val_loss: 0.4444 - val_accuracy: 0.8396 - 4s/epoch - 1ms/step\n",
            "Epoch 9/30\n",
            "2550/2550 - 4s - loss: 0.3763 - accuracy: 0.8593 - val_loss: 0.4319 - val_accuracy: 0.8399 - 4s/epoch - 1ms/step\n",
            "Epoch 10/30\n",
            "2550/2550 - 3s - loss: 0.3662 - accuracy: 0.8624 - val_loss: 0.4465 - val_accuracy: 0.8324 - 3s/epoch - 1ms/step\n",
            "Epoch 11/30\n",
            "2550/2550 - 4s - loss: 0.3574 - accuracy: 0.8664 - val_loss: 0.4243 - val_accuracy: 0.8446 - 4s/epoch - 1ms/step\n",
            "Epoch 12/30\n",
            "2550/2550 - 4s - loss: 0.3492 - accuracy: 0.8699 - val_loss: 0.4255 - val_accuracy: 0.8439 - 4s/epoch - 1ms/step\n",
            "Epoch 13/30\n",
            "2550/2550 - 4s - loss: 0.3428 - accuracy: 0.8717 - val_loss: 0.4313 - val_accuracy: 0.8424 - 4s/epoch - 1ms/step\n",
            "Epoch 14/30\n",
            "2550/2550 - 3s - loss: 0.3351 - accuracy: 0.8747 - val_loss: 0.4337 - val_accuracy: 0.8417 - 3s/epoch - 1ms/step\n",
            "Epoch 15/30\n",
            "2550/2550 - 4s - loss: 0.3286 - accuracy: 0.8771 - val_loss: 0.4267 - val_accuracy: 0.8421 - 4s/epoch - 1ms/step\n",
            "Epoch 16/30\n",
            "2550/2550 - 4s - loss: 0.3224 - accuracy: 0.8801 - val_loss: 0.4317 - val_accuracy: 0.8417 - 4s/epoch - 1ms/step\n",
            "Epoch 00016: early stopping\n",
            "training ACC: 0.8800735473632812\tvalidaton ACC :0.8416666388511658\n",
            "\n",
            "n_units per hidden layer = 100\n",
            "Epoch 1/30\n",
            "2550/2550 - 5s - loss: 0.6663 - accuracy: 0.7651 - val_loss: 0.5392 - val_accuracy: 0.8012 - 5s/epoch - 2ms/step\n",
            "Epoch 2/30\n",
            "2550/2550 - 4s - loss: 0.4976 - accuracy: 0.8181 - val_loss: 0.5054 - val_accuracy: 0.8150 - 4s/epoch - 1ms/step\n",
            "Epoch 3/30\n",
            "2550/2550 - 4s - loss: 0.4626 - accuracy: 0.8286 - val_loss: 0.4763 - val_accuracy: 0.8231 - 4s/epoch - 1ms/step\n",
            "Epoch 4/30\n",
            "2550/2550 - 4s - loss: 0.4388 - accuracy: 0.8374 - val_loss: 0.4638 - val_accuracy: 0.8235 - 4s/epoch - 1ms/step\n",
            "Epoch 5/30\n",
            "2550/2550 - 4s - loss: 0.4200 - accuracy: 0.8429 - val_loss: 0.4498 - val_accuracy: 0.8338 - 4s/epoch - 2ms/step\n",
            "Epoch 6/30\n",
            "2550/2550 - 4s - loss: 0.4044 - accuracy: 0.8493 - val_loss: 0.4365 - val_accuracy: 0.8396 - 4s/epoch - 1ms/step\n",
            "Epoch 7/30\n",
            "2550/2550 - 4s - loss: 0.3908 - accuracy: 0.8549 - val_loss: 0.4334 - val_accuracy: 0.8375 - 4s/epoch - 2ms/step\n",
            "Epoch 8/30\n",
            "2550/2550 - 4s - loss: 0.3793 - accuracy: 0.8570 - val_loss: 0.4352 - val_accuracy: 0.8414 - 4s/epoch - 2ms/step\n",
            "Epoch 9/30\n",
            "2550/2550 - 4s - loss: 0.3693 - accuracy: 0.8613 - val_loss: 0.4235 - val_accuracy: 0.8449 - 4s/epoch - 2ms/step\n",
            "Epoch 10/30\n",
            "2550/2550 - 4s - loss: 0.3589 - accuracy: 0.8662 - val_loss: 0.4465 - val_accuracy: 0.8357 - 4s/epoch - 1ms/step\n",
            "Epoch 11/30\n",
            "2550/2550 - 4s - loss: 0.3494 - accuracy: 0.8686 - val_loss: 0.4183 - val_accuracy: 0.8432 - 4s/epoch - 1ms/step\n",
            "Epoch 12/30\n",
            "2550/2550 - 4s - loss: 0.3402 - accuracy: 0.8724 - val_loss: 0.4148 - val_accuracy: 0.8474 - 4s/epoch - 2ms/step\n",
            "Epoch 13/30\n",
            "2550/2550 - 4s - loss: 0.3335 - accuracy: 0.8761 - val_loss: 0.4303 - val_accuracy: 0.8418 - 4s/epoch - 2ms/step\n",
            "Epoch 14/30\n",
            "2550/2550 - 4s - loss: 0.3243 - accuracy: 0.8795 - val_loss: 0.4270 - val_accuracy: 0.8431 - 4s/epoch - 2ms/step\n",
            "Epoch 15/30\n",
            "2550/2550 - 4s - loss: 0.3167 - accuracy: 0.8817 - val_loss: 0.4241 - val_accuracy: 0.8458 - 4s/epoch - 1ms/step\n",
            "Epoch 16/30\n",
            "2550/2550 - 4s - loss: 0.3096 - accuracy: 0.8847 - val_loss: 0.4313 - val_accuracy: 0.8425 - 4s/epoch - 2ms/step\n",
            "Epoch 17/30\n",
            "2550/2550 - 4s - loss: 0.3016 - accuracy: 0.8871 - val_loss: 0.4255 - val_accuracy: 0.8453 - 4s/epoch - 1ms/step\n",
            "Epoch 00017: early stopping\n",
            "training ACC: 0.8871323466300964\tvalidaton ACC :0.8452777862548828\n",
            "\n",
            "n_units per hidden layer = 150\n",
            "Epoch 1/30\n",
            "2550/2550 - 5s - loss: 0.6452 - accuracy: 0.7705 - val_loss: 0.5333 - val_accuracy: 0.8040 - 5s/epoch - 2ms/step\n",
            "Epoch 2/30\n",
            "2550/2550 - 5s - loss: 0.4974 - accuracy: 0.8160 - val_loss: 0.5051 - val_accuracy: 0.8144 - 5s/epoch - 2ms/step\n",
            "Epoch 3/30\n",
            "2550/2550 - 5s - loss: 0.4634 - accuracy: 0.8283 - val_loss: 0.4742 - val_accuracy: 0.8244 - 5s/epoch - 2ms/step\n",
            "Epoch 4/30\n",
            "2550/2550 - 5s - loss: 0.4393 - accuracy: 0.8367 - val_loss: 0.4631 - val_accuracy: 0.8272 - 5s/epoch - 2ms/step\n",
            "Epoch 5/30\n",
            "2550/2550 - 5s - loss: 0.4208 - accuracy: 0.8414 - val_loss: 0.4530 - val_accuracy: 0.8336 - 5s/epoch - 2ms/step\n",
            "Epoch 6/30\n",
            "2550/2550 - 5s - loss: 0.4047 - accuracy: 0.8491 - val_loss: 0.4366 - val_accuracy: 0.8392 - 5s/epoch - 2ms/step\n",
            "Epoch 7/30\n",
            "2550/2550 - 4s - loss: 0.3904 - accuracy: 0.8537 - val_loss: 0.4326 - val_accuracy: 0.8339 - 4s/epoch - 2ms/step\n",
            "Epoch 8/30\n",
            "2550/2550 - 4s - loss: 0.3797 - accuracy: 0.8568 - val_loss: 0.4331 - val_accuracy: 0.8422 - 4s/epoch - 2ms/step\n",
            "Epoch 9/30\n",
            "2550/2550 - 4s - loss: 0.3697 - accuracy: 0.8608 - val_loss: 0.4205 - val_accuracy: 0.8411 - 4s/epoch - 2ms/step\n",
            "Epoch 10/30\n",
            "2550/2550 - 4s - loss: 0.3585 - accuracy: 0.8653 - val_loss: 0.4417 - val_accuracy: 0.8339 - 4s/epoch - 2ms/step\n",
            "Epoch 11/30\n",
            "2550/2550 - 4s - loss: 0.3496 - accuracy: 0.8679 - val_loss: 0.4150 - val_accuracy: 0.8433 - 4s/epoch - 2ms/step\n",
            "Epoch 12/30\n",
            "2550/2550 - 4s - loss: 0.3404 - accuracy: 0.8715 - val_loss: 0.4092 - val_accuracy: 0.8478 - 4s/epoch - 2ms/step\n",
            "Epoch 13/30\n",
            "2550/2550 - 4s - loss: 0.3335 - accuracy: 0.8746 - val_loss: 0.4267 - val_accuracy: 0.8408 - 4s/epoch - 2ms/step\n",
            "Epoch 14/30\n",
            "2550/2550 - 4s - loss: 0.3243 - accuracy: 0.8783 - val_loss: 0.4188 - val_accuracy: 0.8440 - 4s/epoch - 2ms/step\n",
            "Epoch 15/30\n",
            "2550/2550 - 4s - loss: 0.3165 - accuracy: 0.8787 - val_loss: 0.4269 - val_accuracy: 0.8385 - 4s/epoch - 2ms/step\n",
            "Epoch 16/30\n",
            "2550/2550 - 4s - loss: 0.3087 - accuracy: 0.8828 - val_loss: 0.4229 - val_accuracy: 0.8428 - 4s/epoch - 2ms/step\n",
            "Epoch 17/30\n",
            "2550/2550 - 4s - loss: 0.3000 - accuracy: 0.8872 - val_loss: 0.4198 - val_accuracy: 0.8461 - 4s/epoch - 2ms/step\n",
            "Epoch 00017: early stopping\n",
            "training ACC: 0.8871568441390991\tvalidaton ACC :0.8461111187934875\n",
            "\n",
            "n_units per hidden layer = 300\n",
            "Epoch 1/30\n",
            "2550/2550 - 8s - loss: 0.6165 - accuracy: 0.7795 - val_loss: 0.5248 - val_accuracy: 0.8069 - 8s/epoch - 3ms/step\n",
            "Epoch 2/30\n",
            "2550/2550 - 8s - loss: 0.4961 - accuracy: 0.8165 - val_loss: 0.5126 - val_accuracy: 0.8114 - 8s/epoch - 3ms/step\n",
            "Epoch 3/30\n",
            "2550/2550 - 7s - loss: 0.4645 - accuracy: 0.8257 - val_loss: 0.4766 - val_accuracy: 0.8246 - 7s/epoch - 3ms/step\n",
            "Epoch 4/30\n",
            "2550/2550 - 7s - loss: 0.4411 - accuracy: 0.8349 - val_loss: 0.4635 - val_accuracy: 0.8264 - 7s/epoch - 3ms/step\n",
            "Epoch 5/30\n",
            "2550/2550 - 7s - loss: 0.4223 - accuracy: 0.8409 - val_loss: 0.4566 - val_accuracy: 0.8338 - 7s/epoch - 3ms/step\n",
            "Epoch 6/30\n",
            "2550/2550 - 7s - loss: 0.4065 - accuracy: 0.8475 - val_loss: 0.4386 - val_accuracy: 0.8354 - 7s/epoch - 3ms/step\n",
            "Epoch 7/30\n",
            "2550/2550 - 7s - loss: 0.3922 - accuracy: 0.8527 - val_loss: 0.4359 - val_accuracy: 0.8367 - 7s/epoch - 3ms/step\n",
            "Epoch 8/30\n",
            "2550/2550 - 7s - loss: 0.3814 - accuracy: 0.8555 - val_loss: 0.4341 - val_accuracy: 0.8421 - 7s/epoch - 3ms/step\n",
            "Epoch 9/30\n",
            "2550/2550 - 7s - loss: 0.3707 - accuracy: 0.8599 - val_loss: 0.4215 - val_accuracy: 0.8458 - 7s/epoch - 3ms/step\n",
            "Epoch 10/30\n",
            "2550/2550 - 7s - loss: 0.3600 - accuracy: 0.8649 - val_loss: 0.4402 - val_accuracy: 0.8385 - 7s/epoch - 3ms/step\n",
            "Epoch 11/30\n",
            "2550/2550 - 7s - loss: 0.3506 - accuracy: 0.8662 - val_loss: 0.4140 - val_accuracy: 0.8446 - 7s/epoch - 3ms/step\n",
            "Epoch 12/30\n",
            "2550/2550 - 7s - loss: 0.3411 - accuracy: 0.8714 - val_loss: 0.4119 - val_accuracy: 0.8465 - 7s/epoch - 3ms/step\n",
            "Epoch 13/30\n",
            "2550/2550 - 7s - loss: 0.3344 - accuracy: 0.8731 - val_loss: 0.4319 - val_accuracy: 0.8426 - 7s/epoch - 3ms/step\n",
            "Epoch 14/30\n",
            "2550/2550 - 7s - loss: 0.3245 - accuracy: 0.8780 - val_loss: 0.4201 - val_accuracy: 0.8489 - 7s/epoch - 3ms/step\n",
            "Epoch 15/30\n",
            "2550/2550 - 7s - loss: 0.3169 - accuracy: 0.8811 - val_loss: 0.4164 - val_accuracy: 0.8478 - 7s/epoch - 3ms/step\n",
            "Epoch 16/30\n",
            "2550/2550 - 7s - loss: 0.3094 - accuracy: 0.8827 - val_loss: 0.4188 - val_accuracy: 0.8483 - 7s/epoch - 3ms/step\n",
            "Epoch 17/30\n",
            "2550/2550 - 7s - loss: 0.3005 - accuracy: 0.8870 - val_loss: 0.4201 - val_accuracy: 0.8514 - 7s/epoch - 3ms/step\n",
            "Epoch 00017: early stopping\n",
            "training ACC: 0.8869608044624329\tvalidaton ACC :0.8513888716697693\n",
            "\n"
          ]
        }
      ]
    },
    {
      "cell_type": "code",
      "execution_count": 17,
      "metadata": {
        "id": "P89snSiRJYpw",
        "colab": {
          "base_uri": "https://localhost:8080/"
        },
        "outputId": "c26fe7f4-3871-451d-a540-e546d923de55"
      },
      "outputs": [
        {
          "output_type": "stream",
          "name": "stdout",
          "text": [
            "Epoch 1/30\n",
            "2700/2700 - 7s - loss: 0.6167 - accuracy: 0.7769 - val_loss: 0.5273 - val_accuracy: 0.8062 - 7s/epoch - 3ms/step\n",
            "Epoch 2/30\n",
            "2700/2700 - 6s - loss: 0.4969 - accuracy: 0.8163 - val_loss: 0.4839 - val_accuracy: 0.8225 - 6s/epoch - 2ms/step\n",
            "Epoch 3/30\n",
            "2700/2700 - 6s - loss: 0.4672 - accuracy: 0.8254 - val_loss: 0.4830 - val_accuracy: 0.8231 - 6s/epoch - 2ms/step\n",
            "Epoch 4/30\n",
            "2700/2700 - 7s - loss: 0.4445 - accuracy: 0.8340 - val_loss: 0.4520 - val_accuracy: 0.8360 - 7s/epoch - 2ms/step\n",
            "Epoch 5/30\n",
            "2700/2700 - 7s - loss: 0.4276 - accuracy: 0.8401 - val_loss: 0.4458 - val_accuracy: 0.8358 - 7s/epoch - 2ms/step\n",
            "Epoch 6/30\n",
            "2700/2700 - 7s - loss: 0.4125 - accuracy: 0.8461 - val_loss: 0.4403 - val_accuracy: 0.8388 - 7s/epoch - 2ms/step\n",
            "Epoch 7/30\n",
            "2700/2700 - 6s - loss: 0.3998 - accuracy: 0.8511 - val_loss: 0.4258 - val_accuracy: 0.8404 - 6s/epoch - 2ms/step\n",
            "Epoch 8/30\n",
            "2700/2700 - 6s - loss: 0.3874 - accuracy: 0.8551 - val_loss: 0.4158 - val_accuracy: 0.8454 - 6s/epoch - 2ms/step\n",
            "Epoch 9/30\n",
            "2700/2700 - 6s - loss: 0.3767 - accuracy: 0.8592 - val_loss: 0.4068 - val_accuracy: 0.8469 - 6s/epoch - 2ms/step\n",
            "Epoch 10/30\n",
            "2700/2700 - 6s - loss: 0.3662 - accuracy: 0.8623 - val_loss: 0.4123 - val_accuracy: 0.8473 - 6s/epoch - 2ms/step\n",
            "Epoch 11/30\n",
            "2700/2700 - 7s - loss: 0.3582 - accuracy: 0.8665 - val_loss: 0.4072 - val_accuracy: 0.8487 - 7s/epoch - 2ms/step\n",
            "Epoch 12/30\n",
            "2700/2700 - 6s - loss: 0.3494 - accuracy: 0.8679 - val_loss: 0.4148 - val_accuracy: 0.8467 - 6s/epoch - 2ms/step\n",
            "Epoch 13/30\n",
            "2700/2700 - 6s - loss: 0.3418 - accuracy: 0.8711 - val_loss: 0.4079 - val_accuracy: 0.8479 - 6s/epoch - 2ms/step\n",
            "Epoch 14/30\n",
            "2700/2700 - 6s - loss: 0.3337 - accuracy: 0.8734 - val_loss: 0.4010 - val_accuracy: 0.8504 - 6s/epoch - 2ms/step\n",
            "Epoch 15/30\n",
            "2700/2700 - 6s - loss: 0.3270 - accuracy: 0.8775 - val_loss: 0.4012 - val_accuracy: 0.8481 - 6s/epoch - 2ms/step\n",
            "Epoch 16/30\n",
            "2700/2700 - 7s - loss: 0.3198 - accuracy: 0.8797 - val_loss: 0.4050 - val_accuracy: 0.8512 - 7s/epoch - 2ms/step\n",
            "Epoch 17/30\n",
            "2700/2700 - 6s - loss: 0.3120 - accuracy: 0.8821 - val_loss: 0.3986 - val_accuracy: 0.8515 - 6s/epoch - 2ms/step\n",
            "Epoch 18/30\n",
            "2700/2700 - 6s - loss: 0.3055 - accuracy: 0.8841 - val_loss: 0.4019 - val_accuracy: 0.8487 - 6s/epoch - 2ms/step\n",
            "Epoch 19/30\n",
            "2700/2700 - 6s - loss: 0.3001 - accuracy: 0.8866 - val_loss: 0.4140 - val_accuracy: 0.8485 - 6s/epoch - 2ms/step\n",
            "Epoch 20/30\n",
            "2700/2700 - 6s - loss: 0.2924 - accuracy: 0.8899 - val_loss: 0.4055 - val_accuracy: 0.8527 - 6s/epoch - 2ms/step\n",
            "Epoch 21/30\n",
            "2700/2700 - 7s - loss: 0.2856 - accuracy: 0.8918 - val_loss: 0.4143 - val_accuracy: 0.8490 - 7s/epoch - 2ms/step\n",
            "Epoch 22/30\n",
            "2700/2700 - 6s - loss: 0.2799 - accuracy: 0.8926 - val_loss: 0.4055 - val_accuracy: 0.8533 - 6s/epoch - 2ms/step\n",
            "Epoch 00022: early stopping\n",
            "\n",
            "ACC on training set: 0.8981875\n",
            "ACC on validation set: 0.8555\n",
            "ACC on test set: 0.8437\n"
          ]
        }
      ],
      "source": [
        "# best model as shown by the GridSearch\n",
        "model = MLP_definer(num_features, num_classes, 3, 300, 'tanh', 'softmax')\n",
        "\n",
        "# fitting the model\n",
        "hst = model.fit(X_train_prep_scaled, y_train_cat, epochs=30, batch_size=16, verbose=2, validation_split=0.1, callbacks=[es])\n",
        "\n",
        "# let's evaluate performances on test set\n",
        "#test_results = model.evaluate(X_test_prep_scaled, y_test_cat, verbose=1)\n",
        "#print(f'Test results - Loss: {test_results[0]} - Accuracy: {test_results[1]}%')\n",
        "\n",
        "y_train_pred = model.predict(X_train_prep_scaled).argmax(axis = 1) \n",
        "y_val_pred = model.predict(X_val_prep_scaled).argmax(axis = 1)\n",
        "y_test_pred = model.predict(X_test_prep_scaled).argmax(axis = 1) \n",
        "\n",
        "print(f'\\nACC on training set: {accuracy_score(y_train, y_train_pred)}\\nACC on validation set: {accuracy_score(y_val, y_val_pred)}\\nACC on test set: {accuracy_score(y_test, y_test_pred)}')"
      ]
    },
    {
      "cell_type": "markdown",
      "source": [
        "So HOG wasn't able to make any major improvement, unlike PCA. \n",
        "\n",
        "We stress the fact that HOG is not a proper dimensionality reduction technique, although we used it as such. \n",
        "\n",
        "In the end, SVM (after feature reduction via PCA) provided the best results."
      ],
      "metadata": {
        "id": "4VSqhPS5FQvm"
      }
    },
    {
      "cell_type": "markdown",
      "source": [
        "# Conclusions\n",
        "\n",
        "With this notebook we focused on the image classification problem proposed by the Zalando Fashion-Mnist dataset.\n",
        "We tackled the problem with some of the main supervised learning algorithms and we found out Neural Networks to be the best model, achieving an accuracy score of 0.9645 on training set, 0.8936 on validation set, 0.884 on test set.\n",
        "\n",
        "During this process we also came to realise how impactful the size of the dataset actually is, considering algorithms such as SVM and Multinomial Logistic Regression were basically impractible due to excessive run times.\n",
        "\n",
        "This led us to experiment with alternative strategies, such as PCA and HOG.\n",
        "\n",
        "After reducing the number of features we were able to successfully implement even SVM and Multinomial Logistic Regression. In particular after applying PCA, SVM resulted in the best model, obtaining an accuracy score of 0.9988 on training set, 0.8996 on validation set, 0.8957 on test set.\n",
        "\n",
        "\n",
        "Ultimately this is the best we could do, we couldn't surpass 89.57% accuracy on test set, even though using Convolutional Neural Networks one can easily achieve a 93%. We omitted this latter approach though, considering it's something we'll analyze during the second semester."
      ],
      "metadata": {
        "id": "TNIbLvz22-yD"
      }
    }
  ],
  "metadata": {
    "accelerator": "GPU",
    "colab": {
      "collapsed_sections": [],
      "name": "Anthony_Palmieri_FashionMnist.ipynb",
      "provenance": []
    },
    "kernelspec": {
      "display_name": "Python 3",
      "name": "python3"
    },
    "language_info": {
      "name": "python"
    }
  },
  "nbformat": 4,
  "nbformat_minor": 0
}